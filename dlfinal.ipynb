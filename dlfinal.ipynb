{
  "cells": [
    {
      "cell_type": "markdown",
      "source": [
        "VARUN SINGH 2018B5A70869G ASMITA LIMAYE 2018B5A70881G  https://proceedings.neurips.cc/paper/2020/file/0660895c22f8a14eb039bfb9beb0778f-Paper.pdf\n",
        "\n",
        "https://github.com/iWrote/dlhmwk\n"
      ],
      "metadata": {
        "id": "nWCnIf4YccAD"
      }
    },
    {
      "cell_type": "code",
      "execution_count": 1,
      "metadata": {
        "id": "cwvKCodsc0Hd"
      },
      "outputs": [],
      "source": [
        "#@title imports\n",
        "import torch, torchvision\n",
        "from torchvision import datasets, transforms\n",
        "from torch import nn, optim\n",
        "from torch.nn import functional as F\n",
        "\n",
        "import numpy as np\n",
        "import matplotlib.pyplot as plt\n",
        "import random\n",
        "from google.colab.patches import cv2_imshow\n",
        "import math \n",
        "\n",
        "import tqdm.notebook as tq #for loading bars\n",
        "\n",
        "torch.manual_seed(0) #for reproducibility \n",
        "\n",
        "import ssl #emnist data randomly refuses to load unless i keep this\n",
        "ssl._create_default_https_context = ssl._create_unverified_context"
      ]
    },
    {
      "cell_type": "code",
      "execution_count": 2,
      "metadata": {
        "colab": {
          "base_uri": "https://localhost:8080/"
        },
        "id": "65weZIAEc4ne",
        "outputId": "56160ae3-c3ba-4648-cc05-8c307f17bd06"
      },
      "outputs": [
        {
          "output_type": "stream",
          "name": "stdout",
          "text": [
            "cuda\n",
            "1.11.0+cu113\n"
          ]
        }
      ],
      "source": [
        "#@title got cuda?\n",
        "if torch.cuda.is_available(): #switching to gpu if gpu is available\n",
        "    device = torch.device(\"cuda\")\n",
        "else:\n",
        "    device = torch.device(\"cpu\")\n",
        "    \n",
        "print(device)\n",
        "print(torch.__version__)"
      ]
    },
    {
      "cell_type": "code",
      "execution_count": 3,
      "metadata": {
        "id": "fmUJkw8vQiN0"
      },
      "outputs": [],
      "source": [
        "train_batch_size = 800\n",
        "num_epochs = 5 \n",
        "random_noise_divisor = 2\n",
        "\n",
        "cycles = 3 #the number of cycles for which data is sent back and forth through the model\n",
        "res_parameter = 0.3\n",
        "learning_rate = 0.05\n",
        "_momentum = 0.9\n",
        "_weight_decay = 5e-4\n",
        "_scheduler_poly_exponent = 0.9\n",
        "\n",
        "test_batch_size = 100\n",
        "val_batch_size = 100 #not used"
      ]
    },
    {
      "cell_type": "code",
      "execution_count": 4,
      "metadata": {
        "cellView": "code",
        "colab": {
          "base_uri": "https://localhost:8080/",
          "height": 137,
          "referenced_widgets": [
            "cf1161d3da684271baee85f81bd1a903",
            "a626fec44b7b472e80d9b01afde01879",
            "f2ce8cde9e4c4066806a5a1f9ac59bc4",
            "69f509686bf84989ae3d83aee55878e9",
            "ae3e86de84b84c96b7a354bfcab9f640",
            "ed278f842047471a87ce6e7da4e13d39",
            "44c7d031ed54418282081f15bb8d9a69",
            "a678e93346b048a9bece400211bae250",
            "6faaa427886141b2b835566223b420df",
            "757f32af2bc54972b308d8fc17ae6f13",
            "bb8feaaf0906479ca8f3985c80a23991"
          ]
        },
        "id": "5v4KHAyrI5Gz",
        "outputId": "b1b5a0b4-480c-466b-d1e4-d092ed40a471"
      },
      "outputs": [
        {
          "output_type": "stream",
          "name": "stdout",
          "text": [
            "Downloading https://www.itl.nist.gov/iaui/vip/cs_links/EMNIST/gzip.zip to ./EMNIST/raw/gzip.zip\n"
          ]
        },
        {
          "output_type": "display_data",
          "data": {
            "text/plain": [
              "  0%|          | 0/561753746 [00:00<?, ?it/s]"
            ],
            "application/vnd.jupyter.widget-view+json": {
              "version_major": 2,
              "version_minor": 0,
              "model_id": "cf1161d3da684271baee85f81bd1a903"
            }
          },
          "metadata": {}
        },
        {
          "output_type": "stream",
          "name": "stdout",
          "text": [
            "Extracting ./EMNIST/raw/gzip.zip to ./EMNIST/raw\n"
          ]
        },
        {
          "output_type": "execute_result",
          "data": {
            "text/plain": [
              "\"\\npreprocess = transforms.Compose([transforms.ToTensor()])\\nfmnist_train_data = torchvision.datasets.FashionMNIST('./', train = True, download = True, transform = preprocess)\\nfmnist_train_loader = torch.utils.data.DataLoader(fmnist_train_data, batch_size = 10, shuffle = True)\\nx = next(enumerate(fmnist_train_loader)) \\nlbl = x[1][1][0]\\nimg = x[1][0][0].reshape(28,28) #+ torch.rand(28,28)/2\\n\\nx[1][0].shape\\n\\n# YES FMNIST DATASET FORMAT IS THE SAME AS EMNIST\\n\""
            ],
            "application/vnd.google.colaboratory.intrinsic+json": {
              "type": "string"
            }
          },
          "metadata": {},
          "execution_count": 4
        }
      ],
      "source": [
        "#@title get emnist\n",
        "#Fixed transformations to prepare the dataset.\n",
        "preprocess = transforms.Compose([transforms.ToTensor(), transforms.RandomRotation((-90,-90)), transforms.RandomHorizontalFlip(p=1), transforms.Normalize((0.5,), (0.5,))])\n",
        "\n",
        "\n",
        "\n",
        "#Case is ignored. Labels start from 0. For instance, 'D' and 'd' have the same label = 3\n",
        "emnist_train_data = torchvision.datasets.EMNIST('./', split = \"letters\", download = True, train = True, transform = preprocess, target_transform = lambda lbl : lbl - 1)\n",
        "#taking the EMNIST letter dataset from torchvision.datasets and changing the labels from [1,26] to [0,25]\n",
        "\n",
        "#Hold-out set is further split into validation and test set\n",
        "#emnist valitest data is entire original test set which we have split into validation and test sets\n",
        "emnist_valitest_data = torchvision.datasets.EMNIST('./', split = \"letters\", download = True, train = False, transform = preprocess, target_transform = lambda lbl: lbl - 1)\n",
        "val_size = int(0.3 * len(emnist_valitest_data)) \n",
        "test_size = len(emnist_valitest_data) - val_size #size of our test set\n",
        "emnist_val_data, emnist_test_data = torch.utils.data.random_split(emnist_valitest_data, [val_size, test_size])\n",
        "\n",
        "#Loaders for each split of the dataset\n",
        "#https://discuss.pytorch.org/t/usage-of-drop-last-on-data-loader/66741 \n",
        "train_loader = torch.utils.data.DataLoader(emnist_train_data, batch_size=train_batch_size, shuffle=True, drop_last = True) #data for training\n",
        "val_loader = torch.utils.data.DataLoader(emnist_val_data, batch_size=len(emnist_val_data), drop_last = True)  #data for tuning\n",
        "test_loader = torch.utils.data.DataLoader(emnist_test_data, batch_size=test_batch_size, shuffle = True, drop_last = True)   #data for testing\n",
        "\n",
        "'''\n",
        "preprocess = transforms.Compose([transforms.ToTensor()])\n",
        "fmnist_train_data = torchvision.datasets.FashionMNIST('./', train = True, download = True, transform = preprocess)\n",
        "fmnist_train_loader = torch.utils.data.DataLoader(fmnist_train_data, batch_size = 10, shuffle = True)\n",
        "x = next(enumerate(fmnist_train_loader)) \n",
        "lbl = x[1][1][0]\n",
        "img = x[1][0][0].reshape(28,28) #+ torch.rand(28,28)/2\n",
        "\n",
        "x[1][0].shape\n",
        "\n",
        "# YES FMNIST DATASET FORMAT IS THE SAME AS EMNIST\n",
        "'''"
      ]
    },
    {
      "cell_type": "code",
      "execution_count": 5,
      "metadata": {
        "colab": {
          "base_uri": "https://localhost:8080/",
          "height": 300
        },
        "id": "duIxrCX4KHMd",
        "outputId": "2ef6d84d-1516-40cc-a866-23f1fd196c2f"
      },
      "outputs": [
        {
          "output_type": "stream",
          "name": "stdout",
          "text": [
            "letter: V\n"
          ]
        },
        {
          "output_type": "execute_result",
          "data": {
            "text/plain": [
              "<matplotlib.image.AxesImage at 0x7f6b80112a50>"
            ]
          },
          "metadata": {},
          "execution_count": 5
        },
        {
          "output_type": "display_data",
          "data": {
            "text/plain": [
              "<Figure size 432x288 with 1 Axes>"
            ],
            "image/png": "[encoded data removed]"
          },
          "metadata": {
            "needs_background": "light"
          }
        }
      ],
      "source": [
        "#Showing a random EMNIST image, run this cell again and again to inspect random images in the dataset.\n",
        "# x[0] is just enumerate number\n",
        "# x[1] is a single batch of data, x[1][1] is a batch of labels, x[1][0][4] is the fourth image in a batch\n",
        "idx = random.randint(0,99)\n",
        "x = next(enumerate(train_loader))\n",
        "lbl = x[1][1][idx]\n",
        "img = (x[1][0][idx] + torch.rand(1, 1, 28, 28)/2).reshape(28,28)  #+ torch.rand(28,28)/2\n",
        "\n",
        "print(\"letter:\", \"ABCDEFGHIJKLMNOPQRSTUVWXYZ\"[lbl]) \n",
        "plt.imshow(img)"
      ]
    },
    {
      "cell_type": "markdown",
      "source": [
        "In the following block, we define our own layers for the CNN-F.\n",
        "\n",
        "We will be requiring a forward layer, for the forward pass to generate the output label y, and a backward layer, for the backward pass which should regenerate the original image features. \n",
        "\n",
        "While training, for each batch, we first have a forward pass and one backward pass for each cycle.\n",
        "\n",
        "If we have initialised the number of cycles to 2, this means that each input image x is encoded to input features h, and passes through the model to generate an image label y. Then this y is send 'backwards' through the CNNF to regenerate the image features h'. \n",
        "\n",
        "Then h' is send forwards again, to generate another y, which is sent backwards to generate another set of input features h''.\n",
        "\n",
        "For each batch iteration, we send a batch of clean images and a batch of noisy images to the model.\n",
        "\n",
        "The loss function is calulated by taking five things into consideration: \n",
        "1. The cross entropy loss between the logits generated by the forward pass of the model and the actual logits of the image.\n",
        "2. The MSE loss between the reconstructed features of noisy images (h' for the noisy images, generated by the backward pass) and the original features of the image (h of the clean images, present before the last forward pass).\n",
        "3. The MSE loss between the block 1 features of the noisy images (generated by the backward pass) and the block 1 features of the clean images (generated by the forward pass). \n",
        "4. The MSE loss between the block 2 features of the noisy images (generated by the backward pass) and the block 2 features of the clean images (generated by the forward pass). \n",
        "5. The cross entropy loss between the logits generated by the backward pass of the model and the actual logits of the image.\n",
        "\n",
        "The block 1 and block 2 are outputs of the intermediate part of the backwards pass: the idea is that the clean and dirty (noisy or adversarial) images should have the same outputs at the intermediate stages.\n"
      ],
      "metadata": {
        "id": "d3zn7nm1ZuiR"
      }
    },
    {
      "cell_type": "markdown",
      "source": [
        "An example of the feedforward (forward pass) and feedback (backward pass) process for a particular achitecture:\n",
        "[credits:https://yjhuangcd.github.io/blog/2020/neurips_cnnf/]"
      ],
      "metadata": {
        "id": "7Hf1eOg3b6P9"
      }
    },
    {
      "cell_type": "markdown",
      "source": [
        "\n",
        "![arch.gif](data:image/gif;base64,R0lGODlhIAPwAPcGMQAAAAClQgCrTACr6wCu8QCxTQD/AAGv7wSc1wYFBhGaUBGo4BMSEhqJTSAeICQjJCWrYybJcCiXwCjS/isqKy2+8zIxMDV7VDY0Njc2Nzk4MTs6Oz08PUA/QEC2dUezzUhGSElJSUqfcUtJS0vPiE9NTFJRUlTc/1chFVhXWFtbW1xaXFxbW1xcW11cXGBeXGBfYGNOPmNhY2TM8mXHkmZlZmaowGe+3mfkoWqmhW1oZ29tb3NjTXd3d3hRN3nEm3vmuXx6fH19fX7b/oGAgYHi/oKJhYRNr4TXq4WDhYaFhorw/42Li47Ep47+xo9GyY9pSI/Q2JF7YpKRkpPhtpf+/Jh9b5l6VZo755sSEZtDQJtvvpuam59C6qCZlaKhoqN/YqQPD6elp6nVvapc6KrS26uIaqyOdKyZuqysra2Ufq3tz68YGbCzsrD/5LGdjLJP/rL+2bb/3LiZgbiwsbmWd7ma0bm4ubn/5Lu2s7xk/r0KCr6nksBza8CtosGVXMKK68KjhMK6xsLBwsS/u8WZhcnGysqUO8qqksrExczLzc0+Ps2euM3U0c3+89AKC9CyqNDq4NGE/tG/rdKTK9K4ptR46NSLEtSucNS3ltVEJtal5NfE2tgnKNjT0dnDr9nY2dqS2NrQxNuMDtze3tzo8dzt/uCtWeDh4eFfYOKi/uL++uOOCuOz/uO6eOUBAeXErueYFefRueinpui43eji4emG5enQsOnp6OqVCOuqPuuu+uvn8Oyl6uzQn+1u+e2OAO3Xwu3s7e6zT+906++kKPCAgfDb0PDv8fH+/PLD/vLT+vT1+vVCQvW7u/Xz9fYBAfe8XPfs4Pj3+Plv9fn1/vn4+Pn7//n9/Pr4+vr5+/v6+/z9/P39/f39/f5z/P6m/v7T0f7d/v7utP7v/v7w7P7z0f78/v79+/79/f79/v7+6P7+9v7+/v8AAP8YGf86Ov9pav+Hh/+bgv+fIf+lpv+9QP/AU//Awv/B/v/Yev/nkv/5/f/68v/+z////yH/C05FVFNDQVBFMi4wAwEAAAAh+QQFCgAGACwAAAAAIAPwAIcAAAAApUIAq0wAq+sArvEAsU0A/wABr+8EnNcGBQYRmlARqOATEhIaiU0gHiAkIyQlq2MmyXAol8Ao0v4rKistvvMyMTA1e1Q2NDY3Njc5ODE7Ojs9PD1AP0BAtnVHs81IRkhJSUlKn3FLSUtLz4hPTUxSUVJU3P9XIRVYV1hbW1tcWlxcW1tcXFtdXFxgXlxgX2BjTj5jYWNkzPJlx5JmZWZmqMBnvt5n5KFqpoVtaGdvbW9zY013d3d4UTd5xJt75rl8enx9fX1+2/6BgIGB4v6CiYWETa+E16uFg4WGhYaK8P+Ni4uOxKeO/saPRsmPaUiP0NiRe2KSkZKT4baX/vyYfW+ZelWaO+ebEhGbQ0Cbb76bmpufQuqgmZWioaKjf2KkDw+npaep1b2qXOiq0turiGqsjnSsmbqsrK2tlH6t7c+vGBmws7Kw/+SxnYyyT/6y/tm2/9y4mYG4sLG5lne5mtG5uLm5/+S7trO8ZP69Cgq+p5LAc2vAraLBlVzCiuvCo4TCusbCwcLEv7vFmYXJxsrKlDvKqpLKxMXMy83NPj7NnrjN1NHN/vPQCgvQsqjQ6uDRhP7Rv63SkyvSuKbUeOjUixLUrnDUt5bVRCbWpeTXxNrYJyjY09HZw6/Z2Nnaktja0MTbjA7c3t7c6PHc7f7grVng4eHhX2Diov7i/vrjjgrjs/7junjlAQHlxK7nmBXn0bnop6bouN3o4uHphuXp0LDp6ejqlQjrqj7rrvrr5/Dspers0J/tbvntjgDt18Lt7O3us0/vdOvvpCjwgIHw29Dw7/Hx/vzyw/7y0/r09fr1QkL1u7v18/X2AQH3vFz37OD49/j5b/X59f75+Pj5+//5/fz6+Pr6+fv7+vv8/fz9/f39/f3+c/z+pv7+09H+3f7+7rT+7/7+8Oz+89H+/P7+/fv+/f3+/f7+/uj+/vb+/v7/AAD/GBn/Ojr/aWr/h4f/m4L/nyH/pab/vUD/wFP/wML/wf7/2Hr/55L/+f3/+vL//s////8I/wDPCRxIsKDBgwgTKlzIsKHDhxAjSpxIsaLFixgzatzIsaPHjyBDihxJsqTJkyhTqlzJsqXLlzBjypxJs6bNmzhz6tzJs6fPn0CDCh1K1Ga7o0iTKl3KtKnTp1CjSp1KtarVq1izat3KtavXr2DDih1LtqzZs2jTql3LNmvRt3Djyp1Lt67du3jz6t3Lt6/fv4ADe2xLuLDhw4gTK17MuLHjx5AjS55MubLly5gza97MubPnz2cFix5NurTp06hTq17NurXr17Bjy55Nu7bt27hz697Nu7fv06CDCx9OvLjx48iTK1/OvLnz59CjS59Ovbr169iza99e/bf37+DDi/+Hy728+fPo06s/P769+/fw449cT7++/fv48+vfz7+///8ABijggAQWaOCBS8mn4IIMNujggxBGKOGEsCFo4YUYZqghWhR26OGHIIYo4ogkltjghiimqOKKLLbo4oswxrieiTTWaOONg8mo44489qgcjkAGKeSQRBZp5JEl+qjkkkw26eSTUEYpJXTdVGnllVhmqeWWXGLJjTXbbKMNN9x0aeaZaKap5ppstunmm3DGKeecdNZp55145qnnnnz26eefgAYq6JYvqXOONv8kqiiSjDbq6FyLWfPPIBZkMEIHXPyzzZScdurpfSupY+g500wKAAxcPACADv9Y8+irsMb/ipNh/xwl6SAAMPFPqhbU8I82nwYr7LAt3prrP0QAQMoOKfxK7LPQRjugsVO0kwQAibSTggvOSuvtt+CmZ6yu1xqSqAstdBvuuuy2W5hK4yILgLnP/LPCCv9kI+u+/PaLEmHUWguAIu1Yg2gL6QLr7sIMNwzWSerEm6y51kRsL776+qvxxhz3pE42puo6casCSXpvvh2nrPLKCK0V8LUEW4OUpAir6/DNOOec2MvztpoUoi5wq7DORBd9M0kS9+wqQZIGjTLLUEe9MVoBJxvzUgcnbPTWXLMbksW4iqz0QSC7gLHUaKetdkMghy0vxaMW1DS3Ga9t991AlkWtvFc3/wW00F0HLvjgM5tardUFP5W1zYQ37jiTeSYds5k0pyvzoJhnrvnmnHfu+eeghy766KSX/mdHVQ9cMEMmn43367CT+FU3BRveDuIyR1U544/37juMGyVNsUMgn1x37MgnH+FXqfct1e65/y799J02nzhViw9N/fbcK9m8z1UBrXX35JcPI6J3AHD4wOBXNTfv5scvv3oWITpIAl/cPrZEZdOt/P8ArNE2/uEJAAAABBhIwPAmUjzXBfCBEOwQyMSAvyk8QAb/mEZFWve0CHrwgwxClBgekChmdVAiHDweCFfIwvCI0AGJgoEDUXixE7bwhjjUzQsTJYMZRiSFOQyiEP9rM0EY/qOHNoQIB5c2xCY60S5a2eERVQC/dlQJKVdUSvbmx8UusociUkSiCg91jkRp41BmLEgDk/jENrrRL0XkoQ8R9Q9U1CtRtUDGP+T2D6eN8Y2ADORNovgPMRhRBlTU3gAH0YESUIAL3VCBCTKghH/Q7ih/q6IXN8lJ51REhA9oxxEdiChDOKAN/2ACACgQBFIYsBaaEsga/yjIWtqyJVoZ4AhFCYPxdSNRFsiDKBUBABLiqgMDvOQWO8nMZqZHl6GcYre48Q9ClKAd02gHFwBQyW2AIpuXrF3NtOfMcpqzOtAUJSK79ctn6BFRMADAIDSVqHDWzmnkPKc+92n/mU8W8pAzNNQAteGABAiDnnskyCxvydCGrgROkjIkD1WQONpR05IEPGA3BogLXLSjTFWCnulGStKSmvSkKE2pSlfK0pauiZC7lKbCfomLO+hxm0T4R71K8AV1LZOfQA0qZPwp0VE+bYAlAIAY/kEBANAhUXfAwDbido6FOvSqWA0JTA+ZyKNQU1V32EEHGGACYXzhAYZox1QTZbFxCvWtcE1MReJo1IwNMKxK2ME/FOECIshAEb8q4zMqBsSsGvawLQmjA/khSrYqKlGbUgc6CIELdGSSlojNrGY7IkUZnlAb2QDtObaRDTFtIx3X+Ic01FALdOwOs5uNrWwnolg2/xIkHbhF7T+CYQVUoIMZ/2ABC2w72+IadyG1he05RCUQbrRDFGrwhDpKJVziHve62EVjUcW4kKOog3bTQMQZPJHBPvovu+hNL125qxDcdoOatUAEH8hbKj+m977YXa8PDeLdX3oCEogARTpKVTPl4vfAWE3uQtzbjckiohC1wGZwh2tgBFv4lvolrqjc245+iGEWmWgtdSl84RILcasT1eRRcJtaabwBFnU4hjoQVd18xvXGOCYLUQFK3BWngxvqEAUfnHEGafBjxNY1sZIDmMtCRrOXmrwSNf0ACVgUwshItnGOt8zlwqRTplOxBh/8YOVy9AO4Ne6ymtfcli+vU//LWITvGyABiUKUAx1ZZrOe9/yUHcvRhhtOh6jUMUBPqOHBdsazeZO85EYjD8VgFtVScKuODudhDoXIND9c+w+38vnToIZpNN9Mu39IGinfbQcyjuGHMyBaU7uDc6hnHVc/11Udz3iGd9VB6XawwxOf+AQfIHGGWWBDTH3cr6OXnTxIrxNkxxDFnbvBa0H/g9WICHYmio2NL3V6fLQOd47n+s8UA+sTk/AEO8okEHTUYhJqeEMgYFEJVxO6sMzOtxPD2NVgT0Ia/wDyP2ohCj9YQQ1WyEQlCpEJfiDbePqO+BA7S8VtXOMTooCELPjBjW0QHN5veMMZyFwIWGwDHSD/K7DEV45DfmsqG5MQxSz48Ax0SIMQk/DDG7LtBz5sGxb3rmGFWU702LmctJ8Ihiz48Il+CPsNk8gEHybBh52fIRzo6Aa+i871AB59GxoPhs7FboUzTOINakj7mN9gDn5047JdjzsA11vxbfghGM6AhBpu8QYpvIEPCGdC1XsuDXR4275yT3zs6A5rSCgdwJV4gxX8oAY+gMEPPce8Oc7BDasq/vN2+3rYIfGJnf9dDfXOOeb/bfiyKRv0sF8Z48Ok8bx/Qg2l5wPTzyAKWchiEp8A+OHPG/vis4zx1uBGlT9B76nPQeq3j3m0gx/wpr3e+NjnFyjVmch/VAIWs4DF/xz+zodKBOITgZhEMKSB8WMEfHFDz778P9TkmL65HSAO/xv8MAfnwyITrXYMwSYNZPJT4naA4uZm3WdlsBAMiHB2TBcImZAJUsAAmRBtwdAOnOZpCNiBQGVr65RNzjAHsOAMU7d/lYAIKhgDMQAFt5AHGeht1RV/81eDQ+JyIlgIwRB5OfcJmTAH4qUBV8ADk4AIsvBRr2WDSpgkWYGD/xAOiBAOACgKlSAKmXBoYNABUiAFYvcJ3LCB4OaBYrhn2wdm0uB4iPAGwYZ+EigFDqABXDh17MBpaTaGduhMIJhI6QCFslAJfiALn4AI/fcJYJAADHAGwTByc+h6jLaEjv94Ik1YbmAWDhKICKJwDFIXCIEgC1KQAA5QB5/AA3zwhe8ja3d4iuVDbttFRcyADlDIB4hwDEUodXwQDJ2oAZkwCaKIDZyGeI/4i0TictjQDeaggrJwDDzAA7AgX8dQgTEgbGfAB93WP40IjNYYIi53RuXwCXc3CRTgA7fgB5UwDlcghL5wBm9QCdP4bdV4je5IIRT3K9zQD4SACNJwBjHAA74QbLJwBVDgCm9gBkz3UZ73jgY5ItnYYYRQCdKQAsk4CbJwC74QCOOwBn+wf7JQJlt3kBzpIQnZD4nQgDGgAbg4Dj6YCeaQCYFQBxBpSUnYkTApQZL4Zv/QD6KgdDH/wAAPkAnjkAmYkAmwEAhqAIqFxw2IAnExmZQRwniIIg03yQcawAAooAY9WQeYYH5XwHSF1w0ply40qJRguRr1x1W/8g/l4AnBkAlRiQKB4AuZ8AeFcAt8YAaI4Aebx5XsaIqouJfUo4pkCSzScAxpGZU8gAm+4At/kAlyCQZnYAaFdw3v85VhOZm7wZRmKQqfcAsjeQh1kAnB8AewwHdX4AM8IHyRSZmo+R4JKQ3AFww+cAWIGYhXQG8/6ANesA7noHVCl5q8+Rr1N2rdJw1TFwxvsAb7MAeBAAUuOAfmZwWQwA7DaIB8OZ389GUwQEXZdAzpeAvBEAxB+Qc+YAbO/+AHiLCSn8AO1yBOYUid7Dk9eVhe2ulzmfAJvlAHPpAFnmAOxyALgcB7/RBSu9mbAvobLgcywcAEmnh+vmAGKMAD5gAJf7iSooCeFjODA3qhwBGJq5gvz8UDK9mZt3ALpBkOleB7lTAHx4Ceb5eX7dmi5lSGz9YOkyAFgSBenrkObxAE5XCT/qZuZSKdLhqkg/OepfIJXqCCZwCU5qAIXsBq56cGwYAL7JCbR3l9GHqle+Fs2PkPt5cJZmAGUieAXhBsKehqtcAOohJrQrqmhOOX5salZIYIdZBtsgAJSRBzsqAGZxAIotAPZHKaWBqof/Gb3FeWogCR4leiS7cDdP8GC2UXCIQAcCvKgWxaqUbzntCWB7eggrcgC9AVA2KAmWeAnJNwDB8Ff4KaqrARj8ASbT8XDJ9QCUwQA1ZAhW+AnH4gChq4karaq6eRjZdZB3XQnZMwozrwBqIgX6P6h6Q4Ye3oq9CqF9nYDeUwCWBghIBocGrACMnKB2eAjkfYi8QXreQqGEzZDewQkEB5C8LmBbmqenMABm9wCyfHq+V6r3vBlNfADl5QCL4AC9E2CZBACGJ3aIFwcJ9gDWD4rPjasC8xluaGruTZgMcQbWgJCUwgkHVwBXMgCzWnppYast0Do4l0DeggChJ4jIFZC9ppBZhmBlKgBh5rWSwqsjb/ezQUca7oQAoK53jSUAtAG2+FgHBQwAewgAx0SGIOu7R4Ma3uFqsPKAqiQHDx9gZQcAZSwHTCsLCSybReWxKEKlMNhguw4IN1OXWUNwdqAAVWkJWV0FpAerNyOzjWmUhj+3uVIHXxxgdzMAdnAAZgkHCTQAqKVodze7jh8p7aoA7sUAvBMAmVkIJ/17eFYAaMGY2V4AmFO1xn9LWeCxdOCwqwGqu6VwgiNwdmcAVgUAfoKAqKhk+fG7sPmxW69JcdJrrAd3Z967d/CwVmEK9q4Lr1BTiIW7ze4qZg1g+kAIgCqwaXy7rK6WrfqrlNM1wVI7vY+xMfCWxUWAkb+6WF/2CfPjCneqpuSNa12Zu+FKGlv6IONgl8n0BsYGC53+oDMUCXrHsM2FBfnGu8/gstyPtm7psImJe3dfClV2sGPoACdSCUrNUPkqIC46q+FEwTwFoOiSBf5NmfZsADgOsDPgAG/akGKQpcb1bBKPwRYXt/79ZzureSYBDCZgAF4RkIZnAGZzpAFgADKva/PvwktnadznIM9cgHgYCchSAFIdyYvpsJYKAG0sAO/6ACDIAKlpTCWAwTwHoMeRAIRjyUc+CPq4sJq4sIYHAL2NBHDABLzpXFbswSBdoOYte3HGy5qptpfyCsfsAO7UDFuDBjpvbGgowSCVlwaWfDYKC6gP8Ll42JCNTUAmvcDtlAVYNcySLBlM9FbN8KBlCgyGCQxwK5DlNcxe1ryabsEBArU7uVBwecyJ2culDwB6sbwQyAC1r3w7isMyQ7xEX4t5x8BX8ABVpwBVfQdlQcYZKSy8rsMFtMCCtpx39wBjR8BcFwDiqQALjQKrWyzNzsLgrIy3NQB7JsBnXAyVDgC/+QArXMod3czuzyza06CQ3cmHk8mrCADn7cDojizvzcJEHcVQVXo+WcabGsDupsxSBDyae80B8BrEsHhAMtkGpsy9pAbYPGXAyd0RuRkGc3z/MbCO3wAgnAC0ZZKxit0SitEcB6e2pgw1cQCOwAA7WcOBf/ndI2PRDsCzKfUHYHbAbsINIeJSmV1s9EzSSYyqVSML9zYA4yYFC/0g03HdUawXggw4mqWw4vUMsWgxRS3dU5O5NdxVtQEAxNnc2S4tVenco0eQxmxwMMUAr6XNRyvS51O8THAMkRppdzvdcu8s+tQiaQbMWLq9BoXdgOAayB/dRJYdiMfdgz2SxqHGEJXdONXdkJ0Vncos6STdiW3dlqJIkwIAM7gM2S7NldLWqJ0gMA4ADZrNd8/dovQm5psNoMsNqwNMmmfdpZ8UvCQAh3MAh3cFD7DNvErSQX8ViQxdm5rdFcsVFhsg32VNzSvSPLXd3Wfd05Mt3a/S3Y3d0Jq7Hd4C0t3j3e5F3e5n3eOB3e6r3e7N3ei43e8B3f8j3f9F3f9n3f5Ore+h0l+O3Z+/3f/tzflg3gBO4jAn7gCF7BBb7gOpLgDv7gEB7hEj7hFF7hIMTgGB7bFr7hHI6aGf7hK9LhIj7iJF7isQXiKL4hJm7KKd7iF7LiluziMm4gMF7jNn7jOP5BLrXjPN7jPv7jQB7kQj7kRF7kRn7kSJ7kSr7kTN7kPR4QAAAh+QQFCgAGACwaACUAIACZAAAI/wANCBxIsKDAc+cMKlzIsB3DhxAjSpxIsaLFixgzSkyoceE5ax1DilTkUGELkQpXVPwnkiNKgiAZukwpsSTFky9z6qxoc+dCkj6DCh2aEedOlURzukgqMEVQpz6hMkUpVWfVjkh3GjVw9aUKlEsHwngZVuDYl1u7UmX5sANbnUl6SlQ7FSPduhFZELxbsawBGHwp+gX89KXegYEpHm5aOCrexxW/7jwrcrDQxBMXQxaJmWCgiXIjVtpcsBtkQhYpP+TD+hYfA5XMGHhbcGxogq/9wDbAOqSUgkxgq5GGjtvArFwpqnnzmibiiVYGNhdKW+MnUcEWIreYPaJqiNO9U/9ElCn6QHQLv0d0YCD7MeMKCVNE8XuSKAPoF95WGOM3b4H51UaRFBoUFKBC7UxTnUFgGECBAea88QlE+w30mRQMCCQLgAbEZFCFAoV3xi0CYUPQVgaAqJAfUrwBn0BZqbeQOQP5YkB07WwzkFEyKtSdAZmoYcAkLyIYEYkhiqdiQZgIudMcSlZ0BpQRLUmQFJ9VuZAGmGi0nw+IuELiLAOZccYxtG1XYSC+kOgLLAStMxOPKT402kB3GmSZcp/MYYZuL/o1kDYK2diHhpnoptBgifkAizQG3FIIaAaRh6QPkGYi0BkQ9bjQhBTJlaVBxxggS54P7UciJwShalpDEU3tMiRPDCEpUYwCTaOTbZV9mM2rGVlmJWkG0DmsRcfS6lOyoU5WJ0a4GECogGAFJexFiOhWIbMLLeYpRGZ6ws6OBXE7EDvTfihQOaBMxKlEbKH6kJDsMJPqQIhMgshD77KjK7XPonRWNgXty9C+QvZjIoIEU4SJFXUg0098AVNkxicHXgSFbAZwPJBf6iRk278QBVIHGJoGNZN+FqlDbMUCB/VtSEuu3CnMBrlcbkkIGRTYW9iApDND6lG50D/tWHns0gwxgItDQ4eUAC82qRM1RhnuNHWHC2L0VbQevkypAT3vVHZFWeFis0hXZxQQACH5BAUKAAYALBsALwAdAIYAAAj/AA0IHEiQIJN/Ag0hLCjQBcOHEB86jEixosWLGAuqozgxY8WOHkOKHEmypMmTKFOqVAkSZcuVKFfAHChzZU2VN2emzBmTJUyHPE+2SDlUhsqiK4HCVNFOJ06nT6GaVIqyaNCRLAzIuFqSq0iqLg14HTlWZFmpaCEOVWk0Zda2Nn2mPXm2IJ+KCzNmmluwKd+McElyI2g079+LDlX4VHy4McGXJwOjlBwZpgzGKw2bpIzynza/Ea0Y0GBgnEB0DzUzvEtQFMFsBVUXDESwDsSJsiPymcSDT7vBDTlfVPPGsAvhFysJ1BabrYHcEOvYVkkbYmGY0EdmF7kdI+6Ux5/3/0Qecq3AaRaDIYpYFDPGQGYoqg70KaJtdNy6Ec4ICaPm9QKZI4ZongQjyyeTyEdRIiFBF44oUyBYX3y49AMaQdn5YQUhBTGo30DhGcAcRH48lCBD10H0iRcGsMbeQJ5dSJAVIxjgiQFzQCRTig99ItpM/bkoEY8EyUKRGrKgxtB2ibh2BkGwQNSdQGcUooYBb9wiJUXH1DKQkFty+caVFRH5EINgPkQeQ0+qhZGQooFRSSWoDPSWeBEV8gaOBPGhnJIYUsRHjoUYAEV8AwFnQIgVqVEHogL9+JhAuZ0hmhk5+ifSdBkpNxCZnz6JDXoozUFKQWva5gOkFLU14kOSFkH0JDvbxPYqQXMEcoVAdYAhECK+SsPOftvxMFB81U3J0K6pofrcrXk6hqe0F2XHapmW6aSsRWaa5F5lM21brUoBAQAh+QQFCgAGACwbAC8AHQCGAAAI/wANCBxIkOCUdgIVISwosAXDhxAfrohIsaLFixgZnqM4MaNFhx5DihxJsqTJkyhTqlxpAKTKjixVuogpMAVLmytx0kypk+dLlg57olSRciYMmQaOqgx6899On09RCo0akoWBqSONYhWp9aZKq1tFgvWak6rZkERVKkVpNGbYqmdPvn0YqOLCjJXiEuymN+PalEfv9rU4cW7GwoMTD4SpluVflI9PwjAcUrDJyCjbTXNKEYwBCgbMCWT30DLDugRlEbRW0HRBPgTPQATpOmImP1LecEO3GPNFK3wEt/B9cZLAbK0b14aISc3KOREDs1w+krpI6xg7Yr843MD2im2LEv/UZlFWpohdPRaSHdE0ovMQZbO7po4gcYZ5L1pGbWDdmyAGiHLMJ7LkBxF1nFQW0YBeTPKJcbLVwk59DFEHSRLGESSKAdwQtIJS00QEG0OEPCQdRKI4JwZ4A7WTDV8PMRFDgAa8AVFby00iBU2MGIAIRd25dgtFb9yyTWkVERKMAc4N9MmBGJnBRx0GzKEakhHVcsxAhVhkXS1q2FjRiRFtKCZF9zHU5EMzXXSmAZ5ZkckkpAyEI0V8QNflQIj44V2FFBViI3RXeDYQbwKxkKZAc5zBnkBmMEQbRGp4dgaVGH0XW0iQbEpQHc6xw0xKatRSUJqy8WDomMdFtGpBzvVBg01ryJ1WyI4GnBGpAZhYYQAy/dj3J0VQDOTZjwYgGlKxWA4UWIgW8deXpopR96hFi3qUrYKADQtVtzFR66VKAQEAIfkEBQoABgAsGwAvAB0AhgAACP8ADQgcSJAgk38CDSEsKNAFw4cQHzqMSLGixYsYC6qjODFjxY4eQ4ocSbKkyZMoU6pUCRJly5UoV8AcKHNlTZU3Z6bMGZMlTIc8T7ZIOVSGyqIrgcJU0U4nTqdPoZpUirJo0JEsDMi4WpKrSKouDXgdOVZkWaloIQ5VaTRl1rY2faY9ebYgn4oLM2aaW7Ap34xwUxrN+/eiQxU+ERdeTPDlycAoIT+GKUPxSsImJaP8p81vRCsGNBgYJxDdQ8wM7xIURTBbQdQFAxGsA3Ei7Ih8JvHg047bQBeaL6p5Qxh4yUoCtb1ma+A2xDq0VcqGOBim85HXRWbHaDul8e0WZQb/F7lW4DSLwRBFLGoZYyAzFFEH+hSRNjpu3QiOZwgJI2b1ApkjBmieBCPLJ5PER1EiITkXjihTIEgffLj04xlB1/lhBSEFMZjfb20pB5EfDyXIUHUQfeKFAaqtNxBnFxJkxQgGeGLAHBCJ11xEn4A2U38tSoRiQbJQpIYspjGUXSKsnUEQLBCBZ8AZhahhwBu3REnRMbUMFKSWW75hZUVDQsTglw/tx5CTamEUJGhgVFIJKgO9tWNEhbxxI0F8IJckhhTxgWMhBkAB30C+NaSmQGrUcahAPjYm0G1ngGYGjv6JFF1GyA00pqdOYnMeSnOQUpCatPnwKEUhfgaRk+xsQPOaiAXNEcgVAtUBhkCI7CoNO/rdGREPA8E3nZQF4Xraqc3RShGhjCHLmLAPrUomZTpJyyq1J7U32Uza4qVSQAAAIfkEBQoABgAsGwAvAB0AhgAACP8ADQgcSJDglHYCFSEsKLAFw4cQH66ISLGixYsYGZ6jODGjRYceQ4ocSbKkyZMoU6pcaQCkyo4sVbqIKTAFS5srcdJMqZPnS5YOe6JUkXImDJkGjqoMevPfTp9PUQqNGpKFgakjjWIVqfWmSqtbRYL1mpOq2ZBEVSpFaTRm2KpnT759GKjiwoyV4hLspjfj2pRH7/a1OHFuxsKDEw+EqZblX5SPT8IwHFKwycgo201zShGMAQoGzAlk99Ayw7oEZRG0VtB0QT4Ez0AE6TpiJj9S3nBDtxjzRSt8BLfwfXGSwGytG9eGiEnNyjkRA7NcPpK6SOsYO2K/ONzA9optixL/1GZRVqaIXT0Wkh3RNKLzEGWzu6aOIHGGeS9aRm1g3ZsgBohyzCey5AcRdZxUFtGAXkzyiXGy1cJOfQxRB0kSxhEkigHcELSCUtNEBBtDhDwkHUSiOCcGeAO1kw1fDzERQ4AGvAFRW8tNIgVNjBiACEXduXYLRW/csk1pFRESjAHODfTJgRiZwUcdBsyhGpIR1XLMQIVYZF0tathY0YkRbSgmRfcx1ORDM110pgGeWZHJJKQMhCNFfEDX5UCI+OFdhRQVYiN0V3g2EG8CsZCmQHOcwZ5AZjBEG0RqeHYGlRh9F1tIkGxKUB3OscNMSmrUUlCasvFg6JjHRbRqQc71QYNNa8idVsiOBpwRqQGYWGEAMv3Y9ydFUAzk2Y8GIBpSsVgOFFiIFvHXl6aKUfeoRYt6lK2CgA0LVbcxUeulSgEBACH5BAUKAAYALBsALwAdAIYAAAj/AA0IHEiQIJN/Ag0hLCjQBcOHEB86jEixosWLGAuqozgxY8WOHkOKHEmypMmTKFOqVAkSZcuVKFfAHChzZU2VN2emzBmTJUyHPE+2SDlUhsqiK4HCVNFOJ06nT6GaVIqyaNCRLAzIuFqSq0iqLg14HTlWZFmpaCEOVWk0Zda2Nn2mPXm2IJ+KCzNmmluwKd+McFMazfv3okMVPhEXXkzw5cnAKCE/hilD8UrCJiWj/KfNb0QrBjQYGCcQ3UPMDO8SFEUwW0HUBQMRrANxIuyIfCbx4NOO20AXmi+qeUMYeMlKArW9ZmvgNsQ6tFXKhjgYpvOR10Vmx2g7pfHtFmUG/xe5VuA0i8EQRSxqGWMgMxRRB/oUkTY6bt0IjmcICSNm9QKZIwZongQjyyeTxEdRIiE5F44oUyBIH3y49OMZQdf5YQUhBTGY329tKQeRHw8lyFB1EH3ihQGqrTcQZxcSZMUIBnhiwBwQiddcRJ+ANlN/LUqEYkGyUKSGLKYxlF0irJ1BECwQgWfAGYWoYcAbt0RJ0TG1DBSkllu+YWVFQ0LE4JcP7ceQk2phFCRoYFRSCSoDvbVjRIW8cSNBfCCXJIYU8YFjIQZAAd9AvjWkpkBq1HGoQD42JtBtZ4BmBo7+iRRdRsgNNKanTmJzHkpzkFKQmrT58ChFIX4GkZPsbEDzmogFzRHIFQLVAYZAiOwqDTv63RkRDwPBN52UBeF62qnN0UoRoYwhy5iwD61KJmU6ScsqtSe1N9lM2uKlUkAAACH5BAUKAAYALBsALwAdAIYAAAj/AA0IHEiQ4JR2AhUhLCiwBcOHEB+uiEixosWLGBmeozgxo0WHHkOKHEmypMmTKFOqXGkApMqOLFW6iCkwBUubK3HSTKmT50uWDnuiVJFyJgyZBo6qDHrz306fT1EKjRqShYGpI41iFan1pkqrW0WC9ZqTqtmQRFUqRWk0ZtiqZ0++fRio4sKMleIS7KY349qUR+/2tThxbsbCgxMPhKmW5V+Uj0/CMBxSsMnIKNtNc0oRjAEKBswJZPfQMsO6BGURtFbQdEE+BM9ABOk6YiY/Ut5wQ7cY80UrfAS38H1xksBsrRvXhohJzco5EQOzXD6SukjrGDtivzjcwPaKbYsS/9RmUVamiF09FpId0TSi8xBls7umjiBxhnkvWkZtYN2bIAaIcswnsuQHEXWcVBbRgF5M8olxstXCTn0MUQdJEsYRJIoB3BC0glLTRAQbQ4Q8JB1EojgnBngDtZMNXw8xEUOABrwBUVvLTSIFTYwYgAhF3bl2C0Vv3LJNaRUREowBzg30yYEYmcFHHQbMoRqSEdVyzECFWGRdLWrYWNGJEW0oJkX3MdTkQzNddKYBnlmRySSkDIQjRXxA1+VAiPjhXYUUFWIjdFd4NhBvArGQpkBznMGeQGYwRBtEanh2BpUYfRdbSJBsSlAdzrHDTEpq1FJQmrLxYOiYx0W0akHO9UGDTWvInVbIjgacEakBmFhhADL92PcnRVAM5NmPBiAaUrFYDhRYiBbx15emilH3qEWLepStgoANC1W3MVHrpUoBAQAh+QQFCgAGACwbAC8AHQCGAAAI/wANCBxIkCCTfwINISwo0AXDhxAfOoxIsaLFixgLqqM4MWPFjh5DihxJsqTJkyhTqlQJEmXLlShXwBwoc2VNlTdnpswZkyVMhzxPtkg5VIbKoiuBwlTRTidOp0+hmlSKsmjQkSwMyLhakqtIqi4NeB05VmRZqWghDlVpNGXWtjZ9pj15tiCfigszZppbsCnfjHBTGs3796JDFT4RF15M8OXJwCghP4YpQ/FKwiYlo/ynzW9EKwY0GBgnEN1DzAzvEhRFMFtB1AUDEawDcSLsiHwm8eDTjttAF5ovqnlDGHjJSgK1vWZr4DbEOrRVyoY4GKbzkddFZsdoO6Xx7RZlBv8XuVbgNIvBEEUsahljIDMUUQf6FJE2Om7dCI5nCAkjZvUCmSMGaJ4EI8snk8RHUSIhOReOKFMgSB98uPTjGUHX+WEFIQUxmN9vbSkHkR8PJchQdRB94oUBqq03EGcXEmTFCAZ4YsAcEInXXESfgDZTfy1KhGJBslCkhiymMZRdIqydQRAsEIFnwBmFqGHAG7dESdExtQwUpJZbvmFlRUNCxOCXD+3HkJNqYRQkaGBUUgkqA721Y0SFvHEjQXwglySGFPGBYyEGQAHfQL41pKZAatRxqEA+NibQbWeAZgaO/okUXUbIDTSmp05icx5Kc5BSkJq0+fAoRSF+BpGT7GxA85qIBc0RyBUC1QGGQIjsKg07+t0ZEQ8DwTedlAXhetqpzdFKEaGMIcuYsA+tSiZlOknLKrUntTfZTNripVJAAAAh+QQFCgAGACwbAC8AHQCGAAAI/wANCBxIkOCUdgIVISwosAXDhxAfrohIsaLFixgZnqM4MaNFhx5DihxJsqTJkyhTqlxpAKTKjixVuogpMAVLmytx0kypk+dLlg57olSRciYMmQaOqgx6899On09RCo0akoWBqSONYhWp9aZKq1tFgvWak6rZkERVKkVpNGbYqmdPvn0YqOLCjJXiEuymN+PalEfv9rU4cW7GwoMTD4SpluVflI9PwjAcUrDJyCjbTXNKEYwBCgbMCWT30DLDugRlEbRW0HRBPgTPQATpOmImP1LecEO3GPNFK3wEt/B9cZLAbK0b14aISc3KOREDs1w+krpI6xg7Yr843MD2im2LEv/UZlFWpohdPRaSHdE0ovMQZbO7po4gcYZ5L1pGbWDdmyAGiHLMJ7LkBxF1nFQW0YBeTPKJcbLVwk59DFEHSRLGESSKAdwQtIJS00QEG0OEPCQdRKI4JwZ4A7WTDV8PMRFDgAa8AVFby00iBU2MGIAIRd25dgtFb9yyTWkVERKMAc4N9MmBGJnBRx0GzKEakhHVcsxAhVhkXS1q2FjRiRFtKCZF9zHU5EMzXXSmAZ5ZkckkpAyEI0V8QNflQIj44V2FFBViI3RXeDYQbwKxkKZAc5zBnkBmMEQbRGp4dgaVGH0XW0iQbEpQHc6xw0xKatRSUJqy8WDomMdFtGpBzvVBg01ryJ1WyI4GnBGpAZhYYQAy/dj3J0VQDOTZjwYgGlKxWA4UWIgW8deXpopR96hFi3qUrYKADQtVtzFR66VKAQEAIfkEBQoABgAsFwAlACEAnQAACP8ADQgcSLBgQXXqBFozyLAhw38OI0qcSDEixIoYM2o0kG2jx48HQUZU11HglIQiG6IUqC2lw4sEXaTMtjKmxnYEW3qsyZAnxpIMaUaUSRFmRaIFjT50ybQpw25OKxpSGrVqyn86q26zagBpVa8EhTqtIdBnxhUCKZiNitbpg4Ftm74VGJfpXAMtot6t63JvU5l38zIlepGvS4gyBKdUjFixSMYGEv814NctTgMqJoKAWvGi44ZEqDasLHfg55Sk7VoFLFCGYY+C57pmykKg7NcgU4tkTXeybtRw9QZ3a1o4VwONqyZ3WVvg8tK9B1MuPvEcRs/GDeB2yMdAHUT8DN7/ZSE6YiaB7bYS/C3xFiSHgY1LljjpjZruBPltyzo98mmDfrzhxycGIEKQegPJhlxEbxRowCQGvGHgaNQ1ZIVA+A3VH2YZ8dEgQ7xxqJEf8A3n0BtzGGAGIQWhI56JDHXXoBoGyOJQiP8ZdItAokyEWHMNNdhdIJ1FNhGBBmTixxkEcbOUDEBSxIABx5QYWZQGVWJAhjFAYUAewThZ0HjlZSiQBlcINKGYCbaGJUEQDgRGBwWxSdBF5BVk5kBSGKCBAePwEeeYA+U5ERgJ8BjWeoWKFswnRBZUx0B2hmioQERKoyVDiEzCAx/YsMkblHoKFEONexKoxhtGjfrfJxY0/+QLk5VgYwB/sl1KkAZQfLIjQR9SeCVVPHwUX0FVNmRgIFpexuiwBlxmY0RqTGqAnbY1WhGBaVppgK4RwWLQOQu1KRC4BPHhiy9JDnSGFeZYN5ClRok70KS+WEtQOS7O2x+URg26jxmZZOKlQPoSFNdzA43jhQG+BFKIQLLMUUmkBlyDEmSkTkPQtAL9YRCNBcXm5kRZ9Fijit6iy+xAxRKUMKH+KXcuVTNjRGZD9ma0c0PBiKIGixT9zJAsfihBEWFX3uqQHzrIKVGu5RnwycN7GmTysNo4W5AVJRjgyXsNtUW1Q59cSJAZER0rEdlJ2XR2QbfAorJASA4E8rPflv8nC9k2nuFHIWC0XLUnoiTLp0U3N1RLQ1AES3PfEpGSYopn8DDhi9A6JE0iBkwcs0DCGFDuQAw7xKRAZkixuUAcv1lqQWBUsum52XbeUCEfrr6llv2aSzl3KQoEBdsg/pujRGrLra2FKhY/0c/9eFJRzrnjVZZAgxJE8kBqMImNx8K3tZIflZwX0Ryo9INra4KJVkfhBb1uUHL8bRkRkUyyg+C/5MmfQOaAMX0hAgxzkAY7aAaw64nMAIWjitsmgjHncA5gAmRIIcyAPGFpjziNw0g/5MWSuH2wIuGo2obQtTaCeC1anEFdzaKSuoZU4oXCaqBBzKCvf2RGIeog4bOBdPgSgaDiH9bAofBkZxAG4AIq6ojhBZc3MSNixQDpSIfhDJIwXujsed4TSAJK90XYEcQKxxOIE9fiQcPIogaJSogSPSgYrzGgFBwxABsj8pm8HNEqtcDJP1SoEVxgy2cGiYs29niUgQQSOPfTY1Xm6BEHEOR0IhmEAe4wSUqKJCAAACH5BAUKAAYALBcAJQAhAJ0AAAj/AA0IHEiwYMFz5wwqXMjQQLuGECNKnEixosWLA9VZw8ixo8CEHhee2xhSIhEDhv6VXKhNYYuI6jCuWHkR5MJsHUkamBKT4kyJPVO2hPiSplGaKTk+PMoUIhOVTaE2nWq0aNOfVJu6YJm1q9evYMMyxMrUqliPW6emnWr2rMIOUo8mWeq2rt2KLNRSXXsXY96pf/sKHkzYLV+C2/p2o6swcOHHkAXCqvSRaSaahNS8ecOUj+dbBvhMWsnHgB8DlGlKEch551iPb0orJCuYjxoDZ0bT5Fz6jAFRry9+EhiMZulAoZnqRpTJCkF0Rh0YKB7yNKKBKFYLZFzxNMEY2kOm/xYoRcNK3QPBGKBgwF9rj8gNSGFgwIws8aHjC7wtEBvBthdl4ocUb3BDEG0c+VYQgAuZ19UnsBz1gkDjDDfQH29kIgo6Bq6USSBzhEQBJuYUdEaINP1RiC/vedUNThcxZ0Adrtwn0BnHxIVgQ/rBAhpDDC7kyx8GIHKFQJmgWNBhCwXD2T5K/kgQN90IxKRCP0ZIECSl1SFKP9h009KVFiH3CYcYfeLLQCUS5IlRkJSEiG/3iSHFM0fdEo4oXDR1zE4WGnULJFYQEtGODdk5kHMryaJGCW+8yRCZDTERAxM2LkTpQpNIwYMBnNCkpQFeGPDJaWYsFKRBsgTKFHDECeWESCCMRkbQMbXs5xEisHgn0DG3FWKAFVLI5lEtwL0hrAFHGoCLAUNxxN+wCm26UIuTepQqVVeo1xhVq2ZVDigMKXhRXAZcZpAPF9GFyCS+XrEtbtepUQs700DEHUE+bBuDAZh0dB1DA9Nkrq4YnVgHGP0C7K0Bt/jnUbN11EHQvhM1q1BiK2lsq0HeQgGFetBFFZLFf8xrQE8eEXlGIVAYVdrDCv3D8kWBEGmTUcsaUErJJcWXwLMEIYRRqtAxQPRKSi7tkRTdFv2xQOg+q9PUBqlzM03odqQC1nV1HZmhUYldUkAAACH5BAUKAAYALB4AJwAaAIIAAAj/AA0IHEiwIMEp7QwqLJhwIJN/CyMaRChx4bmKGDNq3Mixo0RFDT0aIDLQmkIXIg2iTCnS2kWWBlxKXCnRZEWaEUPC3Mmzp8+fQINmxMmSqNCNKwxkO8q0qdOnG42KlApVYYueV3tSrcq1q9epPLPuZPH1ptayaNOqNUhW21qCW9/Knbu20kBuKfnw2ckkYtyCfN4s/EuXI+HCiBMrFnksE59AezEaPTapo1FpHqVa4Glm4K1PLGsIvHWLICY1fmRx65ZyTp3KEDE+yDQuIrqOdTBVCiSlI4pABnwt5HfOZkQemAT+yVRaoBlptwf+Le0LFkFpsQXGtQtFYKU6Bt7098M2MGnBcV4EqgFe0IrAa+oEih0oS6AvRH0EBkPkZ+H8hT5YR5Ao/WRUSXM+YDZgRnPwFAh4Ar0RRDkidWaAOZykt9MnXlTGUn0aEeaHhyl5EYMYokj0H0GVWQHCGSk2qJB5C33ingGiQDLHGRyBKBAjsuzF40kKwSKLYAKR6JFdQQ15xRuwGCeRgqgUJIUaBkyjlEKZVAJJQW9gKVB3sgjDUSIGBNZdbyINGdGKgGVEFoNu7gSFhSqdVVEheLLkGmIxGFAHcHOQkpIPBiBiwBm1rFNNSuwZtFRFdYBhwB8DrdOPThWBUcgfFt4oUiB9slSpAXgZFBAAIfkEBQoABgAsHgApABoAgAAACP8ADQgcSLAgQSIGEypcyLChw4cQI0qcGFFbwhYUE67IyFGguo4QN4IUiHGkyZMoU6pcyZJjyZEiW050YcCizJs4c+pcGBPky50MaZoUavIn0KNIk2ZkMfQkUaUJmZqUCrWq1as0t10lSHWr169gwzbs2ZGsWI5mz6pdy3ZisEqB+AR6aNSAtEoTzR6jWNeABpNnBn6C1fGFwHGfCP55k0kUOm4cA83B2+4hBUzmFkKW+KeQrzdXJmrAZCCTwnPdsjX0gUhgHVeyBp459o9gWoK+DMC6RbAcOoJ9B5oOXXqOAS/rzg18KjDYG4FzChk0I5BbN4HMDfDWHeiPQFmQ+CjZzG4wi6iCn347/JTbAI/MBD09rGMSUWCBYqQ8y3g/nCguJokyRWIdbffQbQRBAglIapTwhnwLkSdQYkzEwERszyUkoUCTSCEQJ4jwQV1EhA0EySd+GDCiQX3J8ol4E3a04EojSjGHLPs5VItAOxIExXP72VQQIrCkSJAaGRrgISzISHTeG4XwYABxFKnR0IYCJRkURIWsONIVYCjUVUfBETTHfSAVguZXPhhwRmtq9EhRDAaQpsYx7DDDUWscnUHditKwUxtEZtSBSZgGIJpRHfSZZAZ1WhkUEAAh+QQFCgAGACweAC8AGgB6AAAI/wANCBxIsKBAawYNuEjIsKFChxAjMjwnsSLDhRYbYszIsaPHjyBDihxJsuTGkCdLflxhIJvKlzBjypw5MOVHmzQhtiC5kyTOnECDCp35M2NPkSyGViyakanSp1CjMkyqTWpCp1azat3KtSNWiV+7WgwrtqzZsyCPZeITiA9Yg8cmcbQpzWtCCyPNDLz1CWQNgbduEcSkxo8sbt0+zqkj95/EB5nGNUTHsQ6mSoGkcEQRyIAvhvzOIXTIA5PAP5kECzQjjXJNiIJ9wSIozfHrhpUMQBFYqY6BN/2wDWRZcJwXgWo6F7Qi8Jo6gUcHyhLoC1EfgcEQ+WEYnaGP2QRF9c6TWEm1j7rhJc4ZGci3wDdBynnUa8Acp+MiP3mRC3L60oh+8PeRFzGIIYpD3REklxUgnHHgegkRx9AnzBkgCiRznJGRfwIxIotbGl6VECyyvDGQgB3lBlOIV7wBy2gQoYdKQVKoYcA0LSWUSSWQFPSGjQLtJoswGSViAB9v7KaZRyE2lGBBbkWUlHpNigQFfQaR5RBWhWAJ0mJmxWBAHZ3NQcpHPhiAiAFn1LJONR8p51EdYBjwx0Dr9NOORWAU8gd9FXoUiJcg0WkANwkFBAAh+QQFCgAGACweAA0ANwCcAAAI/wANCBxIsKDBgwW3KVzIrSHChxAjGuz2r6LFi/8katxI8N8zOoMS3Wlz586gRtM4qoxIEdmXBwAspDAhwwQFUP+4rdx5cNs/JQC+XNwx6F+2bTyTCtT2jwkALt2mTfsHCifGiko5MnXK5Z9PRaj+aavVRhiuRKCYZtW4FcCUf8iQwUhkYNCOGmLEtEmDc63EbD8BPOjQwQIDq4N0pGFqyBBSpH4RAnbKRBsuXCkMVVQkg1RFT4OQWouMsG1Xbv8GWVVUA5SBf40McdNmLSPpgpOfRs2mjuo0zlY9GcqmbZq627j/TQl6EdkObZ5afzakzQBv5AR9qgAAg5Qi0CGU/P9r40IzN0ODpurEboCisB0bMmToAMKEfVKgmEwRgz9RI1xqsdfRRe1Y5BNWrx0noEENcdPNg904+M+DBHWz4IUYZqjhhhx26OGHIIYo4ogklmjiiSimqOKKSlVnUAssrsDiiArOeJCMK8Jo44489ujjj0AGuZKOKuIoJIgusOfikUw26eSTKxmZIpFQZpjkilfmuBKEXFI44lUVqVMjiJcJI0xczzxjzTbrdUgRNz3A0IMSXIhxhyGg4FLbh+poU4MJOvTAxBdpDOIJLil9OOFIhAzyHSi1nNmmolcV+I+YkbGwkjacLsRelimCWmWGmq5Y6qiopqrqqhGJGhlkrJ7/yuqstNZq661PSomirriuymuvwAYr7LDEGhRMJYHwEYhGVAooTSVRZnjMTs0KqMGKZwz0CSwoviDQOJ8Q9McbmYiCzqQjBjIHtO2ASAEm5jyE7od/FOLLG1eQqAEmBmSC0DndZOOhD4gIVIcrsgx0xjG2CfTrhb4YAMstBJWDDkHVXuhvvv3OYYAX65wzkKvYBfOGQHMUYpAZAjkoEMnIUSxxIH8IJAskfCAE84VZiFLQJxd/+EnEBvAQL0GegFjHiohkK5AYUjxjotPhiMLFiqJMES6KMmv08IWQQJKiGiW8kfRDO2MXLhMxMJHwyQeljd0kUgjECSJ8sCwitwNBi/KJHwbo/aKGsnySs0Bbmyg2j3pLMYcsUn9Yi0CTEwTFyVIveSEisABOkBpwG1A3LMiM6PMbhfBgAMclqtGqh6FDJPeChQiu4hVgICQrihljOIfTKRYCfLEr+WDAGQWrUXmJMRjArxrHsMPMiQWfeAbLgkvDTsMfmlEHJrkbEL6JdSy9ohksw3phQAAAIfkEBQoABgAsGwANAFIAnAAACP8ADQgcSLCgwYMIDW7blrChw4Hduj2cSLGixYT/Mv67yBFhnjZ3DD1r1zGhum3IUCHbWLKlgRQZACgywNAlxH/IGinC9U+izZIg2qizlo1mtqIEs2nLVpOmtqcK/01rJOxnyWcGFDVSd7DbP24aM4LdFvarQK8Zt3ni6dOqxUGkDFjztIOUIhU9qmrDyaRFD1T/9oIKsmMKLgPcvOIypAgV1Z5uL4K48+8LAwAgLFAAYMLAP1QOdKRJwMCTgTsMhLQJwQFURlBTdjIWxjIyxQcAthrgwhkrhgS0LXDIqARAGnUJUmSslaHGUCV31OFUJIyr7YocCKlrlwYAIZIuACD/qwWAy9Bng/61ASDm37N/QTagoktq49Sq1yve0d29jUAYAEwzCABT/GONRkkA8IWB/3CRgSJ37HCYXGvVll9D1pyT1TPrCWUAgM8oAsAKUv0jzCC8EeHeP2JkAEqErhkwFS7WXfiQMBlkQwcA0RlQg3jPXDZIO/8UhgoAFvwjnRIl/KPIDkIFRlWNNiLUyB0OqGAAEQQS2QEAhrRTHAAqYPDAez8q4SQH/k0zBRGDCAOKIrVgU2VDIJjZSCIdZBDUFBtgkAIqBijhQAIdANYNNzs4YIIKafSEUxpf3EEKKMI0dadBtWljAEk1pSWdNbT9w1BGz6BC1kAZTePVXlRu/1oQNwQlJhatG5H1Fa0GdKMrTRCh5ZWsxBZr7LHIJqvssszadk6szdpISLTUVmvttdhmq+223Hbr7bfghiuuW9Yc5MK4HJ2L7ro2acjuT+q++1C82ZIk7702QYvvvvzaNoW9/RYEcMAEy0pvtRbadHDBDBO0QrdINSzxxBRXbPGFCxOc8Z1itRWwOtOsZOqdLRyrGJRYQXZhycZ6JYwMMigxyDSeeRzZxglxo/POPPfss87/4FLDDkIoIYYn02TEbVlMlyXM0EJMwUUag+Cijb7HogLK1peC0vXXXHNNCimo4OJJDToIwcQXbQzSWLnMbmMBAAkkQPfddueNN90MOP9gQQcluEC01G03ggpWzToAwOKMN+644wk4QEEHgqv9BdWeHB4tF0Qk4fnnoIf+ORNSf/EFDDsQsXbbjSGOLUtNM93OM1BPcfkdoCCTH84IZUOUNcAHL/zwwB9ljTpCp84EF3fgws/AVrFsbNA11NADF6Dwo2R+LCAbtAtEKKI9wSYOko2Smu6OrHQjb8q7jelfLP/89Ndvf0Hdc+vp/RW9z///AAygAAdIwAJiy3/3QqABF1glBTLwgRCMoAQnSMFvHSMTfAgEHybiwGgdYxIX6WCzpJGucVlgYmYYyC0+wbAaCOQWtyAIJtTgB1kkpmBzqAMIE4auB2RiHAlBR7//6oCJSgRCCv1CQSAM4AuE8OMccFsXDzAhkD9kIoYCMYM0hDgQEVorhr6ABUGkYSEvUqsSBoCCQCpRBwO8oR92EsjDwjUOLwhEDUssiBUEcg3rSO9bshCILxDRB4EEAxF+QMgf0eUDMRJEFP24VyWw6AMSPvJec5hYINookDcEoRwES6EBzMEJO0rsE14AIcMCSREzVssPqiyYF2IgBlE0ZJHgAqEVQHAGW2byIHNE1yf2aABRQGIOZ+AXKwXCCFlsMJnmGhcsZPGGgcQyYGiUHzSv8AZYRJFgUlCDjAwQMXBlohKQKMgbxCkQNcoCP/hKhAH48AY1IpFgyYTmQXAZU64NPiR/8kJmxaAgSoO4MlwHjVYhCsqwHFaQWzEwQB2WOIe4EMwHBkCEAc5Qi3VUo2B5JFgdwGCAPwxkHf2AHrvAUIg/iJKYBAsEQxk2UsSAKyAAACH5BAUKAAYALBgADQB2ALYAAAj/AA0IHEiwoMGDCBMqXMhQILdt3RxCbEixosWLGDMK7PavY0SNIEOK1PjP2iAYSgz8SwOC1L9tI2PKnDmQmwFPHQDAUNkDwKCXNIMKVZjNQDaYA7dNM4ALQI2Xz0CpM7DtqAFt2pAKzIZV69CvI7U+AyCDasd/HM+e5YZWpdqOYOM27KGiB6qXMBvpkKFEp4Fphna4rJWkjTAdNRq97MhlR49BuHBpk0s5YZA0DgAYEpgHAJE2D5waYJIAQCNQFgBYyEABAINnHUE8ACWEAYgauNpW3k0QFYAH56YlcPHPQCKnHXsq+qfot6d/QQDc+dcGQJqOHEAgm8r74oaYJgB4/0oj3YC6pjI69l3ue0fHL9b/MYn/rwaGZ+2661/asw0RAImoVAtZKq33j286dCQGAG38M4hOHWGQAlof6cdQUTH1ZUh0aQg0IAzqAbAcKQDo0M4/8DUIHQA7wNABKep4ZeFM3BV0jgEwAGAAfCbkhwxy8onXzoDurSTdP9OAwAUooKhU44xyEWHAg1P8g0xrMgzygmtf1GfdlACUEOIUBpC3QQ09CCHGMwZUCCVCHWQQEgMcYMBFN9u0Q0oICTiwAwUmECJGnSa08QIGG3DRRpwdJKKNAwww4MADDiT4JmWkGNAOTEgJA5MwKm1zljYdbSrqWUyo0M4zyCBDygq5Xf8qV3E12WSATduI+hBHeNqEFqnCQHhWG0JQKOuxCiE5AgAJdGACCCkIAxSy1B7U0R07pLDDddNW6+1AEb31j63fltvmNlll5aa57Lbr7rvwxivvvPTWa++9+Oar77789uvvvwAHLHC8xZE78FdTCaPNkwfPxCsq0jY8VHGeZMqwxCMVN4gnm2ZzMcYZ8XrHZtZ4CvJIbHGTxh0GWAMKmyeHlDIX1z2jCC752RhzQzEWx8QXq97hUkNJ7GwQW90QUSUyaYCim9EWibrNDkr8IwwXy1lE686LdYOm1UoECDVGonaTQoK49DDdui2PjVDXIRCHSw0NdsO22wiJqk0GYtb/kkKHduPdkKjZbDAhKiAALaPgCf3zDAYAfJFGB1UuzvhB2RgJQgd+dnu5QqSK8UBHRBDxD4afg/6PGA50FEQP/0yWuuqsux5E7LMTtXrr0MEue+4Hhf6ASkHcvjhcuQtvO+4FkQLxwqlnXnvvzCcVGS6o97uNwRYJT3wQVBXEETK4iMqv47VslVHovBdfPUG14NKvTaQ40EOs2nC/kPfQGV9Q7KSI2L5sgorSMOB+xdHG3Q4iKtF9z3PjAwUytpYvmKCCAQDI4AFxdhX9GaSBw+sfBP9Ri5ct0F64wGAGNdiDWnTEKglhn+3a8TuB/AMUnjBZvpgEClQMojQrXOEG/zviQYFYY3fJCcKmCNIOayjiZRS0F7MSQMUgWtE1O3DaAvnnPq2MDzJt2tcVrwhEBlzHcldZ3ehEWMMDDWKC+0qCHJXQAyCuEIgPuNPTDMJF2HmROYaYRhTzZSUVBjGPgnyfQaTXPiX+Th3aIIQiPlYva1hDkKQoDR65kMjsIUSG/aPhQKzWBqf5y4IqzKM1VOLJhDByeb/7BynSECvtGYBEDuCkeVpJu0YyT1SgSANsAIYLLgyEl/tDIhtHSQpDDNJfyGQIKIsnSoKog5L6qiFGXkm9GmKTcdx0nzaBNxDlLZOci1Tm6xSJzjQ6sH/haydBpnm7caIThA9EI/DwKf9CfeaOn12U5zzV6UiBllONxPOjQQXCRf8tlJ7sRGcfPSfPcBb0oQSNKDkhas+NZrSjwOPoQt3ZyGoaNJy+G6lFNRrSj6pUnSldqEVNKlB60lSeAHWoQXNK0XaKFKPToyZIk4dQePpzdg3tqURdCtQQrvOo0WOqQW06VKRKtaYEvalPrypPqr40qBc9qRphOVKeQvVzKGVp7lZa1dR5daFmLWtRixfPqXJ1q2DV6lLfSdezXi6pfmWcOcU50okGlmiTEBhbZ8KHHUACEgHLaV1FIgo1HOynIvnEaGJgBQNU4g3/eutIJiEFHQgEEXwwg78wGxPLigIRABOtRmBxi0//8GEgmgXYTNtKkcQmQhYC8UMhwNCvxcZEFDdJrBkQcQYpzEEWMMMXCJd32IRII33HEMgcCsIm3prLsDSpxXZBOxBYIENfxpUJcg2w3dBm1bsK8QMi/ABZgVj2X3GdCXkjO1fwVbchhQgYa1trADBcgbj9ku1I7ksQMKhBFOioYH8nC5IzCMTCCEHHKu+VXpkUgsEGADG+BpwRSNThCgthBzNGPFeFigS2EutwV98rV77qFKt5ha/gSLzXkuoYbwpup4zbmV+78tXFRnbqjXE64f+Orcg49nFh79rjGf7YbUEWyDehBliDcMQapHLrXR1Xvi3HLK3atBIopmHmM0tVe1S4MIQAUwdQF7MFF3fIzQmf3F+gsAUVYrjLnsdGVVGRYgowqrIIBQkKInDMyRiD6D88sYNGUNiqQYWdImTgzCu7eXo9UAIoSvATSJ+sgRToyBRCYILpmPpk0mNRDzg3HU8bjS2NSEEKYLADQlxanuJ6tdF+hZX8NSQgAAAh+QQFCgAGACweAA8AgAC0AAAI/wANCBxIsKDBgwgTKlxoUN20RAwjSpxIsaLFixgzatzIsSNFbQJBehxJsqTJkyTVocyo444BUNb+dVtJE6WDjD0AMLAAygC3mkCDMmzXzgEDYeeEKl16cEQCYf+2MZ3qkVTEnVSzBtVh4gGodlrDrvQE9p/YsyV16GCC7N9PtHAZTkmYIAGADWDj6kUoM6EwYaAcoNpL2CIXE4UTR+xAwcJgxZARyviiMrLlg2Uva97MuSO3baC3ve28V922f6hTkyZ8+lmaNHcGoeq7Gq22f9o4PFhRwgIX3LXFRpVJgcM/YSpMiDEgNbjW090oYPiHisIXLlOiOqc63IB0A6gcKP/5N4VLt+bbl572juElAyKop2RHnz7obfb/SAEI0m4a+ewi1VdTd9/p10M3n5FnHn0ConSfdO3otwNwt8kHXIMrPTgdKAD0wFxI/12IoUm3Rdcehz2cs81MzCmIYEUBEtTCiASBZKIBBp7DDYstWsggRivQaIA6GraD4oc1hhijkBo1B6GEbvEo0GnlnTdRZUwWRKRAjeXX4ZYGVQhgR0FiCNI20v3D4YQ/gmjhkhjN2KCTJ365IkJULpjlRdrdmOOOCVE5354WOWnBSwCwOdpBgmpHqETniFSgnQyJKeKjC0mKQYQdqiglni4uiilCIJ0z6Q5IVqrkqBFBeOSdETX/2iarA3HzZIftACpRnlbSepCtmxrY60SydiTnatY8cCiKnxXq4qwVlbkaBiMgOiGcEVmKra9ccMEAqtuq+iZHLmyHAQDVhisugOqOqgMMBliTkba+SpaCAdnMGyK0tMoQZL4YVciFAe2O6i++YUqFJamr1muQDCoQXJBZAn1qEK/8PnqTAQcDLNA/1siwAQU1OHoQvRxJW1vHBDkkhgmJXloQyhsdu7IKMks1BQBtSAxqlRkb/G9Bp3EAQC0yJznuRuVuB7HPFRuATAIWdIMaN6JOuS+56T0do1SDJCo1LqhZjLGxTkccI0hKADBFDyF00AEpbhEdYtYO+/uPxx+G/wCAA2zhkkAGJrs5Jo15TfS0NXlx8w8yDCTwxccgJNDWonmmml4CGXk9kFSGAGACyPE64AA2tGnto8MDbcyyQPkyAcBy/nFYwt4zN8z6QJ5PaUAJAPQU087Zpd6jnrvzvgLuHz/DwAPbmPaP0XTPpvThG7Hg9PIAg6QIAOXGxOEG/6SxfICWBs1Q0869ni8XAAzsH/y/lfCFiDRnxH5wr8vbNlkxaQMA7vAF8uVuacnj2NAQNgUQJM4AO8iACWrRDvqkryPaax/3BkIk1AwENW0pHMEUBDWNZJB/C0zIfaJ3QOwl73UXyV+9XJdCi8iQdTC0oe5eiLOCBepZCRRIDv9htLUg9u4ixWJa19SWEYypj1BHdJaF8GaRE65sgwHb4e6iWJGzGZGJGEliAof4ES3iEIxIBKIRsRhDM+athkRc3RoRlkUEvhCOZbTjFvE4kQumbHvMa2N5SpgRla2GjH10Y70QKZEbvpGOgnRhIbcHSR3qEYdstKQkMRlIS3IBTGNEoxQH9UVCUsSLY+RjI4uYyk7GcZN562ET1RhKUxKLlXes5CuTZoBgVCIQfAhERGx2SFF2kZYDkUYlokVJvu0STsewCDFJozdn5tE82NKArxiZLTOeYSCfgAWmqqmvSxrgBQIZxycI8oc3ZEIU6KDiIVXZTTlKJBBzWOYDu5b/yTgObFsUwIQ5EiLPeboyj7AsyB8K4Ys3XGFENNQlQnlpAA1gwgCZQMg5umHNm9lyV8gkiA8QIZA6uEIWAznDMSgmEENSk57rouhAfGEAWNyCIOVAh4yaWc6ECiSjD8XoHAzghXUkRSD7u+JBE1ke0xQkGG8QyBwKYRAzCERXSS3mR2OFSwPctKaB+INAZAEJPiAkq9SUZRhDapAsiKIgn9AphrgZ0zZ9gqYG4MFACeIJGpGzjpuswyLVmkagFQQR3xSIGKTwjEdx8ZRdNUBiwyGKgWUpoh1dpTkHIooprBOKxoSsYRFyUysQgiEu7QxdM6VIxUphnISVonnkidIS/7yhrwlBq2phytrNEoQJZM0tP5eqWZ8KhAcG4AQUeasQR4pTIF6AxCf8YACrHmSauyVuPf9pkFugtF/9nGi4IGEAQgRDIIgIhBWEtNrmtravxyCvAfgg2BGB5bG3HO1BolkLgahBIFCI6ojwC1J7GgARsKDuQI6hhjdQ1QCv9StzVdhagjgYuUEdcHiZ+smg/VchuuUMgblq4IQ8+KxLlClDUKmQoe6pvRT2bUqrqxArGjSz9TSuAVz8q4FgV8SxPaZ+C/JhM8zhmz6or4QlylQdCySxPNYwk4vLy0ycAQwIqS82piGgEa+YrQZQsEgHogY11KIf8qoPjBkm44LEwP8AwlTDMdjBjC5vWLMdrghJwTPX0E5keKRcyBmsyyQY3Jkh2fiHIUpgCBEexAx1wASWDQCGT7C0Poae8kISPYgM3MHRCamDkiWs3YTEZBAPaAOoFWIGMyBin5g+NEJicgcGpAE3C6NIrtU84YHQOgFiKLVCsrFrNft51v+4AwAm50OCaOEKVzAHPwo9o2bTOn6kw8hR2Xvsglz7N80+yKVpBIMWqFgg3z53QuJKqHJvFd3Jxna4HWboUqcbx6w2wLgLTc+Y0AHbabaIMIVG3Htj5MSYqndHDY4RdvSr2gaRl7J/E/AgMmSI+Zp4ti0ekUzzTeLYxjfHCwJDef17YCJaHzlB3P0xkA+s4ipfiLtB4vJ3x7wgCne5sG++8iA19uQb5/nFy6TxlAudd/cS4MuPPpEV7CB0KGf6RIJglLnM++g7eMCy22F0qRvABCZIwa2v7nWbl/1iJQkIACH5BAUKAAYALCIAIgB9AJUAAAj/AA0IHEiwoMGDCBMqXMiwoUOG1rRFNMDtocWLGDNq3Mixo8ePHr9w+SJGEUWQKFOqPGghwQYGAGoYsLaypk2PGNrVogBgxz9tN4MKfdiOFAAlOlQYADq0qdOCRncYaNHi59OrN7sZsPDPaI92U10sxUq2JlgDPgW6EJutrNuV7bbRpGr1rd2P2wy0XbFC792/CtUVPGtAHVOafP0CXryQ1MG5VZkynnwwLUGga8dS3kxQcEGamdtyHn0QKF3JpFP7ddFXtGqs5yyCZvtaNWYXdWuPNt1Cs27OkGcS/j0ZcWviwKdGRr65bWjmlGf7hg6Yd27qfzH3Ro3d7uzr3d86/6cd/u7e4+W9G0jsOj3GGjI6GlfsHiOMvtxlr0dfn+z4f+315xAMHkkXoIAMwdAbR9blh+BBDwhEYEfO8fdgggUa8NyFDi240W3gcYjQhBydR5+ICSnYEW/ToXiQihxBFqKLBKmYl0bBOUgjQyA4NN6JO9ZYFUIAiDHcY8r9Y82RQRoAo0L/KMSijihG6KRHFQLZpJMe4qghblRuudGPBzZJ4kagWSjmmRqZWGaQbGY035s7ThjmQnOKqdJ/dNIYJ0YG6jnQnxe5qaeVhFqUZZ8uJvpQoIIK1GVGIN6JoqMOpamlmZNiNGWkXMqXpKUi2oimci2C2uaXm8LZ6UXfkf/K4ZMafRoppg0tCiqtcn45o6qFssropRmy1mqdWO53rJ8ZsrerQLIi6SywJfo6bKnFkicorgwZemuyxl47a7bLUguRsM9SqOEKAO76qkW2bvvuo6OmG61BeZq76obyrujrvQjy6imqAAvI7UK63jpvpv/q6yW/eh6sUIXtfqvutNsmi3HEzarpsI/WplstxEEiqrHHnPrrwnIWx4jux7C+nLGorFXcL4MEu+vvaSKfujHMucoc8cINVSpQIAIFY8AbQZTjSTCyfDLJgwJfpF2LsJjDiRcimqwuyQYoPVAlpRJ97lohyiLQ1EAXRGZCdLA9q9l4asgyQbB4EYMBohD/e7HHk1gxghp9Y/v3plYY4IUokMxxxoUSJ5SvQGoLpAYjsvBhwONt8zkQLAYlwgckakAOrrayKD11IpX7YQAYVIOLctiEWME5glFWDW/DBtVyjEBzaA453QpJB1QmlUBS0BsGzCEQFAbIIszHbx+UiAGFvAG9FLHTzG6ZZPtJfELxFqS582XvfPdAavCBvt8u/yxQ9gNBYUbbq2nLkO2esFOf7vRCW35gd4Y6PO92BmBHwUYTOYQkDCGlM4ABDWiw051IeQNBoAEi2B8AMkyABEFE/TR4hjmQgh3T0Ff1CnK/gojwDLVYRzXc00Akoa1MiRPIFY4mkFp0cHwISWEKmFLQDgft0AAtbGEdkGGAKFGLJncAQBqKWJA6zOEKUIBdHf7wuPuhQ19QBAAXUkUQ2BWihQJxormiOEZteKaMBUGaATJREYfRQYwziY1F9NhBjuARI/3g4w83wgU1JuSIAwmHIR1WsEUOsiZ/QCIF8ScQmijkcX+oww7DR8mEiBCNnXxIIUJJylKa8iM1pGQqT8nKgqxyIQEBACH5BAUKAAYALBcADQCHALQAAAj/AA0IHEiwoMGDCBMO3NZNocOHECNKnEixYsKGFhFizMixo0eJiQz8M6DuI8FBJlOqXMmypcuXMDNuy5Ytps2bOHPqtAkjISolO4N+rEFwpIEeCIVMdIBMaFAHEDFsUEgKoSGnWFdujHguopisOrdhRWWAqIEvYHVaI5jmYKO0cFtqu6OQUDuKz+LqLZjkoYWIPV3s3evpKgaP/8gWRDlVoOAMXAbnvNvybjvKBduJlcw5pdHOoEOLHk26tOnTqFOrhth1tWsDGA6/Lk1XxuyWGW7rXqlDxW6On1lOwfzb4ladgotTBEXQd8aSDl0kVw4xuMAVK1Yask5d4XGB3GK2/+7ulzt5yZtV9hW49jzC9BbME5xucb0Ba8QduycY32GLFhYNR5A14823n0D9OYTdfRlt196BEaXnUoEQEoRBO8wJJGFB2cVEX3ftVNUDhQYtWJEi+SH0IXk7yMeeAf9VyFKCBqTIko0yGiBiN+G1hGI20FUY5EDMtagNS0QINJKLOda4l3TK4QhRhy9BeeRrNvYoEYBNmvQdRSmuJ2WOGRqg5URcGnAkIQa1ow2TCq2Y2oUD8ZhRjJkpNdCQFMl5WggmrWUiQgR2mdCGLJE4EZWu5ebSA0ZlV5OhlOqVggGTpgRVSjVBWelAghK0qUpQZqqabSYx6uSnB8ng3Eqjpv/kZ2mbovoRo7FWxKd+rA406Kqk6vZqRmvhaUCuFOGya68K3dVTRQ8OlKZTY8LlbERJUPYMd9MymxmYCnU725UGcbFDCRwsRVFTcc4alLIsAQpRqBmB8CVC1eoEp0Gu4pgAR/kiJEbANwFwkMEZudossBEhq9Ad0P11kLtBISxRrSmpSvBAXyXk6V5n7jStww7VcJWKFM/mgKIGCUolyRAty8Jey+ZUE64CPfuRuFjVnNWmOns0c1r7OgUzs6buaaGSDx2dUcoQujyQ0xZBLZqtB+3K8oJrUW0o1ip5PZHVnWGcqqgsfdyrxiup7dqwFhWbptjeTnTzt0HXXZkBeXP/NLTeBBFHLrODf0S3RGS7J/VAG8uo8M4Attd4hY/DCrhAYHPENqmJ7zdy2p2Tt/ixKkXb691T53x5S0BbNMlCqxd0eEFvILJf0h7NPtAUA5nDz0ahdze67gK9wcdABQY/WOYZcU365cwbvnr0FeGcdt2DEh8d9oxOLpAssXP4bUVnEBRy+M7ynBADlYSPkPYaXGGAH+B1h3tH2stvwPEGoOOY8sqhF+M+4r//1c1YDKOIOQzwCepULmzTy9j4guUtY2kvTtxL3UrURynrWSQTaqif+wTSOorwb4RoywgmzuAHWXDjXnq74BwCYYBgYENNBnAbpQT4vI4c4zM6rFT2/ywCi0BIgTpm29tEMNFAFenmgRz5HEUycQuBmMEA0iggr5g1xIn8wSDSCA4AqdNFlaiqUqgbIERoWBArQMIANxQIB5mVPof0QSDBQAT9GMiOa7SjWOE7nA9gMZBCnEEU/YBhDCfiA2kURBQD6dQYf8PDBHokiJRCoJRsZwDwieGI27sNFO+UQofcIhyiiEx0JvkzzGWsexA5BkFeJxBc9AMzmDSUFB9SRQOwKZSsag8sBzINh0DijQOh5eWOtEuHyEINJTCAJ8IVSNUppBJMiAETwJeQM9aNbkd8AycQwYcrhg93h/MCJD5BP3MahJW6GR4vC8JOP8xhYvDcTRkRAv8LWQqEEM4A5muoR5HNJUQawYCkP9uFJQOM0iKafEgtChJClB2wlAVRTEFqEcJCCOSIsGBXDvM5Gx46jB0IgeQbrFgQ07EqjQKplh758LryDeQKJ5Sj++qokJUawKMGsMJB/nY5sb2hED4tSCZEAjh0SoQP9xTIFcAQuIGQ9DWjs+RBKqoQZmyxVxaUiBrMUAh3noegHHFYP6Z5kDnUgaGzQeuiqkoQnxmgojHwWOyQFSQ/VGKpDkFFPwoXTIMgq2g+GIgajsEOr8Kobnkjzv0EQlWBQCEhslldCRUCSpsOZA7SQOkIveZWMPjgipgAw1vBcIs4jtYhiDDrFevwVsb/wa1u2WiN1/RXyIFgw3v7oYtATHVB98h1Xm2C3m0dQtiDBKyyUIACVbWIQjUWRJlfW+5HUuRIK/6hskobSHMrNd6YFkRCbzVr3YqWwr4ZgI11nZmygMSyoh6EnQRh4zmyUwvgumeyGFVSEwtSkgTwwk3tsKt9CZKp2r43hwzY02XUoWC9SSmq/kuAMCgnkfIa1iEVjTCDKGzciAD4ILlqjxWgYM5//aMm6jhHfWXkUofkqpgFifBd2CvKh9T4IfmhDJtcXBP/VtcAuDAyeRDlGYHM+MgDgUG3UDESJSsHSGkdiHOS82IeQ6jCFvHykWH25BytBcwUQTOUc2zdNU8EBiVurkhAAAAh+QQFCgAGACweABgAfQCoAAAI/wANCBxIsKDBgwgHZkvIsKHDhxAjSpxIsaLFixgzatzIsaPHjyBDihxJsqTJkyhTqlzJsqXLlzBjypxJs6bNmzhz6tzJs6fPnwR3pABKtKhNJv+SGF3KtKnTp1AnIo1asx3Vq1grniM4NSvMfwIVWfXqUizZs2gZgk2LUqmBtWxXdot70tA/a1vpmrQ6Vq/fv4Avwg1MuLDhw4gTK14sUAcMxpAjS55MeeKDyhllYN6MUjNniTJUfI4YejTE0qZTf9w2VzXDba4baot9sDRs2ghn497Nu7fv38CDC1fpeTjw4saTK1/OvLnzw6iF6wY+/Xf1k5XYXi/Jhw9wJgOlof/jxpvPm4Honqtfzz5tMOFWCKbn7SBTcBRSDOQROB93fgOICEQecAP25o8Bk7QX2TGZ8BGId3RF99ExCQInzXAWIOTLGQJhc9Z2Gpkx0C2fEHSediHVINAttxSkBooq1TGJLINhBeJGD2QyDkLifWhSHZhkR9eNGqEQiAG+GFAILAXxc441pvGAiUB/EHSGiLjdUocvTPaWHRQCVVKHAW/04+Fn43gh0IsH+WHANep8JotAvgR4kChmdkPkaIFgWeBnlbT42xzBBTKmQG8EYYAox3wii5CpYWkOJ2oC94kXFQ5UCztxYiVhSHMa50emBhCCmxcxiCFKbwlaAcIZqxL/utsn8S0KyRwc9saILN7lqtotsMhyIoJ+7VlRJsG8N5CyAdY6WiZJHnPMQJCAJ9AVb8ACJVm3dSTkhQUVYoAUL05jwEJU2dYRKYjA4mZBc7xBKJiyCOPjRv0dxAehvgpk7FL/VvRuQTyYIYWdu8kKRsL7KllQdvmOVsiwUGAp4HDmuoaraSsIVA4oCBXS72drQXqQD2l9ilFfiEyC8BUWnxGgGptmvBi6BvRV0MIDxWDAlLg5OxDCsV2BEJuqzXEFFDz/BqaSVQZ3Bs81qtb0cNZ0upsWV1xhDj9oqVxSXmx1W1LVZ5ntm9ohoY1WwBi5/TZJcs+t4N1456333ijBD813YNv+LbhkOvdWd2wBAQAh+QQFCgAGACwgAEEAewB6AAAI/wANCBxIsKDBgwgTKlzIsCHBGjIcSpxIsaLFiwNXYNzIsaPHjyBDirQIY6TJkyNboFzJcqKDljBjOiwps6bNmzhvasvJcyQMlT2DgvxpYJvQoxuJGkXK9OLOplCjSp1KtarVq1izat3KtavXr2DDih1LtqzZs2hr0kzLtq3BtW7jxl0qFybduiyf4t3Lt69Tv4ADCx4YcbBZboYTM9SruLHjx5AjS55MubLly5gza96clbHHYJUC8QnEuaC0SqURHhvsuaOG1AfPDPwEC/bAFwLHfSL4500mUegQ2w40B3U7zRQwmUsonPOfQr7eXEmtAZOBTAjPdcuG2QcigXVcyf8aeObYv9K+DMC6RbAcOs7Yp1+fY8DLunOXg70ROKeQQTMCcdONZeypF8gfAskCCR+2CZSFKAV98l5mn6RnAA/LEeSJZnU0SBAisgkkhhTP4AVUSCGGIwoXHg4kyhS7yUXUSQW2SBAkkOx1V0hqlPDGhni11tFuTMTAxHj7ySVkR5NIIRAniPABYFxLfgTJJ34YMKVmsMjyCYMCxciZL7CshpoBzgiUJRhUfoRIbQURYsVAUswhS4mWYSdQLceQMhCDUOxXYpWGoZJJJTkOdMwbavChRmbshMmHmC1+ZxAUc9qYaWpJCrSljaCGypkLoiY2Y6kXWYPqqqwGRihnr7YdKitkO85q66245qrrrrz26uuvwDpWa7CJcUdRQAAAIfkEBQoABgAsIABBAHsAegAACP8ADQgcSLCgwYMIEypcyLAhQR0wHEqcSLGixYsDU2DcyLGjx48gQ4q0KGOkyZMjVaBcyXLig5YwYzosKbOmzZs4b2bLyXOkDJU9g4L8aUCb0KMbiRpFyrSp06dQo0qdSrWq1atYs2rdyrWr169gw4odS7as2as0z6pdazAt27dvl8KFKXcuy5128+rdy7ev37+AAwseTLiw4cOIEytezLix48eQI0ue7BUvyGOZ+ATiQ5ngsUmdD0oDbPmjhdAGzQy89Qm1wBoCb90iiEmNH1ncurmeUwf0v8gPMo1LiK5zHUyVAknpjCKQAV8I+Z2z9pgHJoF/Ms0WaEZa8cmzfcH/Iijtt+RKBqAIrFTHwJt+2ByP8yJQjfOCVgReU9dYlkBfiPQhUDCI+OGaAT6MR5Ao/URWyXY+jLZgZHMcOFAg7Qn0RhDl2AVUSKoZYA4n9FlowCdegAYXUSf5ZyJBfqg4V10heRGDGKLkVdpHoFkBwhk5VgjXjh99kp8BokAyxxlDrsSILJwxKdktsMjyxkAySpZJMMEYoGKXBiBiwJGOZQJdQZAwMdAVb8BCXWPoCXRMLccMVIgBUqhhwDQGEEkYKYjAYuBAtagxxxtCOvZdJYhkeeCgBfEQooVgoJaoAVK+qOmmka3AaWAsfmqRn6KWaipbpHaW6qmsHkZjq7DGFSrrrLTWauutuOaqa16v7hrYmxMFBAAh+QQFCgAGACwgAEEAewB6AAAI/wANCBxIsKDBgwgTKlzIsCHBGjIcSpxIsaLFiwNXYNzIsaPHjyBDirQIY6TJkyNboFzJcqKDljBjOiwps6bNmzhvasvJcyQMlT2DgvxpYJvQoxuJGkXKtKnTp1CjSp1KtarVq1izat3KtavXr2DDih1LtqzZqzTPql1rMC3bt2+XwoUpdy7LnXbz6t3Lt6/fv4ADCx5MuLDhw4gTK17MuLHjx5AjS57sFS/IYJUC8QlEmaC0Sp0PHgNs+aOG0AbPDPwEC7XAFwLHfSL4500mUei4uQ40B3S7yBQwmUuom/KfQr7eXOmsAZOBTAjPdcv22AcigXVcyRp45tg/yr4MwP+6RbAcusnQlz+fY8DLunOOg70ROKeQQTMCuXVrTF58oD8CyQIJH64ZkIUoBX1yHmSfhGcAD8MR5ElkdRQ4ECKqCSSGFM/YBVRIGYYjChcWCiTKFLPBRdRJ/ZU4ECSQ5FVXSGqU8MaEdpX20WxMxMDEdvPBpeNHk0ghECeI8IHfW0OGBMknfhiwZGSwyPIJgQKlOJkvsIwGmgHOCBQlGJAh0lpBhFgxkBRzyNJhY9AJVMsxpAxEIBTzddjkYKhkUkmMAx3zhhp8qAEZO1nyoaWF1xkEhZolQtpZkAJN6eKlmELmQqaBrcipRdZ8Kuqoe+3ZmamkpnrYjKq26uqrsMYQKuustNZq660y4noYdRQFBAAh+QQFCgAGACwgAEEAewB6AAAI/wANCBxIsKDBgwgTKlzIsCFBHTAcSpxIsaLFiwNTYNzIsaPHjyBDirQoY6TJkyNVoFzJcuKDljBjOiwps6bNmzhvZsvJc6QMlT2DgvxpQJvQoxuJGkXKtKnTp1CjSp1KtarVq1izat3KtavXr2DDih1LtqzZqzTPql1rMC3bt2+XwoUpdy7LnXbz6t3Lt6/fv4ADCx5MuLDhw4gTK17MuLHjx5AjS57sFS/IY5n4BOJDmeCxSZ0PSgNs+aOF0AbNDLz1CbXAGgJv3SKISY0fWdy6uZ5TB/S/yA8yjUuIrnMdTJUCSemMIpABXwj5nbP2mAcmgX8yzRZoRlrxybN9wf8iKO235EoGoAisVMfAm37YHI/zIlCN84JWBF5T11iWQF+I9CFQMIj44ZoBPoxHkCj9RFbJdj6MtmBkcxw4UCDtCfRGEOXYBVRIqhlgDif0WWjAJ16ABhdRJ/lnIkF+qDhXXSF5EYMYouRV2kegWQHCGTlWCNeOH32SnwGiQDLHGUOuxIgsnDEp2S2wyPLGQDJKlkkwwRigYpcGIGLAkY5lAl1BkDAx0BVvwEJdY+gJdEwtxwxUiAFSqGHANAYQSRgpiMBi4EC1qDHHG0I69l0liGR54KAF8RCihWCglqgBUr6o6aaRrcBpYCx+apGfopZqKlukdpbqqaweRmOrsMYVKuustNZq66245qprXq/uGtibEwUEACH5BAUKAAYALCAAQQB7AHoAAAj/AA0IHEiwoMGDCBMqXMiwIcEaMhxKnEixosWLA1dg3Mixo8ePIEOKtAhjpMmTI1ugXMlyooOWMGM6LCmzps2bOG9qy8lzJAyVPYOC/Glgm9CjG4kaRcq0qdOnUKNKnUq1qtWrWLNq3cq1q9evYMOKHUu2rNmrNM+qXWswLdu3b5fChSl3LsuddvPq3cu3r9+/gAMLHky4sOHDiBMrXsy4sePHkCNLnuwVL8hglQLxCUSZoLRKnQ8eA2z5o4bQBs8M/AQLtcAXAsd9IvjnTSZR6Li5DjQHdLvIFDCZS6ib8p9Cvt5c6awBk4FMCM91y/bYByKBdVzJGnjm2D/KvgzA/7pFsBy6ydCXP59jwMu6c46DvRE4p5BBMwK5dWtMXnygPwLJAgkfrhmQhSgFfXIeZJ+EZwAPwxHkSWR1FDgQIqoJJIYUz9gFVEgZhiMKFxYKJMoUs8FF1En9lTgQJJDkVVdIapTwxoR2lfbRbEzEwMR288Gl40eTSCEQJ4jwgd9bQ4YEySd+GLBkZLDI8gmBAqU4mS+wjAaaAc4IFCUYkCHSWkGEWDGQFHPI0mFj0AlUyzGkDEQgFPN12ORgqGRSSYwDHfOGGnyoARk7WfKhpYXXGQSFmiVC2lmQAk3p4qWYQuZCpoGtyKlF1nwq6qh77dmZqaSmetiMqrbq6quwxhAq66y01mrrrTLiehh1FAUEACH5BAUKAAYALCAAQQB7AHoAAAj/AA0IHEiwoMGDCBMqXMiwIUEdMBxKnEixosWLA1Ng3Mixo8ePIEOKtChjpMmTI1WgXMly4oOWMGM6LCmzps2bOG9my8lzpAyVPYOC/GlAm9CjG4kaRcq0qdOnUKNKnUq1qtWrWLNq3cq1q9evYMOKHUu2rNmrNM+qXWswLdu3b5fChSl3LsuddvPq3cu3r9+/gAMLHky4sOHDiBMrXsy4sePHkCNLnuwVL8hjmfgE4kOZ4LFJnQ9KA2z5o4XQBs0MvPUJtcAaAm/dIohJjR9Z3Lq5nlMH9L/IDzKNS4iucx1MlQJJ6YwikAFfCPmds/aYByaBfzLNFmhGWvHJs33B/yIo7bfkSgagCKxUx8Cbftgcj/MiUI3zglYEXlPXWJZAX4j0IVAwiPjhmgE+jEeQKP1EVsl2Poy2YGRzHDhQIO0J9EYQ5dgFVEiqGWAOJ/RZaMAnXoAGF1En+WciQX6oOFddIXkRgxii5FXaR6BZAcIZOVYI144ffZKfAaJAMscZQ67EiCycMSnZLbDI8sZAMkqWSTDBGKBilwYgYsCRjmUCXUGQMDHQFW/AQl1j6Al0TC3HDFSIAVKoYcA0BhBJGCmIwGLgQLWoMccbQjr2XSWIZHngoAXxEKKFYKCWqAFSvqjpppGtwGlgLH5qkZ+ilmoqW6R2luqprB5GY6uwxhUq66y01mrrrbjmqmter+4a2JsTBQQAIfkEBQoABgAsIABBAHsAegAACP8ADQgcSLCgwYMIEypcyLAhwRoyHEqcSLGixYsDV2DcyLGjx48gQ4q0CGOkyZMjW6BcyXKig5YwYzosKbOmzZs4b2rLyXMkDJU9g4L8aWCb0KMbiRpFyrSp06dQo0qdSrWq1atYs2rdyrWr169gw4odS7as2as0z6pdazAt27dvl8KFKXcuy5128+rdy7ev37+AAwseTLiw4cOIEytezLix48eQI0ue7BUvyGCVAvEJRJmgtEqdDx4DbPmjhtAGzwz8BAu1wBcCx30i+OdNJlHouLkONAd0u8gUMJlLqJvyn0K+3lzprAGTgUwIz3XL9tgHIoF1XMkaeObYP8q+DMD/ukWwHLrJ0Jc/n2PAy7pzjoO9ETinkEEzArl1a0xefKA/AskCCR+uGZCFKAV9ch5kn4RnAA/DEeRJZHUUOBAiqgkkhhTP2AVUSBmGIwoXFgokyhSzwUXUSf2VOBAkkORVV0hqlPDGhHaV9tFsTMTAxHbzwaXjR5NIIRAniPCB31tDhgTJJ34YsGRksMjyCYECpTiZL7CMBpoBzggUJRiQIdJaQYRYMZAUc8jSYWPQCVTLMaQMRCAU83XY5GCoZFJJjAMd84YafKgBGTtZ8qGlhdcZBIWaJULaWZACTenipZhC5kKmga3IqUXWfCrqqHvt2ZmppKZ62Iyqturqq7DGECrrrLTWauutMuJ6GHUUBQQAIfkEBQoABgAsGwANAP4AtwAACP8ADQgcSLCgwYMIEypcyLChw4cQE3brRnBixIsYM2rcyLGjx48gLRqYSDFdOnXqRIJcybKly5cwV6Js186AunbbtnFTN7IbyphAgwodSlRjyn/acK2yhs2myqJQo0qd6pGmxX/JIkVKhi4lRapgw4odi/BcN63PsKEz+5Ws27dwY547Z0DYmkjssP2My7evX6N0Ud39t5Pn38OIE9v0ig4dNlKDDdCkqbiyZbeUDSQDtQYXNpKZL4seXXSiSWyCIxko/JS069csUaZsh+wuO27t0gncC7u374sz26Hkhk4rrmQoRfL+zbw5w8ZZI61aa9K59esK1TVGh2xpU8PYwzv/l31TOE1uE5P7BC++fe/l7uOHXw5fvv37+PPr38+/v///AAYo4IAEFmjggQgmqOCCDDbo4IMQRijhhBRWaOGFGGao4YYcdujhhyCGKOKIJJZo4okoBtWNTuj11FaKBnLzz4wzykgjjAf+08ggngxSyz+14ILMMzbhOKCMdDjwQBKg/ONJG4PgQtGLRvqXzT87PDCjNv+AMsg27FX5H5dEOIDLatzcMYg1/4gpIJdTMEDKjKCoOc1I131FpZsJcfkFA438I8wduAxC5J69dfPPinw6tM0/dzAwyD9toIIMIcgs6pyM1oDCZqMMcWkIA4SKIeggwrTZHJfTfOFJTaAu//QoKAykIUYttKHq3KPPBJGGqrEq9CgqFKRwR03TGIIKmMwJOgIMtSCTTZgH6gCDWIJakMJu1iiCSnNXMsFAEF8oYg21B24b1j/PYDCpNgIpkipzVwphAk6oTINusAOpk40hLyLjXL0mIIXKM8AmKANZ6iRswD/7ksamECUYjHCDKpDFTXtkFrxNvg4T+ECKBFscsoELl1iyNgdHzK98ZFb88TSaNpjNiCu3zKAMGZMY8z8zn1wgzwbAK+LPQSd0bYBEG03UT9xgg802UmPDzdXorefbz9yA/ODNQ03WDj80lm02rDTVV1nOFztoDaxDncNPMo0gQQUVY6xxl1arCP/D1WSwTXzvzHAz6HRQV/Mz9w8BFBCBByTQQAPed63Czm9Ie43gyASBLdREiq/CheMRREADDnbrrRQ7JMHGttAHHg7URHIns0occeARiSO7r7LOKslwhahomdP8NVSgN8bPdu3cRhw6/LSj9Wuv7xzVXu1EbTXWV4stUGiklfzxMy4LmDKJ1S94Ps7/2GtxxEsDuL6I4uv8Mn/pEzTj/fEJbnJB/0DGnPjXnvwJBEtfgN19OHciAz4MBgkc0PxCxLYwdckQCiRgb4pXM4EoqoPyM1H9yLezno2IgyUs2gn/QQSZae4g8ftP01bYQsK8kEGeA5EDNdg/FrrQeDy8Dwr/HZTDD+0wiOIZos3Y5z6WtW2J9Gufx+ynoJQV0UMVtJ4BrtihLCIkhv6xIhOnSEIkyueIZryO/5yYwTT+Bo1uBJcU/6c+Ec7RieWLY2+8WEU7NpGKBoFBC5hmwqP5EGg3RBDRfHbIpH3RfH4kYx71SL07Hgx2giRkiZRISetwckFc5BAcOwmbT5LyjZZ8osIEEsoN8TGQkNziGOnYR1lG8Y9lhGEsW6mhEU5SQLzMEBzB2B8x3rJgbEwQA1k5y2Se0jmmRFkk3/fMgaUSk7FE3xzHBz/zFTJE0SyI7PSzSBr+EJtMmyY3qylHXKJTft8EUTgLFM8PzRNAy1TZNVPI/8gaOpKdvhnmIOGpQkPWsGtA1GU6bUnBfS4kG8OzjzEbistfhpGZx6QmQAPqUIWGkKE67CgOm3lJBSVsnB26Z4FQyiGVEiiYGBrmLme5zkdqsp/n5Kc5EZnQVeqzohvlqDuV5s1NNjKRQR3NKJOamKXedKf/ZKpSRVoQYvJngiF1X009KsN6esilH9UmUOsIUiOm0qIAgumFZGqAO130pxVzplSnOlQHsXRDYJ0rX/IaoLtqaJ5W3c8MDVoxhL6zqwUF51F7qkiMUhSZgGxsWbF41uNlVK6wXKhY41pSBnk1pSycImP1qhinhpWkuSTt2qhKkMCS87MtPaRhVXsZvlHSdiyvvO1hcqtbv5i2t2KpF2dVCdy+8La4cPkZy0aL3LfUKwUzyhdamwuViT1gEIYABXOpOxYupaEEREgDKLbBXb98sGzl7QtPtEHeIiUkIAAAIfkEBQoABgAsGAANAAUBtwAACP8ADQgcSLCgwYMIEypcyLChw4cQGbZr140btovcMnbrFrGjx48gQ4ocSbKkyYLq1BnI+K/lPwMtu6k0sPGkzZs4c+rcGTKlwI3cWpJCgmRMpGmg2mETOJGn06dQo0rteG6bAVweIJDAQSMriX/YUtZs6HOq2bNo0ybMyO9cHBEQnKhTukortmTouGnbxm1iu4x/M6ZLl9JvO4Fl1SpezNhkzXMRGqxJxo8fOXZrRCRbdc7lP3ToYP7r3BK0S5ocG6tezdphTX7YGgWIcI3yOX7cVo1Zhe1ZGxo/UGG7HUlRMlSNIq18Ns0at8Sto0tnvbEytjQBSLRLdu7cSm4whUH/oOGEBAQq2AzRoEGl/ZhS2JDhSpaM8PT7+BWz5bfqhwIcyVilzn6r5CACHt2Qk9UqyVBBw2TJGLUKOtMgE5YBE0GX34Yc3kRgDgp8tU13bBkQRwM/OEJOO0BAMAY2VPwwzV2NTIYOP89g005KPHbo448k7ZdME9ndJRBb6jhxQYrkpOOECE3o9gMy9DXSyCptWYPNWEBKZ02XNk102zWyQcAbaHr9g4sTDZCgIj+ZUSEllcnUSJkBF4Gp554OdbdRd+eoE4ECUbbDT0trTOEGBA24gRsVIkTS4A/PVBkJlqgVtuNMfHbq6XdtySFCdqQ8E8kYOcQRYYjPIOMBDRdR/5GDMNjoduWNg32q664bpRPUNDhAAEEEHpDAYGXBehABEgw2ggMSVDiyRiNxRBLarth22tRA51iUjCOSgsaPaNg4sgo7Ft2VDDbsXMROMgbM5ReX2dbb4WAZbWPabdykxg867KDDV3eVAbpNrt8RpKG9DE/X3UQZ9YXYXBFPvNG2mjas8cYcd+zxxyCHLPLIJJds8skop6zyyiy37PLLHOqgAsw012yzx1O0Q8TNPPfs889ABy300B9NwSnRSHt0dNJMN+20SEfn/PTUCh1mgCEvUa01QVhv7fXXYGMYNsscZd3RzmKPfaRAVq3E1zYcVcQN3PZ28w831pj9kdVqJ/90t2d3ZxuUNYo8wzdEirSTzdJhE6JIG6AYMMggitDRyD/P3GHIHaDo7ak2/1jDhSKeP/RS6V63zQAAKgxiwBcOAGDCHf8IUwMAHWAN3qegT7PDFy31XZIOAAj0jAFCAIDMP9P8M8gKLbXtaTaYb9CDOs88g7rwEfUAACqnWwBAIwP+YwL4oHv6D+jWPBBC7YPkDdHh3AvExPgCfUEBAIO0xIUS69PVNkL3AA78AxVM6Fxq6vcRLvDPAKSoQRsA0IbamaB5C9zTP6zSPgOCwgSu2x0DPzLBNBhAB4nwBAC+0I4eiGGDvBPIAzZggEY44AsrGWFIBgGANIBCBu1oBAD/uICKFMBQIKA7GuOmkw2BOMCAKiRCAHUIEhVOYQeegCAAlNCD/mlDHQPEHEzCKD0OUaAENQSAEI5IRZAkwAFT+Ic6cMEABgCwiTB5BhO+MAVSMI8UwsBjfpBBgQQMIg0JCMIUfVYDGSimbW8cyDPqqD0BqaMDTPgHE/p3B1T8CAAYeAAAavAPQbYRJAww4eL+wQAuGKCJoJvCAzZIPUOkYXut+VIQOtASTCrulCHRxiD4MRN1DGIaM6HeDkzQkmwggxD9e+USW7NLmHRgZ6YEpk0GqAgQGEIRXAAFLu6ADGE8Y5qsqeY/OIBNbYKkjAag20CCQoo2DEIYMJHP8Tgk/4QOwIQDSWiHNnzmgC6FMXqiwSU1/fmPa74yaDD40Tb2oid1srOU7qRZP/8Z0IECLaLCs6gUs8kzGLRAeBtdZ0cTkkGWmRSlDAWoQBESPII4MmUvXcxSBHKRnvr0pxfZRk8j1q+WNuZLKZWpRwlit2ngQqEZNQjgpkpVeWlqW4wR6UOligtPQHWEOyWKWMdK1rJSYQxrSGsk1iqMc3EjHdHZZUsuag36CaQlIoyqQALA17769a9+FUABiEUCGkArrbg4lzo2Qi/FpNShSzWIUU9WUNUU4LKYzaxmNRuBCBT2WVRYw1rXcY0ercaiASXpzXKqGDm49rWwja1r8UBbR//gAVyraOs66HOt1iR1pXpdSGgARdziErcgoEkuwIQamoVlNabt/KhZuiOWgQD1utclKmA2hdWjGkCkGJVuSKG7VYOoQ7U45R540WsAZGyDUzdFGUjHpkvohpcg2bBKLa4RXJFpVbWY8wQ6+8uw/xZEGEQURjQJ/DEDI9EAKVDj49iIssrWz8HxNMAGVggD0sEzveP950gHYpVGpAAEXJgsgxv225nOc8Aqm2/Y6ivi+7LNKh9eGWvH1uLI9mzHYevxQ+J7MiB7DakxBe6KT4bhJZdMyE42GZSjTLIm//ikfZsylf1LXvbSTMZgo/E6Ryzevq2XJ5Mgsa7AHLYzO4T/yA55AyLqxeYjf9e+XhbJFAZiDn6oeMtpsfJJ3sAHbgE6nV0+NJdFXF5Fe0zQq1Uvnh0NMjfjRBYMq/PXLM0QGczsIWcgSF47ZeSvadkmDKiEvUrttVMrBM4M0cAVDOCHtX1K01oT80XzHJJZG6DQBugtpQOd6DezACTCJjWW1eZqm5jDAJ8YNmOaLe16QdpmrN4atauNrWvXDNdb4/RCYM2QTKjB1reWNKN5HRJgZwvcWhP3qzuCiTP4QRb9WnPfdE3mnMwhEAYIxk65fRZvG4TcDjnGV30Eb6oZPCSwCIQUsGVhdY+50SbBRLQJPu0ku9gmmbiFQMxgAGkkm08N/5+avEfyB4NIY+Ecv8nDbRrjfd+5xuwWCMIJAvCCWAESeNpVtrW27YRMIyF9EEgwEFFraLPjGu34kqeGTrWiF2TnBPEBLAZSiDOIoh9/7lLKm8ZvG5PEB9IoiChijpaZDwTrIKP61KzukXJ4Ihiy+ESa2X4Wuq+s4iG+eM5Dgot+2HVPcn+a3/kOJLfr/Ngd2bvQlx1m5Hncx/MGsZmLDRFtHP5jY3fayrFt8V0zPluON8DORQ760keXJJI/vVpSrxBpBKNjnwfb4hlSi2P0nmOJd9ruHVILNbyhEAKZOCyQIfunpJ7clUBE7A3whjcYgOQEkTqpbT76g8AdIVdw9/+aKR/ky+ME+WCwwqrJr3vzm6QQ1p9DqAeSCZjoO/CmNwkf5jCQK4CBILnXfCXxfCPBDLfGfqbmfidRCNgngFJBewTRD1l0EHNQBw44FRCIGAIxfQURA5mGgK2mgBDBKX5QCfUnEFAwfwZQBwA3B6jQD5h3gSRBgHeFEA1oAD5gAHP2btw3aW/GEP9XED2HLcHXNMPHEBNHgUToemYXEnUABj5wg6vGhIPnEL5WBxYog05BgzF4EGaAfQEodq6HcSTha1rofJyHE/3gHWeYE0fYEFAABWAQDid3gDDFUR93EzDXhh+xe9+nMA1ThEiDZHjYhd4XYyCobSJYEjA2dVTcaBNsqDGh1zTdpzR8CBU0KF9jWIUrk4hEt4iXuCEZqIn412+hyCHP92kDwYEdI4hJM3yfNhOqeIpQAWV24xDZkEG/RItbOGkDZE4KtQIDIYy4EHa8eBLrBTqgcEyM8wD0I4yepH3HuBNa1TyGkAS1sIfT+IBJBhN3EALkExHW0IjbOBIWtUZiwACuk2MJ8SXGWI4jIQQcABMbMAU89EKGeBCcCI8fEQQhIBAmsAEJADz7yI9PwQBTwASx80LSaJCqgQEZkAEccEsF6ZBTwY4WqRbbkA3a0JEYWRABAQAh+QQFCgAGACwfAA0AAQGyAAAI/wANCBxIsKDBgwgTKlzIsKHDhxAjSozIjVu3dOkmatzIsaPHjyBDimTYrZvAf//UnSvJ0uTIlzBjypx5sJ3NdudoClTHU51NA+qQRRqzih2/kjx1Kl3KtGlClx2TGjiXs6BUgSX5qVvz44ecc0ehAlXntKzZs2a3daOKdRs2bDYrVsQot1s7btvccjOwLVmjH3j+8avIEyNSdSXRKl7M2CPVfzsH/msnOSXKlNsuo+THzy9gzRlTNh5NunRDUu34ZWvUxMCYH60NDBo0ZhA2a4rGGMJmAFXXNo7Qdf6LBx0uXMj+cbPG27Tz56Q9NABioI0ABSQ8QAjQJBkQCApw2P/EoWDNKioicACJ4AFXMs94DOBa0whbN+bQ8+svizOCgkgGkKDAD47gIYIIjpzTRgBAoETFD+fgEl466DghAg2OtEMcZJGs8U836mzTDohk7WfiiSOdg0MDrdGggECOiOABHuoIo4AH7+WwRjJjNOAENvyskoMIxW24TSORYFORNiOi6OSTHeXUwA8GrCiMAY4MGZ86AuKxRg7vNeEjNuSs0oQITvxDnEBrRCLXXmJB+VE2cpbmBIsG0NDAKtvEOCM56jhxAQ4kDBJmeEAmc2Yc2BCXWocGVIQNT4nVaal+kDnUDhANCLSiAdisIqMj1ZCTZQARvOcXqpAl80MOjjT/+hk3SCbTzjbaTHbprrwK9AwEA+nZCJYiQBAHOQbwGAAOb4FFQgB3JLOGCOYlM4hXOXXoHjLN9eqtnOwR6FoEEZDgBA0elIvNOdggM6M6nHHjyA8QsOdEP+ysgQQSTuASaiSROMJOMt8W7GRVQAm0SrKqJrPKXUDhJ1Be3KwSCTrCJftWMuxggw471nDTDmJ2jVyiwSiTxs9AGQ20sgGc5YROSVSVZNM526DzD1gYU4UxTxXtXGnKREN3lQE2j0iiQBYJdNNdFpF4mFQ9nVz01VhnrfXWXHft9ddghy322GSXbfbZaKet9tpsO7VDCm3HLffcXTPxTxJ056333nz3/+3334BzZHfghFsFEWWFF87NP9s8k2nikCu0uDWJCPNhQQgbMHjkf6uTqzVTDPJ4Qpkqgjjnemc2TQ1cGHA5Q6ajrrfn/zyDwQ61Wy475+pk8481DoDwDy53JMfQ6LvH/fkDHPyDChGgID30QHi7nvzc/2hjgDXM/wMKCHd8GOdB41+PtjUCOdB8IwxwoZxChvyeuflp02nAAxsY4AkARDC+EGWno9/auJe//QnhfQIMHPCaZ0D/JZBwBQSAEPhSPsk8kG6gkCAFLwi4CB5QLRwMXANBGMKmbEMgueLLQHIVooGUyGqkCUIJXwJDgyCDLNozQHJQ4rraWQMy6oAM8v9Mk8MZKqUHSoDBIOSDxB0oYhs9qMEXlNAD0RlAEYnAhTqmYUSR6AAGTvrHBohggBK0zgJT+McXOiAGMTgABv+Ygg68ZwhFKOIfXOyi2BwgEC4SgQKua4MDkKEIBziuBml8xjPSYLki6lFszzCADGTgOg7AkQkd+EctNuAJ06EiDSHK4yO/1oHZ1GAQiuiAIXpggmn8IwRB+Ich2DiIbgijDbjgxQ9H2TWXfKENqIAMKL5AiB4OAheuG0T8XIcMVLiSlxp5gLdOWBAeBhGIPawhNCNCSTkVEVfUVCEKw9krbW5zbb+7UgW91s1zHkSToOgGOcUmAxW4syD3+ccgGoH/GLPV854G+YcY7rjOrv3TUt16i0IXytC3uOUtbwKRaZAhhi/sIHoFBehDNMPRjnI0KTyxydGcckJUlGADIyCFA89GQift66UwjWlMqUCFMayBPgDDxSqekQx0mNMsewFFShHIUigF4KhITapSlSqAenmABjhAAhXalCR0rCSjS8nVFzYQTKx2zZEoKoBYx0rWspKVXB4gAQ5wQNM2uQcdY2mM73awAd35057z3I8c9srXvvrVr3HYKx4cEYlV6HQdRbHP/BSzuA50gIte5RpYT0SVylo2J2w5CD8wxg50NI0sI1UMHhlggiFqtCENTW1q31SRp/2kMZnJ4Bzzetqx//muDQCw22RrKzbfEQEAacgeb8/muxIAABS3Gu7ZtOEAPv5UuV2rBSoAgDv7QXdsSUjDcYV73bG5cQcG2C09eZuEAHZ3bJCJLNfaqVHxnve98I2vfOdL3/ra9774/dpB8ytZ/m7Nvf4tGIDlWwmsDRi+fOBDgK/GhIFIw7MLNhgf3jAQuEb4whjOsIY3zOGYBKPD37ICQSwMYjk5IBMl5hUKpGCAPAiExClGEYsNgAimxfhSe7kxlPxhgEno+MeyO0Ym+BAIBWttv/A9ho+B/CRpMFlOFkCIL84gkG4Z7MAaNcNAbvEJglDYwPKtgUBucYuCqAHM/q3DJGRh2l5h+f+0D8jEOBDyYKK9ebh1wESBtXZngKIgEAbwhQEKAYuC8OMc6HtyY3iACYH8gSBn0LKin3OLOvii0JPOT4GhIJBK1MEAb+iHlTNdlnF4QSBnPogfDHCN55J6JrIQiC9qfBBRiLobfX61UgIh6Rzr2iyVKPOvnTOHYT8nEJ8WyBtkKIpjfEIWezZ2WSRtDk6cWtql+YQXljyQWrDD1VBCsnxjje3n+IHbBihmuc3ihRiIQRTrVoyPrQCCM8C72PE2yydEbABRQGIOVM73WRghCwUHXOA6uQUsZPHlHvf3vZkIxocHMvEa8xvhMcmEoI9xjIFAosECucIbYJFolNF2uHv/dnJBCmEAKZyZi9bl1T9PflpSIAIWqy7IHN5QbE7L4kopy/UjYWwQPhT74ChEmdC3mfOC8MAMUqA1xpmCbzBMfSlzMPqgC1Jgol9dJIVoOBQkbeOvm0WUZh8JwPe2Ag6WI3oHKQTS0/6RTEX7ID64mriHezpETELqVyD7GWqsBm+jvWwxT6B5B2L1gcTAAI2me0wuPhCpS34kV0BIqi8PkjlcAQqN5/xMOD3oR4ueJmdofJtPr5HQs54m1gD36yGihStcwRwvS9ne7bvYlNEcvqs32O9nz5HhXzf4Srcv8pNP3+UzX6POJz5EMoMLu0q/I7FtwzOvzxHfGSIIwTQ+VfcT8kM6dOCO4h//QX6YhgSEb+nqZz8AxMDdvcFfgQbQrhjCq/6JoE//v9M3JXdB/zd/7TCACHF/aRdJ+tcOidd/DEFG+WeACAiBD0GBFsgRFWgQAQEAIfkEBQoABgAsIAANAAYBsgAACP8ADQgcSLCgwYMIEypcyLChw4cQI0p8yE1gxYXduqlTx+3ixI8gQ4ocSbKkSZPt2hH8xy+lS5UGMgrcmPGfzXMZZZ7cybOnz59AEaY8h7ObQGFjcuD5d3BjSnUC/yVNhk1gxo1Bs2rdyrXrwI4GzgGBoMBJ1Y4biRLUdo6fARIKIq3i59ZoU6he8+rdyzWlQroGmpQVuA1bO26F0fHDluzLqmwGVkVChw1qx47p0qXUmPGlTr6gQ4u22hAvwzaDVxqwubiJiGQG3P5Th5ObTZsGKtpUh26079/AFxo62GQVO4FNGjhRN2hQI2zC7oypxQ9HAxFIGqFr1ARZMn7/Ig3/GrMGPGJkyLBhS2c6uPv3PAULcDgG9kAIECJVHaM82RgFECSTjHU0OIIDfjgAgYQAcSXzTyM0OBEHEmM4Yg0pkchlzUztwefhhxLB1ERD/5QiUG8GNJCDAdig5sRqHnhgTTt4NNCEI8nkIIIjTMG1Cjp45FAfOrg0sQZjGarXjjp+gejkkw41YB9CVRlEjiMpxpGMi2F5AEE7/+BxwQ+rOKKjI9W0Q4MCwnBDhQiRfGcAFWOskkyG/1TZJJR89lkQLgytctAPDRiwZVn/nOOlOv+4AQGZjoiwIz/dkJAfNkjA+Z06a1AhzJ24qEfbZ36WyqdHCwWwWmQpvsjfi4pC/2BAO3KM6cgqZ5Lzj6WRtIOEB3LRtUad6+DJTTvsdWjqsh+aaQAe5LhVUJUCuaUjHtxwGes5/8TRwA/JmCnCKuR0gwOb2KwhQnFujVEfqNhwAxWpzNbrXpgGXOAGP+QYdE1BVFxgAJZfKADEknD9gEQEAAKBqwIkFOdBA3Gu0oQHa3CDChKOsDNNhhzaK7KHOBBkmhwDnWMQO/8A4UEEEURiQBwiFBCBExBEmEwjMMdBBcw0xIGNNUjQQAUVcSaDSiSOPIMNOsqOLLWf8XJraDKrMPZPO1kLyA43lNlJGdYCbrM12eigw416X9tF79RwB2XXQIo9BFNuFdElrQHotP/DT9/bXKYYUXQR1c01abOjNjeZEUXT3HFHDqVas96dm1GQ55TTU+p0w41GJjMJE1aSl2766ainrvrqrLfu+uuwxy777LTXbvvtuOeuu3vd4Lb778DZpo0wTAFvPGjC34HLP5Af77xWZlvDxB3MP2+9Vtr880wKUxR//fc9/WP2NBbUoH0t4Kd/UvbWONDBP7ikQbz69IfEvgMc/INKD4p4X///D9GGAazxgPyBYgNt+AeqAMjAhAjQAAU0QCMSwIXcNPCCCYGMAfBnAE8AIAjiw6AID0LA/HlQCAps3ggx2D4OdPCD/3jgCmdoABd6MAgGkCENZ3jCEFpuhw3cwAv/hWCAbQBxhir5YBEXeEQM4rCJR9yGCqFIkid2xYijwaEOqcgso9hkilycmgW20jub3AEVvguKDIUYRrj9AxmAYoInDICMNkbOEI2IClBsowgMtCENirhDIuwYt38ogidGVFlB4McEHTABFFxhIyGD8kORMEWDaTSAOqxxByL0gAuDQEbUJtm6vRlABnfQ5BdSkIZ/jIAOITSbITrgiTSAwhCD8B8pG1IDGZhqBAwhAggMcAcuyMCXK2DCPzSoDiP+Qwn90+AuIbKC0pmgBwYQhjAeMAgDgDKEM9GkIpY3Tdw9wBAJvMMDtLeDbUQtk+VsCAwk145BUCAJYmgHKCxw/4cgpHKLT9oGFnPXApENQoV3OGhFQMGFPDIRI24DY1DMpkvZOWBqeyJISrZxDiyCs09mG8QUnlFR2c3TdDLchjYGqhDOdUQnGcXeP+4AgC/Es1Q2AYtXugGmBzjgGYCSaOwAKrsm2aYRkcjpsZa0kVGWxIiNAEAK2vGM3MGgoLnTHHhwIAKkJepzmaHkNLwJACV81HZXLeLv+HEOrnqABHVCxzl06pO57QAAhjhr7dLKUtRRSz2ABaw1hjY0dXCVBCSgQXZ+NNespIECZVXEWIUKO6Ky7jaYvY0BkAABxP4AB3TCRTIY9xLSmaQDAGDACJiAjJLeNCtIiK1sZ0tb2v+SIEYkUBgV1rCGSEwjXpUkiVFQAQBgbu21egmAcpfL3OY212aIVSydeusdw1H2I2IAABE3hNy8FOC74A2veMUbgc7mFrS9lQMyvpaOt5GkBwBIQw676xWUGUAO+M2vfveLXzwc6K26pQJS1aPJnhgxBACA5EPpmxWiOFgtKqNctbqRqegiYbcCQlFQGEBSBuslsCAOMTYChwPcGs1O7GiJRvBiWpKQwgAd8PCHUrJVEUQAB3FKcUx/sgMDSFPGvtGqYWkgF8V8zinB3YkYfAxk4Bg1HaJN8eeu4tSdeMK1Td7LZoySErV1IzOca3GWVce5lBzLIGIeM5krybmQbaX/r2qOM19OKuc629krdL6znvcMFDjz+XV+/nPrLCvoQhv60L8jNKIXzehGo86Xjo407RYs6SwrutKYzrSmN83pTnv606AOtahHTepSm/rUqE418C6t5mBUIhB8CISqQSSNSswaSseQHavHrIFbP+kMA/kELHztoRcIZByfIMgf3pAJUaiN2O8JxBxsnWRoc4UCmDBHQihtba/8oRC+eMMVuj0aDWDCAJlACE5+TO6t+AARAqmDK2QxkDMcA8vt1oovDACLWxCkHBrOt1fSPW50z8EAXliHIgWelWC8QSBzKIRBzGCR6zJ8JP7mdyD+IBBZQIIPFw9NFkRRkE8EPORA//nEvg3AA20TZI4oz0odYh4aRABbIGKQQlVTh1VB3zwcoqggzfkiiikkG3VpRXTGhx4aSEBidYHWsxpK8AaYp27XY042E2LABHo/HHVYH/MkpCAQTiCCDxQ/XdjjDIlP+MEAaWf6T2Ahi0+AXCBHlztQfAGLXNvaAM4QyNvBoHY+I2LYBSGEFQYihTnIYud6L0m6BVKLY7xYICCHwsOruvbIHwQVmajE0wdyjDeogQ9q8PxJjmMAu+dd9VqBt0GgsHjYa6X2tufJ1wUS99z7/vdydwHwh4/nnhM/ONw9vvKXz3zbdb75Cnk+9KeP6ioDOs69izr1GWIbXKDP4tsniHnZatla8Ic/h/8YxA5IUb3zN8Qa/2hDBvqnffcPBP5pAMAd1CF96OMfAGKgDtlgffa3IfmXTwNofwthgAC4TAq4gAZwgAP0gArBgEuWfBSIEAfYDhiYgQcBgBPogQvBgf9Tf03UgSK4QuyWgvSFgiz4gjAYEtWmEAEBACH5BAUKAAYALCAADgAMAa0AAAj/AA0IHEiwoMGDCBMqXMiwocOHECNKnChRHT+KGDNq3Mixo8ePIEOKHEmypMmTKD1260ZQnbp27VymnEmzps2bCWMawMaTWzd13bZxG4qNm0uXK2XiXMq0qdOF5/hx20bwn4FzAv+p+8f1nNdzK5+KHUt2I1aDpAxeNNgkB5JnApGNGbOqyY81/PgBVVq2r9+/HLG1GwQBB5ACIuQ4yhEAQgQPCgRESsYPLEvAmDOPVScQglUDF36sWnUQGTbQSAy0AxXAQztcBSCsMQCkAd283Xxe1sy7902rbiAYJPePBARc2JA0MLAqG78IChytgkBiW7s4F6isws3Nt/fvNLEP/8whsNo/GgpKGSChYA1pfiQCRJruwQA3J9lXkTs3NCz4/wBm9BlCIgik10Dn2WYAOe2wF4kjENT3Txy2raINP7kFqOFJnGE2GkFnqeZEAzQ4YsA/Hgg3XXXYYKcddzBtKOOMCKEz4EOLNYDDP4Yo4IQBuCgAAToGUNFAE81h2B2NTMr4I0Uk2PeMcRFEsAYzjjRRJQ5rVOkBED7x1eSY31EFUVECJSMQOu2cFslAySSzipxxYiPnUDH5R+aeTRJ50FDW/cPPaeigk1dlh+r1E1C78emoZl5JFKl9l7kUowErXXrpo5x26umnoIYq6qiklmrqqaimOpI227Sq6qv/cf/D1az/NArrrX9p888zd9yhCCnPdIjrsGT9Q9U0FCRAQQYpNPLPksRG2xRV1jzAgQGNdLCDJ/ZJ6+1v1D6wgQGeJMAFF4Z0++26NYlLLgBBGDCFIuqya69IHVrjwLWewMvVFIYYe+/AIlXLLwBC/KPrvPUS7DBFwhpwcLzaLBywmQ9nTNEDAvVLcVYAC6zxyBP1K4QB27AkK8PQkuyyQuOabOxlK9Pb8ss4K6QNQdv8EzLGOQdtEND2+Wyz0Egv1PPPSefciNI+X9z01AXV3DDVG3LDal9W34w1gLJy1U5ZNbfj9dfg8chFGtlE7NTSUqMNYG7/tMEABSfaylTXcvP/tvNBunYgwz/TkAW3yH1r5hNB3fwjTAJinHhjU3wn/hDeNTExyND/3JGAIoQMIqveN1VueV+k/LNBGwaAQpCuQgCgQxtJKFHrU6afrlAi3Kp20iDm7iBGBx3cXvQGDiBjgCItWDM5TrnrjtDYNKHiQgIOcGGAsI4D8AVXX+zwPE6HEy29U2KU4IAFOnhCva53AJD6PzVMMf5N5Z8v0jY76BDRIAwwxA7uoIMODCQb/9jBA7hCCg6AAhe4cBv+ooa4UukABmPiWEJSYJC/YeALBoALgijgAq5wIQXqEAMy7keT/KGKg6n6Rxpcxz1kJCANWxlEDcSgiAqSj4Lm019K/7LxEM54ghmc+QcpSCHBHzLtVDIA1SB6oJAgbmVAXMFJxf4mEBeeSgXf4gb1zEa6lHBlN9EDlQaFGJEUrCANA/JiqaIorUIN5SlJKIH8BCZHNvYFKGOpBQAA4LrupLFURBzWada0k+29pB2TSokSxEA9lAERVTIAo7Qa1IAfyGFsrYKJnlCSxYEcMlSZNAAXXxUWqyggAAX4QSRissiaKGxApwRVKlcJq2x0Az0FKAAsZSkrnkSSJEz4Ar0Ikks/PqUdOGhAMAsggGFGAhvGkpVqKhmSDmgPY310ZlmgM00BBNOakMQTNz0SgqyI0ZRGM5s4AWNOatqzngIQwA8ckf+XO45kGjdr5jyZUk57BjOfEaDLNpTUwksOtC/sOehBBWClVXBDKmcziUAfOhOZ/COa5aSoe9ohlXXOJJwcZYo6gEnNio6tKJuqCUpTWpOwjC0yFbVKUZrYEV4iZKY0tQk3SOCBNTjCKkKZVEwb+sSg2oQvjrPPOWB6lRAtBahO5ZBSsALJr3iVKVjNakm8MkqYuMQrYrJJWMUakrQ6clLHdGLc2DqstXKKjnQtiF3zKqqN3pWvenUoYF/lV0/5VKyF7dRhs5pYTiWSr3sdrKcaK9lHUbayfIosZh112c2OSbOeJRNoQ9uk0ZKWRqY9rYxSq1oNsba1AHotbMEj29n/eqe2tu0NbnOrmd3yFjO+/e1fOitc3xC3uLwJLnINJ9jlNum4zgUMdJv02Lz28RiZ4EMg+BDdWBmtYceYRHdd21xpmKq6dO2jBcYbIDmaYSC3+AR7b9tcA9RAILe4BUEwoQY/yGJx82VuUxcyhzqIl4UBlqsPDfCATIwjIX5KsFiwWgdMVCIQUpCwX8KJgkAYwBcIqYw1NOyUNPIAEwL5Qyb0KxAzSCPCJAZrfQmiX1/AgiDSQHCMUzLTShgACgKpRB0M8IZ+1HLHCsbYOLwgEDV4uCBWEMg1eIpklJhOFgLxBSL6IJBgIMIPVRZLLn1wY4KIoh9hvmp9K8FiH5jX/8xpVvOA5xDn4X4XWoEYskDeEIRyeEqTg83dew1gDk4wuc5PmeknvCDeuwIasIfEMqInPGOC+KHRig30nRHihRiIQRSfQi9bwyleK4DgDKCms2MHi9JPRNkAooDEHM6wasBilRGy4C6tJ63W5t4CFrJ4w0AwzeteNzUTwQiGARqtbAMgwgCvLjaPHZoJEBcEEkwYyBXeAIsRS1ujmw7yQI5Ri2MMpBAGkIIaDFA4UX/bI3wjBSJgAeaB1EINc3iDqt+NkvL5qRKIIDa/jT1XgdS7IDwY9MBL4lcwLPwkh9y3AXb98JIot+ITuTjGIzJdWK1Adxrf+ENC7ptUSrbjqYhyt9xILnKGsLzlCqnZs2B+EwQCrB1BJJXKg4rAQegAFToO1c5T6rw2UKDgND+J89IAgDYoLOkzWToAKDl0Ui32oSNmuhieDnWUZH3q7fB2103y9ciJfewkKXvY0Y4SrRvg7GwvydbhHneS/MMaVq172vOu9777/e+AD7zgUXX1wRt+LHQXa0AAACH5BAUKAAYALCAADQANAa4AAAj/AA0IHEiwoMGDCBMqXMiwocOHECNKnEgxXTqKGDNq3Mixo8ePIEOKHEmypMmTKDE+S5aypcuXMGPKnEmzps2bDv/h3Mmzp8+fQIMKtYluqNGjSJMqXcpUqTp1TaNKPdluqtWrRxssxFaQXzesYMN2xCG2rEydUbk91Gq2rduQF34YIPe2rl2C2yK2U3u3r9lVfgMLHky4sOHDiBMrXsy4sePHkCNLnsxRm2XKmDNrpjxoUC20m0O/fMAAwBQD1kSrRqnTgel/2lbLJgkKABMQSWDP3o0RdMEeBjAo0c27uMcMSgxkM848Y2rkxJtLh7gcufLp2B3Gtr48u3eCQfAa/4Ae+7v5gnnJn18vsHry7uzNbx9ePv73+dftf3efX3/2+dH5N1169AmYHYH/WFOVgVGJYYBvNuEHH4NMOfAVTwjWR+FSKQjEz04SbtjUF2hdGOF4BYqokAU/pZGGhjUBCKOKRskgRgkj7JQhjQgZ0ohAENIkjAFtAPCMASbOJCOPBwW5Uw8OnIMTfxMyaRQFKxgA1YncWdkRPz3UsNAdW0rkCQCGJKKIky+FmFgNMpTlwEJTlBkREQ5wYwIqN7mZWJabpWFBDWK0MyNMfnr5E3yKrJkXl+8pBoNmW35owKM2UblYC5nx9RVffaIY4GBzKjpRooZNilk3Sc5EhAkGKP8ykKam8nSOlDjxaYAh/+S1JGOHKgYqQe0s+JJOJA6EamEwcDoZmwIVS9OOiTV7aa0MUYuYtZg+ZuxP2mKrVDutorSsuEIN+9JzwymI7lACGBAATb++i1SwJp1rr2P17vuTTthwY2dLtPp71K0u6WuwTN/GiGJ/C/P7cJURL6ZwxYZdjDFhBW+sWMceI6ZxX6puDHLIGYuKb2AlYzwyyneFm1i3BsuMGM3+2nzYyuK+DHNd/f5MWNBCC+Zz0WYRjXRfJy9919FOgwV11FdNTfVUVl8dVdZaM9V012V9DXZYXI+NlNhmX4V22lhPzHZbOr9tVdxyS1V23T/djXdPSu//3VTfhfGM7bLBVBIIH4H4fa/KBUlTieJLgXzMzi67XZAGkCuF6hkDfQJL5kMt+4JA43xC0B9vZCIKOuqCHtPRgczxeMOuv255QRRgYk5Crdf+0tp/FOLLG1f4PuXtBGmAiQGZIHRONxQbj5LOPiAiUB2uyDLQGcdAK71JaPtiACy3EFROUd/DJHbzxTM/hwFerINr+gkjH8wbAs1RiEFmCMRNufQrSbjKN75A/EEgsoAEHwI4E7oZIAuiKMgn0MfAlCzrE+IzAA92RxBPVLB+XSJIHT4IIsYNBBGcE4gYpHCkuzircuohSArDIQoukFBJyCuIKKZgOrtYa2N9I+AN/2WyNkhAwi842xfd1FCCN3iwL4Kr1blMx4QYMEF7+LNLFE2lr0lIQSCcQAQf+gc0GEZKIZD4hB8MQMYhngRVsJDFJxYokB66MSUd8wUsJvc4AzhDIGsEwx3BdztEfK4ghLDCQKQwB1m0cJAgCVfzBFKLY5BiIAuEAv6OtEVIaseEqMhEJY44kGO8QQ18UIMnS6IpdtSRD3ZcpQVzaADrGQQKipRlSBxIkFzqMpImNEgWBdLGX35Eb8bECDKTORFeisYFDFobM0WyTKv80Iyjmk1qKCTNaYKkmt50SF42kJxOhnMj0wgOERLUGHMyKTVpAMAdDODOMlYsnoWq5zkzUiuofR5rm45J4r4A6s+CGvSgCE2oQhfK0IY6VDq0e6hEJ/pBgVL0okTcWEAAACH5BAUKAAYALCAAFAD/AKcAAAj/AA0IHEiwoMGDCBMqXMiwocOHECNKnEgxIrZzFTNq3Mixo8ePIEFWC0mypMmTKFNqHKmypcuXMGNC5Cezps2bOEUa4Jazp0+I6n4KHUq0qNGjSJMqXcq0qdOnUKNKnUq1qtWrWLNq3cq1q9evYMOKHUu2rNmzaNOqXcu2rdu3cOPKnUu3rt27ePPq3cu3r9+/gAMLHky4sOHDiBMrXsy4sePHkCNLnky5suXLmDNrLkths+fPYBN5EtgONN7SplOrTrtth46FdP6tdqgDxtYHC5nInt0wBe/fwIvKCE5XBXG3uI/PHa68ufOX2Z6rlWFc+nTj2vyitkzdQHbr4MmW/wiPdgT58+jTq1/Pvr17htHfy59Pv779+/jzq2Suv79n/v4FqNl3AkJFYIFOxYfgggw26OCDEEYo4YQUVmjhhRhmqOGGHHbo4YcghijiiCSWaCJBCjp3TCZ8BMLHiSUdMwmMKEmzVorNWUDjSWYMdMsnO4ZUg0C33EIQJmr4IQs33QT50Rx1zLibkxI9kMk4CaFDpUZ1YFJJIFJsmREKgRjgC0L8nGONmA/xgIlAf2RipEBmSKMlmxIZ6QssBEkzJZ4OVWIAFAJVUocBb/SDDaALjeOFQGqUWZAVAl0TFKMIySKQL4j0IVAwiPiBKUU+8EmQKP2MulAlc/pg46mqKuM0R6wUBXKoQG8EUc5Y1UnXowHmcPIorRJ94sWMYXVHnqbEVuQHsmIdKJ0XMYghClk4NjejFSCcce2sYWXb3CeUGiAKJHOcES56jMjyorrNHnQLLLK8MRC08RqUSTDBGIBsvwYgYkC5+RqQyZkFQcLEQFe8Acua+Qoq0DG1HDNQIQZIoYYB0xggLqCkIAKLqAPVosYcb4Bb8J2VIIJvwQuRXBAPv8K8EBg2H6SyAfDm7PPPn60AdLzKDh3Sx0YnrTTQSDO99NNQLyRt1FRXbfXVWGet9dZcd+311xtODTaxEK8WEAAh+QQFCgAGACwgABkA/wCiAAAI/wANCBxIsKDBgwgTKlzIsKHDhxAH/otIsaLFixgzatzIsaPHjyBDihxJsqTJkyhTqlzJsqXLlzBjypxJs6bNmzhz6tzJs6fPn0CDCh1KtKjRo0iTKl3KtKnTp1CjSp1KtarVq1izat3KtavXr2DDih1LtqzZs2jTql3Ltq3bt3Djyp1Lt67du3jz6t3Lt6/fv4ADCx5MuLBhlRYOK17M1lAjgRMZz40subJluvx61Fh4R91ljDVkPHWwcIrnzxdXoF7NOiqM1nBbwFZLevbb17Zz6xaqbbdZGLJ9/5a9TThZ4AaKG19udgTzsSGeS59Ovbr169izN+2tvbv37+DDi/8fT/53+fPScaNfv1w5+6Xu3yflLr++/fv48+vfz7+///8ABijggAQWaOCBCCao4IIMNujggxA6SJ90wVQSCB+BRJiSNJVoyNIxX034nAYernTGQJ/AUuJJLwg0zicE/fFGJqKgw82KJQUyR4ft4NgRBZiYk9CNPn70RyG+vHFFkR9pgIkBmSB0TjfZMImRD4gIVIcrsgx0xjGUWZmRLwbAcgtB5aAjpkZRLgnlHAZ4sc45a1IUzBsCzVGIQWYIxE03dUJ0ZpmB/CGQLJDwEWhHWYhS0CdqLhrRJ2QawIOQBHkiaUR1bNoRIicKJIYUz1wVHHWhhiMKF55yJMoUMFbKhRx2g7baESSQYBUfdWqU8IamV4n4HIxMxMBEl3hWJexzk0ghECeI8NEnVctOB8knfhgwra0NwSLLJ4oKFCu3DvkCC4gdGuCMQNmCQa5CiKhYECFWDCTFHLKU+q5BUQpUyzGkDKQoFHiWWq2nqGRSSa4DHfOGGnyosS9C7IjLx7gTR5SlQVDUm3FEHn+sULICbSvyySg/50LKLBswa8skWQPzzDTXXNHBNONs8848K7Rrz0AHLfTQRBdt9NFIJ6300jP/zPTJVeYWEAAh+QQFCgAGACwgABkA/wCiAAAI/wANCBxIsKDBgwgTKlzIsKHDhxAHqotIsaLFixgzatzIsaPHjyBDihxJsqTJkyhTqlzJsqXLlzBjypxJs6bNmzhz6tzJs6fPn0CDCh1KtKjRo0iTKl3KtKnTp1CjSp1KtarVq1izat3KtavXr2DDih1LtqzZs2jTql3Ltq3bt3Djyp1Lt67du3jz6t3Lt6/fv4ADCx5MuLBhlRQOK17MNpEnge0Y040subLlutt26FhI599ljDpgPH2wkInnzxdToF7NOqqM1nBVwFZLevbb17Zz6xaabbdZGbJ9/5atTThZ4AaKG19utgTzsSOeS59Ovbr169izN+2tvbv37+DDi/8fT/53+fPScaNfv1w5+6Xu3yflLr++/fv48+vfz7+///8ABijggAQWaOCBCCao4IIMNujggxA6SJ90x2TCRyB8RJjSMZNoyJI0X034nAUermTGQLd8UuJJNQh0yy0EYaKGH7Jw082KJc1RR4en4bjRA5mMkxA6PoJUByaVBCJFkR+hEIgBviDEzznWMIkRD5gI9EcmMApkhjREWrkRjL7AQpA0PYp5USUGQCFQJXUY8EY/2KhJ0TheCKTGkwVZIdA1E9n5kCwC+YJIHwIFg4gfgnbkg5kEidJPoxRV0qUPIEZKaURzbNpRIHEK9EYQ5VwVHHUnGmAOJ3l6utEnXnTOWBVy2BHqqkd+yGpVfNR5EYMYomAl4nMdWgHCGcF2WtWwz33ipwGiQDLHGctqx4gsGVJ7q0O3wCLLGwPpum1DmQQTjAGynmsAIgY8Oy5CmURZECRMDHTFG7BU+a5BbAp0TC3HDFSIAVKoYcA0BjDrKimIwMLoQLWoMccbyu5rUJiVICKuxRA9XBAPqXIMERgiM1SxAdqWrPLK0q3A8ssG0AozSQrPbPPNOC9U88075+zzzwrxCvTQRBdt9NFIJ6300kw37bTNQj+tsr62BQQAIfkEBQoABgAsIAAZAP8AogAACP8ADQgcSLCgwYMIEypcyLChw4cQB/6LSLGixYsYM2rcyLGjx48gQ4ocSbKkyZMoU6pcybKly5cwY8qcSbOmzZs4c+rcybOnz59AgwodSrSo0aNIkypdyrSp06dQo0qdSrWq1atYs2rdyrWr169gw4odS7as2bNo06pdy7at27dw48qdS7eu3bt48+rdy7ev37+AAwseTLiwYZUWDitezNZQI4ETGc+NLLmyZbr8etRYeEfdZYw1ZDx1sHCK588XV6BezToqjNZwW8BWS3r229e2c+sWqm23WRiyff+WvU04WeAGihtfbnYE87EhnkufTr269evYszftrb279+/gw4v/H0/+d/nz0nGjX79cOful7t8n5S6/vv37+PPr38+/v///AAYo4IAEFmjggQgmqOCCDDbo4IMQOkifdMFUEggfgUSYkjSVaMjSMV9N+JwGHq50xkCfwFLiSS8INM4nBP3xRiaioMPNiiUFMkeH7eDYEQWYmJPQjT5+9EchvrxxRZEfaYCJAZkgdE432TCJkQ+ICFSHK7IMdMYxlFmZkS8GwHILQeWgI6ZGUS4J5RwGeLHOOWtSFMwbAs1RiEFmCMRNN3VCdGaZgfwhkCyQ8BFoR1mIUtAnai4a0SdkGsCDkAR5ImlEdWzaESInCiSGFM9cFRx1oYYjCheeciTKFDBWyoUcdoO22hEkkGAVH3VqlPCGpleJ+ByMTMTARJd4ViXsc5NIIRAniPDRJ1XLTgfJJ34YMK2tDcEiyyeKChQrtw75AguIHRrgjEDZgkGuQoioWBAhVgwkxRyylPquQVEKVMsxpAykKBR4llqtp6hkUkmuAx3zhhp8qLEvQuyIy8e4E0eUpUFQ1JtxRB5/rFCyAm0r8skoP+dCyiwbMGvLJFkD88w011zRwTTjbPPOPCu0a89ABy300EQXbfTRSCet9NIz/8z0yVXmFhAAIfkEBQoABgAsGwBBAPYAfQAACP8ADQgcSLCgwYMIEypcyLBhQh0wHEqcSLGixYsYM2rcyHFhio4gQ4ocSbKkyZMoU6pcyRKljJYwY8qcmVIFzZs4c+o0+GCnz59AY74MSvSktqJIkyqVuG2pzGxOo1Y8KjWlDJtVszZsqtXkVQNUu4oluC3iWJFfw54Vy3XtSKhus3aIa9JaO7pS5+IdqXZvyAICABfgyCHJXb8XexKEi3gk4I4diPxrzLEv5YlxDGQ2qfeyRsaeHapT1+6wQtMWO4emOHQ1RwElLbtO2Hr2xQaDY9tuWHv3T21mfSPsLbzhKgPoTMouzrwiuudGm0tPuny6dZmqrSu+TjM7d+LcVXr/D0++5Xjr4MtzVm/gK/uU56enfa+ybPj59FG2JQ86P8nq/gWI0X4CFpgRgdz1Z2BlCzZIUXzXKehgRRBaJ+GEE1XI3FAXYuiQhsVx6CFGnQWHnkAdjqjiihgByKKDLr64YIwyFkijbenVyNCNOvZ4WY4+FlRiC99hFaRCIArn3pEJlXgfkwslCSV5QxY55UIIXplflhZqeRCPXk7HZZjlgbmaiGQOBNyTBqQIpZmhoRmmk9+hmKaUxbnpI53XyeklnqttZ2eahAo4ZoiFEgRnorOtWSejYJkon5GFtrWoX0tWKql0QGp5KaSN8YkepXO+R+qf5AlaKKCzZVoqqOwB0UdknzZ9uqJ9j+p5ZFjZdCPfoITaipifZAoLq1+O9gksqvTpqiOroU2m5p35GesgtLY5W6Oov7bJ6KbNuZrmoUqeSia5vnV6pbXH0pXsqJCi226j80qHbZzmXnlvvXhxy2mi/oab75T7/shvt9r2yK5fCevo6DQnQrrwwV1NjJfFC8pLMWUa+4ZxgAFvWCu1AoErMlgkl0esvuytTHB+DbMYMqISlzewlh1vjCx56k75sc5LyWolozkDvVbBRmuFdNJVLc10VE4/vVTUUifVWUAAACH5BAUKAAYALBsADQAPAbcAAAj/AA0IHEiwoMGDCBMqXMiwocOHEBOqUxexosWLGDNq3Mixo0eO7dopPHfuo8mSJlOqXMmyZUGSLmMehCmzps2bMbt1o2iQBMaQIScKDKkT4kSaCrtxCylwIlOcUKNKjUjxgsB/WIUh5GaQm1eE28KmU9fNYVkDXBOK7FYyrYF26b4OxKZTp1ORU/PqdelWAR4D5Axkw3vQ7duB7c4OJXjOMMExDQo6TlgSW8Fu6ApP3ssZ4rPOD6sZSCcQZWHTBS0T1GZgkKJk/xbyfKg14eeDikHr3q3SMmGEHhJyi21gzaqCCnAly1hqOUIjBgqQgDAwGT/e2LNHjMwQG0UBqAYi/2nIrTbqgsQJckeoVc5BbMevErxe+rz2+9oD4EiWOenB3wRhk4wIcSikWlMEyWGVQcRFkh5BAkTinAEP0offhRgqYEAy2ADIUG0DkUOce901wR1PsclBXUGBCaScARqWBuMaiLGImIcYHmRNjjXlZgA7PjK0zUuPXSOQhgD+00aMECmwCjs0MElQfANdMN51ZaVDGo9c4iTUQPxQFIB8lBmEjAGriBAiQdYIWBCV7UBWUH8GNGHQWbjglQNw/3C1IGP2dSmoTfz81dCZJLTjFjaOGACBHC2+hBqNaBrABZkHNaqQlAb0FwE5mTVgp2iDlsrlgQLRQBBxIrjxT0k+Av+BzmYF+bTjVgU1QuV7pvbaWVrnUESnQBMSxOFVli31Hz8WIvQMN+jgVeyGwxFm2a3GEkTRU7522xJXOHban2NIjbstYZNZiJQB5/QpEK0vDTnSOTpx6+29HH3pn0BFvYVXvwDPVpC9dgmsqEH6NlRvYt2EtC6+EEcs8cQUV2zxxRhnrPHGHHfs8ccgh7ybvCKXbPLJKGvHGkEJmKSDCinHzNLKDshsc7cdKHHRFO0QcfPPH7WzMoMZAG20XudkY8A0Rzed3QZORz1V0ksftM3QEE0hsNRcS6S0ATV7tHXXZCcENSgGCIFW2WzHFMTaDgnMc9t0E8S0QI2AJJAhD9b/HfXQUJvEt99l30344RjZ54lJ4SIuc98f+XyY4xWlBW/FHLDUOOUpGy6Q2hwp0k42Y3Mus+cDYY1RbJCb7vrrHIE+UCIqiBRor6gLRDLsNgVJ0O4Xtw7R5rwfdKl22BZfMS4GJG+SMKgQr/zFgxykureZ573q9DYtzv33/6D9u9Ub3X7T299L9U8tFm2zgw4L0SF8QmG7VHrZNcgA2gMG8JMeM+1AjdpKMLmIMGF+CFlB+iZ2u0v5TiAgakcJgiCw+zXkQV9A4AJzRJz0iISACpkCwhBUkSHlznwbjFjmDJACgYBAIIlQCPAEcr0UcgxehHiIBQfSL93VyIYMqV+3/7BSkBmmDjQr5BwMfhYSr2zjchv5GhA5RpaY1JBuSwTagch1DntdRIqHg0ELjCaSGAULG9zQUkeu2DYxNm09aCHOAyPCRh0hRH8ocyPQtmQQVGmkjlP0mByaJb2CJJGOgZyYAAhSyIGoTSSHhMgcE9klARTAkhDCSAeIoEE2HU2IhDPiQjiQhEZyTY8ycw+JGILChESSkhQjScIUspRWHuSVYTwaHwuwvYFMZIcKASPhssi1TkZEmH4jZtsedsyEJMEAX2gIHk+mzJ8xD4oZQSYsKeawlmhzm2X7JjijhkuEABJloNxgOZNpw3WOU2ruxGI7XYfK9MWzjWME4jmlmf+yem5wn+80mjgD6jSAEvRmBj2ozAZaNn9y754KvRlEGzpP01XzexNtySQGIspBXfShH5nmQ96AiIl9NKIcEaFAzMGPSaJ0NwxdyRv4MBBbvhQ0Mb1pynKq05PxVGon/d5Pe7pAWVQsqMXLqDRh9pAzEASbXHLo9JSaEgZUgmJSVR5VFyLShmjgCgbww7vwhVTebfUjYDUATTtFVOycNSEyYAFGhtWtrHIvoSYxhwE+0Vb84LWvHRuq0+w6vb8CdmOCbVpZlZfYg3S1IZlQw1jJGsjGcmStElvs6956x4pg4gx+kAU3XBrVik5lDoEwQDD8eFi9cNaxGDmGMXmkWdf/vVYjsAiEFCKWztZCBBN89e19DJuRTNxCIGYwgDTo6qvaws6yF/mDQaQxW+HWBLoEeWzInPs67A5EuwVJbUGsAAkDsLZXhFUecRGSu4H0QSDBQIRY98qOa7TDeaZKb/HWm92G+AAWAynEGUTRD9KWdorehYgPpFEQUVi3M7ctCHg/pl/bRqUcngiGLD6x0QdzJsIy6609OYOLfpgSQxU2HYg9DLEEGyCuFukwxFL8Ov5+t5+V/Yg2TmzSHDuOu65zMYu75eIJH5djQHbcih0i4yHrZskLkUYwNMZjzkF5IbU4RpYzRmPKXbkhtVDDGwohkN3C4kxOhgqUtVsJRDTZ/wBveIMBkutJbyU5oBNWyBUwS9Z82tDGFSEzGKyAVT+nENAOKYSc5+DUgWSCQpRFcE34MIeBXAEMjEyzVIq8EWbcq8umQ/RDCkFnTXNGyATph/cMMoc6mNq1K+HJmwsSg6MaGqOxHogfKvFogUCh0QaoQ2rngIp+iPrVowzpQIRXagP4wAAlzaxpOZJngWA6vCa9NUhvstuDVHrGyBZIHcDgg2Zj1ccySWsdXB3uTWskg3gEqBnoXGX83JlyqG5IWts9FeyO7iL9sCm/dfwTvEIBCmAIB3M/re30HRsi1R34Rl4LoGoXBJjNbbhWlZ1HjSf1IvX2JcbuTbizhlxGI2iftkNObgCMS1wla8axpBlyX6l5vLA0f7mvGBpxaqJb5xQbKE9lwFSTgZpzDwc6EheSdKXfZJ3/dnqpvmwQ/Eo9JuXM99Vxgkutb/3p6Pm62Kf4wqqP3VdpYPnZ9xK4td+r524/tUkCAgAh+QQFCgAGACwfABgACQGkAAAI/wANCBxIsKDBgwgFZkvIsKHDhxAjSpxIsaLFixgzatzIsaPHjyBDihxJsqTJkyhTqlzJsqXLlzBjypxJs6bNmzhz6tzJs6fPn0CDCh1KtKjRo0iTKl3KtKnTp1CjSp1KtarVq1izao26I8XWr2DDiiXK5F+SsWjTql3Ltq3bt3BfWsNYNq5dnO3u6vXIYa9foOcI1v1LeOU/gYryFl5sMjHjxwbnQp48slHGw5QXKxa4AeNZA5gzF942sDPHbqIJk+5o6J+1wKkJS96Yd3NsyNxu62ZoeqC23cAh2n4YOrhfT8aTK19+sDNygsOZS5+eWQh15aRhM9YB47r37+DDi/8Hunq8efAPzt+Wob69e7Ds3z+WoUI+Y/r2F+PPz78/022o+bdXeQLe9VuBceFHIIJwHcjggxBGKOGEFFZo4YUYZqjhhk7Fx+GHICLkYYgklmjiiSimqOKKLLZ43X4uQuVgjEzNSKNSNpJYCVU5gsgHHzcuxcRA0qCTW5BF8fHGQOgg6eSTUEYpJYPBTFmUFQQ1aaVPDmSypVAoSGFAHgJp+aVOYhqAiEBHnulTm27q5I8Bk8Rp51/HZMJHIEBaBWOGx9R5507SDNqTBQj5coZA2ETV44RmDHTLJwQtyeOGNQh0yy0FqXEpinVMIktxTT1K4QOZjINQkY6SWAcmO1r/ZeqEKARigC8GFAJLQfycM5uhKvGAiUB/EHRGpMDKdEsdvuyaLE07QiFQJXUY8EY/jT6L0jheCOTpQX4YcI062p4ki0C+rHmQKNh2M2u5JgWCLJzwklQJp/XGNEe+MgVSrUBvBGGAKMd8Ikus/JaErDmcdJvwS594IehAtbBDblN/bnjuwzL5MbEBhHB8khcxiCGKyCnVaQUIZ5y8L8omfYLlwJDMsSjMJzEiC5A34/zRLbDIYimdWL3LYCbBVDmQ0mvO7PNGmeB6zDEDQTKkQFe8AcuvTS1IYayFFlSIAVJ4Oo0BCy2l4IWkIAJLuAXN8ca+0soiTKsVmnkQH/v2yyyQ0UMBziDcBfFghhTqPi3Sy2AoHtIcfOda0I56O45RIUNDgSyblp90duca2fzXCuOVAwpChfgNOkWYIXyQD1NlLOFmiEyS+BWbn7GmGhV/rlba4kUnUOMDxWDAsKtv5PRAiSeP0RUIfet8RXNcAQXx03ckba7FZu/RGcST6r1E2I/vkTUXm38Q1wZpccUV5vAjlewhajeV1xyKHxX+6lPE/3ttqIj+pCK4CA2QgCA6IAILBLz+OfCBEIygBCdYwAlasCLsQ1AFIxgQACH5BAUKAAYALCAALAA8AY8AAAj/AA0IHEiwoMGDCBMqXMiwocOHECNKnEixosVpFjNq3Mixo8ePIEOKHEmypMmTKFOqXGlgA8uXMGPKnEmzps2bOHPq3Mmzp8+fQIMKHUq0qNGjSJPqVMe0qVOmAttJbcc0Xbqn6pRq3coVYVYD3RR2U9ctbNezaJWSRVfuGTum584JLIvOWrly3NCVTcu3r0+rBq6tq2Vu3TV1U9sJZDdN2jp06PxKnnzTard/5oId80fVamJu7cpJa6e3m1SolFOrHrnXgNzM48zx4zaXtgFu3Mqt21Y6LuDVwINb9EzVALpnwTIfY6eXabt+yHRLKweZmzV21iBXTSe8u3eGlrux/5PmOPM6dnStOe4neh2/uv0gQ279vb79gVavGVh3rB87/oVdIx5565xzjWjosPNMP+qcww1390VoH1PXYBbMOtKYc8wx5oDVz3TsYNONbu+hg1tekUmo4nfdnJMch+aMw2FWg63DoAEIQnadfCv2qJpVZLFTzoXMQZacNaGRxw5oumXTz5PtpPNgWb/5aCVXzrVjGjvHOKYfNxaW8x+B6LQzHXzW/HNbOqd9deWbSVHJJjbmyOKYlu1wo+Ex5z2jIXvkPVlOfPLRZ18NMsDZ1XZMCTlObLIZ1485lJrTzzYYOraOmAleig5WEa6g6FlOnSYQYlpG9c8/6aDDzz9UXf9mGqxSnermqLgKhVqVBqCGG1nqqDkQVrX2emt9MKyoTWpZoqYQasUS5KyELeTqV2vYmjWXWYaq6IC14EqYbLjklmvuuUMti+66aMFQLbvwduWuAdvEa29S89Z771BSWgWZVQAHfJU6Ujr1prr77pSlrVqaFus1VIE6UFltTpvwxR2dZuaGGkrTJXkgi1YOMussaI2n3MiF8cog5WfAOLKM48s4tzwajIyUwgjypk/286DFLAdNUVMGaDhOODlTmiHI0zk26JM7pij01BrFlRU325zzzzmzvbeqQP/AFVdZZGtL9dkO/SalQQEXC+SxaMftELSKGVssakDLrffefPf/7fffgAcu+OCEF2744YgXNG7ijDfu+EKLPy755I/rS3nill9+OMKad+7556Dvy3nopJdu+un3JYr66qyXZFvrsK80euy012777bjnrvvuvPfu++/ABy/88MQXb/zxyCdv3+zKQxRMJYHwEUjzuUpTCfXhHlMf89gzpEH31p4x0CewgK/oCwKN8wlBf7yRiSgmmv9mIHNcX7f89lGASYcIvY5/hH8ohC/ecIX/qUgDmDBAJhByjm5kw4De8QEiBFIHV8hiIGc4hrAgWB9fGAAWtyAIdThYnwUWUIFzMIAXCkRC4ATjDQKZQyEMYgaBcMNsLZRMCD8YiD8IRBaQ4EMO/yOUBVEU5BNSG2JqPuFBA/CAfwPxhBJXU4cpRggR4hOIGKTwDNW8y4oCyWI4RMEFMNpHFFNYH2XmZUaC7LCN9oEEJFaTOTOqoQRvkKJquJfD9TEhBky4IAwpw8ccTkIKAuEEIvhQw8kUUomQ+IQfDNBIOPoFFrL4hBAFokZLSsYXsNDe9QzgDIFMEgyOtCIiylcQQlhhIFKYgyy66MmuLFAgtTgGKQYiRCjAsIuPrOVPUJGJSsxxIMd4gxr4oAZhnoUdnORDJ52ZmgkaBAqvpGZqsqnNtAxSIJXspjjHSc59uaCc6KQaG9PZI2uw853wjKc8ZTfPrQSznvjMp/LqOCi5e+rznwANqEAHStCCGvSgCE2oQhfK0Ibejp9xc6dDbSLR0j3QgAEBACH5BAUKAAYALCAAIACZAaEAAAj/AA0IHEiwoMGDCBMqXMiwocOHECNKnEixosWLGDNq3Iixm8duHEOKHEmypMmTKFOqXDnwn0uXLGPKnEmzps2bOAty+2dAGC5hyJ61y0m0qNGjSJOidDlIzB06aUDxVEq1qtWrWG12c3mnzbZpg6L+45a1rNmzaNMqVPfvThoD2to0UuSp3Ta1ePPq3Vtz6782b7WlMWSA7j+QfBMrXsxYot82Yv4JTmTgH10DiBtr3syZ7+MvksUMOmy50eHOqFOrruo3zRe4ol3uNJx5te3buFe6TMPlX7Yvg9QJ3Ga57t3cyJMrv+hXTO9tXIJjxlx8+vLrZa1hZ+nSebdsXO5M/21Jd+j28+iXb2P7Zco/a+GFFyxuPr39ohzuj9z5r73kKW2MN9BWl9Wm34EI5uUXF1MYYA2ALhk4m2lkJWjhhWaxxQUTvjERYELFCYjhiCQWtSATcDGRBk8GCkSgJ9aVKOOMM7nEBRHtWKPEiguVJiKNQB6VDjfcpCOQOkgmiRk66KRj5EBIDskkk0R2o0477SSppTpSTrllN1OiUySSRDK5pZISsTUFEf9Mk0QaWfZoWJB0GuXkOS5d46RBbLXDzFBcCuSkXy+9xA2SBjlZKExcpkPoS4EuKl9F/K3pIBFvxXjQbDBWWOenMw16zTrBHLPONe108ySS/ZByyinsrP8zFJggrSPKLbj6IkowzBxmpXxOXvOPNKL4gust5bBzzTXoSHOsL56sA5csuSLDzqF7RuTXFEG8J0Rkmh70YriglosSk9cY4E8groyTDLNTomrOLbnQs4608AqEjjD2XFLMPfZQcog+/8CLJZMGtLPOMcWMcso+1rSDMDP6HHKJPeX0g80142BCiT7WjMUNlhGN/A8TPbQZBGgGeJrQhGOZK/NJSKLbzj6HHLKPAddw0+SQPv+jiy73bmwAk8p2ow8lvvjDjjS55GLOqd347CST2PwTzSHj+LMsOspi408mOqOTjDrb9CNKJutgg42Zkza03sk9GDBNDyw/FOLMfJP/5GSw3QyjSyz3cHNNzei4pI3QRLfdjsntXIPN0u0mg40uTPtjNIs8pbt1MF6/jc6y/riis+E825qJ1/li1uKmLinRwznW4O2iQ+O+3vfuEmEpqgHSnLJ04+kKO04mp0RTTOPSTDLMKbCYk0w7lI+DTTLFUNK15Ot88uot0mut/TrawCv52Kdj0801/cjCttvpoIOo3GwlsUObO/QWEXGKmHYc7wCsCLpGlYnVBewWXksGO2rxsXG4IhbFuNfQxqGPS0QDS0tr2jomwQp7neocmNDHPpZ2D2wY4HOsQ5fYMHG6a6xPbav7Gjoe4hci7MBu+WMRRF50mgD6UCIIw0bH/6RhgH384RTuSoY/MIEJ62GjGMXwhzkG1g9mHCIaLqlYMewBQX1Yb1Sy+MM+kIGKWMRCGuzY2jjM4TYVjo0S+zDc+lSXwhk2hD9CqEGbdKA/3SUkdz8M5EMQZgB9/GEct9CHLnRmOZz5YhwGuBzRpFGOcvjCFZSwRyQrFg19ZE8apxpVJf4VjWjc4x5oRKHk3Gi6fWxsju4L3dEaUsP7PaMGXACJH//oo10K8pcG2NM1TjGMU95DF6Owx1Aq1rR0DW0d/RhHIDpJCSwWMnMVQ2IylMhEJ7rEhGokn+g2hr59jG597FibLO2oEJBwgwglUAQpdNAgctEyRL4EZiDnGP8MJHKjG+woRzFi8Yx/4KxdbhuaOcxBiXugox9XzCIlXOEPf0ziYgUrJzeSQapUHgJ0MhSFNNBHsGURsJmtU8jiBtGBHeigBEr4EUT4Zxx92nQgKlwHIprGM1Tdg2nrGMcfdBFHSfrDFzrjhzCqma6KUVRZAw0GO9AhilEUAxnokOY60si1U2GDHcFYHVgv4dB/ZE2o2+sZOxOyuDvo8R9T+II6tGER+tzUpoi7HjPZaNJ+/UEf65DFKHKhD1ewghWd9NcwhhG1TIwjGpR42DZxVs1nYMMeo4DgwNTBC11cQni+gMUwMuc2zDr2GKJo6D/68ZEnqbQtb50CF9BW1/L/YEcHMLirSs5xDibNURr2sEc0zMm+YwAsuKDUxzD+dY9oTE25w9VHdAF2SjQuLLhNM4cvikGPrmk3uOAF770k993l2WONbpOYll7rVpfIlrZy28b/BGJX7KRAtylBEm/1hY52/INkCfPvVMYylJcYQB3dwBNPBBxg/0oMTOyY6rUcbJcJ/zdM/r0SlqwkMQPwA1X1kRts3Tvb+SJkbjAhSH3x60P9ngNLCJbvXUASY/leg7dE4q9vq/YR3nrkSOqgEjf4EcxtPM5FPZMxN2R8JY/4Vj5jihtD2hrb2dK1R88YxCBqMR6a2uU6MkCPiRmDJd6a+RxAFgiACeJigngE/8ZxW++BpXyQ+REEwPOzc0OoTGL4gugZXKDDIKbAi/qseDkqYHFN1jyQDSPG0Yw2yI/FVZtJf+QjLkLMpClCnPbC9Tl/3EkbpvCMLzCBFDEjkGnyuZkHKDqQfP70P8as4mkwQQzq0DKRyVMX7IT51bbR0qSL5CQ9YyTWsp11QoiDiiSIxyVxOzSwp42SYrPlaOhg9UxHLGta09cyQoBR1QgCM5ctJxvUTo1vR/UJWUijHaJDEpbmHWKIIBvUCAFKG4jgiWcgwyB7A3Oi063u0RHQqrJYBzpE52Ntn5jbyTY3dabxhQ3d+guEcXN1HL4ZGST6ygTfTE4rETVWFCPhC/8npEU6XeWYiYsbyJCtNrSxE40XSOBwCXlJEAc2HYfp50APutCD3o/RnWMdmWBF1HJh8oSfoxvbYMc56OyQnXg64gjZCi6I8CERAVLnfNtvMNOBKsm57exoT7va1872tm+THXmImhlLfnKFi84jxl7IvSXzcE8EwRBfLoiXvQ32T6HrH74IBCZOwcTGO/7xkI+85CfPxFct3YyxoHvCj9Pfei+E5SQ+MuzuIARUS7zche8bwrqBTGC4/vWwj73sZ0/72sc+85nPBe6jlkxo4t21Ir46viX9DzEoQRg9tLknkp96cx1eH5hYrPSnT/3qW//62Kf+QOW++3rtwxxEClT/RPbu7blOYQrrQYi0m28uI3VDYhSm97zVLP/6S+SbX4277nPvfX9EUuX7A3G9IXHUIQyYYk9fx36fUmYvJjFiQiQQGIESOIEUWIEVOEBIJ3dR013+wA3Y4DN55xB7B3IEQRyg0AOEEHiC5yOEp4AlIna8JW9ZgiZ5diY2eIM3eDCjgw3rQHIbuA9Ogw3bID9oIhGg120HsVI9sHzeFnAu+IQIgTjLgnQdBITw5jORNhHkxyfEIQZEgAwyRV+2BYVkeBA59QlAuDFMAmdZaG8CqGwqZg3CwQT6AyJjWIZ4aBAzBIHpEIIVcYTJ9j/E4QlEcAfP0AOGEIZi2Gt52Ig6/wF8HDGCA0EcXFADiTAISZANijh4jtiJJ7GFw/EPhiAEaTAFqOBnB7F+nriKGiGJKoYLigCGDOEjrFiLkfiGJsYPDDaLd6gcv2aL6QGKgucQqgiMxvgQgDh8EoF6y/GLx4gdyQiHFOGEz1iNwddyBIg7G3ceJGiNuBGN2XhPN7cd3eiNtmF12FgRCXgd6GaOueGKE8GJ7jiPJfiG4cgQ60iP7hiNLbgQqsZ8+miOwjgRxRiQzwiO6riNBumO8GiELLiQ+4iLtbV8EMmQElkRBVmRtTiQ99eLGnmM/DiRnveRttiQAVge/UiSjciREZGRKumIJtmS/aOILwmTFzmNHv9Zk6vIkhDhkjpZhjGJjA/5k6zIk3ozJ0TJighJEfmYlHm4lBPRlE5ZhiGJkTk5lUD5huUolCiJlY4IlY6hkF6Jh1UZlb10Hu04lmdhlMSYk8eQCXwQCHygloUHltoilgZwDJNAl+wXlA4hjwJBRMmRlnyJFWzZEOtnAYWZeofJi4w4EGYwELfwCYtJcI0pJ485EDUgELhCEJigBn4gC/9UmTdVlgR5lQgxB3WwlzRJmgDklyLWlQXxAI6VEGvlmoJ0mQrhknWACZUQCFKAm7oFm4g5kweBAoFgAL6AEPxAO8IpSHa5Q/hkEDyACQLxB5lwC5ApDbf5nAGkm3aYmQb/oZ2hRRDS0JreKTPE+Xn04W2VYABQIBCVUAcG8AYak56BZJodmZnj4AUCoQbJWRBWIBCHg58+FJ00JJayIBC+gAh9IBDBgAh+YKDAhKDaOI4H4QOwUBCi0A8UeqA3eZriaQCVoJ0G4AOCORCi8KE+tJ4KAZgGMAcsil8WKo7iNhCBQJ8C8QZBUA6qMXAzihP6KZ0YagCRaQDmwAn+GaS5qZW1ZRoJ8QlesJeo4XFMKqT2mJC0cRALeqVNKnx8x2ntqRB+QKWpsZVemhLoSGIuZ5ZFShBeEANisKKqQZhpuhLgqX5XuZdWAAJnsKIyihp2eqcpkaepiJqfMKAGIAqQ/zAHZyCohBoThgpwqDkQjCALc/mokWouLrpsYyqZsCALbzAQZrqpnBqi+xlimRAMwWAAVNqqBoAIBqCoplonnRqe9ZEJy1kQkIAiAnEFbwAL2lGrQDKkCTqTmfGeAnEMtXAMA1EIBiAFamA3BjCoxHohNYqP00kKiAALEzoQtaAGc/AGgXqtdHKrBzF4dlQJiFCq5mouxnqUI/qtBcEDR/quNJKt/oiXCQEG+Bok+tpO/CoQ5WoAmvqvNDKp81GpCAsq6GoQMNqwMhOwvPSmQbICEksQD0upI5qxDuukVgmlOOexG0GxWTeddWKtDbuxGvupJFsu8coQxCEMbYAK6P/5siVisgWxFcjQBlLBcThrIQo7s1ExkucWtBYxqTMrBqBgtEeLtBTxsEvbsVAbJHk6s1/QCFRXtVYLsjL7D8LABTCCIGiaesOaIGuKhAyxE2GrCL7CtfCapQvBtlPgtkALtxYSswKxE7hQtwCJt3WStlj3Mv/Qt4pgT4ALsHILcMSBC0xAGHebuAlilI2rBIkgjZL7sWBKa4uDC0kwGpk7MzG5OLVABKAbuuoZomhTuKaLiqj7KaZJHLUQBMERua+LINF4ZXP1D7MrHil5uyUCiouDCj0gHsAruk46vDvgu8crM4I7gMy2vGNhu2R7u9EYMqigA+Ixms17qmD6D6hdUAN34Lqgcrave2/dQAo1QAcq2L3e+1ZM8AXC4AIB8rvuKyNttQP+xQVBoAMrUrb327V3UAJ3cAdBAAJtMFcBzDc70Qg7sAM9ULzqwL0LPDOLcrMVDCRVE4EhERAAACH5BAUKAAYALCAAIACaAaEAAAj/AA0IHEiwoMGDCBMqXMiwocOHECNKnEixosWLGDNq3Hix2zZu3LZ140iypMmTKFOqXMmypUsD3P4VHPmyps2bOHPq3MnzoKFBhhSh+setp9GjSJMqXZpS3TaBIAA4YACghwFrTLNq3cq1686nBjo4eIbrAYAg7bB6Xcu2rdu3CbXJFPvvGYMdKWr8ywa3r9+/gHWCFWsAGQMT//Ia0Ba4sePHkCkOdtDOcAqZJvQyjsy5s2fHRcNStrzYQObSn1OrXq11cmEGKdqlNV3jKuvbuHPbnKyOtIFtfDPv1U28uHGM/yZXhi2wKGPhm49LXzttusvNYtXZNWHAqcDgevla/x9PXvrc0Yf/ef9Oe3j590g3wDep3DB3mASxClc7v7//wJP9Y58B7YQ20HO1Rfffggx6tc15y90HVn602dbghRgqFRphA+JnEIL/KJjhiCTW5FqHExYEngHilejiiyg9KFqE/5yToooV8gfjjjxaFKB9Mhl4EIgi9mjkkQqdCFs7HsbVXpFIRkncH6wYII1JEHbYkH61WcOklGBu9aUB48iUkSsCtXNNN9dsdF5vS/7W0IothmnnReqogw46KLV5iUBtDjQmQ5kQRNNGYtHY5EJc/qPjnZBClE46LeliUZuYDBToQP5ccw2f55zjkFyiaXdYdxDRGemqEHVzaEv9cP8zKKCEGrSORRs68Bp3Zj7EpYWsBpsUNhO16cohAhGrkVjdWMakkA0RKey0OsWiUaEwKVtRaCFQ8Fpsi45aIZTUlquUOdoSREm2Ba1DLKUNJVcCAHcYwly44p5Grrn8lrROJUjxJQYAFJgFwkg3PgSee/02TNK6yQ7EDTsDlQNtQv1IfBFfXHhrQAo7zEbRwnU6bHJJh9zDzEAQGwBvywYloxHHHqcgQ4gVkTxdDTKcHFkwBtFzE83qfByeQ9lko6DO063g8018IhR1QRcj9CWf6IzEpJnb7Dl1mga82utEHD8gUF4MxzX2QI0++rTDeUJ0zqYDuSrqngSFuo2ocp7/RLTRaQ9pAC497HBH30wfBwN5+6YWKkRxTxT5S2WffXRCT9VyWA0AJCJn29a18HZnsgnkqundlI4SYx0zqdi+7TyVAgCoOACAGKUhiBpxuo4e5t+KlWyQMAlYcM4ONUxTNIvtCa/b4r4jCXxtzrM3CADQG9Br4tF33xbrFLie4EJTAMAFUQrq3nhu63vP2uQRTb+7QaTUMjsXtdQyqKrSwSC6+9JRHUXAJ775EUQYHaBAAgBggQf0gCgHetJ0/Nc3AJaIgEarINWsgQoGOAAZz3iUtPonuoRZ8EIYVIwJ8dMIANzHIKA7oQyXIr/q8eULACCCowzCvRn6kCdY4YLZ/zLopYNgpQcAaIMGBfIrt/3wiQjJRSxyYYApWssAwBBIxgZogNZlEEpa6wAAQIEv9UHxjAnRhRQFIkUqCmQc42jH6SRSQ4T8YxoMYACpeNg8NPqxIJWokkHg+I9AzREiKRyfQYoCCgCAAF+lgc4fJ5mQOGakjh8yQBuqog7n8Y+SoCSkAb6Wsy5SoGivOwhfiHA7AzIxR6D0ox+oCMeSYHIgD2LMvEixRPYIp3qxBOCm4oiNWWFEfkV6hkwc4DGE9DCYJ+RT6rDxqo0gM4JtSAARagEAJjDPiO1xIjTHGT9TorI2BGFMCAAwBSEk4BkKeSY554k0c2awRaxLgAwcMP+IduwrhvQMaD2FaLlvEkQRYtBf4z4p0IYm5JYCkZErcfTLCTr0OJW7p0G2oY0VEkSeF71oIieaL0UqLqTFgWhEmojSlgpkpO1zkiTH41GXQgZ8Ba3pQkZoHZ3atDEj9WlCADqdmP70L/KzCEiPOk6YVoSoTKWnU7mor6g2VKWp6qNVA8q6IaaSqprZakCxqrAKAVOskySrQ1iKVnJmNHilrGhbx6nWOWl1rsGsK0Ogite02lMxSr1rXympV0aFc7CxLGw8zYpYUF5zZIJtLBoV+9DIShaKlHUmLC/rx7dSL66f5SwacfrFivBUtE+c6kROi1ofZhac+2ktZrvo1dD/ks2ysrUgab+6Wgnm1oeqlYgZx2PU3+7ksbeVK0GCUYlA8CEQxn1bcCPCWmkALLq+ey0fY0uQYxinuNgd2l9NSkfLaiC8o9MuRS83kDMM5BOwQK/JPGvQ8ip3IC944ycI8oc3ZEIU6KiafMGkXgpxtyGBmAPAjDng39G2oGddiDwpgAlzJETADY5SgQeyVIH8oRC+eMMVMiws+kZ4sadxngYyhS2DnKMbJybxi3ZLXuqO6yA+QIRA6uAKWbT3GGuTsYbHW99y3tcgvjAALG5BkHKQUsjSI3KMNXtggxRqxAbIxBwM4IV18A3KUkKuRIgajDcIZA6FMIgZmlNNMPco/6im9a1AmKzkQPxBILKABB/cDCk4gxVnCcmCKAryiSfzmUcbfmWVBfKJJBuABxYmiCcOHeYHaxSyR64DpadFY5JGS84GQIR7BSIGKcBTNf/btE2mi0hQG2DU4RAFF1R9p0QzL8UJEcUU9psaCtK6Jqx+yHANQudfO7hj5yxyVo9sEEhAgjVCNXZG/DwRvg5EDSV4w6RXA15plxLZpcU0ewmyXybEgAk+NnNquu3t24Kbt/YdN0EmIQWBcAIRfFjzZ9jd7nK+u8bL1os4BwKJT/jBAPrut4uSCtrAwUIWn9gzoxWOaEvDVdxp8wUsvHtdZwjk4GCgeIlsnThExLcghP+wwkCkMAdZnFrkDQp2SefX4locg5cC2TMUzAxPfsOcfaYsoM8jqUhUZKISzx7IMd6gBj6o4eckInkfKWaAiPMa6juyNV91bBAoqBzrKAx6uHs7U4Z8HewxN2VO41z2gqhbIAlHO4PEbGSByz3K/94Ybu/uIpl/etEwcoHcpc5svi/c4raNt7Kfl2rDc9GL8LZxVXk0cJHbujopgMEOHZ91xC9+SwZQhPk8zfmwd6yg/MaK6InQy9KPqMCqz2Fy3jN0w9N9r6GXfe07s/u7M9xXuddh711vncyqI/bCJ36PMot8QM8n2qMb/rrFHnmEIL/1yr8g9QEOw+D/ps3Z1z7A5LlPodV/P/xv3j7pmy8S9Kd//CSdzeqTA373R13K1ve+/Y9kYnCaX/r7Nx1YdX0AGIDSoVLNV4AGeBzBxX71t4Cvh38GcA7XB4H8J4EEaIFGUkcZqIE98hTwtw3XB30ZQoJyN1LT0A7mZ4Ie+B9JNX8KOB5T5nhvpXkw2IJ4d0qm0QOokEOkh4P3xwUWUDQ6gAEMEARAWGlcYD5cgAEAoARBloQ78hSDYAFWaAFTEIVSKCUsuIUNsg1gCIYlERAAACH5BAUKAAYALCAAIQCUAZ0AAAj/AA0IHEiwoMGDCBMqXMiwocOHECNKnEixosWLGDNq3GixG8ePIEOKHEmypMmTKFOqXMmypcuXMGPKNHhups2bOHPq3Mmzp8+fQIMKHUq0qNGjSJMqXcq0qVOL7Z5KnUq1qsNnBkxY3cq1a9N/XsOKHTvURFSyaNOqZWkCrEBra+MihSsXJrKBNevq3cv3Yd6+gHtyCEy4sOHDId0iXsy4sePHkCNLnky5suXLmDNr3sy581BQnkOLHk26tOnTqFOrXs26td52Z13Lng2yH+3buHPrpgrb4Dptu4MLH078J7riyMmqS75QBwzmQu/ZM4DMdkZ/xVNAB3rcQLvuBNkJ/wTPUN25buf+XqSwHOK27fAhckuX3rxB4AbVmT/HzeNM9XLJ0Nd7wemnX0bsbaZCfGr1htsDDEbYlYASTvaAYhVmuBSGEHnkH2DZaCjiUTIsOOKJRJVoAH4ottiTiiy6yNmHMtZo441dUUAjjjw+lItA6/QoJEv7mMONAelYdOGQTBrgx48H+cMONk1WWRJ5Vmap5ZYwZcIKl2BeJ96OGy0ZJoo1qXPkkWe26eabcMYp55x0JkRhnXjmKRWHld2p55+AnhljoEbFptmghIIZYqKMNuroo5BGKmmYFBg66aWYZqrpppx26umnoIYq6qh7mUnqqagyZmqqrLbKV4KuZv9oaay01mrrrQXBiut2s+7qK0mL/irUMZnwEQgfwg53zCTJIidNXME265MF0l626kZmDHTLJ9VKputHNQh0yy0EYaKGH7L0121uc9TBLJ/r7vXtRw9kMk5CWMarWh2YVBKIFPq6hkIgBviCED/n0BVwaTxgItAfmZArkBnS5LtwaeT6AgtB0sB7sWiVGACFQJXUYcAb/VD5sWjjeCGQGgQXZIVA17S3cmeyCOQLIn0IFAwiftzMmg8bEySKdUKHVonEPjxrdNJ1zavRHFAv1utFgZgs0BtBlBOWiVW7lK0B5nDictipfeIFsxOCjbZLOb+9mh9se4Wo3Ch5EYMYoojvFS3eJzFrBQhn9E11V38DbtInMxsgCiRznIG44i0xIguyklN+2S2wyPLGQHVrLpbUGGUSTDAGsI26AYgY0LjokWVicEGQMDHQFW/AojDsjYUs0DG1HDNQIQZIoYYB0xiQOO+BkYIILEEPVIsac7xxOPOOdVcJIqFjj1n0BfEwtveYgUH+VldPTVDm57fv/vtWrgD//DnafJmK9LO2fP78M0V6/4dJHwBDtb8BEqaABkygAhdIkbtBZ3cMjKAEJ0jBClrwgpf5HwY3yMEOevCD8LkWCEf4QQeS8IQjgmDVNIjCqYiwhVbxGAylkgCOBAQAIfkEBQoABgAsIAApAJIBlQAACP8ADQgcSLCgwYMIEypcyLChw4cQI0qcSLGixYsYM2rcOLGdQBP/OIocSbKkyZMoU6pcqTIky5cwY8qcSbOmzZs4c+rcKXEaz59AgwodSrSo0aNIkypNuWGp06dQo0qdSrWq1atYs2rdyrWr169gw4odS7as2bNo06pdy7at27cDPcGdS7eu3bt48+rdy7ev37+AKyILTLiw4cOIZbJLzLix48eQd2JzSdActsiYM2vezLmz588L04HeWEPG6NONV6Ame85AO8oxH8BeTXsnN27duhnspm6gbqjb1sJwq612StmIWxhfntcB8+d8h0PPTKH39OtwPU7k5vptcezg08L/UB6+/NnxBoKbXx8WvXr2qLXDn0+/Pmrk9vO/jJVLv/+t6HBjHUXV/WfgSvt0d+CCRfnDHXcMRgiUfBJWaOGFoBWI4YYcdujhhyCGKOKIJI4mXYkophgYhYGdqOKLMMao0nsybjVbYTTWqKNB3+3o449ABinkkEQWSRV+Riap5JJMNunkk1BGKeWUVFZpZUQaXqnllp1lyeWXYDaGZJgR3kjmmWimqeZNY66pn5luxolTj3JCFUwlgfARSJ3zSVMJn/YdgxadgCqlQaGYeZnRGQN9AguiYsJp0QsCjfMJQX+8kYkoAUJaXiBz/Mmip3m1qREFmJiTEISkPvdHIb68/3FFq9BpgIkBmSB0TjfZ0LqaD4gIVIcrsgx0xjGS+vqZLwbAcgtB5aCjbG25zorrHAZ4sU5r034WzBsCzVGIQWYIhFu3nj3bbCB/CCQLJHygy1wWohT0ibTyfvYJswbwoCpBcuVbl6kX1SEwYclKhAijAokhxTNgkXfwTgyHIwoXExsnyhSXeoVexj+pC7JxkEASVo4j26RGCW8E/BWhKc90KRMxMFEsuF7BHLNMk0ghECeI8FFuVzrvPBMkn/hhwNBGPwaLLJ/EK1DHTbNFcEW+wCLonwY4I5DSYFTNGCKPFkSIFQNJMYcsEIttWK4C1XIMKQPFCwW4EBftNl6oZIZSickDHfOGGnyosfdhixkQNdWHYxasQVCg3Thmkk9OVsIV4SwQ05Z37vnnVLoA+uhwXd3Xx6QvZ03qrFuNeet5vQ47mnrPrlfttueu++48oQwf7rwHL/zwxBdv/PEemo788sw37/zzSioK/fTUV+R79diH2OvhymfvlfTeizVg+GMBoFFAAAAh+QQFCgAGACwgACoAkQGUAAAI/wANCBxIsKDBgwgTKlzIsKHDhxAjSpxIsaLFixgzatwosR3HjyBDihxJsqTJkyhTqlzJsqXLlwaswZxJs6bNmzhz6tzJs6fPn0ANcghKtKjRo0iTKl3KtKnTp1CjSp1KtarVq1izat3KtavXr2DDih1LtqzZs2jTqs3Kbq3bt2SxwZ1Lt67du3jz6t3Lt6/fvyr7AR5MuLDhw1DbeSy4Thvix5AjS55MubJll+oug9QBQ7NWe/cMSGvreWWK0lcX/1tMEF03mhQyo55N9Ny1c+cQqnvdNDdZGWm30VYZm7CK4cj7PkjOHDDw5pof/INO/e70ia95n81WvbtbGce9i/9PC96A4/Hox5Y/n7659vbw48tPT+H9/Pv488+Xrr+///8ABijggAQWaCCA/B2o4IIMNujggxBGKOGE/z1H4YUYInbdXxZm6OGHIM7EXohZsTbYiCSmuBB3Krbo4oswxijjjDSeRYGJNeao44489ujjj0AGKeSQRBZpJE4JHqnkksglyeSTUFZWXJQL4kjllVhmqWVQU24poJVehqkTi2I6dUwmfATCR5n5HTMJm/5JMxaZcCplQZ2WOYmRGQPd8gmekXWpUQ0C3XILQZio4Ycs3NgH6Hhz1PHmho/uJahGD2QyTkLoVDpeHZhUEogUnoqHQiAG+IIQP+fIVGpyPGD/ItAfmRwqkBnSdPoqdYf6AgtB0lC6K3KVGACFQJXUYcAb/cg17GzjeCGQGqgWZIVA18j2rGeyCOQLIn0IFAwifmzbnQ+/EiSKYObOVomtPsipbrt2XXrRHPQSBiZFgSgr0BtBlLNVePnqxKcB5nAibcHQfeLFm1mVxzBP3U5cnR8Qa4WixTV5EYMYonBFJ8czvWkFCGeEjG9WI5MM0yfXGiAKJHOcwbLLOTEiy5o24zzZLbDI8sZAGfuclr0VZRJMMAZAzLQBiBgQs9GHZaJqQZAwMdAVb8DiKtWEFSvQMbUcM1AhBkihhgHTGNAy2HmRgggs5Q5UixpzvLEy3ITpd1oJIkXzTVndBfFwsOCUgYE4WfveS1DPi0cu+eRZrkD55XQhrZfEmFf3duegl6V56Hw1Tjqbn5+uV+qqt+7660VtPN/XsNdu++2456777juOzvvvwAcv/PBM6kn88chvJHvyzGdIO9++N7+V8dJ/JWz1XiWQUUAAACH5BAUKAAYALCAAKgCRAZQAAAj/AA0IHEiwoMGDCBMqXMiwocOHECNKnEixosWLGDNq3ChRHcePIEOKHEmypMmTKFOqXMmypcuXBqbBnEmzps2bOHPq3Mmzp8+fQA1uCEq0qNGjSJMqXcq0qdOnUKNKnUq1qtWrWLNq3cq1q9evYMOKHUu2rNmzaNOqzdpvrdu3ZK/BnUu3rt27ePPq3cu3r9+/KtkBHky4sOHDULH9M2gOG+LHkCNLnky5smWX6S6DrCFDs9Z79gwga+t55YrSV9EJbKe6oGAD6Nq9fLAYtW2i3boh5Jbu3DkDv5duKwsjrTbA6pJ75EmbcIvb0P86iE6dcPHqniksx879ruyJ3Ax8/z97vLv5tzCen1+/Nr2B4ezjE38OXz738fbz69/Pvzn//wAGKCBB2g1o4IEIJqjgggw26OCDCRYI4YQUVmjhhRhmqOGGHCJ4XYcghogYfn19KOKJKKY4U30qZlUbYSy2KONC5c1o44045qjjjjz2aJZ/PgYp5JBEFmnkkUgmqeSSTDbppE4SPinllNFFSeWVWFYGZJYQvsjll2CGKWZRW46ZoJdmpslTjWo2FUwlgfARSJsCSlMJnQceMxabeCalQZ+WWYnRGQN9AgugkZWJ0QsCjfMJQX+8kYko6ISHqH6BzHEniZfmpShGFGBiTkKWdrreH4X48sYVprKnASYGZP+C0DndZNNqdT4gIlAdrsgy0BnHoHkrdb4YAMstBJXT2rDVycpqrHMY4MU6wTGLWjBvCDRHIQaZIRA3ullbGrLGBvKHQLJAwoe452UhSkGfLMtuaZ8UawAPoxLkybx2fVpRHfwSJmxFiBAqkBhSPLOVegHrZHA4onDRcHeiTPFoVu5NzBO5GncHCSRcxdhxTWqU8Ma+W/E5MkyPMhEDE75mm5XKK780iRQCcYIIH95iRXPNMEHyiR8G9Ay0ZLDI8sm6Al18tFr+TuQLLHreaYAzAhENxtOPIXJoQYRYMZAUc8iiMNeFySpQLceQMtC6UGSr8M9o34VKJpWAPNAxb6h9wYcadRv22tJOB16ZrgZBIbbhlS3OuFgDYySzQEY/bvnlmIPpQuac0xU1Xhl3bp41opfu1uem6xV56njSzXperr8u++y0EyXyf7HXrvvuvPfu++/A54h68MQXb/zxyEspaPLMN7/R7c5HL6Ktjw8vfVbLX//VdtqDBUBGAQEAIfkEBQoABgAsGwBAAFIBeAAACP8ADQgcSLCgwYMIEypcyLChw4cQI0qcSLGixYsYMzJUp7Gjx4k6YHwcSbKkyZMf7d0zII0dypcwDaaISbOmzZsR2wn8p7MgOoHt/uEcSrSo0aNIz11DeO4cOnTtuCGdSlAG1atYszJtek6r14IqvoodS7ZszAdm06pdy5ai1bZw48qdS7eu3bsxs+Hdy7cvRhlh/QoeTDghYAPaCiteK3Ixw8OJHT+0JrmyV72WM2tOa63n5s+gr0YOrbCAgAIGBJBefREtQcysE56OTRvj6LRxBOaeuDth74GmawuvCNusuuPHJyJPbvCf0OHQK76F3o2EQNXRsy+cPvy59u8KuQv/Twd+YmPS4oULK8++vQFuHN3Ln0+/vv37fl3j3w86Pf//AAYo4FD+DWhgXYcdqKBdkC1Y23mhNejghHEVR+GFGGao4YYc4mRhhyCGKGJoH45oYl4npgjTWyWq6KJGLL44GIT9CdSijDjmqOOOPPbo449ACldgkEQWaaRhR8oFQwurJZikkU4+qRaNnw0p5ZVYYrVkk4Fl6eWXMt4I5phklmlmeTGeeRWVm6WppopuvnkUm5rFKWeKYt5JE52Z2annhvrZ+OeghGpnZaGIysmnZYcmetKilUXp6E231dnlpHuy1iimnGIJqWSSdkrhpaIqGGipGIaK6qpHboleWJWyotrRp475KatH2XRTowF53mqfrb4GiyOtiwEr7H69Hsued4gpO2CszuKXbLQKEauYsdQ2ZG1hqmY7X7feurdpuOQquC1h4Jar7rrsGphuu/Did+5g48Y7r2Dvxltbvfo2KWi/5U3LbmPTRAjwwf1Ci/DC0SoM8L1+SciwQBD3JfHEsWGLcZ3/blybwOtWzBe/HktGaskoi0pyyiwT5mqEJzMcEAAh+QQFCgAGACwbABgAngGqAAAI/wANCBxIsKDBgwgNWkvIsKHDhxAjSpxIsaLFixgzatzIsaPHjyBDihxJsqTJkyhTqlzJsqXLlzBjypxJs6bNmzhz6tzJs6fPn0CDCh1KtKjRo0iTKl3KtKnTp1CjSp1KtarVq1izat3K9SO3rmDDipVpaKzZs2jTql3Ltq3bt3BDqotLt27VrwZLEFxot6/fv4ADC674z+SUdoMTK17MuHFSbY4jS06JmGDhyZgn8s1ccBvBygTnYpwimrPpyKUzpj4NlwPrkN1ey17c7pmBFO3axZ7NO/Pqz71Zu2bt2SBujoeDKz+rDvLA1L8rMrm8HO2DDQY8JT13TmBunM4FRv/XSB10da3UDQxHeU11wu8au43vWPk4SPPnu7oGxbIftoy+wCKLd9xpdIwB3VxzC0fpGQBag/kNtpkBEO6kTncCUWKAPSMl01FxA9kmkiKIzRfhYgUeVBg6GPnDTi0CSTMQixi1gw07GjUHHEmFVXhiVesJBOJH6aQDn0CXGMBikRkhFotBu8E0ZEkk/qhfZ0olaU4y+FWE2DqiePRMAikYcM6UFvloJVZBGsBNO2pe1E2UI5VTUDvtDXRJNF1CNCBhCJXZDl5rDrafUxoK5OFAwuCCUT+FRpqTPtgselExBvhHEIcV0SjppwbFWdKT/+0z0H8QuWKAqROtEx5DkF7/NIJAiQgkKqi4HkRJOe3oQ9EhApkziXeWKpknRXRu1GeugZlo0leXLCgQsJ465Ms47YSHowGsGIBMtQZte6eDy0rkbGRoMhvSPQXlkhEl0RhwTTGxPFlQkgbA4ktBqBKkSzTiUpRaNpjVIIO6KNnDbkj+wGIApgaM85A50grkiz/ygvvQA7cirC46/xxJIUTpCIQOYunsxg5i3HDDDovXnNMNnPjNhc7JN7sJpwFMUkTBuR4HjVDJArXspsnobKM0gmaeeU3L3XAT2zboqDM1iC3fzJ3V8lktUIpCc5VuX7nN+fU56oiWdoppi6d22nCDrdHPFh0c9t0GwWf2QW96/6fbbiJDudveKpVrlgN4K/ePDrbSBUPigHEM+eRSdXxQbITC9TjlghEMESqWmwVDC5xzRsFfo5cO2KsNsW6Q3Wel7pbnqhfkOkKh16777ryfRUGybyXwmgAFCGBAAZzlYq9AwAgUK6iIB1Z8b+NgS3hFkktEe1+yEyWHQN9XFH5C4w9EPGaVdGtQ9f8cuxLwvTfNHYYTzS/3c0Cbhi1MO+SO1uZvSQcNBIK82fivIttzDADdYjjH+MFdnFtgWzJ3mv018CLZE0gCBzI2hsBOdHRxFGdYNDOmpWSD8btJO+hXOxQygQgpjGFOaiAeGdqQJqDroFuid0O78IMxEuyhEP+H2JsDAiaIREwiSbqnxCaKhIlOvIp5ble3tEAxilqhIha3aBEUcvGLYAyjGMfYwyuSUSkUuOAZ13gaJLKRjW58I2OGJaSmxFGOafkgRN6AiKjcEY+BmQIgg+bFk7yBD4NMpCKtlMFFvrGQifmjI3XSyElaMjCSvKRN6BYSGajgf6TTJFDUqBgzilIrehRLJk/JylZmhJMgkQELQOlKnpCylrjMZaEg2ZFjZIIPgUCkVUypS60cg47FFKKMtrLKZLqElxJJ5UAswExn1qSSJjHDQG7xias005olgeVHpCkQGhrgFhUzACbU4AdZSM2O4GTLHOowLCPGEy7i9Ag5BfL/gExIDCEaQ8o37ymVOmCiEoGQwlN4SNCuoCAQBtjXQfhxjgk1VGg8wIRA/pCJiplBGgE9ykAv2pQFBYgg0rAnSWWzz4FUwgBQEEgl6mCAN2gKniuNCTQjIs1xeEEgaoBoQawgkGvk7yfEzOlJtHiRaRDkT75ARB8EEgxE+GEqSVVqSZg6kZYOxAcOI4gonseUkWp1KJWQlg+WOZAwnVUw+ewIOefAlay+lSO33EggaCqQNwTBTne9mzYNYA5O/HQqDA3sVD7hBWRiNZSKfcqfIgsqWT7ED471I2QpSxKuRtMhXoiBGNyKVc6eZKcT0UaXhmUFEJwhTHSVillNOxHU/27kE0Q1gCggMYczyJa2JbFtRxghC0T6FriAEW5DyHkLAb1hIJmFymyRe5C4kiQTwQiGAeioXQP0MbfUPVEmJEoQSDBhIFd4AywsepS8hvcmLxXIMWpxIIEUwgBSUIMBnKrcndj1vTUhBSJgcdWB1EINc3hDbAHcmw/SqBKIiG5VpsvgkuyzwAXhwWClu9kKGwUMj/WwRaaYkgUb4Li/FbFG+qti2bAYIV7Vyn9bjLcV0PjGyrGuZGaMY4S9uMcCiXFWKMxgHWtEyFjh8Y3d6xAmDxPIPyJyi38M5chQuSB28+yTq8zlLguRvUpVspfHnDgke7PDuGrDp8w8TDR/KmYNvWkEJsnMES1bkc4EMTKehcbmCe+5N27+s6AjZOe2SPm92Bx00DxJS0VXp9CYgXRgnqHSh+ACfiS98olYaBYw01jPIPG0o6eS6FE7pjA7EIgQTO0Y4bH6NTp8taxnTWumHLUiAQEAIfkEBQoABgAsHwAYAJEBpAAACP8ADQgcSLCgwYMIBWZLyLChw4cQI0qcSLGixYsYM2rcyLGjx48gQ4ocSbKkyZMoU6pcybKly5cwY8qcSbOmzZs4c+rcybOnz59AgwodSrSo0aNIkypdyrSp06dQo0qdSrWq1atYs2rdyrWr169gw4odS7as2bNo06pdy7at27dw48qdS7euXZdM/t3dy7ev37+AAwseTHjstMIHtWHMi7ix44TtHr/dIHli5MqYM2vezLmzVsqdTeh1yNizabGXBZ5zOEXd6bEOOBholDl1RNcCR7/Gahs0Z9HdJurevZWyp9/E224jaDs5QkN6VzufXjZyc+pSfQvkJlKdOnTo9kL/x45VuwHF1K+Tr2p+Wzf16+M/NS6/vv37+C3Cp2oOW/7/AAb4k3RfhYcQNsOdhp6ASFEikC+wMCjhVLqMYw47pq0wIVLcgEcQOuqBh442wW1o4okkwVDWgigS1kKLMMYo44w01mjjjRTJIBCLOPbo449FLQckXSWOJeSQchUpFo9INmmRe04CCYBGR0Y5Uyy5EJSlAes4x6SVNu1jDjrc4OaZDCoYUCWYLPmxZUH7+NOOf16yeZM/3NmpJ0L77dlkJqz4KahB/mCo5KBRrqYOd3ki6uijkEYq6aSUVmrppZhmqummnLq0Zqc2fgoqjV+OauqpqKYaVqmqSohmqzWy/wprgDqeN2uMst4qVSUDNdpUrro+xQcfVAEbLFNMHHsiH28o6+yz0EYr7bTUVmvttdhmq+223Hbr7bfgXmVsuC0FU0kgfARy1avk5iQNr+3udsxX48abkgZe1WuvSWcM9EmEWem7b0kvCDTOJwT98UYmopAJlcADsxTIHLz2eRTEEYtEASbmJOTrrxnf9EchvrxxRVUYh/yRBpgYkAlC53SzkMqB+YCIQHW4IstAZxyTIM2B+WIALLcQVI6BQAv28skuz2GAF+sQmPRewTRrwByFGGTGdodOTVfRQwfyh0CyQEKs14hlIUpBnyCN9l6fCG0ADx0TdNzbfNWBd2OI9P8rkBhSPHPVi3uf5Hc4onBReGGiTIHw4oGBDXlhkECClaiTf6RGCW/cbVXKmT+EMBMxMLGz1cWGPtIkUgjECSJ8bJ266iRB8okfBshOO1ywyPLJ2QY8/vnuHEE4L7zOCIQ7GLMTjxEiABNEiBUDSTGHLIJDhbnzEr0sUC3HkDIQsVA0KzjoN726PfcOoZJJJZYPdMwbavChxvDsU4Rh8HwIvxX6+TPAzQwCBeoFcC4GPCBbUJc7BTrwgRC8jwsiSMEKWhAk1rigBjfIwQ4uyYNmASAIR0hCyK0vPiKsFLtKKJYTstAqLtxNGrAVw9O0IVspfOHFdEgvHvrwh0AMohAeh0jEIhqkhoXJ4HpqYTFnKXE9XQPLzDaYQyPeJCAAACH5BAUKAAYALCAALACQAY8AAAj/AA0IHEiwoMGDCBMqXMiwocOHECNKnEixokVrFjNq3Mixo8ePIEOKHEmypMmTKFOqXMmypUuVHF7KnEmzps2bOHPq3Mmzp8+fQIMKHUq0qNGjSJMqXcq0qdOnUKNKnUq1qtWrWLNq3cq1q9evYMOKHUu2rNmzaNOqXcu2rdu3KNu1g0u3rt27ePPq3cu3L8N12vwKHky4sOHDiBMrHqwDxuLHkBOmiEy5suXLimWc3Ya580YVnkPvfSC6tF/NplOrXs0aarbWsM/KAB27NtnZBgLbZj1XLG7du1X3Dk68uPHjyJMrX868ufPn0KNLn069uvXr2LNr3869u/fv4MOL/x9/FTX58+jTtzSvvr379x+Bw59fUD79+6/v69/Pv7///wAGKOCABBZo4IEIJqjgggw26OCDEEYo4YQUVmjhhRhmqOGGHHbo4YcghihiRfmNSNQxmfARCB8m7nbMJC0WJ01YJcYIlAU2BmfGQLd8kmNsNQh0yy0EYaKGH7Jw082Prc1RB4z/MBnaA5mMkxA6UppWByaVBCJFlqWhEIgBviDEzzkYgVkZD5gI9EcmRApkhjRYqtkZkb7AQpA0Udp5WSUGQCFQJXUY8EY/2PgJ2TheCKTGmAVZIdA16ii6mCwC+YJIHwIFg4gflobmg54EidJPqJBVEqcPM5aK6mNzvP8aWiCFCvRGEOVkRZusMu1ogDmcNMorZp94AWN5uw4rE6bKeubHsVjZ1+xKXsQghiha1ThtSjBaAcIZ2MZ6lbbbovSJpAaIAskcZ4xb7kuMyMJiu+8OdgsssrwxELT1CpZJMMEYcGzABiBiALr96pVJmQVBwsRAV7wBS5oJ3wWoQMfUcsxAhRgghRoGTGMAuRWvRQoisIA6UC1qzPGGuCXfVWcliPAbM2EqF8SDrzcTBkbPfcFsAL1AF2300fStgPTSBuLGdGgkPy311FRXrVrUVq+FddZcd+21R9IeR/HXZJdt9tlop6322my37fbbcMct99x0MxR23XhDN3bXAQEAIfkEBQoABgAsIAAsAJABjwAACP8ADQgcSLCgwYMIEypcyLChw4cQI0qcSLGixWkWM2rcyLGjx48gQ4ocSbKkyZMoU6pcybKlS5UbXsqcSbOmzZs4c+rcybOnz59AgwodSrSo0aNIkypdyrSp06dQo0qdSrWq1atYs2rdyrWr169gw4odS7as2bNo06pdy7at27dw48qdS7eu3bt48+rFaQ7b3r+AAwseTLiw4cOAa8hAzLhxwhWOI0ueTPkwjLPaKmve2GKzZ7wOPovee3m06dOoU0PNrLq1WRidXcsmC9vAttmqu42tfRs3at2+gwsfTry48ePIkytfzry58+fQo0ufTr269evYs2vfzr279+/gsZb/Dk++vPmW48+rX8/+Y+/28A2+j0/fAOv6+PPr38+/v///AAYo4IAEFmjggQgmqOCCDDbo4IMQRijhhBRWaOGFGGao4YYcdujhhwreB+JQwVQSCB+BjIibNJWoKNwxYYno4k8azOjbGQN9AouNrr0g0DifEPTHG5mIgg43PKoWyBwttpOkZxRgYk5CSD4p2h+F+PLGFVaKpgEmBmSC0DndZNPlZD4gIlAdrsgy0BnH/HPmZr4YAMstBJWDzpyVicllmHMY4MU65/DZWDBvCDRHIQaZIRA3wBlqGJ52BvKHQLJAwoeknmUhSkGf7MkpY5/UaQAPUxLkyaiM1cGqZ4jg9yiQGFI8k1Vsr8okaziicJGrZqJMEeRVtf1KE6XGagYJJFrNlyxLapTwxqpZyfgsSkEyEQMTbiZ6lbXXnjSJFAJxgggfjloFbrgoQfKJHwaky+5fsMjyyaYCDTsvYL7AAmOLBjgjELxg7JsXIjsWRIgVA0kxhyy2GlyXmALVcgwpA20KRaK2ritxWqhkUgmzAx3zhhp8qPGxXezky4e+KwumpkFQMByzYDbfjJe3Asmr889ABw2fC0IXPWCxRm9mTdJMN+3007N5DLVaUk9t9dVYd+RscVVn7fXXYIct9thkl2322WinrfbabLftNkFbvy23c2Z6HRAAIfkEBQoABgAsIAAsAJABjwAACP8ADQgcSLCgwYMIEypcyLChw4cQI0qcSLGiRWsWM2rcyLGjx48gQ4ocSbKkyZMoU6pcybKlS5UcXsqcSbOmzZs4c+rcybOnz59AgwodSrSo0aNIkypdyrSp06dQo0qdSrWq1atYs2rdyrWr169gw4odS7as2bNo06pdy7at27dw48qdS7eu3bt48+rFuU7b3r+AAwseTLiw4cOAdcBAzLhxwhSOI0ueTPmwjLPbKmveqGKzZ7wPPovee3m06dOoU0PNprr1WRmdXcsmC9uA39mp242tfRv3ad2+gwsfTry48ePIkytfzry58+fQo0ufTr269evYs2vfzr279+/gsZb/Dk++vPmW48+rX8/+Y+/28Au+j0+fNf37+PPr38+/v///AAYo4IAEFmjggQgmqOCCDDbo4IMQRijhhBRWaOGFGGao4YYcdujhhxXZByJRx2TCRyB8jIjbMZOoKJw0YYnoIlAWzOibGQPd8omNrtUg0C23EISJGn7Iwk03PKo2Rx0t/pOkZw9kMk5C6Dw5Wh2YVBKIFFaKhkIgBviCED/nYNSlZDxgItAfmQQpkBnSVHmmZkH6AgtB0jg5J2WVGACFQJXUYcAb/WCzZ2PjeCGQGmAWZIVA16hzKGKyCOQLIn0IFAwifkzqmQ93EiRKP542VombPsAoaqmMzcGqZ4EI+yrQG0GUk1Vsr8qEowHmcKJorpV94kWLV9UGLE2VHruZH8RiNZ+yK3kRgxiiaCUjtCm1aAUIZ1Tr6lXXYovSJ48aIAokc5wBrrgvMSJLiuqyC9gtsMjyxkDNyvtXJsEEYwCx/hqAiAHl6ntXJmIWBAkTA13xBixmGkxXnwIdU8sxAxVigBRqGDCNAeFKvBYpiMDS6UC1qDHHG9+KTJeclSCSr8uBnVwQD7vSHBgYOuvVsgHx9iz00ETHt0LRSA9obNKbhcz001BHLfVpTk+9VtVWZ6311h49S1zEXIct9thkl2322WinrfbabLft9ttwx82Q13LX3RzYWgcEACH5BAUKAAYALCAALACQAY8AAAj/AA0IHEiwoMGDCBMqXMiwocOHECNKnEixosVpFjNq3Mixo8ePIEOKHEmypMmTKFOqXMmypUuVG17KnEmzps2bOHPq3Mmzp8+fQIMKHUq0qNGjSJMqXcq0qdOnUKNKnUq1qtWrWLNq3cq1q9evYMOKHUu2rNmzaNOqXcu2rdu3cOPKnUu3rt27ePPqxWkO296/gAMLHky4sOHDgGvIQMy4ccIVjiNLnkz5MIyz2ipr3this2e8Dj6L3nt5tOnTqFNDzay6tVkYnV3LJgvbwLbZqruNrX0bN2rdvoMLH068uPHjyJMrX868ufPn0KNLn069uvXr2LNr3869u/fv4LGW/w5Pvrz5luPPq1/P/mPv9vANvo9P3wDr+vjz69/Pv7///wAGKOCABBZo4IEIJqjgggw26OCDEEYo4YQUVmjhhRhmqOGGHHbo4YcK3gfiUMFUEggfgYyImzSVqCjcMWGJ6OJPGszo2xkDfQKLja69INA4nxD0xxuZiIIONzyqFsgcLbaTpGcUYGJOQkg+KdofhfjyxhVWiqYBJgZkgtA53WTT5WQ+ICJQHa7IMtAZx/xz5ma+GADLLQSVg86clYnJZZhzGODFOufw2Vgwbwg0RyEGmSEQN8AZahiedgbyh0CyQMKHpJ5lIUpBn+zJKWOf1GkAD1MS5MmojNXBqmeI4PcokBhSPJNVbK/KJGs4onCRq2aiTBHkVbX9ShOlxmoGCSRazZcsS2qU8MaqWcn4LEpBMhEDE24mepW11540iRQCcYIIH45aBW64KEHyiR8GpMvuX7DI8smmAg07L2C+wAJjiwY4IxC8YOybFyI7FkSIFQNJMYcsthpcl5gC1XIMKQNtCkWitq4rcVqoZFIJswMd84YafKjxsV3s5MuHvisLpqZBUDAcs2A234yXtwLJq/PPQAcNnwtCFz1gsUZvZk3STDft9NOzeQy1WlJPbfXVWHfkbHFVZ+3112CHLfbYZJdt9tlop6322my37TZBW78tt3Nmeh0QACH5BAUKAAYALCAALACQAY8AAAj/AA0IHEiwoMGDCBMqXMiwocOHECNKnEixokVrFjNq3Mixo8ePIEOKHEmypMmTKFOqXMmypUuVHF7KnEmzps2bOHPq3Mmzp8+fQIMKHUq0qNGjSJMqXcq0qdOnUKNKnUq1qtWrWLNq3cq1q9evYMOKHUu2rNmzaNOqXcu2rdu3cOPKnUu3rt27ePPqxblO296/gAMLHky4sOHDgHXAQMy4ccIUjiNLnkz5sIyz2ypr3qhis2e8Dz6L3nt5tOnTqFNDzaa69VkZnV3LJgvbgN/ZqduNrX0b92ndvoMLH068uPHjyJMrX868ufPn0KNLn069uvXr2LNr3869u/fv4LGW/w5Pvrz5luPPq1/P/mPv9vALvo9PnzX9+/jz69/Pv7///wAGKOCABBZo4IEIJqjgggw26OCDEEYo4YQUVmjhhRhmqOGGHHbo4YcV2QciUcdkwkcgfIyI2zGTqCicNGGJ6CJQFszomxkD3fKJja7VINAttxCEiRp+yMJNNzyqNkcdLf6TpGcPZDJOQug8OVodmFQSiBRWioZCIAb4ghA/52DUpWQ8YCLQH5kEKZAZ0lR5pmZB+gILQdI4OSdllRgAhUCV1GHAG/1gs2dj43ghkBpgFmSFQNeocyhisgjkCyJ9CBQMIn5M6pkPdxIkSj+eNlaJmz7AKGqpjM3BqmeBCPsq0BtBlJNVbK/KhKMB5nCiaK6VfeJFi1fVBixNlR67mR/EYjWfsit5EYMYomglI7QptWgFCGdU6+pV12KL0iePGiAKJHOcAa64LzEiS4rqsgvYLbDI8sZAzcr7VybBBGMAsf4agIgB5ep7VyZiFgQJEwNd8QYsZhpMV58CHVPLMQMVYoAUahgwjQHhSrwWKYjA0ulAtagxxxvfikyXnJUgkq/LgZ1cEA+70hwYGDrr1bIB8fYs9NBEx7dC0UgPaGzSm4XM9NNQRy31aU5PvVbVVmet9dYePUtcxFyHLfbYZJdt9tlop6322my37fbbcMfNkNdy190c2FoHBAAh+QQFCgAGACwgACwA3gGPAAAI/wANCBxIsKDBgwgTKlzIsKHDhxAjSpxIsaLFaRYzatzIsaPHjyBDihxJsqTJkyhTqlzJsqXLlzBjylS4YabNmzhz6tzJs6fPn0CDCh1KtKjRo0iTKl3KtKnTguqiqkOYjlu6f/+mHuzGtdu5c1afih1LtmzOqALbqf2nVqrWqN3Y4tKmtp1AuO2w6sXaLV06t2YDCx5M2GJbddiutTtWiBw2bO3+quvGrR0oecakOYacjqs6XOGChaN1TBoyA36jHj58V2vh17Bji/WbLBm5QovCXUt2Dp3fbtf6SZMXT/Pjbr6rags3y1m4cPjwSePXrbXs69izM0WHLhm2cH0Wyf9DLNAvunPXDDgzVqvcNWxYuWMzUM6Zs2nqkkV/BparAf/aBSjggDnR9o88qTTTDD/nzKcOOmwJk816x/Dj3TPu/fNYOZ8449410AnDD2TcaFMZgSimqKJJdVVmTSrrLYJPP7vFFQ4f8mBmTDj0EVJPPbOEs6F97n2HDzL8tIOMNOVohs5/3aC14pRUVtmQX9jwNkkf5NSziDHC1HZOOanUw085xsRTTjb1GIPhLPWkM2Zzz3zmXD9nHkPOmeU8ww833ABo5aCEThkVd96V0wct7FSjBozXrMIPJH2Ek8w1bVbYHFuzzPJkfc7gA1045fCzXKkG8INhNupU1o6Uhcb/Kqt2iGKDjxY51pOgMd0kI40xxiBTW5u1ZGOANvg486M1/3DoYTnVgJXOM+FMxw06q1JW3azcdvtaVFgakGY98vzYTHH8hHOGMeVc2qY02YQDiTPSAMmPOqC6l0yr6iBDqokGWLMmP9t4a/DBZf12TTrS5JYeg/Is4sw10vSxY23O9KGZMfVcc44zs0RVDiT4FPmfOtSG8w836liD5HmwIiyzlebMN1s63hnAR2O1JcMNPqn0UQ45jKQiTzLdtFltIfX8gwycwgxt3zPvGRDVOdKEU40B/2DIzVcxzyz22D6l010yEcPIjHdop7JIPMiUE4/RmMUzCz5t/kiuc8w5/8cMNn1xQ18tTD6DJHV9pUP24ozfBNc16JRTbrmpooPMj8qGw480yobqITnSRMckqVk/Fw456AAqED98ovqWa43HLntKUqrzD3CPtRMlW2n9U3BadqnDzzVZXXMN69TVxdrqqZ7sFuwE1iDD7NT79LxU/KCTvTqvCq89d09ukz13/KAm+EBVccVdlFL61ZqUak25QvX0CxZz2PXnr//+RMGQojb8C6CVWiDAAhqQJw44oAKxAz0V+W+BEBSLW9S3jd90I35Wa2AEN8hBiqhvGtZAh6BWBMAOmrAocEHONPDEleUJCAYEPKEMLcKNbdjwhjjM4Ta6wsMe+rArBAkUcv+ekY3UARFFMDTA72a4wW1BxH17iaIUp0jFKu5FIOiwBgunlMQlMhGCTmyIW7jhCUWYsYyeSKMnQLFGULiRFHBEhRxrgYpa1AIXeMSjMPaIjD4i4xmAfMY0QJiNZ7AwjF9M5KwS1YdOvKMZnVCQJBOUirnFY25pApYxcjQLecAJTp0LlajwcYxqkW5o/diGarqnyFZaCVEU68M73gEPWsIDHpKMx7nOdcl4pClHwCSX3uphH1GKynTSEAeTBubKZhIKS9cghyei85xjmu6azyld1rLWJGl4k0ngLIc4+wQtcpQDT4XMBnWk4sx2rkgd6ciL7gzwHuNlkHt6SYvtrFb/HeT5s3wGWAtb6tJPLSLOnQhNEVfSsQ10NPShDo1oQ8EHKO4A6qIYzShGUzOZIRaRhwkNaQHVZ1D2aVCkKI2dWriiqo9e0C4pjWn14vekjuJPpjhF2CrboruXYjCnQA2qUIdK1KIa9ahITapSlwrUBzL1qVCNqlQl4tSpWvWqWJWqF7PKVcJstatgLUsJw0rWspr1rGhNq1rXyta2uvWtcI2rXOdK17ra9a54zate98rXvvr1r4ANrGAHS9jCGvawiE2sYhfL2MY69rGQjaxkJ9utsVJWf8GoRCD4EIjL9lUalfAsYI+hHcuKtnoaOK1fzzCQT8BCtXp9gUDG8QmC//zhDZkQRepgi9dAzCG0MOWtWymACXMk5HzCjesfCuGLN1whuXLVACYMkAmEnKMbxoKuWn2ACIHUwRWyGMgZjvEP7b7VFwaAxS0IUo4nmZet1X0udedgAC+s4xzvPWsw3iCQORTCIGYQSKDyW9b1pjcQfxCILCDBBwLDNQuiKMgn3Ovgsn4CvQbggXEJ4okKm7UOHoYrIlgrEDFI4RmFiWGIEUbicIiCCyt2qyimUNvBJDHGMzMwjt0KCUi85qs7npUaSvCGDhfGtEGOVW2ZEAMmhJe/g0Fykgs1CSkIhBOI4EOABSPlKccKEp/wgwG27GWrwkIWn2iwQGpc5qv6Aq8WpA2tegQiZjC0OaqIeG1BCGGFgUhhDrJA8Z2XWl2B1OIYpBhIg6HAXxR3edA5RUUmKuHjgRzjDWrggxogzVR2rJkPbOZ0VrtrECj0WdRZPTWqoQplgZB51bCOtaxnbTAX0PrWuA7KjXPdVmvw+tfADrawh022RxNbpsY+trKXzWy9ArmVyW62tKdN7Wpb+9rYzra2t83tbnv72+AOt7jHTe4pP7vc6CZ2dtMNk4AAACH5BAUKAAYALCAAGAAUAqsAAAj/AA0IHEiwoMGDCBMqXMiwocOHECNKnEgRRwOKGDNq3Mixo8ePIEOKHEmypMmTKCGio2KARsqXMGPKnEmzps2bOHMmvKizp8+fQIMKHUpUJraiSJMqXcq0qdOnUKNKnUq1qtWrWLNq3coVabt2XcOKHUu2rNmzaNOqXcu2rdu3cOPKnUu3rt27ePM+5Ma3r96/gAOr3favsGHBiBMrtkpYERElXKYo+sdtseXLmINq+2dIhZhBPUzc+bcts+nTqFMSNmRi0L87SZTcMVA5te3buCluNlTCtZgayL6kIZ27uPHjBFeHcP2lRi0DXNrQRk69+unNiTowh4GrG3Tpta2L/x8PONu/QdrbcUmBS920f1yGayNPvz7dzYM2jF5fizQ3+MOFZ19g1gyYmXmDYLBfCe3NR1h8xBko4YRiIWjBaFOUUEs78xnw4HClUagXByIihh8Fs00RwnMh0gYfeCXGKKNT3Wx2BwVt/DMFCKhEKNB/ELY445DiCWmSkRyZd8cDdPzDRAc9ZlPQhz4SaaVl7XSTjoAEqbNNbd4Z1A0325RpZkHdhKlQOmUWpuZGNjqQIxMc9Nhhci96eOWegJ1zjjrqCKQOWNi0k46fAqWTzlEGgPKMAYACOtA/B2ED6FcMAYpNYaQg8xVYGsU5HBMYRHkQlUjyqapcfio6kCh9GP+QzECuGvAPIfA8gk8/ySRzDjoGXHNOIqn0kUqxxkyWpQHpSJrQmJzBs0c92fSqkZIMDKeEBaaeCmCVq4YrFzrACtQHG85wiQ025RzzzivhlNMrPwYAi00y8uzxSjzGPPJIPNPRxlc6BXFD7rr8HNPMK87I62u5ElnzWrb/bEvKP3cahKq4HNeVDD5s/EtvN4EawA86yahjzB74yDqrQNv0Gg4bi4TzTynuQOMMP8lcY9iXzXpp2Mmr/CNPGPU4/OtEErfBgBj/JEGBnQoBCWPHWK+F6UDxLOLOO+UIVKgBYJEyTTwsh51MLbWg084qH7PRDD5w52qMNr0+Uwsy/7T/g82f/yBTSzn/3NvO0Un3unRETScANREPXGwNqAgBGWDWmJvlrEDALlJPM4/U80wy9xqAjxbNwPOuyeFYAQ88nvcK8iL49JrrLNmgIwY8zXQSjzXorGvMIs28U0g5q1yDuMP1Mv5PGwCkoY4QDlws5UIbZ679WfwgokU5Ry8S9irqSPNvNuG8i885zewRTjiPvFPozLT/k8Yr70hjQDxs4FPOyn2QBjnO0AlnSGNl8WAGNpanOIg1pGkAgFoQqoexhlgtYNvLYFhmpQVntKMcVwjdrMhxLrolIx66Ikcqfse+TjxDHSB7RzN614x6GAAZ/0KZNBbBhnrgIwvGIAfc/97VH3lkoWHWcuBCJJaGCLajBwywnkOolDENWhEr16gHG+LBRdA14yjhQF04VrG/tGUDGcZIBf6Y0Y6ZFRAfNuvGOWCxh3j8Ixn84EMY5LE8uKFtFkbLQuIe5hAmAuAL/4DixTbjEMtR5oqQxMo/jiUPYxgjHl8TRjpOV7NVYANt63OGFlKBj949CmTNGOMquvE3SNSRH9Pgxyz2YIyjyQN5J9zDLM5hxEEubon2O2QiGQCKCj7kQdJJVSSXqZRrYANYBTwHP9TxD9DNYhph1JVA0BYO88Gjb72bH81q1zNs8AMfr4DHOabRD0gg7WipkIYfWWaAXirtHAwxJCJ3kP8AyUXkglxiJp/WUUUDuOIQVEnZGWI1EGzUYw9aCAc/+vCIZhjgk9PCxx4sSopOdEIU0qBfOHolx25c4x2POIafrNCJ92lBV9dIRieasZl6HJFXyeiGEjUWzH328x8F+meeAirQjlVCKhBbWexkVcZ01kIa75JhzjpRj1y9Q3XQWIQ84hGGfaECj+folRY7sdX+PYMcn8BfPfpQQAOgIlepcIa1FrKZNiQgRzsAQDGDGpHNQKigRc3aTpdCr3oKpB8CEQYft4oPcoRjFvGQRz3koT988BEf+DBGOJyxWGP4j3TX8Jk04pEKeeDDpD7LbDPi8Qx+JKyWkv0HP7K0OYL/7AYAABiBBRjgiXZko2QRyV5ghxsUSV2KH8LyUKD8JjZuZCMb19AGP86xrnYUzlLCwud/CkcpamqjHSXDRmXOsY1NWZcytfEZNtJU24KYZwoM+MIUHNCDdkwDI8Jdiw5gQFzrIGpKIfqTn7bBj37wgxvqKBe9cpcOdGRjG+jgR+74QWB2ZAOf7A0UmRyMDnwKhMIURgfBPMQP4EEqUsAlyHsx8JUU7OAf15tIfteSgv4qBbxbaZZDAPVfgfSYJu+lQGFK8OIYS2TGNk5yat5rAWoSGcb4/RZgzyIDuShTyXkJ8pCLHOUgvUUFWCZumtgEqDSFSkcWsNWTp9wQJJfl/wFhTjKgCkOm9kqEydQ0AZcZUiY9DcTNVI4zM3v8j3J44hz/IC+K/WTnhGj5H0828kGEdpg/f+vKgs60VcglMy3Erh0R/vFDNjOFNEP6xWz+0T88IQTZUMo7gE6LpDWtPU4nI4zucEcqZnFRcjHrU+AdFOUMgudTQzkhhPHEBuTLgd6WJtZlkQGYaX0cL0HETNjOtra3jbJbayFn0NA1r/92ssEihNSmXrNCuvGPGpRAGCboQCMe6UiiUhnMqaY2XIaNlE3hOtfQCPeu10UuETcE3WpG9bP+gYsM9MAAbRjNQADqFmkbIN/6dgu/F+InMyuCEIMIuchHDvKRm3wQJf8/uchTjvKQl6Ee3wa3zHd9UZLVKiEINzabJTYICnCB3f/wjnconvGib8TXHHwFNF7B9KY7/elQj7rUox7uXOcM4OH2XHWD5mg0O3nPBqHmP77ggERYV0hUNLraN8JBq7v97XCPu9znDveqAzzXNfTbV25uEImV2rpPnpxBgDoIQ+jAAl8wRDEJUu+1O34icjTAMZzhDHxQ/vKYz7zmN895ylu+8lq0erirXsPCrFdLZj43mhNuTIKwWxg7qAEHOtCDHVwOZnnC9ON3PxBnCetShgl+YSZ1GOEbX/gCoZSteiWNmNu99P+4xjb43vVS5xnsg0fGBmpQaUt7mffgV8j/1kyGPQ+h49nnTz+E16/+9le4026HvvSpr5Ccq9tbingAEzD2JhdFB4PhF4A4EWHw5w7ydw0o9hCPFmmqJwYOIB8G4VcQKIAUSBOAYmthBA/1QE3SRy6pp4BeZ2yzJhCbATmNYG1TcmkVuIIzoSjYcA0hNVuhZSiNxhALiH0F8Q8usAG4oHwp+H0sGIQmkXqHIixloihpMn4QUWwMeBCBswE1lmLeByJCWIUocYHAEinXoiNCJoLe4gkPEAQ++INUaIVmuBRMiIMk+DwO8AUc4i1/dYZyiBQ3eGzJYR5M4ACG0Hp4AoRz+Ic/kYZ2OCnUBAMZwDeqF4eAuIg98Wh6/zaI1GQ2z5ABL6ZM0EYWVcaIyySIMfYgCcAEpOAAozFll6iJpmgS9qdwqpYCd9UDJfBqCFGKYpGJp2hFnGhpd9ABOrACPXhlsliLwOgRqciH7IYMoGAr/5EQjQcXGBeMezKMVbRdj1Q1QxUXzeiMVgKNYsIN/XcQRPcWI4iNq3KLFJF24niOIKGNFLGM6NiOcLJ6OtdlyeSO9JgR5ChjKliP+thX8Hh/E/GN+xiQC3GPEiGBfCiQCElsXLhlgxhc+ZiQEKliIdiE+OiHEQmRdRiObfaQF4mRE6mGx8SRHYmQGdllEziSCUmQDmmRKLmPJakbUtaSKfmRDXltIimT9f/4khVZhjjpkjSpkXwWkz3pk1PQhRR5ZDc5lOiojv/4LfamlNjIlBIBkFCJjippkyxZldiok0ipiFq5lP2oik0JIU/5lacolSs5j3ABlGZ5G1cZkhZ5DJnAB4HAB23JiGgJEQB5DJNwl6f4lg5hkBmjP2vBln55Gly5kjwpEGl2mIwImBvph2YwELfwCY45h4mJlYtpADUgELdwCwSBCWrgB7LAjZdJgZAZlFl5EHNQB305hqcJfpkJlyc5EA+QCeOQEOYWm2uXmtiTlANRB5hQCYEgBby5grMZmEJJECgQCAbgCwgxXXx1nI6Xl3vhlAbBA5ggEH+QCaApEGYgDbv/SZ0Z55sKEWug6QuwQBDSAJvkqXbJeXDLWRBHBQUCUQl1YABv0A+M8p6OZ57I9pDj4AUCoQbOWRBWIBAI6J/VGZYHqZfYKRCyIBC+gAgMFQyI4AcMGn7W2UjViBA+sJ4EIQqItaG9+ZMmCS6V8J0+QJivYqL/uZBeWI7zOQcwyoIdakERagCBkJ8C8QZBEDZjMW03ahk5qppqCZ4CYQ6cQKBFyntMBnggqZxeWRCf4AV9OYtE+qSJcaQLQZUSyqWyiaIwWaUG4QdZOhbXKKbW6KBrahDsWBBeEANiIAplYZhsKhcAGos32ZdWAAJnYKc2WiF5GhjxqZqbKRCfkKAG/yAKkDAHZ0CohfoXewqHiUoQjCALdhmpk6pph/qbVXoLsCALbzAQadqpnkqmO+kjmRAMwWAAWfqqBoAIBsCoqBpmn1p/QpkJ0FkQkMAEA3EFbwAL03mrxIVuDPmmZOgjRyUQx1ALxzAQhWAAUqAGBnBfeGqsGeSl1Ph/lUEKiAALGjoQtaAGc/AGg6qtWFapEShl5VIJiHCq6pqqRcmQ2Wqp4DKuBcEDkzmvScatyrijCgEG/qpkAFs5H1oQ6WoAnFqwNsauy6p7DruuMnqUivmgE5tpB+uNAosZK5CxVAGxtjWfIJtpIut9baAOyqoVFleybrGxcPoi6lCWhuqyU/9xsmtopjZLsfU6oxPhVykrsTtbVDDreoWRBDlCs0NbVCe7DdQ0BUTwDO7JFve6tFaRqxrztEEgtXNRtVYbsqo6RU/bA1IrtF+7iRU7pQlBTUywA+ZhtmcbSZVKGBWzA+8Bt2axsiJSrGfppg4BdEqgA3cbt4IGsNuVBDXwHkpLuALFrdtFBDAwuIwbZ0cadIUhBC8guZMbZke6XUGgAoo7tZtLXJDptImUAlKrt6OrQclpuqGRuqsraG9pujtQArAbu3GWmF5CTTswAu+huri7rX7LeIWhAyBwX3gbvJAUpT6rXO3WAakrhcr7sKpqujLAAdE7vbmbtsdmuoYotV6Tq71XpI3b5QIYULa2AbziOxPQSLcqYAHou77ba33G9h7/kAIUkL2owbfySxR1SBgmkL8YI73921/FpmfWZQIPcLsFjKvcCwIOAL4E3MCki2ZD1gMwwADgS8GFa8HtBgAUwDfqy8HaYx5cAAAO4AAgzDe/RcJxxm64QAh3cAeEIMKi68L9ZXzJi8OQFHTY1o0aERAAACH5BAUKAAYALBUADQAfArUAAAj/AA0IHEiwoMGDCBMqXMiwocOHECNKnEhxYbt2FTNq3Mixo8ePIEOKHEmypMmTHLupQznxH8uXMGPKnEmzps2bOHNm5Kezp8+fQIMKHUq0qNGjSJMqXfryHNOiK59KnUq1qtWrWLNq3cq1q8FaSdIgq+G1oCFr2BaSK8u2rdu3HTcIZPAMLkIIkdLa3cu3b1tDOi9SbOfUr+HDiBNr5XaQ8UCXiiNLnsxUB0YxAjFS3sy5c1trNWtA9gwR7z8aCkirXp01qkDMJUYfdlTtZGFh3JwYyMG6t+/fOtMhjHNw20kFQPSqBc68ucx2pEYsfGHXNUcazrNr315zleyNydgZ/2Cc7CA7bsq5q1/PPiY/dAPTC+THUyC6dvzkt9/Pv7/Hbt0I5t+ABBZo4IEIJqggZY4t6OCDEEYo4YQU8rWNNdpgOJ5H1lXoIV/a7BeiQR1uNIgFGXyo4opGgdYGiiV0gJlxFalj3SAs5qjjT6ClAcAOXDAAgBAGgFbRdzsmqSRNPQLwhQFKUEBBD/+MKJIOKiyp5ZYeNfnkDgDgksIOBljZ0mSaUTgNhSmkCZyXBuyQgCcGgLBDlR8RwWVZDnCw52RwggnKP/+E0EM3RkpUGGU0unlgiX9G5uU/gv5Tl50GZNORnoo4GulTZh6IJHeBAgBKkSGGQGaoDUH6qVZrvv+qWKmDgqapqkVGpI6mAk3hamKLHhhrQTTupw6r29H6j5GaYproRL/yhYGbDRq4plwEFSvrW5PKeWqiqd75LERMjGpXsdMS1I2CDhikrYEmmKtaO7QWOVq4ZXKUTbTb9utRsAa4Jq9q9Y57K5njOuSpvwyXVK1JNtqo08McFWxQuHgqJPFBhgzMlnEW/EPKQMjyp+m1CGprHb8TteMSNxGzHFI66VAcsMwJFVziwZkutCtBjuLs1al3Kogynf0KWFQ/FRvg45em5npQswhDlObCfvXQjs37mRsEhFhvVE58HMXTiUDvGiScQfCA9HScUSdMsgG4loyQnoDxFXaCyH7/vWCbLBUW4N4JSVOf1QaI91GIb3srkLypHmo3Qh0rdqqCchfIdUgAngPwfNdU1Ek4Oq3ZeNQGrJsz3VU/pEimQjec07AGnpN2QbEn5LlA636uUTMTwXN2SGkY8AWlcfPLc8Ieeyy7UbdzRDPNnTlf0SwEpUL6RPiA5IxGxX+ZwLcNYZwwrwV1iljIEvqZrUhKR3hNP1oQhD5CtP+z/UTlFRRGPRs5nqCkxhCe3c8g1uuL6nySgpFxZU3uK0gC+9U/goROIu2Aj00cl7mD4KuDQJNM0dgVwZhsDigXxIo8DACNzBSkgggpzCIMUJ4U1gRMArHGBDE2ooFpY4JsIdzz/46CCIFww4ZSYUP30AHEg3SvGd8byKK6UReC7MEkUZucB1mXMYHc4SDWEOIQe+KnRkiwL+ZQzgUzQQkDoOMaYhTKOdSQCiRSZGwTuWIF04NHiqCuiTxEoJ6kmCMzlqWKnFGcOdaRCQtOJR5heEjbXgE8hTxCINjwHUH4IQqhGPAgDMDRjtqBtLf4LTKKM8A6BoKR+CEFHUwbCDn6wTJjhOOABonH/gygn8IczhjlIEcqbUK1nhlEBpMJgQGiRxN1oGIvIcqdXyhxD5eETpoxGdx4tMEY322DH9vAxjbUMZoO8WNwQoRMN/lxDmyECB3p2d1Liim3FEimBsj0iSbH6P8QfxDEHpjERhxj4sr5sIMfF1HHAonFEhstNB0D9Qg9B/KAzqwAKNiMiBb3shJPra1VLtTIfYzolLWxExsZvYk8dbIxYrKOgBXlp3ogtdKcLPR5nxRITGEwGZ72BVkb9UpLbybToEz0MQbwqWRaUNStnHBb+LJSTCPTrqayJaUU0oY2tmGmnHpGqVYNK0Ioxo1F2aimIzmHmVxTTFyK9a0m1Eo6sCoR4ySiBCbgQuowEtWt4IKuBAErXKVSUI0E9aoAopnn0LqREBliSDIAACHyZcBQySBLkYEBUwf7FABRZWtBGSdgF8IYDDCgFgkAwBeN09eCXFYymuUsoyJy06L/tCNaguHHXEfCGFQAoAP/mAIX2qE686kmtp4BoWxTJ5GNiRIhz4XuQqKbiMlCZK6jVZdAfKQ1F/KVi4maKmfcutwBSaMn7mghQtRBPZAQAQBtcMn9vDoQwSJGs8uKaHm30sSQbgU+nv3INNpwBw4AIAlteF2DQIOrZ7nEvohh6mERUwABFMAAAuhPLHKxYQN02Ce1lQg+vte9n8DMAIWlCC5GwIEEJAAEGVBCQQKpU9KQlzMW3uJJsguUYnx4w7EoyFMbisGAOeUfKT6JemMiDACkyyD0fTBF1sXjnMR2wnshDkEq7J88KEy/IOnvULAxZI4MAgA1oNfDaGwA8UIL/xleufF+rYoNbKADHYyVaDumAIApGNN+L5WzZ/IWmW6QQCAZRtA+/DFM/8SMJJqK7CC6OBB6HjCfc4aImLWz6DFaAAC1WCaU60QmXGI60w75KO7Ykx5sXEODDRNGAh7gqqOqJ0Uo5oswDuSUMu/JsQCw5+1sjeqKnLjYzNHUFwCghH+4ta3HRba0QQIaMH0RIbZ287S3zZ8NAGDX2A40RblN7vYg7cX5mhqp/7zTnpb73eUzAJ974AkAFC8h0EaqATAL736rxjgdAIAYUkCBvbW2zQKBcEJuWgt2aAPMQVG4v/3dhgeUIAPPVMjyCLJpA3h54iB3izqE0YiohO3gA/95bUUaHfIcMVNBxgXJ4Vquo5fzDbwi7STNuYTlAdGXM8jdudAR8sHVbHbon7U5gtisGkEjfeJRTiq/ExP0pz+dzVOdekNuAQmBVLknTrc6vL3abolUois+DbvYy73xGgtE64pR+9q5nW+Ev50hfnhDJj7xFrnPfdrZfsgbDFDESRjgDUUsi9//jmxiP0QNBuDDGeQ9EHOck/GYf0rdF+KHOcDiIG/gw0BUbRWJZ/7djhfI0QvC99O7His/P0gUCfKGOSAE4q/P/TzFvZBgfH4goh+87oePlLo/QDNwP8gtiM98ohD7was3yOBFHwgDyKL52Ac77x+XVIa03gCVmPz/QHyd/fIv7qVmgkzyE8IAAxzD/PCPScztXnWDnF30jYm//kvSdrvve/8A6BOx1xCIYHsBeIAlcXAOABnRlxBSYAAaYADmYADflxUNiIAmgXv8wXQPYYAYyB/I1HP+MYAXaADBUAmBwAfV5xb194FixYF3ZxDScHYuWIMf0X8M8X4DkXg2yB4i2B+bxxARKBCQMA4PaACZAHkbwhWL14OfYnwDkXziZ3gCAQVXYACBIH5x5oRWBYXdhxDUYX0F8Qce2BVNyIV70n9ZpxC+YBCBMAeVEAzkpxRniIZbEnswsH4CgQk6OBBqUAdGZIZ2KFNemIcPwXdXSIWCOIhjNIAK/6EBmICEMdQNdciI2IdyDeEDiNCGBuALv2cAZ3AMHWeJ2DeAemgAddBISLh8A1EOsEaKPZh6C7EPZ9CGV4iEtucF67BPsHiAsqiHvhAIgFgQZmBEIdaLB4iJBqByBPEJ4yAQK2gQn8AOcKRcyAh/WJcQRVQJNGgQhSB+x3iNAKiGUWgQdcCDBlA/4siIUadww0gQ3biOTohyDwZ3iDB5wcAXJSiPPMdFUlWOBqGFiWAA58WPXNiOp2gAoqAGkxWPXNGCBtmPqkJpB6FzBHELdGAAihiRNeiIZbIuXVcQfrADkBCSHDlbWfVScsNvwWBdA9F6+HeSlPGDJrN9Kcdvtf9wfS8pECNgBZ7gkDKJGDS5H0FYEO0gDXSihQKhAwKBCDEZlEJZIbLISgmhBpAgCkVUjFAZlRRSlIaYEDFZgWxRiVuZIGSXcHDnie9HgzrnB4UwECx3FWRZlgcSdf9HEIjwicR4jwJxC4ikFUNJlwdCj1JnEKpoALVwDKFmALZ3BlAweHURmD5xZYK5I9kYgwKBCplQCSbpfm+ghG4xl5Xpc9tXdgKhOJ/AB2JpAIXAAwQhDZS4FaI5mkCokgexfug4EFAgZLRJfMrIjA5hBZKYa72pezDIEMJHEMXoB5lwOcWZezj4nHbokdJZg0V3IC5QnepxlpipnQh4MM7GcV//aBCTAJRtAZHe6SCXeZcE4QeVcJhQoIV1UH1z4ECAkp7cUYj6VhBnoJUEEY34yXjqsCYmIC7iaXoCAQYBOnz/4BgP0APp5n9wB6BHOIx/QJ+kIQajuKB84RIh4AC44BB+gH9/aABg4APFWAf++Qmj8VccCioVMgIOsGtKNxBvkIUDcYuY4J8G8A/ZaQC8+KJBEYIUEgLt92cN8Y4GYQbFWKNCSm7qsA0e6gBwpg10dYtfQS9PqhSnBiFGWhf7YhALqHoFUYYLgQrLYoHV2Q5O2h6O8aHP0A4/6J+3CAVQAAbhoEG40A0hEo5KgZ5byh008qFwJqUJoX4LoZSjgREb//oTEhao7TGodBGhCCFlA9GHAsGjQApoXSGZkCoZjiGjcbpRlkqcAwEGgLibsJANF+UWk6OB+3FvCvI63DEahEqpCLGGDDFz1kgVfuepn8oVHsoA09AOYboQO8VvsvCUA/F1RSFo10ZAwUoZt3qsD4FZ7bCRCGENCjWWW9KrCPhDdEOlhjUQZnpGATibktGl/jGsYCo0Y2oADaikDICmLtio2SequMoQx4cQV3AGtgcDCdCj0wpvUwpn2RCkEHEFCmoA7acO4PoWwFqwVyGuRioQ6moQA5spsPp3HVt+IyKjcPYRstF+9EJcFCtttkquE0sQoPACA4uvWdGm/tGyxGb3piwbEuxAHSHao84qdBmLfSNwpAkbEiyAmDILe5VJaOvxoSgWtAPBVLXwsVphDQqbsnBRrSVBtViLEzqQIqekHkdqs71xtV3rFQV6aj9LGkl7tjs3VG7LHjjiknHLfElWt6cXEAAAIfkEBQoABgAsFQANABUCtQAACP8ADQgcSLCgwYMIEypcyLChw4cQI0qcSHFhunQVM2rcyLGjx48gQ4ocSbKkyZMPz51DOVEdy5cwY8qcSbOmzZs4czJcqbOnz59AgwodSrSo0aNIkypdyrTpwm5Oo0qdSrWq1atYs2rdylXpIGzaFvLrSras2bNoQSrAlSyt27dw45ZU53Iitrpy8+rdy9coVIPtCOLtS7iw4cOIEytezLix48eQYfIU+MWAicB78ZCLzLmzZ6qYDco5iM1ntc+oU2v8hypE4X8fSaieTbu2xmSlPT7jZiC07d/Ag4s8B1u48ePIkytfzry58+fQo6PdJr269evYs2vfPnUy9+9mqYP/F0gIA4bx6NNLVUnwjvr38JX6jk+/vtMdKezr3w9zvt7i2FmDnQkAXjdFO0nwl9UDGyhI22CE8VTgct45aFyChkxoYVLiNedfdhVuaJWAzXW43TkkMgZhcikSFFZw55goYlkWFCgjcgJyUBBvM8IFgAEaIvTXQAfq9aIBNRLEI3MPGLTkcil8mJ01IfZopUYQhialais2FOSVSem43I0GRCkde0RipsiWZa2EQTugDERmcGHlyNyRJ6bIxIRVpkWKAT30aZw1TUbXJXZf6rXDP3MeJ6YBQkBnZnCJLpTgmm9VylyHOsYZKXSainTRVC0WZA2bDGG615/VhUpbo0k1/4OPTqWC1E6tYAqFq3Hq4HmQoD4tghNd2SgE7EBbupprT4+i1A6qckEr3K57vblsQaMy92xH1F57kLQxmYDKVrhyA25E3QzprVXKmtWDussVGmdMuUVnjDHuGCDNoQw1Y8AqBsCLFJun9iXwukrV61QtnThjwDnonJvQIrMONBZO3R5EyEHatIuwTA16wtc6vio51T9n9LEZVSUTJDGynwrEr3WKkDWNZwcjZcweBTGz0SsCJXPxsBUlYIh6/8x7VswzO1jOQPL8w0/OEhlT8UT9eOQxQjUUNgJQ/9TiFnXHcnWJQLD4AhFUVP/UTTvYdMNNN/9sTdA57XBTd0XXPP+8EWxNM7SCekN/3JA5CDuQWH4/lb0RrG8Fho5BkzuEkQGVP9TOP761U1fEvXmruOE4H0SXT4HzN7oMhbEOF5mQd4WmQLOTblNgrhOmgu1TvaxYuj2Nzvu1jg9v/PFkbZM68sxH1XbzAtViN/RWnf5RsXvRBfxLMsLQAvX6bQtcO+jwI75N3oMPfssK+a4+cNi/7z5jwr9vP3a58yWDCvPfz5T7z/MM7rKSgIzs7jECKIAADFAA4eQiFrkwAARjIRBgCCRrtxNO/fz3EAUeJHYcKR5TdPFAgTwwggIZxzjasb2aiBAyA2wJkHg3GoIk0DiVYMVBVPiPvgUsgCXpX1D/FDaTDUrkH8/gIHJWiBy6WO89NSNMOmggkAYyh4fr8hUMlIgQIUbGDxFU4fG2yEUnIeSFjPGhAVaIDS+WMSvnmaFbcJGcyb0tbm+UHxrz+Mb88fGPEDEiIAfZGUES8pCOWR0iF/kYzHyPkZBEjCIf8iR98WMa04ukJoXSP0hs8pNbSV9FMAhK67CPP5krpXRO+Z52iEyV24kfLDOyv1naMi0HvOVQ/sFKXfpyk7hjwS+HWRXhDQ4isKgE7YjJzJtMMiKZaKY0bSK8R07zmkWpJkP4wM1bCGQScsKmOEtiyIPwwQB+MIAyx8lOn5zBAG9QQ0GkgY5KtvOeI4GEGry5/5BUUsWP+EReLguyzoAaNCayMAgf5HkQfx70oRWRhcMG8gYDnBOiGK2IA4pjTYV8IqMglUgwFXLOQFjUAMEIqUoXEkOFgFMgmbACQRy6UpA6MpAoralOBbI6YSYknYjo4k5VKjyfDvWoIMkEQ5G60wdgxqgLAYMBKGAAfxjgpVgZKFMpksnqmHSrj+maLLEDVYIcIxN8CMRFwTrUsgrkGFhlq1wHIg2CrHWuihkreiwwkEoE4woC8cU7DUBEvIqzqAcxg0A+KpArQAGeijVsQJ9pkK4ZgJ8DwcRSJdtObSYkmgWZQx0mIYuuclaVMnArQTIxjoKcYQ4CoelpmdnTh/8oUwoGYOxsQ4oCk6rtIPxA0W4xygNMgDYTmDUDPYfLTtUOJBC/9QUsCCIN0zJXl774gzIfq846wLMfhb0uMztakH2o4asEkakBrrE88ZZSlASRRUoNENSDiAK83eilez9ZznNmQrcFCURk7blfWyI2wOg1gA8KzM6WhtYgnmTwNUcaYO8m1C1alTB2DlyQyBqAEwY4hoYnbIDULuQTXgBnXEd8TQALRBae3BiLxYnJqxpEDFLww4pnzBX9Oseox8hDQS4sBh6fRa/VgQGQRUGQl4LgDKKIsJG5gmRElYPJ3iUIDwQCCdhOeStVvg7VvMAIWZxzsF/GSpihY+KEVPT/m2m+ZW0LkolgpPSl80UEejMWZ0A+lc6/NcgZ+JBlWPC5z3ykMEEKeoxaiNgA8jSDFOR5szUj+o0cNgApEAGLdA6kFmrw8qVBSdnKVQIRO54DdwWCC3T4eNRlJO9APF2QLc8U1pCEr0Okuk7Z4nqToh7IO/lQiVf++tjITray/3jMZRMm086epYMJ8gkpR5uRxjQIqutrgCt4+AxBVYPYDGPpa7vlmR+qg1QLgglzJ7rEDFGvuwcJ7ZMOBLAGGKwZwr2YNLhx3lnJw1df220oSBUT675svaQHcJyU+zpzQISHuVuIP7jsgO1tuEjE+p7Nulaq4dU4IRNeEFTwUuQ1/7EsdpwqkLJmuSG4yO9VMrzfk6sHzevWwhWuYI6L1eJWoUM59P6sEA/7TSCw+XdPaC50xzi4rgQhuRwF8upbtuG0LZWRGRQL2Eqgg+luse5WG6Gceh+kQA9HS9qbzpU555bWBBE7VugwkLWzvSw+/YeLOea5e9odqfF7uenweWjIqPw6LDeAW4OdAGEovZSPx+dGEQIGM8hTBgwI+t0BCYXIFvAffydL4TfPl8wbwBpy12Tqd+qbz2eDc6T/4zFUkPnIsyz2jOHGI6Gijj3i/niDw4XvuzJ6sEbxO4MzefHLko2M/z4uq39+R3Zwnpip1PnSH3r2AVm77ctlY4Pw/gcb9yZ+LgYEACH5BAUKAAYALB8AGAAEAqQAAAj/AA0IHEiwoMGDCAVmS8iwocOHECNKnEixosWLGDNq3Mixo8ePIEOKHEmypMmTKFOqXMmypcuXMGPKnEmzps2bOHPq3Mmzp8+fQIMKHUq0qNGjSJMqXcq0qdOnUKNKnUq1qtWrWLNq3cq1q9evYMOKHUu2rNmzaNOqXcu2rdu3cOPKnUu3rt27ePPq3cu3r9+/gAMLHky4sOGDTP4dXsy4sePHkCNLnky5Mt9pjLU5Tmy5s2en7T5/3SDabujSqFOrXs26teuZpCObUByY8+vbQE8LPBd4ijrcUh1wMNCosW7CvwXSBn70eGzIs7sZXs5cKWlP0KtrX7mN4PHtJjuF/ytqSDFv8OjfNqNpjWFy7wa+pwf6XCA3kerUoUM3X2j5/kXVZ4BmAGaEGVHJyVdgUAJu042CC24kDT/dnBfhXtddSNIiBiRjwDUEaigia804MyJhEFJlDjYntujiVo8IhI2FL+JFY40XxTPeayHiOBMlAvkCC1wUtmOkj0gmWdcKSs7EzX4EoZNOk1RWaSVGMJTV45VcbtRCl2CGKeaYZJZpETc3mqnmmirJINCWbAJ4ZJx0hoVNOuic815h3dXZlXR+EtRnoFoBSuiAhybKlYOKNuoTABoN6mhGseRCkKUGrDMpTHBuutE+5qDDzZ6eliSDCgZIWipEfmBa0D7+tP/D4qosdUrrRP7cd+uuQ6XI668yZcIKsMT+5A87Bhha7LIw8abOfboyK+201FZr7bXYZqvtttx26+234IYrrlaqjmtuQ+Weq65Btq7r7rvwxisvu/Oue2q98baLL7duIrqvuvr+e1slA0XbVMACt8YHH1QhnLBqTDw8Lh9vSGzxxRhnrPHGHHfs8ccghyzyyCSXbPLJKKescn8Or6xXMJUEwkcgV93rsmHSEHwzrcd81fLOdmng1c9Az3XGQJ8MmRXRRcv1gkDjfELQH29kIoqoUDHddF6BzEGwr0dpvfVbFGBiTkIGHzw2YX8U4ssbV1Ql9tpsaYCJAZkgdE43C9H/XaYPiAhUhyuyDHTGMdT5baYvBsByC0Hl8Ke4mnnHjfccBnixTpqTWxlMxQbMUYhBZtinbOdWPt54IH8IJAskDKMeZxaiFPSJ5LKD+QnjBvBwNkHY5Q5mHcLTicjRAokhxTNXfVk8XciHIwoXz7MpyhRSV1+m6tqzCQkkWKXbPVtqlPBG8FbNPT5XUjMRAxOFg97w+nBNIoVAnCDCR+nz0x8XJJ/wgwH4578kwUIWn4idAbKXvgKmRUg905mJDCBAMPTPgWVBhNIIQggrDEQKc5AF86AiPgx+JW8CqcUxSDEQhkGhYsxT303uVUITbgUVmagE+AZyjDeogQ9qaKANkcOCrAXygYFbkeEQoRI4g0DBg0ukEhSjWCP5DZCKWMyiFreIERdw8YtgDKOn2iPGMprxjGhM40WUqMbUsLGNcIyjHFVTw9W8cYg2m2N/6qjH1/DRMmnoI0P+SJk2CJIhdzxkZBKpyMcwspGQjKQkJ0nJSlrykpg0CSEFQ0aJ1QJs0uqkxE4Xlr5lsiaPPKVeAgIAIfkEBQoABgAsIAAsAMsBjwAACP8ADQgcSLCgwYMIEypcyLChw4cQI0qcSLGiRWsWM2rcyLGjx48gQ4ocSbKkyZMoU6pcybKly5cwY1LkILOmzZs4c+rcybOnz59AgwodSrSo0aNIkypdyrSp06dQo0qdSrWq1atYs2rdyrWr169gw4odS7as2bMym+FDy7at25uL3sqdS7eu3bt4a2LMyxdpu3Z9f4b71w5d4MOI3zYzsMpAN2yJI0smu2jt5Mtm12nDzLmzZ6evBCbj97m06aXGLJ9ezfrnuXbc/v07qwNG69u4eabIzbu379/As8o4uy24cacqjitfPvEB8+fQIw6PTr269evYCWbLzj24jOTdw/v//m5gs3jfgK2TN3+ed/r28OPLn0+/vv37+PPr38+/v///AAYo4IAEFmjggQgmqOCCDDbo4IMQRijhYdNNaOGFGCJWYYYcduihW+x9KCJLIY5o4knbnajiiiy26OKLMMYo44w01mjjjTjmqOOOPPbo449ABinkkEQWaeSRSCap5JJMNunkk1BGKeWUVFYZWIpW1nVMJnwEwkeWEh4zCZgXShMWlmS+ZUGaE5ox0C2fsPlgDQLdcgtBmKjhhyzcdCNng3PUMeZsfxL4QCbjJGRYoQfWgUklgUjB6IEoBGKALwjxc85ek/rHAyYC/ZHJnQKZIc2inQp4py+wECQNoakC/1iJAVAIVEkdBrzRD2Sx7jeOFwKpYWlBVgh0jTq96ieLQL4g0odAwSDiR7IF+tAqQaL0Qy1/lZDqg5nYbrvfHOIWGAiuAr0RRDlZgVeuV24aYA4nwL4r4CdejHkVefaCtWy/BPqhL1YlApyVFzGIIYpWaBp81ZhWgHDGwuRe1bDDVn1SrAGiQDLHGRZj3BUjsnwJssjy3QKLLG8MNDDK8WUSTDAG6EuzAYgYsDHM4WWCaUGQMDHQFW/AwinP2M0q0DG1HDNQIQZIoYYB0xhwMdLMkYIILNMOVIsac7xRMdbZLVoJIi+TPV/XBfEQr9rzgQF3e2MbcPLceOet994TrUPA999/8wv4gFcPbvjhiCd+eOGKL8d445BHLjlwBXd39OSYZ6755px37vnnoIcu+uikl2766ainXmPlqrcu5eWuTxQQACH5BAUKAAYALCAALADLAY8AAAj/AA0IHEiwoMGDCBMqXMiwocOHECNKnEixosVpFjNq3Mixo8ePIEOKHEmypMmTKFOqXMmypcuXMGNS3CCzps2bOHPq3Mmzp8+fQIMKHUq0qNGjSJMqXcq0qdOnUKNKnUq1qtWrWLNq3cq1q9evYMOKHUu2rNmzMjuFQ8u2rdubzd7KnUu3rt27eGtizMu3r1+H0vh1O/e3sGG2iwwkM3BN2+HHkMM2cxa5cllz2Cxr3sxZ6SOB2Ah3Hk36aLy1pVOr7im4neuzNWSsnk0754rauHPr3s17KoyzjnsLX9piuPHjEB0gX87c4e/m0KNLny49OPXrumEUx849t3YD27rr/+4m/Xt48bjJo1/Pvr379/Djy59Pv779+/jz69/Pv7///wAGKOCABBZo4IEIJqjgggw2WNhzDkYo4YQPUmjhhRjOdV6GHLa0YYcgomRdiCSWaOKJKKao4oostujiizDGKOOMNNZo44045qjjjjz26OOPQAYp5JBEFmnkkUgmqeSSTDbp5JN8jQjlXMFUEggfgUzZoDSVaCnhMWFJ6WVbGozp4BkDfQKLmQq+INA4nxD0xxuZiIION2wiGMgcXbaTJ4AUYGJOQnj+KeAfhfjyxhWGCqgBJgZkgtA53WTT6H4+ICJQHa7IMtAZx/xz6X++GADLLQSVg86o/UnKaKRzGP/gxTqisVpfMG8INEchBpkhEDfq2TofqqYG8odAskDCh7AAZiFKQZ+syqx9n5RqAA+DEuTJtPbVwS2AiKApkBhSPJPVdt96JW44onCRrn+iTBHnVd+9Cxax9voHCSRafZivVmqU8Ma2WYn5b1VxMhEDE57mepXBB1M1iRQCcYIIH75aBXHEVUHyiR8GZMwxe7DI8smyAs07cnu+wAJmlwZQZgDIYKwsHiJrFkSIFQNJMYcs5tp8naQC1XIMKQMtC0Wu5m4stHCoZFIJvwMd84YafKjxNHbspMyHylu/p6lBUPAc9ntmn92dwwKJrPbbcMctt0QuzG233fXe7Z81evc57fffgAdOkNOC90Z44Ygnrvhs/nJ3+OKQRy755JRXbvnlmGeu+eacd+7556CHvmDjope+pKWmWxQQACH5BAUKAAYALCAALADLAY8AAAj/AA0IHEiwoMGDCBMqXMiwocOHECNKnEixokVrFjNq3Mixo8ePIEOKHEmypMmTKFOqXMmypcuXMGNS5CCzps2bOHPq3Mmzp8+fQIMKHUq0qNGjSJMqXcq0qdOnUKNKnUq1qtWrWLNq3cq1q9evYMOKHUu2rNmzMpvhQ8u2rdubi97KnUu3rt27eGtizMu3r1+H4f61Q/e3sGG2zQysMtAN2+HHkMMuWhu5Mtl12ixr3sxZ6SuByfh1Hk0aqTHKpVOr5nmuHbd//87qgLG6tu2cKW7r3s27t++pMs5u+02cqYriyJNDfKC8uXOHwZ9Ln069OvVs1rP7lnFcu/fd3A1k//6+ux318OPJ3zavvr379/Djy59Pv779+/jz69/Pv7///wAGKOCABBZo4IEIJqjgggw26OCDhUUH4YQUVhihhRhmqOFc6W3oIUsdfijiSdiNaOKJKKao4oostujiizDGKOOMNNZo44045qjjjjz26OOPQAYp5JBEFmnkkUgmqeSSTDbp5JNQRulXiVLWdUwmfATCR5UPHjMJlxRKExaVYL5lQZkQmjHQLZ+gyWANAt1yC0GYqOGHLNx046aCc9TxZWx7BvhAJuMkRFigBNaBSSWBSIEogSgEYoAvCPFzzl6P7scDJgL9kcmcApkhzaGZ/jenL7AQJA2gpfZXiQFQCP9USR0GvNGPY63iN44XAqkhaUFWCHSNOrneJ4tAviDSh0DBIOJHsQL6kCpBovQDbX6VgOqDmNRei98c3goYCK0CvRFEOVl1F65XahpgDie8rvvfJ158eVV48oJ1bL4B+mEvViHym5UXMYghilZkCnzVl1aAcMbB4F6VsMJWfRKsAaJAMscZElPcFSOybMmxx+/dAossbwz0L8nuZRJMMAbYC7MBiBhwMcveZUJpQZAwMdAVb8CCKc7VvSrQMbUcM1AhBkihhgHTGDAx0cmRgggszw5UixpzvBEx1dYdWgkiK4MNX9YF8dCu2fCBwbZ6Xxsw8tt012333ROtgPfee+M+yzeAU/8t+OCEFz544IYjh3jijDfueG8Bazf045RXbvnlmGeu+eacd+7556CHLvropJceY+Smp+7k5KpPFBAAIfkEBQoABgAsIAAsAMsBjwAACP8ADQgcSLCgwYMIEypcyLChw4cQI0qcSLGixWkWM2rcyLGjx48gQ4ocSbKkyZMoU6pcybKly5cwY1LcILOmzZs4c+rcybOnz59AgwodSrSo0aNIkypdyrSp06dQo0qdSrWq1atYs2rdyrWr169gw4odS7as2bMyO4VDy7at25vN3sqdS7eu3bt4a2LMy7evX4fS+HU797ewYbaLDCQzcE3b4ceQwzZzFrlyWXPYLGvezFnpI4HYCHceTfpovLWlU6vuKbid67M1ZKyeTTvnitq4c+vezXsqjLOOewtf2mK48eMQHSBfztzh7+bQo0ufLj049eu6YRTHzj23dgPbuuv/7ib9e3jxuMmjX8++vfv38OPLn0+/vv37+PPr38+/v///AAYo4IAEFmjggQgmqOCCDDZY2HMORijhhA9SaOGFGM51XoYctrRhhyCiZF2IJJZo4okopqjiiiy26OKLMMYo44w01mjjjTjmqOOOPPbo449ABinkkEQWaeSRSCap5JJMNunkk3yNCOVcwVQSCB+BTNmgNJVoKeExYUnpZVsajOngGQN9AouZCr4g0DifEPTHG5mIgg43bCIYyBxdtpMngBRgYk5CeP4p4B+F+PLGFYYKqAEmBmSC0DndZNPofj4gIlAdrsgy0BnH/HPpf74YAMstBJWDzqj9ScpopHMY/+DFOqKxWl8wbwg0RyEGmSEQN+rZOh+qpgbyh0CyQMKHsABmIUpBn6zKrH2flGoAD4MS5Mm09tXBLYCIoCmQGFI8k9V233olbjiicJGuf6JMEedV370LFrH2+gcJJFp9mK9WapTwxrZZiflvVXEyEQMTnuZ6lcEHUzWJFAJxgggfvloFccRVQfKJHwZkzDF7sMjyybICzTtye77AAmaXBlBmAMhgrCweImsWRIgVA0kxhyzm2nydpALVcgwpAy0LRa7mbiy0cKhkUgm/Ax3zhhp8qPE0duykzIfKW7+nqUFQ8Bz2e2af3Z3DAoms9ttwxy23RC7Mbbfd9d7tnzV69znt99+AB06Q04L3RnjhiCeu+Gz+cnf44pBHLvnklFdu+eWYZ6755px37vnnoIe+YOOil76kpaZbFBAAIfkEBQoABgAsIAAsAMsBjwAACP8ADQgcSLCgwYMIEypcyLChw4cQI0qcSLGiRWsWM2rcyLGjx48gQ4ocSbKkyZMoU6pcybKly5cwY1LkILOmzZs4c+rcybOnz59AgwodSrSo0aNIkypdyrSp06dQo0qdSrWq1atYs2rdyrWr169gw4odS7as2bMym+FDy7at25uL3sqdS7eu3bt4a2LMy7evX4fh/rVD97ewYbbNDKwy0A3b4ceQwy5aG7ky2XXaLGvezFnpK4HJ+HUeTRqpMcqlU6vmea4dt3//zuqAsbq27Zwpbuvezbu376kyzm77TZypiuLIk0N8oLy5c4fBn0ufTr069WzWs/uWcVy7993cDWT//r67HfXw48nfNq++vfv38OPLn0+/vv37+PPr38+/v///AAYo4IAEFmjggQgmqOCCDDbo4IOFRQfhhBRWGKGFGGao4VzpbeghSx1+KOJJ2I1o4okopqjiiiy26OKLMMYo44w01mjjjTjmqOOOPPbo449ABinkkEQWaeSRSCap5JJMNunkk1BG6VeJUtZ1TCZ8BMJHlQ8eMwmXFEoTFpVgvmVBmRCaMdAtn6DJYA0C3XILQZio4Ycs3HTjpoJz1PFlbHsG+EAm4yREWKAE1oFJJYFIgSiBKARigC8I8XPOXo/uxwMmAv2RyZwCmSHNoZn+N6cvsBAkDaCl9leJAVAI/1RJHQa80Y9jreI3jhcCqSFpQVYIdI06ud4ni0C+INKHQMEg4kexAvqQKkGi9ANtfpWA6oOY1F6L3xzeChgIrQK9EUQ5WXUXrldqGmAOJ7yu+98nXnx5VXjygnVsvgH6YS9WIfKblRcxiCGKVmQKfNWXVoBwxsHgXpWwwlZ9EqwBokAyxxkSU9wVI7JsybHH790CiyxvDPQvye5lEkwwBtgLswGIGHAxy95lQmlBkDAx0BVvwIIpztW9KtAxtRwzUCEGSKGGAdMYMDHRyZGCCCzPDlSLGnO8ETHV1h1aCSIrgw1f1gXx0K7Z8IHBtnpfGzDy23TXbffdE62A99574z7LN4BT/y344IQXPnjghiOHeOKMN+54bwFrN/TjlFdu+eWYZ6755px37vnnoIcu+uiklx5j5Kan7uTkqk8UEAAh+QQFCgAGACwgACwAywGPAAAI/wANCBxIsKDBgwgTKlzIsKHDhxAjSpxIsaLFaRYzatzIsaPHjyBDihxJsqTJkyhTqlzJsqXLlzBjUtwgs6bNmzhz6tzJs6fPn0CDCh1KtKjRo0iTKl3KtKnTp1CjSp1KtarVq1izat3KtavXr2DDih1LtqzZszI7hUPLtq3bm83eyp1Lt67du3hrYszLt69fh9L4dTv3t7BhtosMJDNwTdvhx5DDNnMWuXJZc9gsa97MWekjgdgIdx5N+mi8taVTq+4puJ3rszVkrJ5NO+eK2rhz697NeyqMs457C1/aYrjx4xAdIF/O3OHv5tCjS58uPTj167phFMfOPbd2A9u66//uJv17ePG4yaNfz769+/fw48ufT7++/fv48+vfz7+///8ABijggAQWaOCBCCao4IIMNljYcw5GKOGED1Jo4YUYznVehhy2tGGHIKJkXYgklmjiiSimqOKKLLbo4oswxijjjDTWaOONOOao44489ujjj0AGKeSQRBZp5JFIJqnkkkw26eSTfI0I5VzBVBIIH4FM2aA0lWgp4TFhSellWxqM6eAZA30Ci5kKviDQOJ8Q9McbmYiCDjdsIhjIHF22kyeAFGBiTkJ4/ingH4X48sYVhgqoASYGZILQOd1k0+h+PiAiUB2uyDLQGcf8c+l/vhgAyy0ElYPOqP1Jymikcxj/4MU6orFaXzBvCDRHIQaZIRA36tk6H6qmBvKHQLJAwoewAGYhSkGfrMqsfZ+UagAPgxLkybT21cEtgIigKZAYUjyT1XbfeiVuOKJwka5/okwR51XfvQsWsfb6BwkkWn2Yr1ZqlPDGtlmJ+W9VcTIRAxOe5nqVwQdTNYkUAnGCCB++WgVxxFVB8okfBmTMMXuwyPLJsgLNO3J7vsACZpcGUGYAyGCsLB4iaxZEiBUDSTGHLObafJ2kAtVyDCkDLQtFruZuLLRwqGRSCb8DHfOGGnyo8TR27KTMh8pbv6epQVDwHPZ7Zp/dncMCiaz223DHLbdELsxtt9313u2fNXr3Oe3334AHTpDTgvdGeOGIJ674bP5yd/jikEcu+eSUV2755ZhnrvnmnHfu+eegh75g46KXvqSlplsUEAAh+QQFCgAGACwgACwAywGPAAAI/wANCBxIsKDBgwgTKlzIsKHDhxAjSpxIsaJFaxYzatzIsaPHjyBDihxJsqTJkyhTqlzJsqXLlzBjUuQgs6bNmzhz6tzJs6fPn0CDCh1KtKjRo0iTKl3KtKnTp1CjSp1KtarVq1izat3KtavXr2DDih1LtqzZszKb4UPLtq3bm4veyp1Lt67du3hrYszLt69fh+H+tUP3t7Bhts0MrDLQDdvhx5DDLlobuTLZddosa97MWekrgcn4dR5NGqkxyqVTq+Z5rh23f//O6oCxurbtnClu697Nu7fvqTLObvtNnKmK4siTQ3ygvLlzh8GfS59OvTr1bNaz+5ZxXLv33dwNZP/+vrsd9fDjyd82r769+/fw48ufT7++/fv48+vfz7+///8ABijggAQWaOCBCCao4IIMNujgg4VFB+GEFFYYoYUYZqjhXOlt6CFLHX4o4knYjWjiiSimqOKKLLbo4oswxijjjDTWaOONOOao44489ujjj0AGKeSQRBZp5JFIJqnkkkw26eSTUEbpV4lS1nVMJnwEwkeVDx4zCZcUShMWlWC+ZUGZEJox0C2foMlgDQLdcgtBmKjhhyzcdOOmgnPU8WVsewb4QCbjJERYoATWgUklgUiBKIEoBGKALwjxc85ej+7HAyYC/ZHJnAKZIc2hmf43py+wECQNoKX2V4kBUAj/VEkdBrzRj2Ot4jeOFwKpIWlBVgh0jTq53ieLQL4g0odAwSDiR7EC+pAqQaL0A21+lYDqg5jUXovfHN4KGAitAr0RRDlZdReuV2oaYA4nvK773ydefHlVePKCdWy+AfphL1Yh8puVFzGIIYpWZAp81ZdWgHDGweBelbDCVn0SrAGiQDLHGRJT3BUjsmzJscfv3QKLLG8M9C/J7mUSTDAG2AuzAYgYcDHL3mVCaUGQMDHQFW/AginO1b0q0DG1HDNQIQZIoYYB0xgwMdHJkYIILM8OVIsac7wRMdXWHVoJIiuDDV/WBfHQrtnwgcG2el8bMPLbdNdt990TrYD33nvjPss3gFP/LfjghBc+eOCGI4d44ow37nhvAWs39OOUV2755ZhnrvnmnHfu+eeghy766KSXHmPkpqfu5OSqTxQQACH5BAUKAAYALBUADQAVArUAAAj/AA0IHEiwoMGDCBMqXMiwocOHECNKnEhxYbt2FTNq3Mixo8ePIEOKHEmypMmTD7upQznxH8uXMGPKnEmzps2bOHMy5Kezp8+fQIMKHUq0qNGjSJMqXcq0KcOVTqNKnUq1qtWrWLNq3co1qSFr2BaS60q2rNmzaEFCiBQ2rdu3cOOSvEix3Tm5ePPq3YuU20G/A13yHUy4sOHDiBMr3mhtsePHkCNHhCpQjIESgvM6qia5s+fPVNMhjHNwm8+xoFOrztiO1AjClDnSWE27tm2NqzJzTMbOAODbwIMLH8kP3fDjyJMrX868ufPn0KNLT/t7uvXr2LNr387daezu4Mtq/ws/cJCFDOTTq5eqLvag9fDjK9Utv759pzpU3N/PHyb9vBhpN012KQS4HRH9ZeUABwnWdpdhphlgYHPfNTgcgopMaKFS4z33n3YVbljVgCKqpk42A00R4l4PNkdiQREGp06H660IFwYTVqfcgBvAWGJcCUhIERMfphUjjgR185wDBsXInAlFZpeNjT9WSVGLAlEWpWpYPqShlWB6pGN27SFkyJZkmWbBP6QMRGNyKPLYnJOxUZnciQRpaGdZoBiwA5rByelJmJ8Z+KVcPbQzpnBFBjHdoatByhCChsAlqXNvDuQodAXKRJdUmRKkDaAKnblXn881Bt2iS3USjk4vhv+kiAFTElpUrMqd4+RBe+bUDE7ndEkRmqTa+tOuHqWjrGiHFRscigZlmNea1zFIELIcfcpcmRzhipSwDTnrlpI/pdCmVgNaW5C4xuJ1qVt/QrcgTawyJ0880BggzLsJLWJAMgZc09SWo/LFb7tECSyVNGzgYwA6/7B7UDPOEASuTKEudMdB1hyMME0MNrIuXOa0dZBxUp2jRioKT4VtYC0hONDF2Inc1TOftcxUPGEUBLBGjwiEDc0xEb0QA++p186gaG1qbD8D1UNOP702FM+rFPXWkccKyUBYCAa8TJM6qLg1XtWDCYz2TYpqw00356jDtUH8dHPR3AWNhzJrBhj/zVAKg9XgtU9+f0yQPwg/gNgKQK1NUcZyrfQlsw1BhTdCAXJzF+VhKm74ZyEG6xO5YHoOA2Gnw5Ux5GZxm6Xjn4/kUuqDtRD7VPV2pi1OnvPF5O1YwQ48VbQPb/zxyJ+Ve/IC4SI8QsUzb9TuHLGeVjfdKAtTpjLoxxcMtktfFPbD6fo8SN0PBr74comNEOnsj7R+YqrGD79tvR8Gbfz8sxR9XuD7R8f6ZxaJCSk4syuM7aw3mAIIoAAGEMBwYpELChrAgqMbTv4Msz/HPPAgDOzI+YpSDAxSMBYFWR5LRoiYBE5ESSz8yfpCGBfSEMSBx8mDQ6gXEwMORYUm2aBE/9SBDK50kIDGQgc6RBefSg2mGyQQiASbsw9/aM1WRxwcEg/iw9RU0Xha3GJBOEeQGA7GZAbAxjX2JsbBoOeAaREGc+4CxDbejhtmtCP//qfHPkJEiH4MJGgAKchCRsZ0qDOkIhciGO8t8pGIQWRKClILdmjjckHhIyQV2UUdbvKTZElfRa4ISuy4bz88KWV2TqkedIhCleGhISwdMr9Z2vIt4btlUdrBSl065Ii+ROLsHKmXWgZTjL0jZkNuAYksbQWYx4yfJCNSia2kDprRFF8yOZhNJG5zIX54QyY+cRZsdjN5hDzIGwyACANMwgBvaGdXzHlOParBAHw4gwGmMP8Qc9StngD9iR/mAAt18mEgZJyKJgMqvlwWhJwMjShRKlaQN8wBcxLNqEyCUdCBHHSdGg0pSh4QIGUi5BYiTWlJZudQg6zzoIEwgCxUSlOPuFAhEDVAJfQ5kDrW9KcEaSREGGCAYwD1qH8UiDENUs2D/gWpUE3IN6NK1Zgg4qJVzWpCHCCYliZECgbQgAHMYYCcXsWrWtUIJq+D1bR6xmuybA5aDRCMSgSCDzE1y1LdaiWTGkAa1eSrYB9i1IHIc7CRiet1xCoQSIwDrAbIxD1980zEbmiqBOHpOwUChSsYIBA8NaJlLTRNg7xAIDMlyB/aWtnRJgizBvGFQQIxh0r/BMOnSqGna+UDA78OBBOFHYga6iAQ3CZFt7tNj+l8exByenazrU1umDSAicgi5BzdQK50ReoDRMjWAL7oqAHOcIwubveWzDVAHTIhkEygdCDlYON5kbqPM8jWs5G9qBfWUbj5ZpO5vggEcQtihuLez78BFSVBPjEOgeTVIJ9gxzXaUT8EnzOd7axEYA1SCJ4e2MLZhK16D2sALYCYpjctyIAJsuETZ3SYBkGEPoOBSxevR8TjHUgi/mrjkMJYIaJQAyF0Spa99ng9ryzILejgziOrVBtKamZB/LADSEjZyW7ppXMcGYwhL1ggTsWy2bij4FqkViAQHYEVPNFiMYuH/zztkMagQisQHQgEEWF2M1kU6xxJqQESomhngfW8Z+70ViFhNitZtEvo5Cw3trAwamCT7IdCDISUV2F0o5EjVIIgQrwElrFAboEzrfB50wg0wKELwl6B1OIYtRDIRc8AhXXi7NRCmSGqp4NZVGSiElcu6hsmaxZN7xo4pdXaJ/igaAMUggcEkUZ2s2LsYwvHtyQeCBRSaG1VKtghVrAuHLt9TJASpMB+yASqyM3udrv73ed0AbwVg+N5+zLFBJlEm/U6V3vjbyAm9UMlWm0AKIS2DjGdw7kIU2F/F2aaHzrDoAnyYIcHEt8HAYPFNyniikN2wH9IuGLEYN6Nm8UPTv8drgHA4IMC12Hin8iM80z+E1w/5w2gHQh+MTFxA/xD3n2jeU/gCp8VG8QMBday0AOJX4PUgsJL10kYr8NVgbSUtQtBhQDPqmdewmfi+IUCFMAQDpThohvj+TBTjBz1z3Q6IXTODEZK/pMFtn01KQ6uQHoe9IFUOyk2vztfbqohMBB327DIBuPMYr21CicN0ZmVcupdkFQKpOHUhkjgBZ+VR6M2zwPJI1J0u7HLc/4w3msHdBNiDXWo3Sp/nw7mz0sjrI9MpLFPzNStU3UDeNXoDND6T+leU5Ii5ApnuCgMgkT80x/vCho3AFHVMXu5bN75cgkSrRwPS+4PVjdEpXBVO16PfTGC4gXML4zSj3N9xLLjtLgQyD9ED8nc75YFBqhF82FvYyeCx3ZPVxjW0F/lRxjeV4AnoQPo4TRURYAIKEwP+EiuE4GE8R5eRoGBxEMY2EYBAQAh+QQFCgAGACwVAA0AJwK1AAAI/wANCBxIsKDBgwgTKlzIsKHDhxAjSpxIcWG6dBUzatzIsaPHjyBDihxJsqTJkyTPnUM5UR3LlzBjypxJs6bNmzhzhlyps6fPn0CDCh1KtKjRo0iTKl3KtOnNbk6jSp1KtarVq1izat3KtevEQdi0LeTntazZs2jTxlSAK5nat3Djyr2pzuVEbHbn6t3Lt29VqAbbEczrt7Dhw4gTK17MuLHjx5Ajc+Up8IsBE4L34iEnubPnz2gzG5RzEJvPaqBTq2b5D1WIwv8+klhNu7ZtlMlMe3zGzYDo28CDC695Lvbw48iTK1/OvLnz59CjSx++bbr169iza9/OPTXl7uC9Vv8PP5EQBgzk06s/q5LgnfXw42/9Lb++/bI7Utzfzz8ofb3GYWcNdiYEeN8U7STRH1YPbLAgdIT5xZOBy333YHYKGkLhhUiN19x//FnIYVUDNufhgueUyFiEyalIkFjBnXPiiIZZYOCMyA3IQUG90fgWAAZs2BFgAyGoF4wG2EhQj8w9YBCTy6UAIn/WiOjjlRVFKNqUqrEokpBYIrXjcjgaICV23aS5UHtFZqYIl2WthEE7oAxUZnBi6cgckiiqyASFVqZFigE9BDqcNU5G5+V+YOq1wz93HjemAUJAd2ZwjYKk4JtvZcqchzvWWSl0nop00VQuFmQNnCFxuteg05X/SlukSTWDj06p3tROrmEGxetw6vB5kKE+LYJTXdkoRGxFXMraq06TotQOq3JRm92ve835LEGnMjdtR9huu5G1MZmAyla8ckNuRGqKO5ezZvVAZJMC1RmTbtEZY4w7BkizKEPNGLCKAfN2BeeqfRXsrlL4OlVLJ84YcA466ya0yK0DkYVTuBwRcpA28C4ck4Oe8LWOsEtO9c8ZfXBGFcoEVczsqAL9a50iXk3jmcJJGbNHQcxs9IpAyWh87EsJGKLeP/aeRbPNC5YzkDz/8MPzRMZgPFE/HoXcUQ2FjQDUP7WoVd2yXF0iECy+QATV1UB10w423XDTzT9eE3ROO9zg/13RNRJvFBvUIa2gntEiM2RO4g85kJh+P6G9Ea1vCYaOQZc7hJEBmT/Uzj+/tWMXxb4xzpDjpkfGc10+ES4y6jIUFjtcZVLeFZsC4Z76UYLN7pcKuzsls2LtNoV68FhKjvzyzMe1jevNR98V3NJLVEve1U/F+kfJ7lVX8UHNCEML2cv3LXDtoMPP+UqNXz7zMCs0/PvSdZ/9/MAdT//+8PnOlwwqwB//kjI/6nnLAP6rSgIyArzHCKAAAjBAAYSTi1jkwgAWjIVAgCEQrtlEgLfR3wAZAsGD2I4jymOKLiookApeUCDjGEc7wDeTFB6ndxRxCfYWRBqCPHA4lWDFQf9i+A/AEcyAJgEhUBp2FBFK5B/PGKFwZIicumwPSzjzSzpoIJAJMoeI5RMWDKRYECVCxg8XjCEZDTDGNQoESnqzjRENIENsmNGNcEFPkN6Ci+RcTm50w6MgfWPDQRryIAk8pCIr4sRFOnI1jXykJD0Du0la8jOZId8lN+mYSj4EjtLgxzR2yMlS8q4ikDClKs/ivop4cJXOiZ/IOgfLPSWuHSWr5XTsp8uSALCXwJxLA4PZk3/IkpjITCZCescCZTozK8czHERgUYncPfOaPfFkRDKBzW7q5Hia9KY4kwJOhvDhnLcQyCTsNM52siSSB+GDAfxggGq6855COYMB3qD/hoJIAx1wxKdATwIJNaRzIbSkSiIHSr9hFsSeDI1oTWRhED708yAJlahGOSKLiA3kDQaQ50ZHyhEHGCecCvkESVeaEWYqRJ6BCKkBgsHSmnoOgQxZp0AyYQWCZNSmQM0kRBxHU6AatSCwa2ZC6ImIZR71qMdT6lOnSpJMXJSqWH1AZqS6EDAYgAIG8IcBdIoVh2K1IaSUT0zPihiw8XI/XCXIMTLBh0CIlK1njatAjkFWvPr1INIgyF3/2pe30sgCA6lEMK4gEF/o0wBMJKxAo3oQMwhEpQK5AhT2aVnJblSbBgGbAQ46EExc1bMRLWdCuFmQOdRhErJIK2qDKQO9/xIkE+MoyBnmIJCfzlacSX1INaVgAMz+1qgoiGnbDsKPFB23pjzABGszQVoz/PO5DLXtQAKxXF/AgiDSkC12nemLP1Rzs/Wswz77EdnxihOlBdmHGtZKkJ4a4BrQc28wW0kQWRS1qQcRBXu7cUz9AhOe8syEcQsSiM4G1MDKpCyD6WsAH0CYoTg8CG8LksoL39OlDFYvRdViVg+vR8IF6awBOGGAY5j4wwjU7kA+4YV19vXF91ywQGSRSo/hWKCjHKtBxCAFP9z4x1Up8Hqkeow8FGTEYkCyVgxbHxgwWRQE0SkIziCKDku5KlRmVDmwrF6C8EAgkNjwl6cS5vvAzf8LjJCFPB+75qi0uX8y3udAjlznAwuktgbJRDBoqtP/0pdjfbbkVguSieUa5Ax8KDMsEJ1oSYKYIBA9Ri1cbIB+mkEK/dTZnSvtSBQbgBSIgAU9B1ILNaiZ1L0EbeYqgYgjzwG9AsEFOpQMa0fCdyCrLsiZfdrrVfLXIV61p2+LrctXC0SffKhELplN7Wpb+9qrlCa2H2PqbSczwwb5hJe9rcpoGqTWADbAFVR8hqaqoWyGGTW5C6NNENXBqwXBxLwtjdOF2Hffl+y2TAfCWAM81gzuXkwa7gjwtORhrbtVNxS8igl8jxZf12t4TOR9nzkgQsXoLcQfYtbA/Gp8I27/xdJpdevV9p58kxYvCCqM+XKWiHY/WhVIXMvcEFwQ+Col/i3Nr0RnfGvhClcwh8ZqsavS1XyEi1aIigMnkNgwXCdBf/pqwN2vgsR8jwPhNSzb4GFwz8gMlmVsJdCRdbWI16aNAI/AD2IgjqPF7lqPS3AvG2yCvP0qdBgI3vOuF6X+Q8cfE503Bz9b+/H8ICaHJaUhc/P75NwAen11AoRx9Ut2vqYmRQgYzNBPGTDA6YS3JBQ6u8B/MN4rk099Y05vAGv8/ZG3J+xvWp8N0Ml+ksdQwek/PxWx/z4x3NAkVNRRyOPvz3C4aD7sZ5vFCxlu5rE3SzYi7/zD5L77EtkBHHpohlfug3+AxD8/8nSn/sR4bBDtd6Tf4q/IgAAAIfkEBQoABgAsHwAYAEkCpAAACP8ADQgcSLCgwYMIBWZLyLChw4cQI0qcSLGixYsYM2rcyLGjx48gQ4ocSbKkyZMoU6pcybKly5cwY8qcSbOmzZs4c+rcybOnz59AgwodSrSo0aNIkypdyrSp06dQo0qdSrWq1atYs2rdyrWr169gw4odS7as2bNo06pdy7at27dw48qdS7eu3bt48+rdy7ev37+AAwseTLiw4cOIEytezLixY61M/j2eTLmy5cuYM2vezLmzZ6nTEmv7bDMy6dOo67ZLXXUDa7/czsmWvU02xW4G/qmzuPq1798yz6n7R7z4P3TdznXD/ZCbNmvcDOwGTr26zuXqeNHqtZ3Wrlrk/nH/U6cuXTryBNv15saN3zJa5NpFt07WtWMTkhfPPocNW75Q1ICTDzjEfPMMP+yRt5xtBuzHHj+8iENOgtPJZt5yDZlG34Yu9SbQOZNhw444odgizjPPENgLOdZgYwA/xBU03HgCqaMeegMth6EB6iE0xXQcHuUABwY0opiHliUz4ibE5JOMNflYYqKI2PzzzDT/9PaPNc+os01u7SykHnvsLcdNN+ThaBCQ+QXpE5L2NYYfc47Jhk0yJJr4DDbgWNKLOOskQw4n39hCizgivpfPLsv0I04ty5CjzjMnilNNNdkw+FCbbgblmidyWiYbO3huYks+1oBCDTWW9ncqP+IQ/wMOOeJsIo57tMCqjDLkoIOMpfzwQ46kytHZaVJfDoTksR51Eo5Udo4YyjfUyopoMu6Fks8ytVBjIon5yMcLOfzUwis608DIzzPDsresQYZIBiKz9H7VDE3WMAQkRUqSU6I4fcL3TDLl0CKrgPnkMyw4tigjjjXskGNurzTSyg+P7xq0Wsb12hSnQPOBRB466HSclGxK1moiOUyCQyo5tIRCzsDo/NOfOLSAA84y2ZTLKzfYpEMpOck5FK/JPX1swGhIRxQaUftGhCM21uSZDzrPrCqMsLRYAg467LRDioTPGJBPL3/6TA423JATIYIuYowjx03fpPQ23dBdd0TS8P9TNFMoR/zvNFBaEoo4//BCzTfg5bMJOflwMhwyf54zMTrYiCOObdiguePeP30KOkeLGJCMAdcwrdRsmCPzn6y4CErL4qCQQ+Cq2qLDy6mPwofzMrfyAvw002DKT7GjJ69VM85AJduDAOsMjoSYCzg9OcvoLOE5zySc8PGaaz4srcMGq6nyQuktlTlxo49QdDESF5sB0anDDTvobBMdNsMlNx83MaqRcQygI9l8zn0IbMojBIKNeUXlYgbhR7I40qME+sSBFoRIPJ4FlQoKRD0gzBIIR5imEpqQhDZCUgU9KBbVZXAllBCIL2ABF7+BcCvTidoLd8jDwqyghyvhBsn/CIKOdADxiEhMomBgUBYXKvGJUGkBFKdIxSpa8YpYRMv8ssjFLqZGBgJxoheBw8IxmtEyQUOHcKA4wTNOxVibwY06ZtOXNroxKnDUzDmy8Qz5ne8uYryjIBnCHgM8oxf56KN8FJTHuOBtkJBMSAUnZYtvIHIaY/pjVgCgETtGMiKxyAVBRGmAdSBQHTpK5YLOwR7uMQwc36AFqiQTG+HosC2B/GRF9mEOdNBodORph3GGOcxnfAOW0kNkleRjHrjIQAUG8KQuEeIHUhZkH/5oR/uSJxxrIEMY4AynOMGJDFz0whbIlJ4yGgUyTa4ll9N8iD9C5j5soEMcjCCGLfbJ/89+8vOYx5Se9YYnnVvG0y/q2xvb/rOqhjrUodRKp/QGlDByFfKgfMkEK5DINpxR1HofpWg+0HlMdOoMkcPy5W7KiNG7+IMdBLRgCaUDQDLZlEwgtAZJBTqrCdHogC2tC4jsRz8gomcbwZJgUpMaTXVMw5LppB6NWBrUqpJFQeNJUYGux464jdCqYEVLNwCIDHRqDmhGHOsHExrWtlqFPAmCFeLOpKx2qMmteO0KjnCjTXrm9a9luatE4AnYwnrlH9vAkmEXKxZ1aONpjI1sV/7xWE6dRZqSjSRiFasWzGZ2kJtlC2E/60bHQpa0qJUKZU+b2tY2ZbWNJMtoXctFx/92CS3PpO0nVyta3Q5SHXw0KFjAuDTfCtK0vTVuaR+bkUoMxK9Lma1yqYjci/CBD1SR7nShaFvhZmi74E1JdSvChzeE97wkAe5t0cvemqi3vfCdSXfjS1+XqNe79c2vyLLBWv36VyTj/a+AQbJZyw74wBkpMIIXrJH5MvjBFQkwhCe8qcpS+MIOge07MXxKbayXIcGoRCD4EIir5JbDCORtQ6ThXBQvGLj9NcgxvqJdF3dKwgjRgFdqbOMg4dggZxjIJ2iYFR73eEM/NsgLBDKOTxDkD2/IhCh8CRUjH9k6Dq5IIObgXLYSxcpXpk6SDUIBTJgjIdCNbpjrBmOK/KH/EL54wxWqAuY1++a9D9EAJgyQCYQoZyF29m1oH+IDRAikDq6QxUDOcAwDB7q195WILwwAi1sQpBwle7Rv2xyRPs+Zz3MwgBfWgUFNQ9rD3g2GeQ0wh0IYxAwgi62pJavghFia0oH4g0BkAQnszlq5g45IFkRRkE9k+ten/nBCPjFpA/DgzAQBFbJdO+aB1GHa7F2toweCiCALRAxSKJtVpIhtN2mYId4Ohyi4UG7lZtkhopiCk9utWxU/5Nb03jR/KQIJSGDFs/lGTbAfooYSvEHaVqlzwC1TbYI4mQkxYIKiV53dhYuZuRCZhBQEwglE8AHWFbf4b979EEh8wg8G/wC5yBnbcErL4hO+NsC8E77yO++bITOccYubZwCUgyHkNU8NnhGCCCIThBBWGIgU5iALcT8F4EHXzMAP0meB1OIYpBgIdqFg3rIp/Ca5hXrUMWNvg6AiE5Xw90CO8QY18EENNB/7aThtEJjKnA8z38rX5Y4Ykh/E0AaBQtL5ntepS2TwhMfruR1C8ZQn/q9eytfjJ0/5yhvABZbPvOY3z/m2SL7zoA+96EdPenrvvfSfPD3qV8/61rt+I2LvjOpfH5MT0/6vsb/9NHNPmTToPiq8f0wbfh+V2RMfi8Y/vhWTr/zmO//50I++9KdP/epbPzXBB8znRV8LL7d0+6KXdQtXAH39vDC//O4LCAAh+QQFCgAGACwgACwAbgKPAAAI/wANCBxIsKDBgwgTKlzIsKHDhxAjSpxIsaJFaxYzatzIsaPHjyBDihxJsqTJkyhTqlzJsqXLlzBjypxJs6bNmy054NzJs6dPkOfUGTinsVu3bUiPbjtH9KfTp1CjSp1KtapDpgamITPQrWnFf2DD/jPATZ1Qq2jTql3Ltq3bgWYFYsNGblMocdqwnV1oNi7Zf8sE2dk0mBMnZv+4dRPYrt3bx5AjS55MuSHWg9jYkaPVS9zcrkYbi25nNF06gky5cePHSw8ZVcpUAbKzLDFTo34r697Nu7fvndzGwgU71Gtx0wKFG2ic2wA7boC28MKWjBMgVdcMIFdHuq+6f3t/i/8fT768eYHskqEr2E3otKHZBHKbxm/x3PTssBnA1o7bM22JtcOdYwM9F90yAvECCCDZcdPOP9to8yCBjFF43oUYZqihVMmsg1k+m4BjCy3kLEPLXf+gEkovLPYSCi/8iBMiMSSqpk5TTLFjwIEG/EPKdcycgw46y5CizDKIcWONNsFt6OSTUEbJEj8FIfjNWKEsQ84uBogjoi3i8MMJOPmIkw8135AjTpbk5GMJOOlgc1mOO26xTDXLoAHIMuewww8od1ZTyjLanPPMNcZJqeiijHrUDD4bfiNQPgLxsw0nVG4CJj/LPNMOOaGEks85nNiSj4lo8kPOXOkw1Wc70Un/AshrzFTznIymiMNMkeL8gww/iTYq7LDELrTIec8YBA6V1BDTSz7UGUCLLQhmxg04luRDDjmCfJMPmfloy4+NBcJq5zJkbJIdNkRyssy7zIiT3TPVLLdYsfjmqy95Hm4i0HsCYWRAL9RQQyI5pS6TnpjEfIPOP2v2Qk4yyeiomlFG0XkgNq1s0Yo1+S2zSTLqcIMNNwbcmE2w+7bssngCa8hLsCh3KYwBIhKTTzWaLtNPMvmEAmYyyNQlKjvW8EMiPyfvxY65y1zDLSDKhLxJKfwMWU292pjmXWMvh50S2GLTFM4/7az3Gy4CoWIQP+rwki06pYpjDTK2UMNP1qQs/5NPw7xsScveNrqqI4/nKAgIMv9Uw8kmy2zzTODXBHkOcmVnrnllzRiwClf6nWeLAdksQww4BthlQNBvGiAImrXQErSW4BBTsKgmt5qaAc9wQgYZdtjNjjJ2UM0ML6204u7M2iBT6JDNbS799GgtAqmT6CADzvao8xMumWaSyf2yai6z/bYn694nOuK0sssurSgzFDm8LKMMOVK/Sw5X52SzFPThoZ4A37IObQxQMijzH8qGxMCBcAMdignOZdDWH3TwQxvbIMtt7sWU9YSFIN+Ri2oMMpaxGOWAKEzhTl4hkGRQ6Tcsq8hlBNIesgkkLhm0VEOip8Ie+pAmxrieb/8sRJDRVAg1QRlQhZgzIL+Q7WsC6gsTR2NDuATwh1jMokjO0R/i+AZHWvSIDmAQxjKa8YwxSQEa18jGNrrxjXCMI0xkoKEMyvGOeOSJCvLIxz6W8QF+DKQgtUjHQRrykIhMpCIXWZn4MPKRkIySDPYYyUoO6158nKQBDGjJzBHxjf/AJB41yclOiu2TbDyLhXgokW4o5oSmjKUsZSKUUIDjPRBiine+8sFZ+vKXJYlLzb5BDVuAI1nKoQjK/rGDBzjgC+2wBiqBSc1qfsUAxGhYMY/Zo4FUcSHLhAEDGACAKRggZtZMpzol8h5iGOAbxDQmMovDyoJk8B/itAAIMJD/hH84cp0ADehCsikpeMaTm8lUSDgdQIEH/KMEQvhHKQsilop6UaAYjSUxN4qmg27FQQq5Zz4pIIx/dIAI/jyINnCBCl7gghfCQAYynjGNadgxozh9JDXe2VE0+RRN4liVjhAiUgZYgAKMMylK/ymQIXFrE6rYhPLeVQpdMYMr96pnTrcqR3AUjKfwLJi3DMA0tSUEnwxF6j+modSUEuSBdZFq8lpRiiMF7qpG5Kpe8WijaWTzncREE6X2s55dEqSoR2VcNgB0UrcOxCiVMwUzmJGMyTLjGteoxmJgCcu9ehaOydKmYIfCLmDFUKRpVaw6stFWpjrwLN14EFgm9Nna/+ZxLJJ6J6UWs7cbzfCwPRqpYgXCWhAs1bbIhaQ6ntEwbTW1OAL5rUAQq9ZsnIW1jXVtcrfbR7Kdo177Y1dBpDvd4DIAA9XdC3aPy932dpdAqjHrQ75TA6NWtyDFjah29VVI9/q3JI1pT0T+IQMAJNafAVyvY//L4Dtq1SAZTAQAxsm4iQ4EQMaVqNj62+AOvwRAd6AAFyywYIIoeL8eTrEfMxjiL1AglAhhLEot/DIaq/jGIWExBVwMY5W21cYtAzKOh7wRHfNYlASRsYYzh2IiO7kiIN7xixOS3xI/+cpoNPKLkXxhAzRWyFgO8w+13GODYDiiYBazmlEYZR5Tuf8d2V2znLFIZi4L5MxLnrOe2fyPFr/4pviFM3v3TGjqtXnKCDlxoRctvUMn1MStZbSky3boKw5E0ZPOdJD7LGJEHwTTmg51sRxN5X9kuMmiTvWToswFTxsE1KqOdZRInehIy/rWq+Z0qx99aVPrF9fA1hCtP23rYBu7PKz+c61B8OtjO1s8w351sZ9Nbd3UOca+znO1ty2Za6vUyzPmtrgjE238Tnvc6FZLsiFU6zin+91p8baZTU2ETcL73lWRd0HwnGZ8oRrfOS23iQVtZY4cIxN8CAQfAM5wjeg7ydnu90SOMYmGW1wjjgb0wN39EWmU598XB2ilS83xj1gg5Cj/l8i6ST5oj5hhILf4RMpnrhCB97rkHqmBQG5xC4JgQg1+kIViaI5ymxM32yD/yBzqUHFeEx3f69b4zVv+kQdkYhwJke/TGW500iH9JHXARCUCIYWtz3zl7aa6R1AQCAP4AiHAQqfZ4f3wC9Pb3iLhASYE8odM9FwgZpCG1ucO767DWiQ99wUsCCINpxN+3JWW+tGZXXCPVMIAUBBIJepggDf0I3SPvzfaiY3zjYzDCwJRQ9sLYgWBXMPSoed23e8ccZDIQiC+QEQfBBIMRPgh9hafvb2/bBIfLJ4gougH8EXPaTcvu9kgqcTffeBx5C+f+SHeteRJR/CkS2QO16e5//D5DZJAcF4gbwhCOXZDyfADc/zg1nZHXm4Ac3AC9e7nevNdbe7Sf+QTXlBxlaFJ+fdLs7dW/zACaEYSt1eA+udn7FYQq/UPwpAAXLBaJ+EHAqgbEueAiPRwEkWBDJACoWRnHuEFMSAGosAb3ueBhiRwrCUMI/ggJVFxVgACZ7CC4NdILmhKIwdpMmgCY7F9HvEJrWcAogAJc3AGPNiDljR6XheEQ6gSjCALC8eETlhtwxaDIygURMgRtwALsvAGA7GBWaiFujZlEyiF6rANsMcRmRAMwWAAAjiHBoAIBnCEZ3hspMaFQmgAbkgSmfB2BQEJTDAQV/AGsCB3exhrZPxmDSKoRmRxEpcnEMdQC8cwEIVgAFKgBllBOo14a2QWiWBRMyRBCogAC783ELWgBnPwBjsYisbWZg4lgyngGF/IEWpTCYhghrKIhtmHAc/QhYDIEqtYEDxAf7+IayxmAXTgAA7wh6YoE2CwjMHGYgBgAgDgAmMxjSwRiwaAhdbIjP8ACiHQAUEAHrk4jg4oFuy4jKGEQesYRyvwjvZ4j09HgPi4jw7Rgvz4jwAZkAI5kASZYv5YkGZ3kAi5kAzZkA6pYh3oRoz4kBRZkRZ5kRiZkRq5kRzZkR75kSAZkiI5kiRZkiZ5kiiZkiq5khMRkSz5kjAZSBMZk3EUEAAAIfkEBQoABgAsIAAsAJICjwAACP8ADQgcSLCgwYMIEypcyLChw4cQI0qcSLGixWkWM2rcyLGjx48gQ4ocSbKkyZMoU6pcybKly5cwY8qcSbOmzZs4cxrcoLOnz59Ab24T2E0dRHXbzv371y2o06dQo0qdSrVqynTpEP4zcO4cQ3XquP1Dh8rav65W06pdy7at27cl2xlAYwBQXTSbkLVDh04g2oFgBXLjxk8RmSfP+HHrC7ex48eQI0uWGLhit6YDLxv0CueJpF2SnjxR1o6dQLl//Z5jh43cMj1YePHbxu6vOs0EwaaezLu379/A2e4eeGRZu3OCsMDpi47btqXHu25r9w8sa0lHxF3jO3BbuqXcchv/AJ+u8lKBlYOrX8++/Xpucif+i7+w6RMDzAzgwkKGl4FtfT0jzFbN/TMNLtxMY0072JHTjjDstDPYfMI8MxY6Y5m1jVntgNVOO9psA5aH9Lln4okopqhWNR81dYQB17RjiHL88GOANYBsQQYZuJyjjmE5AsKMOtgps8UTZCCjzj+gkJGjJMxso4wdnCxjxyakkLNYNbUswwszWoan4phklmmmSyX2IpE4A5VIUHhPcEJOK0c8AQ5jaNjBjzhPbCEOOUm08o8qW5BzDnZ67KLKE3ZUI84RdpCjzBFybmKHJKq0ooody5xjDSriYFMNL+RgZgBuZ6aq6qoUdRJOqmKS/0NLKPn8499WCNUiEDk2GnSNAUfocZgevK6DzaStJLvFEeAsA6mhgojDYHGtHVGoOFtwsucWdvwjDhqAsCjMJq1cs4yczyDDS6i4suruu/Ai1Ayr2BiwiQHiaGOAmAmBY0CvvgKrTCtP6FGjNdyocoQqDKuyyTLkbKGcIeSww01oyBgQsZ/sWGMlIGQIsueVN2LTyibXlKIMqeIww6I6H8Yr88w0sxchQgArRIsBzxjAGELhvXhNaJGuY4DC5FzDDmvs/MOMJFgUjDB2vJwTMRnkoCPIFqrks8UmreHFjzXstMKJOKVoi029XJ2Das1wx80bRquCorEB+hpgy90M7f9tQDLkcMJ3VgJZ040eL2KD7ROqGMCOwoCgY7HZ5JDCDyqdbTKtbBtLeoTmEXf7bSvM9GMyJ8ycS86+6mTDz22XmSr37LTzJg0/3XiFIjntHvRN1hEZJVDi/6DSRRe1tPMo48iA4ucyW2z1KNgKM8PPxucozEk3rWwRrTh26On4w8nw0soyiVXzTFdv1+7++20t8jeMebMXyt2WZGTLMn3pTpAhXXgCIJRhrEV5JnBYSCAWwOYsNCgjR+JYxmHsIA46jWZSXdCDJHakCvABohXI4MQmmHENbpxrGV6yUe78B78WunAqzXDGmNJRDonwygDKGMhsDCA8gjRMFbvoFSf/wKGKZeAQEJJQRjrQIQ5OSEISgNAOJxqmjF1oaheukUQrqqEMOX1LFQNbRjIUEx5mkKoasEvPC9fYFnOwjY1vMY2+jNINCXUjPLLLTA8JIjmFKAYdXekhfJLSlPMA8lTtKtBWxrIUsLxxbUoD3yaSgQ12qMNHt7kk4WKXRzh68pMxeYRAsMFCuQVyj6m5Bj9+JZChqPI/MOIHWoayQ1i+8lc7pGXh0EEOvCiNHU0pCiiHSUycxONVJ6rMcAZySoRUZkTC+1BX/tJMHl4Skx/60DNhlk1tctNDYkGGKgAxQGxwoym3+VBRoKnGYrrznR7BXTbhWZLB4AeFEdyKPVVV/wMZ0POfADUTN2A2mOYM1JqqWkFAF8rQhjr0oRCNaM1ggKL6SfSiGAVOCzLK0Y56dCIO+KhIR0pShVC0pChNqUpXytKWvtOiLo2pTNcIg43O9KY4hV9NYZlTuXWypyNJChx3OhSgwu2nRiWImyiyFG2UMqlQjSp71FkUbXDiGmMZSvukytWuBoULvZOIhMjwtWr8gx3XeKpX18rWmjAhrA/pytL08ISJ8Q6tam2rXvdqEgqMwAJEUMg2BkvYwg5WG9awxmGOxx85lWYo7eSrZCdLEdlRoB0hCMJSI2uQpSzlMHDAQhcSSAY5OW6ZlE2taiOygSAcpBtbMYRsZ2sIQf/QdraLPR5jG+sg06z2t8A9iAMoUBDXWqMgpnmUApfLXAXq9rmM7QInqtEc9OwxuNjdKwMsYBDXGmRp2BLtckebQPJCF7qi1QPEWHPd7LqXrcM9iHcLAp9sdAmFvEChl/Sb31LkVrfpNSI30AqY9r73wEbdLkKMe5BuyqUd2LjM2i6zGNBGV738KM2vsILgDq/0kAaGSAfmO5FtVPgJocWCeg2g4VOt08MwvihcQ8JgikiOrio2YotxE7MY+5iknBWIA7irEBI/xMHsIAOGW8zOEP/4yfRcqkdGXBFtXoMXSxksi6Uct5NC+cuWQapHjEyZpWBjKD0Gs5qj2gEhbAT/te/z8prnTJMa0/nO7nWzSIuK5z6rRM8f5bOfB10SNx/XozAltKKnTOZFO5qrWzH0oyfd1Q5Q+tJS3UqjMc1pmVq606C+qaZDTeqOcsEhdi61qku66VW7GqAzLu6NXk1rj6a61rh2p6ANQuVc+zqit/61sOnZapA4edjIhswXGtLrZDvbfaduSLE5oo1/DMICICjBCmCwgx4EQQlM4MIXxNAGQgxCEaAgBS6QIaJnuzsoy2ZIs0dS7Tsk4AEPoAAGOjCCFMhgB9+eAhfEcAfbggIVwsjGuxfuk2gzZNobqTcDHgCDIAghCUwQ+BfS0IY7DMIQ6CZFLYTBboabnCqf/y7Jc+7AAAcYYjyejbnMY37ymkMl0rMO6j9Y7oBBdANhgwk6J4MpZpsbXSUOX0iwPSLxnncj0UeP+k3i/XCTNP0OBgqR1rW8a6l7PSdtjnVHVt5yQ8z87DP/utplknKSkP0BTBiExweRCEM0ohGgSDcqcIELkj8DYWOC+toRPOqSSJwCFLDABkBgghXUYAdEyPjGPY5uhAveAMGoRCD4EIjBe37KJ1l5AoabgQ6UwN/dToLG03CHROC9FsgQvDQq8fnad6TwJfmHMBKhCEV4Au95JwUqUFELvgvD78+YxuWPsZ7L276tYh8IxDmC9up7NsgC0cDzt48Qqis9JYbVsv9FzjCQT8CC++hHT9Wr8gKBjOMTBPnDGzIhiuqmX+pJTwiVD92WQMyB9lx2fybnfUWWFhSACeaQEPwigEaXfwgxb2nxB4XgC29wBQyodgSYENPnExqACQaQCQjhNgp3gbYXdlbhA4ggEHXgCrIwEGdwDNFHgl+3gUDhCwYAC7dAEOXwMzJYczEIgVQBghb4gXNgAF6wDnnVg86WgQuWc1ARDG8gEHNQCAZhBoJRdEpodG0XFTl4g4HwBwIhC5DAB1m4fTi3FlkgCgXxCTxYhmq3f1TxCTZoADyQgAThCW44gDykELgnFXWQhxe4hVCBCOQnEGIgBT0jGTYFiHt1hlP/UYjhIAoOyIieR4M+IQpTAH+RsVOUuFcg0ANq0YWd+HxTEINPAQmQwBtdN4rPpgYl8AZ4OBnOx4o5ZQKmCBTwxwQxwAQtGIWRMYu0WFIxeGxPMQlSIBCcgAh8YIWQAYzB6GuQ8Al+YADM+Iw1R4xBAQuy8AlkKBCaaI3gKBK+AAvMR3sGIEMGMI1gEI7ulgLYGBSIcH4FQQhWMBBSMAeykIjs+Gu22BYgKBC1cAykMBBkCAVR2DPOuI+cZgJtgQqZUAmpOBDH8AZqwAdqoJDI1o9r4Vvc+I0Y+WwaCRcpaBBQUI8feZIcYZIo+WrtJxm+KBDVuJKvdosyWZM2eZN3ZOYCOLmTPFmTnNiTQOkR/BeURFmURnmUSJmUbpiQShmOTNmUUBmVUjmVX7eKGfWUVJmVWrmVXNmVXvmVYBmWYjmWZFmWZnmWaJmWarmWbNmWbvmWcMlpVhmXdFmX7zWCdglVAQEAIfkEBQoABgAsIAAsALYCjwAACP8ADQgcSLCgwYMIEypcyLChw4cQI0qcSLGiRWsWM2rcyLGjx48gQ4ocSbKkyZMoU6pcybKly5cwY8qcSbOmzZs4c+q0yGGnz59Ag7bkxk2o0aNIkypdyrSp043nzj2dSrWq1atYs2oVGLVdu4H/DNwBZIesHQPCwm5dy7at27dw4XoliA4dOQNkBKpiqE6dxKgG/BroRngw4cMCDyOOy7ix48eQ4fqV+oQXv4WEBUP8akCqgW0G/oHufG5uwXTp+vaNzLq169ewaUo9oqxaQ27oJOJCVnBau2nPDKCL+u8fsmft0HXzHLu58+fQo0O8ZuDJQ35qJep5Vm3Tlk2tnmz/OcuO3TI0ep7YEYeOHWDp8OPLn994dklxuwxsMiDpSBc9knTxhCT/PLNFK92Ep8c/3BBmGn0QRiihSc3gMyFH1pW0zBFodGPAFluI8w8pWJBBzia0ccJJF1iIw095710o44w0QrRIjSDl5pCOCaGn3ldHAHIXO+mJYwcZqiSZZDX8YFMUjlBGKeWUIGEkEGcSqbeNOEGSs44BgByRDyBbPDNNP9gIx01qhVHp5puvWQlnRNwA8gQn2R3Uj0GkRMShQEes96Wd5IS5izrstCPIMufAyNyckEbKWjj/JCdpZxVpxhB1gS7z4RaDVScJNpxg0QUnJ27BDz/cuPfopbDG/5pVMwasMliaspLhqUf5GYCFAXoIKMkyWwx4nq7sWCPJE1hg8UQ+oskq7bRYLWKhlLsaQE6a6SDU66sUtWLALqpcJhA5rexnwBF6qCKJKsElWw0nkkgijgHscBMjtfw6to42/b7GTzbDNVTcQdtg+ZA6B+OKTjvs7LkFIGd21qCHwrXD4HttBuzxxzi9IlAy5uK4akr8UHeOygMBbMA62HBpx10GpDkXaKwGpinIPPcskzHX4rgvSqsN1Nd77QizbBeqsINNalH15dWDPldtdUqlcXPw1RrpiIwyBiijzKqWeqwDDFynrfZV7bFjwFdSRb2zrCmsbffdTJWM99589//t90kywDba34QX7poKhieu+OIPPcD445DvtE022Qx+YeCRZ655S9oUV5zlm4cuus9akyLEFLgwWGM2o7fuekWdD5KADhhQ8EyeEcqA+Ou8985QN/90w0AGoACQACqqT6i7AS77DqHCzju1zT+DANADMiAwEbyMyzcfvXzQf69UN9b8owQAX3i4tfjsty+f5yYAAEpY3rtv//02Ua1SgaCA4kAChgBFWp6EvwIaECa5yUtKppcIClDAeBl4QBo+c8AKWnCBuILDr1CSjX/cAQAyKBCPLkjCEoZEDwboQhcW+I8pAIALBtCaCWdIQ40MgnP/cAEABvEP1tXwh0AEyTb/lNORfzwwdUFMohJt8g9cJIACRVuiFEm4DF4IpIpX5EW2EJIyo81NIp0zBABS8I/6TfGM7fPcP6SGjXZ4KE3YcNtKOsgFAGjPjGjMowWJlMI+GgA7I+lcDQBwhzLq8ZDU+qJEHEABkrgtLys8CcD+gQEA1AJ3iMyk3RhwElyhxHPCSAAGMKnJUrIPYyf5xzQU8Q9FACAJPYwS5kxJS+n8IwUAaEMdkQe6WvrykMCbBgMI6QAdREuWv0ym4NoxBQt0IISKVKY0pdhE5G3PTXicpjbZMj3RoJJK2dymOLPSDQK+yYfjTKc618nOdrrznfCMpzznSc962vOe+MwnCb+g/89++vOfAIVNNANK0IIa9KAITahCF8pQwqnmoRCNqEQn+tDANPSiOoGhQA8yt4Fi9KMU4adN7sCAB5j0pChNqUpXulIKYGADIChBCmBQgx0EIQlMmMIXxNCGOwxCEZ4gRS2QMQ2LgvSoG9HoTFjXBgA49alQjapUp0pVpyaAAQyggAU4MAITwGAHPSACE7jA0zsYwhOowEVRGRIIpLpVISKtSVMBgAETjOCueM2rXvfK17yaYKY17cFNc8qFnfbUrEAlBSqEgQw5KSQTfjgDQcz51srOZK6EkIgaN8vZznKWYZ4lJUI4adnS3mSubfjNNlbL2ta69rWwje02iEJb2v8qpmMOaWsMoCCLSYjCtEeNK01QK1qhaGAgfAjNCIG7UKUO16kTNADlpkvd6lr3utjVhna3+9qIyGIgYOhAQZbL3PKSBGBzHUT4GBLa9rrXswpJrgGkYIDjjkO+BlirefcbEvQ6dQdp+IKAB0zgAhv4wAUWQxrS0IY83MGniTCEIhrhCVAotha4YKyZKFuQOQgEDAkwwBl+uxV08necTDVeVVfMYqkmwAGM3EAHTKCCmgZBCVPgQhroMIizLjY4BjlGJvgQCPwaoA6fuNKJl/wRgKWhxVBuMVYZmYEOhGCmYBUrF3TsU0WAYrH6HcgxJpGQSfDAyExO80YGweY2u/n/zXCOs5x7LGGgNqJ//UMFKjCcYQ2bqXIGkYZAbmEQMquhxGr253vfC1r3RrEgFkBIJg4dQ+kmuqAeXcl2N83pTnv605uObUXMMJBbJBm5l0YoDIs7nxoMmtADwcQZ/CCLBqUaoMKl0hzaGgwO3xqfzp3RAzIxjoWY+Nf3zDWO6oCJSgSCvsgOaLBlhIK2+oKL53BstLf9FB5gQiB/yASsDWAGaZCX2+h2CqF9AQuCSIPV6X5npudTCQNAQSCVqIMB3oCmeNtz2hEahxcEooa2FsQKArnGvP3N8Jl81wC+QEQfBBIMRPih4Rhvig/aTRBR7CnjIN9JJWDtA0F3POTx/1z1jDyM8pYLJRD6FsgbglAOt+zO5aYltQHMwYmB4/znOvmEF8jMluUBnXHrjc7Dj95PcM3HD0RvSziZjlEvxEAMJG7LsamOt4XHhsxWAMGIDcDytWyd61bzunQ+gXADiAISc5Cs2dFuWUbIIrlyp/s4e2mCfzi9ObeAhSzeMJCo632ef39NJoIRDAMQvfEGQIQB2n74ymckE9cuCCSYMJArvAEW2ra86B1Sb4EcoxbHGEgh5nvoop599LAnCCkQAYuLD6QWapjDG8oe+94rREeVQIThfU98idi+IDzQefGX/xAwMP/5COF93qFP/epb//rYd9MKss/97rvc6N4Pv1JDXi/+8pv//OhPv/oBSv7107397o+//OdP/4BOPW2hr7/+98///vv//wAYgAI4gARYgAZ4gAiYgAq4gAzYgA74gBAYgdgkgRRYgUmUfxb4PQEBACH5BAUKAAYALCAAFQC7AqYAAAj/AA0IHEiwoMGDCBMqXKhuocOHECNKnEixosWLGDNq3Mixo8ePIEOKHEmypMmTKFOqXMmypcuXMGPKnEmzps2bOHPq3Mmzp8+fQIMKHUq0qNGjSJMqXcq0qdOnUKNKnUq1qtWrWLNq3cq1q9evYMOKHUu2rNmzaNOqXcu2rdu3cOPKnUu3rt27ePPq3cu3r9+/gAMLHky4sOHDiBMrXsy4sePHkCNLnky5suXLmDNr3sy5s+fPoEOLHk26tOnTqFOrXs26tevXsGPLnk27tm2P027r3s27t+/fbzcAH068uPHjyJMrX868eeF27ZxLn/6V2zmM3Khr3y4UXXbu4MOL/x9PXrU4QE/Kq9faKdztf+SOrJ9vtRltOwOzbxH4jL7//xX9U5EyBj3TD4AIBpXbaqgk6GBY0vDTzXWdUVjREYAgE92DHAK1iAHJGHCNNrGlZ4A4HaYYVDPO/EWgQPxsY0BDGKEDkiTsqIiaOdjo6BA67GyzoUz/2GjAEXaQk+OQPjYJ0yMCYWOhbOQYAIg1/SRj5EHQOellSfG4x5c6NJ4zJU1kGGANO2ai4+abX8YpkoTQMUmbMst0VoMMckLkT58/kSmQoDPS2NgKgC5knQHpJOroo5D6BkNZJEZq6VwtXKrpdg5s6ml4k34q6qiklmoREwbYuVelprba0w4WdP/aFwyZumorT54YAAApqtpFqwEy3spSN8IiFIQwHSjh16/BFpsSsc4a1I6A0VYbWzbWZqvtttx26+234IYr7rjklmtuVyaeq+667KqLBUTpNNruvHNd810XcNCr71/cpJnvuwac0+u+BMNEbUYMYECSjXoYAHDBEEPlAAUm5RjxxXZdI1uoGHfs8ccJcgyytUwoPPLJag0cWLMotywWyy7H3BWrMtds880456zzzjz37PPPQActdEVcDG300UjvdXDSTDft9NNQRy21ug2RafXVWGdt9dSkfmHWmQKBDTbXmha91QNop6322myvzUAK/8BMNqRedwXA3XjnrffeeVP/sPTckZqt1QiEF2744YgXXgIDAFCQjaGAR67Q3wX9k0Hj3PwDreSSb+P556CHvo021vxjAeaac/6o4HBtY3rj2kCuep91e5XN7bjnrnvupZ9OQeyzj7z5TZajHvzIrHv0xfLMN+/8818owcUDjbs+PFg0H58i39x3D7vsC90SpfY5e2++3g9QrhAiA/VI/s2DxC///PTXT78i6gski0GfVJX9+yrKX+X+QcACTsQXZxjf/wAIHgFKRRsQjKAEJ0jBCcqtIJ+ABUHewED6eA18gfnDGzIhCu90cDzJ+4v4BhKIORhAFio7oXRq5xeKDYR9B1mgDJ2TwsD0b4fqoWFf/zSACQNkAiFjA2LUfBAIXxzECuZIohKhVgcDOOMPsBAfFAwgBQNsaYracWBerjAQF3phHefQGBinI8S8BIODBnBhQrhxvTUmbYUGCMRAZHFEgXyCHddohzXsGLw6EjJpP0yId7qhw0MS54N9qaIjOYeIBIqPDz3ASq0muSlZHEMUBpAGJ7mWQPaJggmfmEQlqPKrUW5qhZNwpdQkORA6ZOWCsgSUGkrAh6w0MpdNwiMTYmAFTqzSKr8EplrEGJcEDkQKOhAIInrpP2UCKhgaFIgaIAFKA5jBmsuRIl1k8QlqGiCR4DSaJ/dnAEGw0w+FGIjF0ukzaYjiGAbwRCzNUKJJgdyiP/RM2hmgwMH+JDOgIGuQARBxjFqEEhRyVIMZuggLZCAUZ/NESCF4YAAyXvRniPADJAgCBSt89KQoTYwLAAPHlLr0pTCNqc5WKtOa2tQ/rbwp4Aap05769KdADapQWXLQoWKsqEZNqlKXylSy4NIzSG2qVKdK1apa9apYzapWt8rVrnr1q2ANq1jHStaymvWso3kqWtfKVrpgq62pCQgAIfkEBQoABgAsIAAsALsCjwAACP8ADQgcSLCgwYMIEypcyLChw4cQI0qcSLGiRWsWM2rcyLGjx48gQ4ocSbKkyZMoU6pcybKly5cwY8qcSbOmzZs4c+oUyWGnz59AgwodSrSo0aNIkypdyrSp06dQo0qdSrWq1atYs2rdyrWr169gw4odS7as2bNo06pdy7at27dw48qdS7eu3bt4Fe7Ky7ev37vN8L3F+Lew4cNmF8Xlhrix48eQ67aLTLmyZYKEL5Mkpbmz58jh/rVD91miutKoUwM2sMpAN2yqY8ue3XeRYNq4c6Nep02379/Ag+98JTAZP+HIkytvauz28ufQo+M8147bv3/SszvUAUO79+/gTab/CE++vPnz6NOr1yjj7Lb18OMjVSG/vn3hD+7r3w+8Pf//AAYo4IAEXpVNgQgmiJcM9Cno4INwMWhAbxCmNVmFCUpIIYZmXcjhhyCGmNyGIpZo4okopkgWOwbooeKLMAZFWBddxGjjjTSRYQAcWLzUDY5AwmhIkEQWiVKPRiap5JJMNlnTE05GKSVC2LC4Y41TZqnlllxqd5pGDlDQ5ZhJMmCBSbCRqSaR76nn35pwxinnnPy9SeedeOapp3Qk7ukngn3+KWiABw5q6KGIJqrooow26uijkEYq6aSUVorjF5ZmqummnJL0ZaeghirqqKSWauqpqKaqKl1crOrqX5jm//Xpq6m2iteZbdKKaqx3bfBPrroGC5ev3Hgo7LFrEWsssqDyapevwDILqq1zTTMQtNJmexax2nb7FRdiOGCAsmYV6q2u2D70iUDLnusuUWcy5lAmA8n77r1O3WLQJAbii28magjEmLn+4jmrYbesOxAfBQvaKnaVYXKGH7Jw82PDdzrbmMICzRGIAcHYi/Gc1B6W30D0HkTwyGtq/FglLPtZsmEofOwLQsfFrLNOPGCSckFmSEPazkTf9PEtdfgCiwFXGMCDARAXvebBh0ExUB0GvNEPNhdL3eXMfY3jhUABJ3QN1V6nXZIsAyEyUDBuCyTK1t0EqvbdL4mM994iwf+sEDtnr8z3kg8bNsfgiLMUCNZsvxGEVg0mDuot5nBiwDGSZx6SGQYw/IkXk3zCb1USat4p2wYQYvrqGx1OkB9b2c16pF7EIMZWgs/e6NICWQHCGaJAklXuuneG9l1YD2TF0wZA4rpVxBefqCyoG+AFI6ifIT2T0fIFiyxvDDT69uQjFEwwoghESDACIfKxQJmVv/0xx6R/jPBn8JE8LPHL7/9AZpBCwKwVvf/tjTMG8EMwpGGAWtSibHOwgtVkIQwDrm5oCZmD1aRgwfL5gQ/jcxrnOkjCEpbveSZMoQpXyMIWbmUFLoyhDJFVuhnOsIA2zKEOd8jDHvrQRjj8odQ9gijEIhrxiEiMkuyS078kOvGJUIyiFKdIxSpa8YpYzKIWt8jFLnrxi2AMoxjHSEYjLrGMaEyjgJqoRgAFBAAh+QQFCgAGACwgACwAngKPAAAI/wANCBxIsKDBgwgTKlzIsKHDhxAjSpxIsaLFaRYzatzIsaPHjyBDihxJsqTJkyhTqlzJsqXLlzBjypxJs6bNmzhzgtygs6fPn0CDCh1KtKjRo0iTKl3KtKnTp1CjSp1KtarVq1izat3KtavXr2DDih1LtqzZs2jTql3Ltq3bt3Djyp1Lty7ZXnbz6t1rtlO4t9z4Ch5M2GqzuNgKK17MuPHZf44jS96LcXJKVJYza64rjV+3c5stgg5NunTZRQaSGbimzbTr17DdNnPGeNlAconTxd4d2lxi3mP5ZQtsQB3w48jPPhKIbXTy59CjG433V7r169hpem7HPfv1GjK8i/8fT77kivLo06tfz769e4swzrZ+T7/+zxb28+s/7mC///+8xQfggAQWaOCBCDo1X4IMNugWDPg5KOGEaEFowDYUxtVNhvlZiCGHbm0I4ogklphdNiamqOKKLLbo4oswxijjjBJ28RJxNOao44489ujjj0AGKeSQRBZp5JFIJkkSO0o2+RxkGjGAwZLoOGklfQ5QYBKTV3bZ4jXICejlmGSWaaZ3Yp6p5ppstrnZh27GCSCcctaZ34J25qnnnnz26eefgAYq6KCEFmrooYjuxkWijDbq6KMGQQnppJRWaumlmGaq6aacdprSF56GytaiopZ6FqimpjoWqaq26uqrsMb/iiirstYaFaq25qrrrryihGevnd7CHLDEAoXIQL8Vq2xMshj0yVW/LmupL2cMG620cUo61iewEPQGtn6Catxaf7yRiSjo4AhunLSWJexAgcxhgCztrGsnrmNpOdCxB11rr5ntnvXsv3viK5YGmBiQCULOEexwRz4E4stBVpjT8MMYZ1SHAc78AYuwUBgghQFVZsymtmRdMZC8XqxzDpgmm2mwV8F8a4C8CXEjYsw8M/SuAYEMJMvCAn3CzjXtWNPz0hrtzPTTzi6Ubjf+Ql2kuGJtbPXWDiFSrbB89KBVhFznKcsxohggTdlsE1TtsaIw8ckklVhlYdt2vjsJ3m1r9j0QHVvRyTebapTAx1ZVD37lz0zEYAUndWOVuOKhocxVtQNJoYNAiBwOLeVnBtOtQGpAkrYBZoCu5MVdyfKJ5wYMrPrSZzdrgCC2+1HIQFzO/rA0ohxjgCd7m+G1QLc84zvUZ0DxrfKTL68rZgYgckwtaoOCsxpmjAwLMtKD2ztChfBggMrhY4yIH5AQBIUV6ccvf642z2///fjnr/9GLuzv//96uhsAFae0ARrwgAhMoAIXSJroMTBWDnygBCdIwQqWR3DjiaAFN8jBDnrwgyAMoQhHSMISmvCEKEyhClfIwha68IUwjKFNMCjDGtrwOCi6YXsCAgAh+QQFCgAGACwgACwAngKPAAAI/wANCBxIsKDBgwgTKlzIsKHDhxAjSpxIsaJFaxYzatzIsaPHjyBDihxJsqTJkyhTqlzJsqXLlzBjypxJs6bNmzhzguSgs6fPn0CDCh1KtKjRo0iTKl3KtKnTp1CjSp1KtarVq1izat3KtavXr2DDih1LtqzZs2jTql3Ltq3bt3Djyp1Lt67du3jz6o3aDN/ev4ADCx66aLDhw4gTK1babrHjx3AxQjZJarLly2zD/WuHDvNEdZ5Di+7azMAqA92wjV7NurXYRX4HKxvIb5sB0K5zJ16nTXdYdOxsGzjnu7hxr68EJuN3vLnz5zqNxYZOvbr1k+facfv37/pxHTC8i/8fTz5jivLo06tfz749exlnhbufT9+mivr484t+oL+/f8/w/SfggAQWaOCBQGWD4IIMqiXDfQ1GKKFYDxrQ24RuNYZhexVeuOFaGn4o4ogk6uZhiSimqOKKLLbo4oswxijjeFi81M2MOOao44489ujjj0AGKeSQRBZp5JFIcoPkkrrhlpEDFJAEHJNUrseABSapVuWWKMrXWoBchinmmGQ2B2aZaKap5pqKncjmm/W5Ceec7ClI55145qnnnnz26eefgAYq6KCEFmpoYl8cquiijDZ6m6OQRirppJRWaumlmGaq6UdcbOqpWol+KmpZnY5qalihnqrqqqy26uqfqb7/KutTpc5q66245jqSnbpq+olAIfYqbE6ZDKTksMjCdItBk1zFa7KTZqKGQEo+C+2bTo51y68D8XGtnp12txYmZ/ghCzc3fvtmrGVxK9AcgRgQzLHqslnrWPwNVOxB1tZLJrtnVeIvnveKhUK8viDE3MAMd8QDJvsWZIY0nTVssUbx3lKHL7AYcIUBPBgg7sVlZksWFAPVYcAb/WCTLslhFuzVOF4ING1C15gM884HyTIQIgMFA7RAorTcjZw8Jw0RvUo3TZDACrGTc79ODxmuWHNUrXVDgajs8xtBaAXh1nPeYg4nBhxD9toCmWGAt594McknzVZVIdtw+mwAIXiT+p01QX5shXTfY3oRgxhbUU14lR0LZAUIZ4gCSVaKL36ZzlupPJAVIRsAyd9WVW45krLobYAXjOh9xuhGeukVLLK8MVDdrO8cTDCiCERIMAIhEq9AktU+8DHH5H7M5GfwoTkswQu/sxlSTDuNAaI7b2tlBvgRjDQG1FLLzXNYgbIswlgPbcUJzYGyFOY37AcftIPsdvv0198q6Pbnr//+/Pcv0Qr+C6AA4XS3AfategZMoAIXyMAGOnAvCHwgqyIowQpa8IIYpM7gqNO8DHrwgyAMoQhHSMISmvCEKEyhClfIwha68IUwjKEMZ0hDlGywhjjMoWg6qMPxBAQAIfkEBQoABgAsFQANAMMCtQAACP8ADQgcSLCgwYMIEypcyLChw4cQI0qcSHFhu3YVM2rcyLGjx48gQ4ocSbKkyZMoU6pcabKbOpYP/8GcSbOmzZs4c+rcybOnz58g+QEdSrSo0aNIkypdyrSp06dQo0qdSrWqVY8vr2rdyrWr16/bvoodS7as2bNoH3LjlpahIWvYFpJrS7eu3bt4HwYxeCcvRAiR4vodTLiwYbEwkF6k2O7c4ceQI0sWixEtW4OXBcqczLmz58+gQ4seTbq0R2umU6tezTp11sKOqrWeTbt23spn0yGMczDszrm2gwsfnrEdqYE6CHJI+5ojDeLQo0tneU7mv81nV2HnmIydgczTw4v/H0+eID905dOrX8++vfv38OPLn0+/vn3L9/Pr38+/v///AAZIWnMCFjiTNgbeN4gFGSTo4IMQLqROc4NEaOGFFm6H4YYccqiDCh2GKGJ8GtaFW3nTpJfCiSNCR0SLPzmwHIw0juUYYb6xKByBNfZ41ouK6OhjSghGV+KQtfGIJE4pLunkVOpkM9AUSt51I3FNFuQba+oU+SRxVaKFwYngBZfiBlp+qVQCBgiZVDfdqMbEkWVtOSZBcULngEFbDmcCnTSmo1tt2YSppn9XCvQaoKMlStSEEw6EERp2AFIpGgYg4+Zjmx5qYJn7neNoRYu1qeNajsEh0C4IveQSnARh/+PdQ3CWSpCtj1ZpCKNehWXBP8cJ5KVtUp5JXJ/NGdreObgO1E07zwrEzaANwQnpS46xdcQy7RDI1o2O3cjrQeBCFeWtBSn7FSgG7DDuasZ6ImCktMkqGGoC5SlsQvZKyha+3YjqKEZPLMOMQfhmKq1A2fCCTsIGVHMOMvlSJmlePbQDamt07hVepx1dY4C+X4HsUDITAedRnEcoStGRo2r1oiFomSzcsAN5HN2KK03bLFM4E6TNuxNlmY8B4KhsAKsCheKQyugdxNYTDOWzhUDiGKCMvlmRcRAgXu16F7vRQUzcxjDF/FAn4eiUpUrW9GkANcQsQxC+/Gxiizj82P99ojo0C0RLQy0/lPVBT/DCjzhXC9TydoxTpYgBhXpq0tvBnSO3QepGVJmUBJWTUTM4iVqT0gqhTEso+fR7EDhHH416R5zI5jgzQhGEjjiYCuRY4WYDxSvRln+0eUeCCmoY8RIhYtAqyZAcWjLPcEMnOZsYIE7wB7Fz488MidOdQNig8wxBzxBM0BbiyPREK0cXRM46cRXsdTb9DIQ2S6AXFGRdvyLPjAZyvI2Ajzb0Igg+BrKHh2AOKWrjiDAGYos2WVAguBAKMQTCD04YIB/rYIg1qjG43DWnG3rYlmAMYgd+sGOFERsIJ0Tmu4eQAxmzyoYdNDMU5pVFejlJQbD/rpKiARLEh/6B4WhqMZDD8eM1/FidAaaxCmJscFS4IMjsLqgRlBmAHDQ0QO5GVpAtbIEc2LmMqmw3FJuNxV3SkRFN9hcceXRkEQZAWRjN4kGDjBEhWzxI/MIECGVopHAJ6YJA7LY+cWQjajph1NDw4sbiPUYabMAHP4Tykgb2LyLNcAZBIriSoJEkH/nQl91IOZB8gOODBWEk+QxArYKogoMFUcYKWyeQTdxSkAPZRSDlhxDNzYomfUFYJS05keU0oiBIlIo5VigYVxzCAJB0yjnUkAoaakcgizjGUgrIQ5RUZyDZ4AdG2IIRdKCjnc46x1rUcSP0sIMfj1TWP9Jx/5FadeMa3MAIdrqRDnTQkyAHRShBdNOOWW0BEJgTmE/+8aKBsFI8z+zK+T6zx6XEIwyxWoVAHmGAY/BCIiQ1ADYumhKWdqRPm1QUEBESUwPQ60qmG0gCF3IOobDyGkK5hmM62kQD2GEu7BAZrAQCVJt27iQMqJB82iEvsuhsMPmbSlYNUA9y9INHf3xIPNpGkWMacCXbyanAmHWinJaKXvQq1UVyulODuNWNcm2M2hSJzW6JakIHrIkM/BICA5BzJupAhVkQ9FSyeLEguoiGd0TW2JtoTBvcCJg6cNMOoiqEH88KLEMQlE3GGMClG8lKZa8iTzoGMS81GCxPUAsjXf/swx/XuEZpmemVtfqOtiB5gGFW4JPVTsSUbXmJjmopIYEsMyHQwqZAoiaTazCXt9IRLnbRoqScbvdJ2k1MXsR7FlMiVyw7ret3nSQT8uKlBestkGjjexDt4mVP9M2vfrXi3v36978AvotrYTLgALcHF8ZNSH8NPJL5SuS8PyTodeOLMxmACC8wgC+DR7JU1mguwdi18Hg1vOGkHPYgMy2xhTKskCn0YAQdSAv3fJRiFUPFvoX5pEBAIBAlbNTGQDbAwSajY48smC4Z/oc1dAQA5wbZJtF8rpo63JX2Dga+yI0mVwoggAIYQACziUUuxGwAMvOkxu+hhgG+IR4cE6b/yIfp8kEgjBWuFMPMYo5FQQp8EhB/acZVsfJE4uTnn7CYzm3hDUG4TJs8OMTBJdEyUPisFFuoeW4akbJSAhoSN0tEHRTbCpyfvB53elcqG6QGm7+hapoIQiA0e7WaAoeXbpBAIGAmzm3N6t9WU4QBFkiIej/yraPoWLbblXRobktqhmzJARQYyI8dwleBVJssyMbuhG2qGhhiQ7f6bcdjNwJsCTXnvHY7qUMobSACaRoqExROtv4bwThx40bDNmA7sIGNf7KF39fwd7Obwo1CD3wyf8y3QDDAEnGwEUJH7s3B/6tsm4RVpwaHiacnznHuNkeWxQRuSHhdkLmKPCcb/++4ysdyrXdKFyIlyrhCPEuV8Pol4isPsKD+WtkaKPQrMkfIZi6c86Kjd7PvTo3NaVWQWrBDG0nnCc6NTnWtTCHYKpG0o6vO9QJZxyQirgjJuw6aE5M9LRc/u2fMrvauoEMUbVcNomnE9viyOO543y+J897gureI3fEdNd8HX5f2Et0udye84vFi38M35BaQcJlWBL/4yotl6RGpxFbES3nL+5cLSh+I4+/Sec+b3iqNZ4gf3pCJT4yl9KePfVRSfpA3GMB5kzDAG5zXFdjL/vdeUYMB+HAGA0xhIOYALfCXDyA/zAEWtefDQLbtlKkzf71faM3eCeL663s/QaIsyP8b5oCQqH///AbIvm2CAf2BSN/26I//ex5QmdETBP63kL/+NaJ+07R3+waRCdInELKwfwb4af5nANZnAK73CYhQCVZgAHAnXYB2gBYIGkY0dBCBXwYQDBV3gSCYFwMUXgBIEJo3gAaAAlKQfyHYggYAeqaReguhBplgADHggjiYfjU0GRXIEN1nAFKgAQIhTjlYhDthficxQA6wGSV4EBE4EG/QfT2oFE14gEjIcf23E0rABbTHEIEgfVLAAAUxdkboFIM1d2WYEVVYCYFwECyoRFGReGk4hx9hf9KgeQfBe2/wD7tFh34IGURYgIhAhAxoAGfAB9gAeH/YE2gYIjD/OB3jIAUC4QvFp1Kitog98oF2IYMGEQM84AuuV4ACAX+9h4kwkn1BRxeYVxApwAMESBBjYADCV4qmOCKPSBqcOBDBgBD+UBBwOBW+V4sGon4nVxgw4Hi7qBBqUAdCcxXBKIwCcoujEV72dxB/0H76o4hG8YzQCCBZCB012IYFUYzdWI5b4QsGUAe+gI1WYA7kaI7wiBSO94PpKBB/MAssKBDl0IfxSHiaeBj0OBBXUBBesA5o1o9t942mUY0CQX4DoQbdp3n9hpAUORVhx33jcAywII4G8QlJ1Q5TWJEi2RO05zyVgIcFkX+VeJAj2ZI8kYsCUQe855LL9454IWgG/8GMNLmTUWF4BoEIxZd/YiAFz5CMn5B7W1GFPNmCMEkQBZgISxmVSOGTBlGJwTCBk+B6ZlCDp2UVciiVfjiBHJmPn5CMDsmSYFl1qYgW2hAnkZePA0EHBYGUaUkTfleRRBcMhFAQ3YeCArGX/1iXEdGIPWKTdHGRTMR93WcFVaU7ggkThBkivGKYNSMNwVCJApF7yXF7fvmYkOmZTraXBqEGkCAKzmMGoHkgXyKNpXGMCSEKKBiQtJia8tF/o0KZY0GNCSELkJAHnzCBwwcGXsGNtCkdrGkAf/IZGigQW5UQhTCLXRGZxVkeKxKYZEGVB5GYiXl7BgAFpFgVhzad9/+xIldoFjCZCZkQeQNxDG+gBs8JhAYAC6HmjOKpf6s4EJ/AB7Jpe6gpENLADcRZFAFan57HkFUJBVZwBZ1JoE/WBqxxkQ3xhAw6oSbxBoXwnRSaoSXBBw4JBlcgnAPBjxo6ohsBBmogCiJKovvVluzxMIThAipKdU3ZENAZozZqADg5lyh5EGdQB6BAhk3xlTfqeU3pB5XAld2JmQXRDyFJFk06pDaGeUdyBv1JEG1YB7XQDw8EpQSaowgBogPxB1xqo03JkfBZj5whBtY5pvnlBwO4jAYABj6AmnXwB5X4CdiBYGy6ENLpkm8QCJg5kAJRpTgKo125pwhxhuKpkwb/EQg6maKIOqSCahC1AJKRmqh1uYQCsX0OmRD9cCOooGRVoZT71w53uZNVOqkCEQ6bgQvdgCBoaRRCeql4t5wJwajHgB4MoFg4ahVYRquDl6OEOKgGoKoCwUQDahR9CqwTh5MsAqbxaQApYAC1sKaMqBDlWRppMB2Tg5AzalcqkADCYKmz2RDLyqz5pZsEuKA2BaO48A/aAKlR0XnJZABPiq4bdmHtQJeMWhDWoA6x6hTJKh33iq9X4SVz4JCFoIBH1HUDSxjZFpWaagAAqJOzom5qZ60GCxT0hxBXgJniurFQ+qECIYbqULBeca4iC2RsEiXZ6l8vu7JOsR1iCJLRWyWzJAoKL8AmGvsUp9oaKouzVMEOL2AAWYSjPRt4QnsXLECtSdsUD7t4tPaY8FWpg2ENuLm0/xWze6oDDXJVWmsUWRu2PPm0ZEuRCne2JVYhoqm2FAppbvuYAQEAIfkEBQoABgAsFQANAMACtQAACP8ADQgcSLCgwYMIEypcyLChw4cQI0qcSHFhunQVM2rcyLGjx48gQ4ocSbKkyZMoU6pcOfLcOZYP1cGcSbOmzZs4c+rcybOnz58dXwIdSrSo0aNIkypdyrSp06dQo0qdSrWqVYrdrmrdyrWr169gw4odS7as2bNoIQ7Cpm0hv7Rw48qdS7cuSAW4ktndy7ev378m1cmciG0w4MOIEyterDOrwXYEDTOeTLmy5cuYM2vezBmz5M6gQ4uGK5QvHnKjU6tezRon5INyDmJrTbu27dse/30kgbu379+Yk832+IybgdfAkytfPvqcbubQo0ufTr269evYs2vfzr27yW3ew4v/H0++vPnz6NNvLa2+fUrw7qkTwoAhvv377l0SvIO/v3/zyP0n4IAEFmjggQjS9Jxy1ihnwoIJijZFO0lEuNMDG1iooX9CQdgaexuGuFWFIsIEX20BltgZiCoOeGKLm53T4GGfrTZjQW2Fds6LMPbYkQUQ8qjajQQZ52NRABjg4VLcGLmYYwNNCFeOBgBZpG0PGORkaymkaKF+R26EUZhOfYacl5rVCBSYA+lmhwF2AGLHm8Is6ZedaOFJGwe0CWlAly12085bELXTTjdQjsWmAVLG9RIG7YAykJ+htdUgn61RKWA7LGZ0DaF9yTgQEx52GhaQpBjQg6mjWZNlb2pe/8dOMuhUNCs7EiXKDy+JLajnWKnu8A+lqWFqgBC4ARrarw8Nt5BeJbH4BGIVKmIWs62dyKekyOKGbV9EFmQNmhyFm1A+thiwTHKKQEauWKn+9m1mxCbVDD46mVuTOAKBgw545KAWikhYEITrX++SuZG+o6mj6UGs8rQIToJlo1DEIqGGkC3LsIPNlhzBB7JZCT+s8EfGomRoXwlrNEtryRxcECfqyuzRESzZ3JO+hszLFaT/XYSil860fBDDiNlCjAHkbKKuVaAaZTJZCxoNkwmobKUvN1bnmujJUC3IDifpWgOtR7gUfKeScvXwNWuvSsqSs+M1Y8AqBrxdFy38Dv9ksVRkdFxvTj6DpTfYI1Ei0DVR1dKJMx8tgu9AoJ4zDU1I06RxQeDkYwA4AkV91MH97ESIQf9oUzjiDWXoiVzrmJzJQNgcftQ/Z/SxOVRTD9R1SboNVqtAwz/3z3OQjZyQSzIZyvU2tntUukDcXBM9TCnGyq5Xl/s1pkCKQ3Y9UcbsEdIrAiUjek3ah4RxQ4syFP9G/DB+DuMNWdOPs+pw89b7KEmAIa7zD7mFpVsGaF9Z1nEM6kGlHAORxz/48T2NGGNyizOI7abHkdVp5HcgWRlIBAMRdnDjMySczggM0DsF1YIs4AGgVi4hEFj4oiD4Q0hWxteYdtROeRE5Rzv/uHG8ithvI8FLiVBkyLqwrK9E9rgh3ZqoGgf0JQUs5AkTKzI4skBmeAQBI0PGJMaGtOMfVuOaB6loGSuy0XAHSeEbD+RGGdTFjmbxUxe5sqj5zbFAkMEjXVTwR/EgqpAIcSMiF8nIRjoyLttQ4CMniR8eUhI3tVjjJVcix478DS6COSQbeQSDFmxyNCLsTDvQwY9ULrKUp+xOCxECwljaEiWfFFEtb7kTRfLyl4Wc5UQECUzq7DJvf3TlVQJ5lQRUBAaLEUABBGCAAogmF7HIhQGyGQuBAEMgHKTJMXtUKzJcxZdznOZB9riRLSpFF9gUCDa1KZBxjONQliSJO3u0/43hwEFtU2HmRGSiyfHEhiDSHE0lWHEQe/4Df6IUp1WmuJd8SkQPBuhCF2rSjYIaBJ0S+cczyPJEYN5TNYLpJG0GYSBNWYsu6aCBQKxJG4cW0zIPgybixjkZP2jTnjdNCAMsMBmd2kWYaQHiPv2Sw3tig6ePrM8ikZoWXKymVoKq3SW/OBA/DsQBFGgkVdHCqaBy5jXs8apAiEoSdmB0oxu9DzHNSlehSnUkuDJnXKcC0rr6VSui7BsQVUoQsJ6EolLp618XOxWXcAMd6EAsTyyKlDoy9rJ8WepSNKuQ15gSs6CNiyT7YtmHgEwa/JiGR0PLWvHwFBKtje113DUSWP9WJJyyRcxYc3uVMvL2L7v9bVPa8TrhTiaXJeKscZfLXNwQsrkdDC6BKAvd6lq3I4FkwXW3ix9FroC74HVPacNL3vMo8rPlTa94zssQPvABEQbwA3wnpd76SoQLbKuMYg/Ch/gaoBL2DXBFvnCbN6jBAAf2wxsEzOCG4NcAyvULJNRwi4MQeCC+bbCGQfNcgwDYIP3dsIgP8uDQyIIgfggEggsyuxG7WDWygNxAFhxigkzixSMusX6fg16FwALHQCZIhNOSXYgEI8g5zm9lBNqQTPjhDAb4hCiOoRvpIvnKXhRIjxnCgA8fA4hYDjNc6qjdh8QAChgWs3ov3MaBlFn/IXNARB00cAU1C1jHieleRcDQATv7WSXUhckDXvNmLg+EDze+SoddvNpi4jknX2DzRMBgkAz/2Sg1MAByLz2RQiNExZwONV083V5Rp3fIk7nhgU29lE2zWiSZUIMaEv3qWldFkaReCB+gbGvo4rfRaBmvQ9bwhzn0GrqSpgx7HWIOAwRiDpOQBbCPzctHV0YGuXaIpakd2mRPhswOwcSHMRxooBiV2+6x9moKcZBuuBrd8I7KHwpiBmlsO96LVTdlsj2QTBwZFj8eiDSmje9TohownzAAmj8R664W/OFE2bIBgrFgiFucKbDU1C2CEQxfzPfiIP/JfvubiYQb5MRm/wi5ymuCa4MEIhAJpzRC0MGNblh55TifCJNzzvOfFBkhwWi2FcrhiWCcuCuL7nmAW06Rgyv96b4zALYPknIDhINRCac11LduEpN/3L+TEMXRuV5Xp8NFtQa4ccAF4ocdwJbsK7k5q998jDwgRAxwX8m74w0DuhvkxjEwgCgqUfG8l2TvRxotXf5RDlHUgSCf6AEP/JCITBTe8CNBfMGzonXMw0TzBrqw2c0ydYSM3fM3LbHi7QJuhAweEqcbSCGssJVzoz453p4MoQeiM4EU/dACmYMsRnr74hPk5weRRkHqwG4prNr40Gf6QBABCz8cpOJoloUwoG98YQ+kEojovP8BCsEDXhsAF+iQO/dV9CqBpGD1fJH49P3w9hWbQQpfX3/xbav//n+ED8ZmAFXnfwSIEIVQcWYABQNoAGBWgARoBWfgCb3ngBQoEOygflzxXRV4SdIHEY+3gWS3c5BXfwehBmdwDJIFgiHnXQYRfh93BQtoMHomF6Cngm80XmhSBzJHEJiAYMfADsxggz0nggdBewQRg0LIcx0oEDVmAHVmAOaHGGkAVUl4JNkAGXkAamdgbFcABZSGCWDweDGYSVWoaU8XZwOIZgIxb1EnEPDHfZlWg+g2g89XEIVwBmaACMiBC6NXhty2g24oEKiQOn0IdZl2cYMmEJ72gQlhDYP/8UIY2BNJJ2Kp83TmB4gGYA5R0yBU6IeXtnsKMYDB8BIJgAu05Ykht3PKRxCUBojaZVWRiEhtgIpcwWQ8soDjZoppQXDM1Qi2toQI8Q8pwACw+A8pFRdySItg03pRZn2oMxA7BBd04DfKeEll9g8mB4UK8YaXlIzV2BSfVAegBmqRwViZMxmHaHGJaAD8ZhaTOFvfeGt4AgZIGI95p4DH541fcY72uEmpw4tzBJD9qBRt0YkDWWsG2RWxeJAnA0YyoQ6FyJCsxo9jQZHc9VISyRPZwI0Z2ZGFtAP1gUArl5BWwZEeiTgm6RUkeZIwspJUoVYs2USnw1IxyXNFVJM5AxcQAAAh+QQFCgAGACwXABgApwKkAAAI/wANCBxIsKDBgwgTGsimsKHDhxAjSpxIseC5ihgzatzIsaPHjyBDihxJsqTJkyhTqlzJsqXLlzBjypxJs6bNmzhz6tw5sxrPn0CDCh1KtKjRo0iTKl3KtKnTp1CjSp1KtarVq1izat3KtavXr2DDih1LtqzZs2jTql3Ltq3bt3Djyp1Lt67du3jz6t3Lt6/fv4ADCx5MuLDhw4gTK17MuLHjx5AjS55MubLly5jPtsvMubNnsEQ+ix5NurTp06j/GvqXurXr1yKnbIZNe6a22o2ZsMbNu7dvg+1Cr/5NvPjo2Qp3G1/OXLS1i2bVNZ/etx1ygXcAUYd4/fGGySaUb/+HiA4dOQNkBKrqqnu8+4rXob9/KP3iE1785GOdIv0shu6NOcCBAY04BuB8El10hDLVnIOLVv2hBUpj130nUBCPhdcNghNdY8ATAm2GRVahGXAghzF950lkJqBIkYJfDeeiTSfOmFAn4UwG4ocEYXPVP9bYKORRzdgUZEIRYsWPQOhcZU2NQ55k4UDckKSOOuVFSZU1PrK0o5aETSnQbWBOk1SSUnEDyBOciCcVclBuFSdiYhqwTTdzaikNP93oh5ifqHQBJmErDvrQIgYkY8A1ZDpGxjJOQfmkoZTu1IwzCHXzTGK7CORnVHlWalKoUpnTpag8/SPeNdi0upQQqMb/qtMjAmHzqay47nTrWMFQYs9m2LhpVjw5DnTqQLuiWkOujFEikC+w9KhoW3xaRyqzKzBrmTm+DKTLOOawo+24B2XLELkecZNlQdxs2E460pWHjjYbomvvvfjmS1mj+vbr778AByzwwAQXLBg3yRqs8MIMN7ywdQ5HnC826aBzDpoSZ4xYvRp3jC7HHocsssjnsiWDCteOrLJrAGR08soExZILQTMbsA7MOGu5jznocINxzkD/5kfNBe3jTzvHBq1UlUrP5Q/TTbtXMs4pR33Ql1ZjlgkrWc84dcj+iAty1xRBasCIpn0t8UXqVAm1wD+/1CrTXcBRmtpkMzu2TenZ/4123oDD1qQeZwdu+OGIJ77UNoo37vjjkEcu+eSUV2755ZhnrvnmnKfGeJQvdy766KTP9HbpqKeu+uo3wVKJp6zHzlYmstdu++1gvkG7AXwQdDruin9hQNzAF38VF3OdYXzmwttJFxO9WyXD8tQbAIYBfvBugDRNVp94828h8kb0BGVvQPfep8+UGgR9ov73dbn/vuSfsyV+JYHAwsfr8wc/PF2IyIQVDCCKT3DPAEfqnwKF4oDdBUNYC4wgThBhABRIYSAQlGDOkFeXM8TgghrMG/jmIgUNCCQYIUxhTswwEHO8QX4qjGFMQGgGWRAkgTLMIUvYZ4A3ZFCHQCxJJv/8cMHfBVFk9ZuL+87gwyQe8Yki8QUT+ccvKFpxI1fAhAFYOIkfXnFhwiNeW8aACR5+0WMcrIs/eliHM4ZshHcRxTG86EaCpXEuf4hWC8/BjSouZXp1HA0c4xKIghwwkIh0SBsJcgZzJCyRABtkW3xxCwPMopKQ9JgT1/K6KxigEpVYZCZH+RBIkNKNZjIILALxB4HY8JSwJEgWChXLU/qChTwwRy13yUtYymIdX5DCM4JxDBj28ozKw+T2+PAGPdbif8dEJP8GIsZo5tCUhPgECq1JsE2qRQwXJIQBpNBGcXLTjW8oyCRMdE4oug8E7DOlAeYQonY+cRID9IIoEMH/BzMU0p5X9AJAAcZBb55FFAMVGPgeKRZZyHObWAFkQg1zR7d4Qo4CYaFA3qDMiarwmQY4hkDYdwYopHNTfvQorsLTFlLQk3wqBaI0EiGQOUAhpuOiQF54gFMgwvR6VqAdKnoaQjMaQHlEzeEbCqEGo84zqRqkp1NHKgr0QbV/ZziDKAuCDhyexQVX1dZWw7rA3RUkBmSNoPkMAAWkGqAOhZwDKvqRUrF4Na2U0qhAfGAACuJVgdcryD//Oj8QGoSehL2dNiBYBzD4QK+JXaAn3zrWyNaurgZhYSagVouqWXZ0k0VWQar52dpBBxd7ExlmSwsTKEABDOHoXmdZmz7lWtAxKSqgLdxSgLM06PYns+BGbmHWht8aN6nZOq5ylyswzzKXcw/aSgueS93qWve62M2uRlar3fccY7jOtYpBGXPX7paEG9NlJ87Ka16UcNcreGvvcpIr380FBAAh+QQFCgAGACwoACwAlgKPAAAI/wANCBxIsKDBgwgTKlzIsKHDhxAjSpxIsaJDaxYzatzIsaPHjyBDihxJsqTJkyhTqlzJsqXLlzBjypxJs6bNmzhzOuSgs6fPn0CDCh1KtKjRo0iTKl3KtKnTp1CjSp1KtarVq1izat3KtavXr2DDih1LtqzZs2jTql3Ltq3bt3Djyp1Lt67du3jz6m3YDN/ev4ADC865aLDhw4gTK17MuLFjkBgfS578tV07yibD/WuHDrPnz6DLNjOwykA3bKFTq15tdZFf1rBjr12nTbbt27hzU3wlMBk/3cCDCzdp7PXw48iTRzzXjtu/f8o/64ARvbr16wNTYN/Ovbv37+DD+//cJr68+fPo0wN/oL69e70y3sufT7++/fsO4+Pfzx+rDBX9BSjgU/8N2NZlBg5XYIJqIcjggxBGKFhtElZo4YUYZggSOwboIRl7GoaoVmRddCHZgiKmKBYZBsCBxUvdqChje4Z4pt+MOGr1ImY35ujjjwb0COSQTfEi0BOUCUnkkkddww2HLZrI5JQVckPllVhmqeWWV4HI5ZcBKgnmmGSWaWZjYp6pJngorunmd22+KSd2cc5p55142nZOnnz26eefQ8UI6KCEJlVnoYgmquiiEKXJ6KOHOQrppIBJSqmEXBgAXXmWXgrhF56GGlimBuwp6qmopoolqaq26upCnb7/ih+rstaqlqnhxWorfZluKt6huwbLFbDCFnuVrsaqB2qyzGZF668ANivttNRWa+2XxF6r7bZ34somt+AShWy4l36CjaBNjUtudb2ihRqB66K3bLz02vRsrvWWN69Z0qDTTTZLeZmvePeOZY63AyeskhVSqaswcAWLVU5nD+eJsHcOV+xnJQ1Hq/HHI2UL8sgVZUzyySinTJLIKrfs8ssWCQzzzLB6TPPNOCd3cXcs55yyyT5rGchUQAeN5RxEG33nGQM5qPSQy+7MVR1UFf20YayqIxYfYFw95b5gnVGIAVLMIctTvnq9JiJglD0QwOnarPaYYw8ECzJzn/yGVVbnw62XzF6pYcAZUFhxBR8d+10mw2BwHFXPihNpBt+Rf3kG0ld0bcDelT9cx+QEneEJlHF3riXSB7FD4VkrmC4h6q7HXhPksot4BehvwV27gZr7t3vFtP9ubd/CQ1jIH0wnXTyTfyyfbyDJk/e481NOTH28/TjtZmTXz6TFFVeY8xvRcncvo9TmV5t24umrCAs62lUVfPsGog8v/dwSj//+/Fuof/+hKh8AB0hAEf2vgAhMoHvmp0Bbra6BEIwgf7gnQfkEBAAh+QQFCgAGACyIAg4AYABKAAAI/wANCBxIsKDBgwgTKlzIkKA6dQ0jSpxI8WC3bdeubesm8GE3jgYePqxIsiTJh/9SpkTnsVs6kzBjNmxHk+a2MjhxOuLXDR26dszKmMLGrWY7mUhjfkSXrsoNAgSWVOHnEx02ZkXw8LuW7mXSryWX9vtHCsGJcwZ8nru4NdnarmDjUlzKL1kkBDOwXeOG7qOBf2khGnDpVa7hhEvRXQNlFmM7r9qERRrKbWNXmh0FHz6cGNvdvNc4UnVUZshUZsySpesLcrPrwT0VMz6BsWu6c9eYRXFUTS/h18Bh+7z2GRu2x+24Xd1drdtemn6Dc469uPG1x+gMLOet0YDRzNLBJv+2i1fvtm0GUJVKtpvZ3tbhp6slJeHEtX/o/q0Sut8RM+fbqANffEmJpA46/KwSBQIE5FTGBzMkY8oQZehlzXW/ESheT9ZEccMMJ8xQwQwzRFFFUI5UgQxqGm7m0Uj8VPNXO9ekZcA15PBjQDqPGdiiYdxkJKSQ3HRTZDcj/ajkkkw26eSTUEYp5ZRUVmnllVhmqeWWXHbp5ZdghinmmGSWaeaZaKap5ppXVnbeNtwYwM2cc7JZkEoq/YVnR2xy808jIKRgQgmeGDAFE2KkoQhg08RppxgAWODJM+oIw4QMhkxj50B+IgNACnJq888dNeAiJ2B/rdnNP8IkwME/2/z/88wOO4BiQKzWxKrqP9YwYIEBon7BxA6NCLgNMpv+RYEDz/zJBCo1GPIXLs9sGmsGCSDzTw+g4FLDIOogQwqqbIpaAgDT3EHEP7jsQEc7nmi7qagwAOBJqZX20AYunhw17z87AFCCGEc9IwQXgzSbbDb/MAHAqwFawwQRoACm2ZoMcwHAotr8pcQXF9upTTtp6PBPx3+lUTF6yQqUkkMvtyzzzDTXbPPNOOess41k7KydQHBgcSbLEulhQBddlLkqniqFTNAgaaqTDSrqCYPMM9o4HbU66fj5DIlRLBGJI6a08xNmIWkN5kddyzrDEEMsUQrZZrOG9pk0wcWPKSuaFYLadZf5CxebNHnUTpI004mk2gIFBAAh+QQFCgAGACwoAA4AzgKtAAAI/wANCBxIsKDBgwgTKlzIsKHDhxAjSpxIsaLFixgzatzIsaPHjyBDihxJEmO7diVTqlzJsqXLlzBjypxJs6bNmurUnTTArVu3nQZy3hxKtKjRo0iTKl3KtKlEdP/QBc2pzqnVq1izat3KtatXi9zSGcCG7MMQfgbSpfP5ta3bt3Djyp1Lt4gBlAb4JTO14AQ3A+ik0h1MuLDhw4gTT2z379y5bjzPrVr1j9u1ntcy91Trs9s1topDix5NurTpkifQqjtHEF2/bv9io2uHjl3Uc9dis4MqNfbp38CDCx+umB+2qulQorpRBN2zMlFKlflww1Syfv9MlSmzhBy3dj3Vqf8VSry8+fPo08+8dlddv3ZVbCA4saoMgQUVKkwYYMPRv+VVOLLdKtcgg8017aRDnnoMNujggxA29BM6xpkyH2NLSHDDZDZ8UEUyTZRhXSlROJIMMslgAxhoEbbo4osw/iZUN8hc2E4REkQyWRQSBGjDDEWUUYUpjjCTWTvdKFhVjEw26eSTbqFT4IX/ZFhGMqvwGOAHZaxiQDVGqrONNgmuBRmUaKap5po0WfMPKJGYIsEJJ+F4pSlaOvJBFKtY00+BJybjk2BsFmrooYhu1J8jC8wQW4al7NijKTYwxw47pZiyiikHBpbop6CGKupAElRgQBkITMBMMidouIoj8hX/gU0k+Q0xRJfJlHINNgmyOOqvwAbbYgU3GIDnDBVE4sgMM9xQRRk3MMuLOo7YusQ27DFzYFq+Cuvtt+Cextg/VaGzjZRgVqMNP9UYcM5J/1yzLj+BoZPceFSFq+++/CYGWWbX4AYwN5ZlNmi95C3Y78IMNxwawTl16/DEFFf8lsIWZ6zxxhx37PHHIIcs8sgkl2zyySinrPLKLLfs8sswxyzzzDTXbPPNOOes88489+zzz0APNU3QRBdt9NFIJ33QBko37fTTUEct9dRUV2311VhnrfXWXHft9ddghy322GSX3XQn4ZiN0DbWbDMQN9vE/ZfaXzdDd0Ox5X333mCP/9DIPzuEkEIIPWjzzxQglBDC33PzDfXQjq+NywgAKIGLNgYgU4IDiTyzZORaS8NPN6yNrYJAQysBgCL/bMNYCqT8A7rWixiQjAHyqo25MA4AkIYBQzMhhAHWzJ51M87wXbwQJQDABWO1hDDNP2cKtE3jxptmjorZqzdIDYZULvsOYhiA+UCwyd79048IhE3papvgCSgA7PDPICm04/ZA6vxDSCPrg1o80kY3baRhB+2gnwv+YQJDGGB/5vtHD0yAAVCIKYBHG91J8EK3FNSiHbgAgAvaYL9sEOQf1mCAIQaBjNYZwDekqYEMMEhD04yAC7JDBgMe4EGDPKMNKozNNv9ig4xnmGYFNUyiaJj2wmdQAABfUEc2SjfEO2yAAUTwBGN+mIj5qU+JYHyZCQ3gAAvAbyBu2oEJ8KIOJtABhJ74nM3OF0bQuW0FdzBfQYa4gSD8Y3qD2IFAyCTHOhoyZXipnkBgsw0HtIF4/0iDEvJmDUUaxgGHzCRp1GE4UjAAFP8wHCiIgItnoIIUpIGBJleJmNik4QHkedMgPIGKoLDyligbohiCsIMatA4y6cubJRGjSlwa8y2GEwMFZCCMLz7wNzBowTGn+RXYPIMb1CNONKkpkmFy0yPYbJ06utGTbmBMNNv85ke8qU6OdKYbUPmlOQvZznrCaIwgOcmg2pH/DFIgKDA+Ock57UlQfQUGVs7Kxmy+w8GCOhQp7DCAHg5zMEdEIT9lcEQ10OGTgc4Fkw/NXvEM0IUutCVuKE3pNbbRD37AqgInmMGtVqENsUwlMekMqePIYAA4YAEm2LNIQ0+Yt7xlCaYyDZJ1uMFRdur0qS1xoFus0QhDNEIRWM2qIsqQ1SLYoALMulUVMoUNnyjpMMWEqlozErHqIWMBCBjAAOIq17nKNa74AatMhZSpZJQJKIVJ61oHuxFkHGAABEisYheb2APkJ6xFyJRGzQpYwgiWsJh9CFWWBJ5SlMIRBvisZD9rCs9W4QZIvdUS+ookM6E1s7DFCMAyc6DM/1RjV+xYxVdjqlpNicejsQ2ucDpjgHf6BLfosKheh0AktHBmnsKNboP0Cc/kfrUCGb1dcgQiUHpK97sOiWhh2kohR9xgCG7QTDm7C9y2gBS8XmPPeMcJz3QkgxcnoVBAh0pM+PpXs5ytTDnb+98CAydiA/auYi5r4AarJ6cOjvB5ICzhCguHwhbOsIbbCcENe/jDIJZZUENM4hJjuMQoTrGKKcbgFbt4Ky1+sYytEuMZ6+sLtiRbjW0MLi7w+MdOwfEzgUzkIhv5QUI+spIJu+MlgyrJTo5yTDoMtiZL+VA4VnDXTnzlLoOEy14O80asLOY0+bjMaO4IlMcG5jS7+f/NcI6znJHS5jnb+c6JovLXyIxnOfO5z9+cRGXa8mdAMyjLDhsxjA39pDMz2tBrFluhH30eRzPMHOfgBh2z8l5KMynS/JIGoTw95zPAZdKkHg6o9yUNZ6ZaZ3r2GqpfXUdInFqatPYzrnMN51nz+tfA/nCdg03sYlu408Yu87CTzexmOyXWW961s6Ps62nzbQ5xqba17xaIbG+7jmYYiKu/TbIzQztY2PY2uX+T5DN+qxBWWLfKLB0uM/DBAFd4wy3awl95r68QZ4DCGwayaRhL29/Gu/dAZCEMhNs43XLRtsO5QgF+mVoNPDCDFBBx64l3DwwGsEImOu7x2Zl6LhK8L/nV1KAGA0Ah3AaAuMpLfIaTD0QNohg1V5Y9c6/VASHoGClwXNBzqBWi6EhvCM+TjjUo2Pw8Qmf60WBuWamreOlWb3DKs+40TIDh5+rmOtnALvYPFwLmit552c22DnevvcLWcHvkCv52okABCmAIh84JffC6b23cfnewlr2C9cAnbRbcOB3K+254qgH+LVtvPFQjL/nKW75klL+8Qxmv+c57fmWZ/7zoR7+vwpMetuc+vepX3zB8sj5nAQEAIfkEBQoABgAsKAAQANsCqwAACP8ADQgcSLCgwYMIEypcyLChw4cQI0qcSLGixYsYM2rcyLGjx48gQ4ocSVJiu38lU6pcybKly5cwY8qcSbOmzZs4c+rcybOnz59AgwodGhMl0aNIkypdyrSp06c5uV27hk2gum7XsFY1wG0bN6xfu0EdS7as2bNo0/acUbVdOqsN220lyM0AOnbs0KH89w8dOrt9u4lVS7iw4cOIE6fddq2dAXVG4zqK8mFGqarIZty4McQaulWNokwukyyZXcGKU6tezbq1a5Bbu/H765DUhyJLJHyossrG7hMSoqwaImHBhBknTCXb9lfd6+fQo0ufnrjuw95RDDgqg2BGFQllrjn/knDDUbIyEpYkM4WtajrU1OPLn0+/Ps50tBvqPqH5w5BVpaxSxgQSzGAeelXcZYBgg9nn4IMQRiihSN8JlEx77bSDSmVFLCDaebvZ9Zg6VzU44YkopqjiieQ50o8B03jynWjjlXeeBFXYdY5zK/bo449AtuaIIwYgcIJdUURRBAIBVmGDjWXsdk4/8AVp5ZVYZqnUCck0QsAABxxggxu5SXBCBQgscIIjN0hQhGlWlajlnHTWaadLyFyzxA0VTKCcgBWcUMUQN1Sx5wxDlLIcOlXe6eijkEba0DkG9NUOOhkmw5cB2xhwDT/8WANqNvzIxQ2jg5Eo6aqsthrpNp16//qYYNsI5pdWWZno6q689hokg4P5JRA36ZDYqK/IJqtshBkSpOqy0EYr7bTUVmvttdhmq+223Hbr7bfghivuuOSWa+656Kar7rrstuvuu/DGK++89NZr77345munNfr26++/AAcsMFQcDGzwwQgnrPDCDDfs8MMQRyzxxBRXbPHFGGes8cYcd+xxQ8d+jHEz+IjsEjd8WWcyxous3NI/uKASmcs013zRNv9w0QEIXPyjss0I8ws0SzjXAsAXFNTwjzZDUxzOP5c2rZE1/0wBQC134PKPrlIr3IwBqyw4V9cETQMRyv+oQEE3m5Lt8CIlu+1QrAex3YgYD1CQBigLyv/N2jpM+70i3QTNTNc/d8gAAAhBGMKV4Aq/YiE/kB90hyIKZfOP0YO0XXnCxsQNeeAEgcCAIZERrk3OAMhM+ucCn9MO2mTX0lAibQxEuECa18DAs67pAAPsxMeHC48JBQ4KKG3jjEEHS0OXQvHUQ9dzQj0oghIyLvRQw/QC/TNNAkH8k0316OvrWEJG/YOBDgaIAQJK0/wDCgBpRO/v7umn/4wBX0jA6p6xKb6IoXX/4F//Fqgvs/UgAwOpBTP+0QZk9IACfWvNAxjIQemcbxAPaAQuuCCDfxACAEywQM9e1xoZdPCFrenUHZLAhC8Q0BMU6MAODAfDHuoLZcJoBF//uMYaF/rwiIjRhhJJxxcFtlAFSIxiarrxM+jIAIpSDMn6ssiSKtbnilwEyRbDuBIvkvGMdmJhR4AnEFBMsB2xIlGz0EhHbjmGHS/6gH/64ZhadeMkdQxkU/5CBsSc43wGsMEACHCbfqgDjhmEzgYFKbitwAELhMFGXWJFgE4OoJGPxMYcowNGSpJNDwboQhdgQkQtascGnlzkJ4vgSMcIho2mzKVOBsGaRR4ATAf4UiPRkY73tFIxRtSlMmWCAFn+cgDQDOYsDYCNYoYMmcvMZkx+yU1gLpIAFagChtBBIlwmJpnaTOdISjEQWBIgTM8kwAyWkKFb/TFDY8SmOvcJ/5JrCAQdROrkLzs5T00J65hw4adCOcIOVK5ylWq5Rj8o585FFhSOtDkHpRDiHLMt9KMXYYcBCglRtIRskSdYgijtaU5nGaAWz0AeSGcakbERxjH9+EtlVDozdaQjQxpFyD9QIbPCTJKmHUOoWZzTjVWYgioECSpD1LENQxAQMehEqlbjcql2dGOjEVFHNlCx1bLOCSVfOUxWzcrWkPxPrVhsq1w74jNk8BAtpZyrXjOyNLvCda+AvUhfA+tDsELLo4RN7Hw8p1gGKrVV3UDG6hpLWejAzBPIwGpcK8tZgbCNFJ6oX2dHm5p/PAMUiC3MWklLWfGlljCrZW1jIYNV2f9eiwuVglxsbausL/D2t2rBrQEMC9ziGve4vhIucpe7MZmek7nJUi6vnCO8INTwDoYgBTKcC12bEbdVJegADHaghC/cwRPC4C5eu5vc3PrKBCDYgRjaMAhPoOKthskrez+6tRRwYAp8CfA5N7tfhfb3vwbQBrBqW2BX+dZXzknBBgDsxAaLTLq7ivCEzaca/VpYnSjxL4ADzNgPm5gkbDNACuL7Bfo24r4njnFJnDOCDriAvOYFRXr/KmNtbm0HNRDCFMRwOVLgt8cd+y6rSFxO9aZlt0iOskegLOWZfgIbjxUKlavsI9zeNVs2ZcqWubyiB5P5zBvBsNzGjOYTmdn/W9JgFCKVctQ2Y0nN2zKHku3MZ4ZYoSxs7vOD8KytcuRH0LETXKARLchKAJrAjI50QTws6UobYNGWzrSm20zpTXv602SuM6gj3elRm/rUrNnz0EqN6ipjutUcDIRZXg3rBc5h1rU+4xkGks9cn+vBqpZWHc5Ca18TRrlOlhYfwGDsdr0ZW2cohAGkMAdZQOXLzYYhIsBA7YHMWcyQzjYHpT0QWGRW3Cd+w5PR/RpRW0sNBjgDFKxwBT48mt09/DMYHE0WVuObemZY978ZeIZbX4HZBlD3wPdbh4AT5AyeEOlT/L1wyN36IOxQY2tWUHGRXbzjIAcJxUPetSs4nD7fgSY5xhAOW5UXeOQut22xY76yQvxh17imOfH+oHPmBgLnFVbKzHtuMkMT/bh8rJzQjv4ULVzhCuag3KzDzfSmBbvqnMW2U2COdY/BAh3gIzbVu76yq2+d7L8dOtrXznaJqb3tWh073OdOd7fX/e54nxjX8x5YjfP974DX19ID37CAAAAh+QQFCgAGACwoABMA6gKoAAAI/wANCBxIsKDBgwgTKlzIsKHDhxAjSpxIsaLFixgzatzIsaPHjyBDihxJsmREbNcMXONmIF06kzBjypxJs6bNmzhz6tzJsydHdQLbRex3EF3Rged8Kl3KtKnTp1CjSp1KdWA6oRyx3jBw48YqA/yqih1LtqzZs2jTqkXYzUA/rBE/SECYTOAAAhMGGHDEj52BtmsDCx5MuLDhw2jhfkRw4uuqa+iMIp5MubLly5gziyxiwFTCJdiwAdZMurTp06hTi3V0LZnigxJA+x2turbt27hz63741cAzhVEMyP67u7jx48iTV5ZQpm7B2K+VS59Ovbp1nRVmGGQsmqA6oNfDi/8fT768wd7BCxaxYeBEpFVhWZqfT7++/dvqtp07tw2pAXT/oKPNOWHdZ+CBCCZoWDvcsMRNSgawBCF4ClZo4YUYLtVghhx26OGHNe0H4ogklmjiiSimqOKKLLbo4oswxijjjDTWaOONOOao44489ujjj0AGKeSQRBZp5JFIJqnkkkw26eST9U0D5ZRUVmnllViauEGWXHbp5ZdghinmmGSWaeaZaKap5ppstunmm3DGKeecdNbpk3x25klRJ+HoiVN/fgYaUTOC3lRLoYgmuhQHFChhAKCK5illpBoNMk1SEyXQAaWcCiQNP91g2ulHbdQS3ah5LmJAXddog6pHD/z/IxBtr+bZjDO1hiRGI7Lmqpw52PhKYgg9DNKrsHY+IhA2oiKLEIUNQeosnfH0Oa1G2Vw7J6jtdKtthjXI8O24065A7rnopqvuumW5yu678MYrL2kOzGuvnTDcq+++/PZLY77+BkwmDC0IbDCYBB/cEa0K15hwwxoxDPHEFBeZbcUYZ6zxxjBuaFq9HIcs2Db//CNtaQ+LrDGeZGnzDxdTmCyxyjS/6PIXAAAQs7so16zoE+K5zAUAbdyh8z88awawz0zzJOJALt/BwCDq/KMIA3eokzRmSzet5zICYXHcd98RRDIqpPyTTTb/1ILKsUp77Wdo8nUBB24zC0Ryyf9Y/wOUyyXLLThHZBhwt9jJkZyNEjoYC6g6irw9+OQVGaWHAYhrpp1zEKnTgQ47AKBI3/8YAkAPSFOuOnWuRZStECAY0AYASvzzzD9EAMBF6peBvHqdJ2PWumQP9e2AIgaYAEAapIMgusmkdf379Aj90yxE/whTey0JMIBMybgw8MDt1Jc/XzeyvgyADqQbrQL00ZsvP0dshwDAIN1M848QR1+sdMHzC2BF2oIMBnjPZP/gwPOCZ5mUCfCBD2EJKgCwAdIJIwEO+E3eJuNACHpQIW3BBQA6wLckAMAE8PvgvRhoIpelAABiIEXo+qfCGu4GMEQIwQiEQIEF2tBeLDsR+v/+IYZBtKNkE7TAP7qxwR860TKuGloChEGyEgDgDrxDGQCfWENXhY4JBvgHE3T2KC6asTT9MYQDppCGEiQgZizk2hlt2J9GcOGOuEjhaaQ3xweqIyxHLNnWTMPHPqroCwaA1oq2kQ1t+E81hTQkirggyUqSBpFltKQmN8lJHmEyRWQLpShF2clSiuV6uYmkKTn0yRIlpQMOcMADZknLWs6SAhkoAQx6kIQpSG6Vo4ojhxyQs2Ia85g5YwAGSrADIoBCj4hRJTAvhEhFjugBAGCACUbAzW56cwQlcMEOhECEHSghbcIUTAenqbK2tAObJigI3+Y5T1Lo4Jz/COJh1sn/zpC5E5sj+Mc0tkHQghqUoNb4hyd2kIS0NTEw0uxngiiZIoAaYJAGIZkn7kmK/Ei0UK00kUWnoY2SmvSkJU1oIxja0XRCdIsfpRk8X0NPetoTn/qMqU6zYgBsMiAEHQBBUIcq1KKaoAY9EAIv05bTnTo1I8REplSTucxxPtOla+HnUysGAgdQ4KsWAKtYwdqBo/aACVx420O3yiascqimcJ2nNTnI1rrmJKJ2ld8k8pnVvB6omktqKlnw6tfrULSwiCVJSN9F2MRO57BJMsc5uIFRqvjOsfRZrJGkQTzMejYjZxhMYz97HM0WSRpwIy2X3Dqt0arWZ5AQLUxfS9uH/2i1trg9iGtzy9ve+rYgt/2tcIeL28sSV7jBPa5yl2sa1jorucx17G6jG7A5EGa61O1XIK6bXY6ZYSCp7e6PKOpcG1mXu+JVzSdR+aNCWCG9RYLskMzABwNc4Q23WMup4KuwQpwBCm+Amlqgy9971XcgshBGgQt73sJgd8FqoYCRQqsGHphBCoiQLYQVBgYDWCETGt6wwEJrmAeLeFxqUIMBoPBdAzT4xDs9A4kHogZRdPYsBIZxuuqAEHRY4zYu0HGtCiHkIsskx0bWFhRmXJwfJ5lTLabrk5+K5Clv0sRWzhUmwMBj9GY5Xl3+skQL0WLBlgXLYq7VOtib5k5ag1XNr6psmwkDBSiAIRw3zups50yu8PKZk3PV85/JNQtuqGCfex40svysTkWvEs2OjrSkFQXpSQcw0ZbOtKY5VelNe/rTaKoyqJ1Y3lGb+tRieiSq5xQQACH5BAUKAAYALCgAFADqAqcAAAj/AA0IHEiwoMGDCBMqXMiwocOHECNKnEixosWLGDNq3Mixo8ePIEOKHElyYrqSKFOqXMmypcuXMGPKnEmzps2bDNHh3Mmzp8+fQIMKHUq0qNGjSJMqXcq0qdOnUKNKnUq1qtWrWI+e29ZOmMB/WcOKHUu2rNmzIxcY0Im2rdu3cOPKVYpg7dy7ePPq3cu34ioJJ/oKHky4sOGy1w4rXsy4seOaZR5Lnky5suWG1879O1dNG9vLoEOLHr23WzfSqFOrXs26tevXsGPLnk27tu3buHPr3s27t+/fwIMLH068uPHjyJMrX868ufPn0KNLn069uvXr2LNr3869u/fv4Hla/wtPvrz58+jT/+agvr379/Djy59Pv779+/jz69/Pv7///wAGKOCABBZo4IEI7tUMPgk26GBSizwo4YQUVmghX+NdqOGGN4XzTzufcSjiiBk1Y8AqBnSDDYkstkjRIgy6KCNt62gz4404WvaKQMnwk+OPORoTI5BEsnhOO9z8A1aRq+kAA5NQsphClFRWaeWVWNa0TZZcdunll1I9AOaYAspA5plopqnmbWau6aZUWz4mgwpv1qnenHZq1E6eyeHJ50V7/inooNPZSOihiCaqaETsGKBHZXGiJeaiHGbYRRcE+klphWQYAAcWL5226aiLGYJgm6RKCCpogaKFaqqwBv+VxpJnvRrrgbwI9ERl7aDylq23EngNN416iuld50gUabDMXsQNaP8MQkqz1ObmQrXY1qaEAdmQNWm24D7k40YdGJCIAYaWBWy47IIkTAIMINPuvKiZ0KpZ69Krb0QjHMSEW5ruKzBGprYV8MAIT4QMrfjSmfDDEB+abMQUV2xxgKJerPHGKB3M8ccgh8xdviKXTBXJJqf8FMoqw8aFAQxbyXLLrn1B881QvWzAxDj37PPPrenMnDpEqwP00cDNjHRoQiP3wNNQM0AHuktPyPNxAGSdtRjciqV01Za9HDNxI5RtQgZbdx2Wx2BXa0ja6WLFdtvN3pF1Gu3EfdXXdEv/ZjNzNtoNgBj/dNt3gU0nN40BghNueFZzHx5rInBLbjlJHYAAggV353355yFpnfbjcjsM+qgWUEBB6qo7cEc3y57u39XJtdOO0WPxLfvuEenOO6yfYJMxU77/vpfY3a24svGT/c388xQlfmXx0M/l/HbSoNMN6Ud9W31j0mNnDu3fl3+QFVJRb75b4V9XTojrk0d+lOrHn2cl6Ztu//6R7199/f4LoAAt178BGvCAh/MeAstXwAU68IFSmR+UGghByQGwglkKxFQuiMErzWGDHfzTGQZyrxA2528ShE4dTmbCtggNd9XhAxhaKJ3rVecMhTCAFOYgi6eMjYZpQgQY7XY4EO4lhYJAvFIOBwILeSWRbm+wCgefSBQFTkcNBjgDFKxwBT7kj4poQh8Y8BcVJIIRSmaQ4hnBdIYPXmGGBojiGo9WhzQS5AyeKFZTzDjHHH3wIOzQ21tW0McN/bGQiOwIHxPZoivYsS9GZGSD4Cg3SSJtkZbc2BQzaaFC/GGEIORklf4gyp4FApSx22MprfS+VdKsHyV0UYZcSRUtXOEK5hjXF2lJpBTycmM/XJn+fukiWKBjSlXBJDEf5EunbHKZ4XomNKdJTf9Is5rUGiY2t8nNA12zm+AMZ3mUKc59CbKc6EwnfGapzgAFBAAh+QQFCgAGACwoABQA6AKnAAAI/wANCBxIsKDBgwgTKlzIsKHDhxAjSpxIsaLFixgzatzIsaPHjyBDihxJ0qK6kihTqlzJsqXLlzBjypxJs6bNmwfb4dzJs6fPn0CDCh1KNKjOokiTKl3KtKnTp1CjSp1KtarVq1izYlXHrRsygUe1ih1LtqzZs2hTIjAQNq3bt3Djyp37VAJbunjz6t3Lt69GRwtm+B1MuLDhw2+TIV7MuLHjxzsjQZ5MubLlyxG3obtWjVk1bZhDix5N2vC5a6VTq17NurXr17Bjy55Nu7bt27hz697Nu7fv38CDCx9OvLjx48iTK1/OvLnz59CjS59Ovbr169iza9/Ovbv37+DDl/+dJr68+fPo06snvmG9+/fw48ufT7++/fv48+vfz7+///8ABijggAQWaOCBCCYIWSfhKOjgg0w1A+GEFFZo4YWEkYfhhhziJA0/3ZzT4YgkdrSIAYpdA1qJLLZIUTPOuCjjbeZgM+ONOIb2iEDYiJjjjznG0yCQRLoIYjtIFtlaDTIo6WSLKzwp5ZRUVmnlTSteqeWWXHY5lQNehkkgDGKWaeaZaOpGZppsWuWjYzC00Oac7sVJ50bd3KmcnXpilGefgAZqXTaCFmrooYiyCGaijE7HZ6McdvESN5BWaulLa16q6XCZbuqpb51+KmpuoY5qqkZ/nqpqSOys6ips7KD/Q1qUr9ZKUKsELmrrgKgdWOquwAYr7I+/DmvsQiHk9eixzCK2bLPQDvZstNRWa+Y21mar7bb0Ucrtt+BqNG245JZrbnPFnquuU+mu625S7b772hcGnGRlvPK2xkW+/CpFrwHY9ivwwARX9m/BCEOLb8KYHRxdGwxDGDCVC0dscL1XjmvxxihpzPHHIVUMcmP7jmzySA5X6fHJLLfs8sswS7VyzDTXrNrEU4pss80673zoJP94+1TPPs9Fr73bCT100YyVzPTTBKVMMdSHOb2dOedwk6VSulJtmNTYSSOr10yfQRXRZJ8F9nXS/JO2eDhLifbbaEJytpx07zxz3ibP/83334Cbu3fghBf+bdeGuzx44ow3zlPcTy7uuMB+T/7kHFVVbrmSgWS+eZpmDOT258yVDLl0mHtOOlkHv0ldIVas7pzV1ZnBhwFXvHFLVG3J7mUhZ0DxxkBbMyW570DePpAswiAvcOpWae78TxRgZ7YaPJghBSJ3T78lGAZYkUn33ltp9lXSl7+hGmoYAEXoBkCv/rlnnD+QGqKMPTTe8ztZB0LosEZeXNC/CRWigAiMyPESuCEo2M8vAmRgguCnlfRJMFgLvGCzLKhBBWECDP9TXQd/FMIRhqsQ8FMaVDhowgStw3Ut1JY1YCij4sVwKVCAAvjQx78btogfPuQWDT9l1sMgcmgW3FABVjJoRAONbolN1BYLo0jFKp5nilasVBGzyMUuzgeLXgyjGJ3DxDGu6nRmTKMar0OoNfYnIAAAIfkEBQoABgAsFwANAPkCtQAACP8ADQgcSLCgwYMIEypcyLChw4cQI0qcSDFhu3YVM2rcyLGjx48gQ4ocSbKkyZMfu6nshrKly5cwG/6LSbOmzZs4c+rcybOnyHTpzp3zSbSoUZ7JsPE7yrSp06dQozLldk3oOZXquqlTJ7WrV4Y0IggcqnPm17No06pdu1bduYsC2/0Tyrbu0XZkfTZBdm0gNwNc7QoeTLiw4YjoDivWuXRgsr878y6eTLmy5aaJDSQuNRAbxsugRyKTaMgaNpGNQ6tezbq1RnSwBXYz+9m17YeQe5Jwcru379+hTyzllrl27oPHEyYHvhhvzWQCV13Txry69etoZ2A7rdlA34aJb9z/SLjNLHbCF3AI3IacoHmPjs7Ln0+/qHADLLsrJFBwiQEJByFQxioGcaZZfvVB1cBAqdlUTYIQRighagYAlZEEJ0i0lVPWREgDHjat4kgOAlVT24QopqhiQhg+ONY27Qgj0HsKzWDAEAYYmOF4BtyBQBUCLTdZYMw54qJHPyQTnwFLrujkkylGUmJCNB60SjLfEZRhdH71g+CGUB6VDkJxHMSeRgR2RE6YbLap2DWNGHBfRG4Q1OE0CpWBgH5upkUkRzQYAF2fhBZqG4wLYUhQJIMaUIUpBLEzEAKRMFOQII5yZ6hUq1RZETbJSJrZpqSWylwUTRaR5kAfLLlAQUAi/0SXqYvxMyqtuOZ62JYHVcAQpAaUYVAZPOpq7LHIJivRNdU0ds2YAvHDFT/UqrMcOtawRxZ7cp2o7LfghivuQtj8tQ1XCBrAjUrjtpurkO66e9FfcA20FTftgBnvvvz2S6i+gP3p78AEF2ywRgIfrPDCDMs3iAUZNCzxxBRTBvAgFWes8cZrecrxxyCHLPLIJJfMnMcmp6zyyh0xgTLLMMcss3XeGprwzDjnSoQBitRcmc+kUpfz0DYT5HJvGABN9NJMR6VONgNNcXPTJ+Fp0JlUZx2hOknwrDRlSdsLb58cFIR1qS+vzG7KXxN29kA9rG3s21q7aWHK2Ux92Q5p1//tN1NbAWwAGnYAUjgaBiDT9t9EmdWD3ozvS/d13HAzFBwC7cKQ3OH+OcXil5EyFqlQ47kBqWf/CXnMQ/11xDKguwv1QN6uvhgoBvBtqukGeHKs7TKz9MQylkbEjdXg1ha7YqL30M7YT/ZN6/I4GfNItJM1KpCkBmk6EktHCAR85DmFTavQA+EeBNoCpUA9TuFIbxg7g5IjjgHf+AyOQPdv9NcTE/vcb3CXrPX5rRn4YE0yGmSQfPCjQ9TihC2WYQBeGEB+CQlfw442kNmRzyPI++AicjIrmjyjgQnZhAHE0SGWpWsgXRsIBj9IkclxBCh3u437ohIO4EwjGduQzEH/8iEzD9LwJGUjiA01Ui/fMMAEoytKC8WXwNZYUCDEyAf6CkIMW4hED6/zXnUS8YzxteQfMfzHFF0zw5akQHSGSWJB2jghKNKRJ/Frx60sQ4yEEGmPTPTNCw2wRaZg5H1HVMjpaBiYZhiAQN0QI2UIOBBLGIB7AwnFmkQCCGVUByM7wwnK2qGNOybylAjp4SKqGEXLgEMcm1whn7AnElXQEjQOoAAh50iUOxzEGohEpUHKFif3hGYdhUSJXLwijdvkS4mAbKJCoPWQf6SjXoN0iRCV+YCFfOEfyTRAMDfyj1C20jVLjEkxDXNC6wBSIFnqzSsEskCW5eYcQTQAA11C/0mChNMA2yTaOM9iQOYc4xL3oNdADWMMVmJHcA+B6EekCR6DUBQlszMLDIQpEFxchjpmFMwlBAILXxAES9Z5Czf+YUqOHoRGpPSXEXFyDiI9o6UU88ctBmIPX/hDki4dWTcHFlIVKS2gCAnM+7pVkKD85RyxueA/nhVUNhX1JUP9zUaLEpirPgmpVR0Z5Lyqkaz6Zqu3SadiJJqQEoY1ZjMlCU4LA4MWvHVgF70r9AiyAZ/t4IJ7fYhZe4PWu9ZNrSbrUCKiVoODxNWwkOXJIM9VE8SSbC4DIQQRpqCrukb2sxLTASkxgqiCjIasi8EFakGrzIUe5J+X4RxrCcKVs/9ZNiMymG2bZLsiPfIjr7qNSW6Du6JuBDYjt6UdcZdrnTV+LLlxMYxrmSuRwd6msNTNrnVgK7KNzlW7bJrufHjrG/G+tDAJqIhn51MAARTAAAIgVC5iQRBgCKQf4C1VNh0CPevaBrvycS+uxjGOdpCXuBYAAUecu6nvrqxMBGmvmyrBioMQeKo1Me/CTvQABxcECzbZL04o6xH/ugbABAErcQt8k8fllzXvpG43SCCQ+JrKwy+WEI4sRxa2QmS45MMxdvyQixwfJJe5Qmk6DiwRIEeOmgVZrXVYrGGXWiBXZhlKXqUcORkRKjHdwIiIR8JlvB7MxypCMXC4UWZ3tXn/X5/hh1ttspxl8EPIRIlxrtRsZJe8GVzUwAwmx4LnnaAZJSZuDZ/7fMpp2Flvc44JUAsT6YLouSOJZs2iGX3Eeu2TJ9BNy6xKOOmJeMtbmea0qsUKE62IM6oXWcmYM1Jotax31bheUQ5HUoIqpTrXwO7zCA4itfMG+9gbm0mtYeJlhzgZ2YYKNbRd84wqT1tC0r62isqjmE1rmyLclZmKv62QW5P73Ko2N7ohO+t1F8Tb7o43m5Yt73r/7dcJuQUkxCcYeNv73xLCd0IqAfCCR07gApnEG9Rg8IYfHCJ+MEDEEWE2h1scIly4IMcQ/gYDUHwSBuADHy5Ocoh8AWdW/xDIyA3ABANUguGD8XfJiZZxgKrMD3OAhUHU0PGBjLsrMrf4n2dumE8UJOXdJjr5ap4yZ2ha6VCvTzB0fpAzRF01Q28Y0zNGB+sE/eri5thM1I2QTwQC5GBPe8bpfayx27UhmfCD1T8himPMJNxpz/vA7sgAghvgGMfVu+ALFQKB4N0gQyV7Q/w++Iuf/GMIRwjFn2eXrzdeZFuPmd/BMJBjXP7zMbG2dQIhECs4QCDjoOvbQQ/sx/eEC2I4PUqGDZMziGJ7BnjsVyxf8MOzXi2rN0gmKF4Qq4e81L9PfrqVj7Ofi4wP5mC+XXwv/cIE4wrVzz64Im+AYEChIJ/ARv+7tZ/rtW9cILzvDPnR7fqNcZ8y6V+/wTLPMcvXYQ6fkMal5Z/r9mvs/Qahf92ge14Rf/w3MPS3NObgfFGheAf4gFKBdBB4FFnHMAlINOWwf0A3eBUoMQyoNhMYgsnCeCJYgigiAyywSyaoFmy3ghsBgC4YgxECg0kngzbYEWN3gzoIJS1YgMG3g0DYEDR4GAYYhDI4Q5NgdEa4hBEiCrJQg0xIMB8IMn4AclZgdWgXhSiRbVpYE2JgALBgBqSXBxrXhSVBfWYoEs+GEDEggQZAemloEmgYhzAhBTrQcZAwB2cwB3R4hn1oFGrACJNRhPI2hyPzeFPoL++XhX9IXBf/ODECx4gCAYeEQYiNCCX+pzHSc3u+YwBnUAhE+IOXeIN0NAd8YAajSF07BIkP0UwCAYoGIAVgOBqVl4pAmHgMUQu3ZwAdh4oCIQ3tQIC2eERmZQI9GC8MdwZQYAVXsHLD+IxMgYIL0XMDYQVgQHBwBI0UcYzaaBDUyIcEkQn91I3k2BSF8AZ7WBDUWBeWGG8dWI4IwXB86IsDcQaeMGjwyBDcmI8GoAZmAI4GwQ6GaBTtuAL8mHZDaBjteJDKNwkkyJAQGROZ5geVkAmgQYjCGJEOh4szUnUa+ZEukYMgOZI2MVRrSJIoGRPZoDQ8wHkE4ZIpORADGZMMUQh/YEzR/2VrgjeTJBlCCmF8BKFaNDmUJGGQAsFgu0eUNtgPgVEL7YCUuyeKBgOVhBJ4EYl9BBEOgDR+SgmSbrcQQFmGMlR5UtmVgieSB2EGN0lbBJGRZpmSaJkQ3wcL6JACtuEzXAklaYAripCSvwYGsAhQKYgf1uAWlfZRb7mREeECBuCU1mCVheFLial82iB6O/F1POkkVDmZnLkQeWNVnVlRBGGZPLGQDbaPoWkbQMkAHgV/qal9qKBGvpGZyPaOGglMril4tgmRHZKXbMGFbEKbr5kiXAEKL8AAsdmRtiGcKcKcw1kf7PAC6WUWu0k+bvmcbYILpHkWmwlwhoCdBvB2MzRRneDZjaj5N+e5GjogEAX1nDORiOVJk2bBUrcxG/FJdOl5n3SIMYSAHb6pn9MGXACamAEBACH5BAUKAAYALBcADQD5ArUAAAj/AA0IHEiwoMGDCBMqXMiwocOHECNKnEgxYbp0FTNq3Mixo8ePIEOKHEmypMmTKFOqXMmy5UB1LmPKnEmzps2bOHPq3Mmzp8+fDZ8lOwe0qNGjSJMqXcq0qVESHgT+u9nOqdWrWLNqZYpuq9ee/6bu/LIq28Cq3b6qXcu2rdu3cHOaHbiKKNW4ePPq3cu3r99nEgdh0yayq9/DiBMrXswYJbadOIA0nky5suWHaS/DxQbT5SqBjv7Z1Uy6tGm+hE9/bfBDYOaCVV+G/Ky6tu3buHOfvDBwtExyuoMLH05cOAlHMh2tEiGQX+fi0KNLn+57Mh7gH5usok17uvfv4CU+/w7/M7ZBOQfHZ0TesRr59/D7OuoX363YjiQMWKvPv/9pw/5llYx6GyXzDDcGmBfgggw26KBO59z34IQUVmjhhRhmeFk7cxlU1TbZXKPhiCSW+OA16CBo4orTbcPiizDGKOOMNNZo44043lZdjjz26CNbhGCAwY9EFmmkT+f4dseRTDbpZEwKPinllFRWaeWVWGapWWpadunll2CGKaZJEsJn135jpuldEgYYUmZer6kp55w97ciYBW++xyWdfJ52Dpp9qgQoQXsGamiaePbmIn8bGOCJAUEYoCJ/UWrJzaSHIlWoQDv8g2l/QkiaqXRJUmmNnXv18Bx8gD46anFJtv8T5R2A2FGrHQYIkyeNbiYWW6cLggLpqw59Sho66ABHhkCqMCRrhr4xsatfwhqw6nuANjLQotNt2luaMBH1BC/81DjotajiRYoBPaTr3aANutslUUco415E6MD74HPT5iVsp9yCV6mh8XQiUMBsEWjAOgclY5KITwg0MLE1JdofwgKFGt/EQElTrl/YoMlPPgaAg11BJBuwDEf04ijtZOsG+MAG/YrZSTiHWYMxQeCg4yI55GwSijgqJ6hRxDZOoaC+FDf9UDM1qXPtSicPBE5CtKjMzpUDE0EQx043xEFKUiPbmAk154QPZQZyU/PKWDIdNlIXUZZACgf3NA1B/+D/jJgwA9kCzsS2ECMSIE9wknZig0wjL0vteJ2gt32BHZMJqBDXTZyL4W35Tx538/ha1CR039Yejb7iVIvP7bpdixjg8DWUu8VJQaEY8PFAtBAtEhlwj8jxP9Z87vrxBqzdjDME7Y5XPvm8tnJ1VX+0i0CqN0jIQdq0jnxl5iiM0j/G61TOYhE2X6nZzkaUZFgCGasS5xtqLNDUftXekiJu7X0ZRgehX2IeIRBsZK9H6lEHN8p1wO915B8x61IwKGGPqmDDe3iJh99KU6qJdHAkUouIsULoQJbg70iUEIgvYEEQbDjMMvzohqzKV8IaiskcvhiILsZhDtTZkEgOsAze/yDEHwAZxIgLASASGcIN9p2FG2lpRzo6gyxtCPCHOAoiZWQwpxNi0YZanAwXGaM/t3ywIST8IvJoiBcZqECNF9ocHHESxsaMcY5eKmOV6uifO+KRP8biRgM9oscq3YFNC3LjHxd5oRrcpxsYVEwtIqkQPzIyImnsSIcOIzU5XlIlMPhkcJ4lHQNuI5OiPEkoGaPIVCoEG0v8SCEJckVXEquVltlkkWY5kFpexZe21AgfF2PJYBozL7qUEhfZeEzpxNI7pOwPM48CgIrgsjQCKIAADFCAZnrTJTsbyDAVU8zSaPOb8aHACDgSzvBM8y3XpAx6CJLNKgGzSXGiwDsX0v8FmchPLeNMTDkH4jx0ngRYBnXaQBuTDhoIpJsJjShF6pagfRJklYayqERPwwAL9Aij5CzNPwe50coMiUEIklo0i7PQxuCCSSSdkRdLGpKWMqYdMV1RTl+UmXOgMiY+HIg4qqHRTNmUphnZqYYM9xN2IJEfRdVMQBFzVKSCqRriIMe0fsqSoMLlniWZ6mGqalUvsU+pJRERX8AaErH6haxljatL0IqUqH4lnnLNa33c2he46vWv0LErYAdLnKoIFikgFegbCTsRXjI2THh9LEMcK9nSyNAtfq2sAZL5pXY+NrKaDa1CFytaYv1TspktrWoVc1itgHa1sG0MXxMCi0r/YM8rqY2tbvEy24RkYi253a1w29JbgRBCDW8YrnKfVFwD8MEAv/VDW4K7XCd9wVpAfMhzpWvbNyACuNVVExe6JAWBJNcAahiINFK0FeqG90jXNYBniQQJNdzCIEzgw3kN8MymuJewdH1vVmxLEDAMRLrmCPBN/ivgH8V3SrIYa4Mn3BdZMO8g6cWsgBWMowf3qA2XYTCFfTTfGVVFBixoCCz4QGC2iHjEN7ruTGt0YtIuBBG/na6NYcxjq7Q2K6/tsZCLokUUT2QS/MXtkK803iI19yDP/Ud/l/LiJcPIw1jKcXkxu2Mri5Ktw3luXILs5T82+XhVlitny+yUFCOk/xKBcC5B6uDiLrP5zldhMQ/4gI3TUhnPUyoxkxBxjIHkMMNKDu+aAa2WcWw5E4hONKMnPZMny+IKUHDF1/xMaWPKOLsGyOwa6kBnUbW300U684+eLBBzGCAQc6hEMDitlDSjmkJYJlJqzzAQBC261rf+kap9xGpM2PYKLg62j3KdpULA087KjnZM/lCQM6xX0tXlcIy9lIlgGAAWLFQvJX9i67hqO0eCNtInDAAFA3wC0t86tbTnDR8y0/veEYFBCwzgv4L4AhF9EIi38Z2THxNcmBDxQbg1fPCGR2S2tzCwD6QBl3I7vNMntiO0L87xrzEkGOYQgxXK4YlgRLjOHf9P+UHcagYDnNwAx/BDIAj80nPPxOIqvzMbPzEJJBPE5jKxd86HXhDp+pzhRCdRuovkhx1AouIbhy1lkx6TT5xhDgbY3l3f+2uqkySxBjm6AVoskCl7nSJdPzt5cE7TtKvdJU8Xc7IVLaYmL51FrK742yvE7Bw1NxGiGAgfDKwWtu/dNsP2EQ0LbRBYyM2/UT98sGkICmer4bsD2ZvbjSJ0yfMHbX5/SC2Okdz9DoQdmy+K4T0f3iJDBOu87rW8WR8gChAkBTM2EpJ5HenCR572ndY38F1i8OFDxNkF8cS4e7J643sZDFcgvMRmn23nxyT2BmGGa3+v2uJbP6QcccH/96vLauzPffwH/8TTDeIDHaO/02JFxCQwb4ArtFwgZ/iuGmrBjn5fhcGP936q5XrTZxB1IH0GEAMGgAngJYCUlnELYQUGQX+4xX0OCGNaBHYGgWwYdoEeWBLdcxBY5wP3RxC3ID5W0XwRlXof6BHtsFi5p3pc14IV4VgUWAvexxIqSIMN1hm4AGZAsYM8OGLLpxOdNyJTNxx3934IWBA/WFFAZoFDGF4n5mYJUYKwcVdSOIXLBYEH8QdN+GxcuGRemBAcWFC+xxB5koOXAWL9oS08yFdmUGq6cxksOIZ51VzVwYZB5xB0gIdDFoNAFhF3OB2FCIhoBiOnQh2I+Hp9jbWFDrJSjegfZoB1BpAAgDNmkzhpuCCIWFFVAQhYQCeADICDBlCESSGEBjWKxqcgCSAQ2UA+lxSKm9gguMCHSrGEtVhZXVGKVXFGuxiMCjFJk3GIccU/wlgQK1CAydiMCfGDSVhDuLgYO5AxzkgQnniNwSiJfsGN2viN4Cha2zMIpDGN4chI8HOO2hgQAAAh+QQFCgAGACwkABQA1wKnAAAI/wANCBxIsKDBgwgTKlzIsKHDhxAjSpxIsaLFixgzatzIsaPHjyBDihxJsqREbiZTqlzJsqXLlzBjypxJs6ZNmttu6tzJs6fPn0CDCh1KtKjRo0iTKl3KtKnTpxWzQZ1KtarVq1izat3KtavXr2DDZkUptqzZs2jTql3Ltq3bt3Djyp1Lt67du3jz6t3Lt6/fv4ADCx5MuLDhw4gTK754jRvZxZAjS55MubLly5gza97MubPnz6BDix5NurTp06hTq17NurXr17Bjy55N23O72rhz65Y55fbu38CDCx9OvPhKRb6NK1+uuzfzndaeS8/L5N/0mw+ua5/bjogBQ9a3i/8fXzo8+fPo0xOfpr59WeTuReaMT79+YG0G2HMw4Gkg/sXJ2SfgcI0MaOCBce0nkBCXdYPgg7Dt159lJpgH4YWsTVhfM/hg6OGHXC0C4ogklmjiiZhFh+KKfrUTYG3h/NMOOizWaKNMzRiwigHdYHPjj0CqtEiHQRYp2jr/Gankkpq9IlAy/DAp5ZQSGUMklVhmadA57XDzj4VaDqYDDGGWaeaZaKap5ppsOjVfm3DGKeecdNZp55145qnnnmDp8CKfQboIKFQyqDCoXumgc86hjOr1Z6OQLvdopJRWGlySlmaq6aYYxZILQZ8asA6npNa2jznocKNOqayS5keoBe3/4087PkaKxUsOtiqYP4/p6itqk/76nAxhZsKKsMii5g87PCbrLGeLqoNSr89Wa21i1F6r7WToMLvtt5TVCu64i71J7rnopqvuuuxqWmi78MYr77z01mtveoveq+++/J6Xa78AByzwwAQXbPDBdxKLcMHZLlwjFwaA6fDEQn0Bmx9vmMPPvxQ/LFC+qvHR8chEiSwNjSR7nPLKLLdsF8Qux1wTyDLXnBLEEptmhQGifHKyASraLDRIDmQiUDA5D620R0kvLaDFTkftEcyuBSP11ReZwYBA5mDttUVmyCIQjUF/bXZBgRCkhkBvNH322wJl4ocUb3CDMtz00YzaJwac/4H33wf54jfghBtwBSYEYcPxUgoX3hfOrI2BydoGiOv4eFCv5o8Bb9QxiSxuX84c1aypUYcox1iHqejTZZ7aH7AYIAXr6ZGOWtq0w11HQVaYo3fuz9lOmi+3GDBL8QOVczfw2v0OWiWGG1BJJbszb/31HcMSyB8CiY3Vu9gPmoWG4SvtixkG8NB1+ey3L7As63whxTPBHMO3+y77jbwB0vDxRuwGqIUBVoU/mUGPIAQsYMogYQBCfMJqCnyO8z4jhtkRQna7u2AEW/aGgkzCAMHaYMH4BoK1MZAgITRK40QYJyvwwAsGQAQf0MfClcEwhn0bSApr2BqoTTA096seD/93Q7UEhoaBhIDgEIPjOtKQbyBSmIMsnrFEhx2jgwIBQxQNQMUqIowUczBAIQQChYGgo2xeDJg0EsG2guACHatLo2qykxoGrm1wclyYyAZiBTAMBBWEMlQey0Q5gdBQINBb3iD59YYxGuCQA2nYIusVRtNBkiDsmSS/zoDHuqxAkyOagxBBCTCjGSQGpASYHxBSh7TNARX9iGNZpJJKEvkAh7Xklx/Rlkt+ze4gYSRUL5k0ymEa85jITCZndmkQVIROmeeyhm9wsTgsoRGaQDnGQGpxm2di81zW2eE33deCcd6oEu0QpDnjpQ5DOdMqK1wni6ipjWrKM13W8OY998khz376858ADahAByqgeBKUXbKczDUPWq2FMrQzDn3odAICACH5BAUKAAYALCUAFADWAqcAAAj/AA0IHEiwoMGDCBMqXMiwocOHECNKnEixosWLGDNq3Mixo8ePIEOKHEmyZMRuJlOqXMmypcuXMGPKnEmzps2Z2m7q3Mmzp8+fQIMKHUq0qNGjSJMqXcq0qdOnUKNKnUq1qtWrWLNq3cq1q9evYBNiC0u2rNmzaNOqXcu2rdu3cOPKnUu3rt27ePPq3cu3r9+/gAMLHky4sOHDiBMrXsy4sePHkCNLnky5suXLmDNr3sy5s+fPoEOLHk26tOnTqFOrXs26tevXsGPLnk27tu3buHPr3n3a0D/ewIMLH068uPHjDB0gX868ufPn0KNLn069uvXr2LNr3869u/fv4MOL/x9Pvrz58+jTC+4UTr379zabwZ9Pv779+0yn4d/Pv6Q0ft2c09+ABC60iAHJGHBNTgU26KBAzTjz4ISEmTMWhRhmCNcjAmEjoIYg0hdPeyGWqB6A7aRo4oostujiizDGKOOMaTFI44045qjjjjz26OOPQAYp5JBEFmnkkUjKhlKSTK62ZJNQRplZNlJWaeWVMKJjABlYdpnZhXBg4eWYk+lhQBddvMQNmWx6NUibcDr2RJx01mknjcsIJOadfPaFDTZrnglHn4TqxU6hiOZ1aKKMNuroo5BGKumklFZq6aWYZqrpppx26ulw23wq6qikThZoqaimquqqrLbq6quwxv8qa6dfGKDOrLiaxEWuvJJUqwGh9irssMT29GuxyCarbEvHLussRME+K+1Btd467bXYZqvttgvtyi22zX4r7rjklmvuueimy2i06rbr7rtzTfLPqfDaVq1q9NZbm7f64hpuv7Dyi5o553BjI8Cx/VuaNFoiDOsZDtu7mjS/RVwbuxZnTBckGnfs8ccghyzyyCSXbPLJKKes8sotYczyyzCDPEfMlwZCc6VmDFTxzZl56/JnM/Pc2bEfilaIFUJzJrBoZvBhwBVv3JK0o4WcAcUbAx089Z1ODySLMFsjGnTYmFFQGsRq8GCGFIiQnSgYBliRiduFQkx3oWqoYQAUORufMPbdcZ5h90BqiNIw4G3WgRA61qzlAuLLFQL55JTvBsXgcDVeOXF9b+7556CHThIPcItu+umlZXIh6lFeUVDRrFfZD+wUah07R64TROLtTWLOO5Nm/NGVCr9HB4UBsKCTQvFIgiG5QOewYAAuTzJvZMW1tGNNO9ZfT5A23Hcv/vjkl2/++einPzXx6gcpA/sH/dy+izLM7z5CVNoPW0AAACH5BAUKAAYALCUAFADeAqcAAAj/AA0IHEiwoMGDCBMqXMiwocOHECNKnEixosWLGDNq3Mixo8ePIEOKHEmyZERuJlOqXMmypcuXMGPKnEmzps2bBLfh3Mmzp8+fQIMKHUq0qNGjSJMqXcq0qdOnUKNKnUq1qtWrWLNq3cq1q9evYMMaQCm2rNmzaNOqXcu2rdu3cOPKnUu3rt27ePPq3cu3r9+/gAMLHky4sOHDiBMrXsy4sePHkCNLnky5suXLmDNr3sy5s+fPoEOLHk26tOnTqFOrXs26tevXsGPLnk27tu3buHPr3s27t+/fwIMLH068uPHjyJMrX868ufPn0KNLn069uvXr2LNr3869u/fv4MOL/x9Pvrz5283wnV/PHuei9vDjy59PH6q1+vjzpwz3rx06/QAG2FAzBqxiQDfYCKjgggUtoh6DEB62jjYRVmjhXK8IlAw/F3ZInzEPeijieue0w80//4yo4oostujiizDGKGNdOs1o44045qjjjjz26OOPQAYp5JBEFmnkkcW1g+SSsCnJ5JNQckZhlFRWaeWVWGap5ZZcbtRNl2CGKSZ7WIxp5ploxsiLQE+k6aZf13DDjkBwdPHmnXqRheeed/3H55+ABirooIQWauihiCaq6KKMNuroo5BGits5klZq6aWTfYnpppx26umnoIYq6qikltooFwakaOqqJX3B6qskof9qAKWw1mrrrT3JiuuuvPbakq6+BgsRrcIWexCqqhqr7LLMNuusQq4+uyyw0lZr7bXYZqvtttz+SWy34IYr7l6fYKPpuLMhK1uC6NIWbburUgvvqO/CJg063WQzL2zytmbOt/uCakXAsvXLWjl+EgwbwAo3vFclDkcs8cQUV2zxxRhnrPHGHHfs8cctMQzyyCRvHEjJis6BMqJnDOTkypVFK7JpdcCsma7qsMYHGDZjVq9j6gQt9NBDO3RGIQZIMYcsPQeKCBhKD6Rv00ymk44BzDCDjTozI4T0QLAgQzWS3ZTdjdXYJMPMNVeX7dAbY1v2wGRDW30NM8lcI1DQDKn/YcAZUFhxBR9xW6lON3xDNDAYEBcOpdVWS2SG43ueofIVPBsAN+Vn1jE5QWd4MifnYqp8EDtTprUC6cqZzvrrsM92rkFXfB7X1LHPlnhDmefOpDrTPJOzATmjmKzvVv7zDDKqdvOPNjBwMTvyVQ6f6jNBcOECE//UOJAPtlO/5Db/3HFHO9PoAEr34mNpfDbGW48QInq2D6Q62wyShjAooiLGQb3bm/2E9I9BeIIJU0BRDxLwD/kVxBovg9B9BogR5wnjDv8ggvT+sQETsM8AATTAMShIQGQgoxYy8IQBhMGABKYufCQk0j/aIARtFDABKuTGH0IYwyE5bwpfQBETlB5gw3NdwQCVaIcKekhAJmDwHyCAgQF0Yoaa7W2JqDgeE3VEvjYoARRMYEAQcScQWuGiG9qY3hZxhL9E3GEKFFif94hHEGtocY03Kh8X2tGOHcjgg3gs0j++kIZ/cCEF/BNgIIXkPFTcQQxceMY/6rfIIf0jG5JknwMrGSR1ADJnm+SkKEe5ndSR8pSobMsEU3mbgAAAIfkEBQoABgAsJQAUAN4CpwAACP8ADQgcSLCgwYMIEypcyLChw4cQI0qcSLGixYsYM2rcyLGjx48gQ4ocSbJkxG4mU6pcybKly5cwY8qcSbOmzZsEteHcybOnz59AgwodSrSo0aNIkypdyrSp06dQo0qdSrWq1atYs2rdyrWr169gwxrAJras2bNo06pdy7at27dw48qdS7eu3bt48+rdy7ev37+AAwseTLiw4cOIEytezLix48eQI0ueTLmy5cuYM2vezLmz58+gQ4seTbq06dOoU6tezbq169ewY8ueTbu27du4c+vezbu379/AgwsfTry48ePIkytfzry58+fQo0ufTr269evYs2vfzr279+/gw4v/H0++vHncncKdX88eZ7P28OPLn08f6rT6+POnlMav2zn9AAbY0CIGJGPANToJqOCCBDXjDIMQImYOWRFWaKFcjwiEzX8XdjhfPOp5KCJ7/bVj4ogopqjiiiy26OKLMNaVYIw01mjjjTjmqOOOPPbo449ABinkkEQWSRxKRib5GpJKNunkZtk8KeWUVNbIjgF6VKllZ9YI1EUXW4Z5GRkGwIHFS9yIqaZYhqzp5ptwxinnnHTWaeedeOap5558Gnlln4DGdU2ghBZq6KGIJqrooow26uijkEbq5DaSVmrppZeliemmnHbq6aeghirqqKSW6ukXBqhj6qoqccHqqyah/2oApbDWauutQcmK66689hqTrr4GKxGtwhabEKqqGqvsssw262xErj7bLLDSVmvttdhmq+223CZKbLfghivuX5P8o+m4tCEr27nozhZtu69SC2+p78JmzjnczDiva/K2Jg06+5p6RsCz9cuaNP8QPNu3CjfsFyQORyzxxBRXbPHFGGes8cYcd+zxxz8xDPLIJDOrzsnqdNMNyih/NEfJRaqcTjv/AExSIDALaeLJ7WxTSinYrJzOyR6ZMVDCOV8Wrch38dyOzNysUkoZbhjQjYkndvRy0prpyqFf6aTTDTOmOFKEKYOKVIgVXGdWr18mhj22KVM7cs02Kaus995MDv9E9EJm8GHAFW/c0jaPYV/DjCOmnH0NN+hELvnkkwv0d0OFnAHFGwPpeziNiZMdyRJlFDHEDDNUoLrqB6x+QBSO8MPOOX0rJPhAsgjz+Y0yi714KaQPcUMFH1QwwAAIHI88AQPcEHs/7VidDkNb714ZBYPFnY7idJO+hOknnDDB+OSTP4Qj/fDDzcrJIjSwGjyYIQUi1vPejdy/l+FINWNhk8w/2AigAJNxDXQU0GYPAYMBrJCJ+tmod3NzxBDQtg108AMdFcygBdlxQXSoDCIDc6CNnIY/uunvcSbiG98u1xA1qMEAUDCaAaonQhftTB3pwMYqGmcKAzlNI2cI4UD/1CAKBNawRSo7xzmucY2yXUMdSNtIHRCCji6pxQVHDE3WUpY3qyGJhRYpRBZ7pLf2jdFNH2xIN7TBRjayiyFQECJcrHhG2PzjjniMIkNkWEcibeMfiqjBDnqwAxnc4R+0Ylofm/THNDDAAQBgAAOmMCsDpMkaFCDCP2q3yCTdsRYJMATNCCKMDPSgA0Q4CA8U2EkhaeMfoADAIa0YJSYw4R/PwGIrJ/UPUsjyHwmKIh0ZkgkK7bJFZizIH2N5yCj9IxtE2EEtBEIKdRHkCgX52jFVlLB/JFMgf/TlIdlogB1woQMpEMgOUqWQfmiTQZ7b5kC68Q9hJGIQ1tCjQLjR/8tfdkkRJjDAA1yQMAsYIHoCwSZBQiTPFXHDEKBoQz4tyY1toISe0+ACLsxlAFCAQhG/xAUADCLHhq6Ins9QxB29mMe+bdKSCdMBA6J3BwA0ApFm+INJY6QNVBjCE8/o5h2YMAVSvNQA2mASpSgQUAP0gAFvhIIBYIGOdO40Rf9ABSie0aV/MIEI1tjADoCZEAakUqAlQBoYxCiQc7DAALjg5FUr1MtadHMQMLjjIFChz4FEqQYUwCsAKGkQpNWiHdZA6FwvpA5QIAORXuXCP6ZxR7wdBIoZZUIPAOCJwuZEsYu1kDZAMQ11/PELU7jjHSQrMkrBgAJ37EAHkBraF2FNFhX8UFU9mSAGLgSBFN8ciAMCWgMH4GIg76ztiP6BjI0KhJ7/qIXujloQbrTjDjXILjIqqVxkIqO0BLEuIhU5kGdsF7ndLdIradtWAyQ3vfCNb3jIK9/62rctUbqvbgICACH5BAUKAAYALCUAFADZAqcAAAj/AA0IHEiwoMGDCBMqXMiwocOHECNKnEixosWLGDNq3Mixo8ePIEOKHEmyZERuJlOqXMmypcuXMGPKnEmzpk2b227q3Mmzp8+fQIMKHUq0qNGjSJMqXcq0qdOnUKNKnUq1qtWrWLNq3cq1q9evYCuiDEu2rNmzaNNu3aC2rdu3cOPKnUu3rt27ePPq3cu3r9+/gAMLHky4sOHDiBMrXsy4sePHkCNLnky5suXLmDNr3sy5s+fPoEOLHk26tOnTqFOrXs26tevXsGPLnk27tu3buHPr3s27t+/fwIMLH068uPHjyJMrX868ufPn0KNLn069uvXr2LNr3869u/fv4MOL/x9Pvrz580+b4UPPvr3NRe7jy59Pvz5Ta/bz6y8Z7l87dPsFKOBCzRiwigHdYDPgggwOtMh6DUZo2DraSGjhhXO9IlAy/GDo4XzGQPjhiOed0w43//xD4oostujiizDGKOOMbeVE44045qjjjjz26OOPQAYp5JBEFmnkkUje1k6STL62ZJNQRslZhVJWaeWVMAJIBpZccqagAXBg0eWYlulhQBddvNQNmWx+NUibcMYp55x01mnnnXjmqadJ7JiZZpp7BioXOwZsCaigiML1ZaKMvrVmo5BGKumklFZq6aWYZqrpppx2muM5noYq6qiTPUrqqaimquqqrLbq6quwxv9KKRcGqCjrrSR9geuuI9FqAKi8BivssDv5SuyxyCa7krHKNvsQsM5GaxCttkpr7bXYZqvtQbpuay2z3oYr7rjklmvuuejiCW267Lbrrl2fYGPqu7ZR+9qi9NrWbb6ygsuvq/u2Jg063WTzL23+qmbOugevakXD9cJWDoAQ18ZwxRjfVUnGHHfs8ccghyzyyCSXbPLJKKes8kgXr+xySuqo83KjMQvUDTfcPOlRIDMzKfM2Km6TzrwazdFzkTHfDPQ/yEQRhTrXpIMg0RSdMZDOR2PWbct01TyQ0imWM4MECJyADToyb1RH1p4ZmzZf6twc9gwfDEDAAif8Z0DMb1v/xAcYbHMWMF58x83N0tLQjQABjJf9DzpcS3RGIQZIMYcsgd/odTopJv7B4ow3fsI//UQuESJgWD6QwZnD2M3r3aAjzBASLBC63QccMMABFfR+AEG8CxS8Q5QPBAsyrcv4Oj/sOGKD7aEfQEDuu+s+wPUDIGDAAAIhwL32X2Nd0BvJa/ZAX68D2M41RVRQ/fu6HzDB/PMvxE8/VAukhgFnQGHFFXwon+selT5uoAMdRfgA43LHOLz940vYwNdAsHEOCSbkYWDYmABllLRudAgb7HOf3QjguH7wAx3bQKEKmZcNijXEDBukUeFehyB0GLAfCWxg3iCXv3P0TSFnMNoV/wBnAPLFsEVea0c7OmgiebWvbGd7ndcmUgcYEuQMniDUEVlEw6kRxIbcwMYQivAPbqSDYPlziNEOwg4qpWUFWxRNzM5honas6YApQskcTbeQNcaRR4X7mRnTMcU/YkmJNksjRa5gxbmwzpCYSVva/iHJvf0wI0SEJIuCJjNtpGga21DHNjypjmxcUpNE+sczSKGIO7yJFEKQgQlKoIh/NKIDFrCAGP5hI1Qe6R+1aAMpKvQPVFjABMgw2D/awIBBuJEjPmikLy30D2HcoRb/8OQzNiADXmbjHz1IwymnOSSm3YEU6rDGP8TwABP845uJSIEBnikSRIyFnAJSJR1Aof+Of5BiCivYgDJTYAheCkSUBujlQuh5kEweFJ8D+sc07lDLf3ABFTuwgDDWuYN2PJIg1XJIt8RHEGuQlEH4iWM2KWqARuyyBw7YaAlQUUaBoOQOJYCBzSLSgoE41ADHgCiDyujKdeLiH0pgwDOmoIRs7hQZD1BCCJDXDYVGRJpCbVA3BjGIRgwiRVNwwB1SMI1/PKpCinDASSHyh59mNUKJSMMdrIGiLzggA20wqAFQdIcQMCAJqECQAb7QAyUENiJXMEAl2qGCty7oH4q46D/UeYcEyFOh3XhGCEyACmSoSAUpeIYFIGKGtR20sTR1bID+kYhBLMmTd2AAKPQqkAqedYAJ7cAPFxiQNlJMBFi46IY2FKna9vjTswn9hye+QFuBTFasBpiGATpQAwM8gyJ9U2dx95OigeQspLX1JwNoih8ZuGC7PvoZQWSmojQ84B/nyAkqUsAEJfRgtuj9UTf+AQpSBKGxzwTFURmiAxnkF0bfJIIDQlBLN54DvAfuEdPEUEurRricKbLwhYVU1XsShqEbDrGI45LSEecmIAAAIfkEBQoABgAsJQAUANkCpwAACP8ADQgcSLCgwYMIEypcyLChw4cQI0qcSLGixYsYM2rcyLGjx48gQ4ocSbJkxG4mU6pcybKly5cwY8qcSbOmTZvaburcybOnz59AgwodSrSo0aNIkypdyrSp06dQo0qdSrWq1atYs2rdyrWr169gK2ILS7as2bNo03LNoLat27dw48qdS7eu3bt48+rdy7ev37+AAwseTLiw4cOIEytezLix48eQI0ueTLmy5cuYM2vezLmz58+gQ4seTbq06dOoU6tezbq169ewY8ueTbu27du4c+vezbu379/AgwsfTry48ePIkytfzry58+fQo0ufTr269evYs2vfzr279+/gw4v/H0++vPnzTzuFQ8++vc1m7uPLn0+/PtNp9vPrLymNX7dz+wUo4EKLGJCMAdfkNOCCDArUjDMNRniYOWNJaOGFcj0iEDYAYuihfPGs9+GI6PnXzokkpqjiiiy26OKLMMbYloIy1mjjjTjmqOOOPPbo449ABinkkEQWaaRtKB2ppGtJLunkk5tlA+WUVFZp5ZVYZqnllhJxw+WXYIZZ3hNilmnmmSsuIxAWaLbZFzbYeGlAF3C4aadeZBhQJ5t39ikXOgboYQCffhZq6KHabYPooow26uijkEYq6aSUVmrppZjiqGimnHbqqWRyfirqqKSWauqpqKaq6qqsPvqFAeq0/yprSVzMautIrxqw6a289uqrTrn+KuywxK4UbLHIPrRrsswW9GqszUYr7bTUVotQrdZGe2y23Hbr7bfghivuuG0uS+656KZb1yT/hKqubc++5u67tWFLb6vb3puqva2Zcw43NOobW76qSQOowKmegTC8sEnzz8K2mQvxxHdBQvHFGGes8cYcd+zxxyCHLPLIJJc8ksQmp6yyxnOsrGQ3834UiMtDomiSGQM9TLNm2KKMl80DSWPABwJdY0A6HLW8c2fBduhXhQUhYIDOHBVixdKc8WuXOtAeVE5JZvBhwBVv3IL1jd10c/BKhZwBxRsDBXw2jLgYRMAABIAk9kCyCP8zt4vpIG1AP2sPdIABBwyAuAGKR9ROkwYp/TdmFPilTjrdQM044o17pLAaPJghBSKTuwg0Qf0YUMEAh48EhgFWZFL6jehwg07qJCk8e4zndHgizCWpoYYBUOBsgOS7p9i7QFyndIbuA6khSuHJj2jz6SHVgRA61rTlQvXJFQL++OQ3BnlLUEAvV/flU9a8Og/Dr5Lx7Y/IvgHTnLMN+/fX/yRKSsiAAHdgAEN0IAMbAIEB2uE/KOUkCADgQja0oY5GAMACBkmElDzCg9c10EJSEgMA2mCA7iEDAAosCAM/WKSctCGC/3iGASDIFoJ0jSSZ0BwL85OTQQBACQ9ThAv3LOAAuVVkgwq5QkGctsP8KMoTAOhBrFLgiREkABkewRbVDNIPJkbIiJPzEioA4IJ/pEEHBigBAOr2ke8JRIkEEVETA4SSE5bAACYghQFqAACTqG+OA+rGP6bBgBBwQQkC6UEfBbLCjpjhD4CUkCC5QQEGmGAgTLhgSaBgAFigIwWRpCNKOgCAO3QDP18AQAm22BEwiE8g52CBAXBxvlDOJycW4IABtBHCRZZEZ7VohzUaacv5KGoKitCVQBQxhYUQ0yJb1MYziymfTW3qHKwkCCioySN1aGMbNwQjN8dJzsOksJzoTKc618kUn7HznfD8ChLjSZuAAAAh+QQFCgAGACwlABQA2QKnAAAI/wANCBxIsKDBgwgTKlzIsKHDhxAjSpxIsaLFixgzatzIsaPHjyBDihxJsmREbiZTqlzJsqXLlzBjypxJs6ZNm9tu6tzJs6fPn0CDCh1KtKjRo0iTKl3KtKnTp1CjSp1KtarVq1izat3KtavXr2ArogxLtqzZs2jTql3Ltq3bt3Djyp1Lt67du3jz6t3Lt6/fv4ADCx5MuLDhw4gTK17MuLHjx5AjS55MubLly5gza97MubPnz6BDix5NurTp06hTq17NurXr17Bjy55Nu7bt27hz697Nu7fv38CDCx9OvLjx48iTK1/OvLnz59CjS59Ovbr169iza9/Ovbv37+DDi/8fT7586mb4zKtfb3MR+/fw48ufz9Qa/fv4S4b71w5d/v8ALtSMAasY0A02ASao4ECLpLfgg4Stow2EFFYY1ysCJcOPhRzGZ4yDHYZY3jntcPPPPyKmqOKKLLbo4oswxrhWTjLWaOONOOao44489ujjj0AGKeSQRBZpZG3tHKlka0ku6eSTmk0I5ZRUVukiOwboYeWWmtlnQBddcCkmZWQYAAcWL3Uz5ppfGcLmm4+hCeecdNYpIy8CPWHnnn9dww2WZobJ56B6jUXooYgmquiijDbq6KOQRirppJRWaumlmGaq6aaKnsPpp6CGWpmaopZq6qmopqrqqqy26uqronL/YQCKsNZq0he25lqSrAZ4quuvwAb7E6/CFmvssS8Ri+yyEfnK7LMIyUortNRWa+212DaEa7bWKsvtt+CGK+645JZrrqPOnqvuuuzi9Qk2pLZrm7StISjvbdvea6u3+rqa72rSoNNNNv3Oxi9q5qRb8KpWLFzbwaeV45/DtClM8cV3VYLxxhx37PHHIIcs8sgkl2zyySinXJPFUG1Do8qTctPNif+4HC/MjG5zoieDPEOzAeo0FQjO+ensCQgUmIABHTLcUXNTcxB9nzb/JOJACj5/AQAAQvxD8FJnDNSk1Jlty3JSOpPCwQgnZvOPBQA4LaVSdZDtGbFBP/UPERa0//HPNP8gwwADvIytFB9g2M3Zv07pDIoJJgijjtuJANDB0yBJw1E7hg90RiEGSDGHLIqvp3MaIQTxTzfW/MMEAEQYMHdSiIAh+kBfly6eiVyA8EXNJpYQN+ZAdXPzQKAPBAsyupv3DxchDPKPNupMw0ACuBDfk6/HC/RG85o9MJXOYoTQSPX/aH35SAcYMED7GHFekBoGnAGFFVfwAX55JpIygrRfSAAAejC9pjQMDBrbH3lmdocS9MAFIYDbHQzwMo7ILCVmUKDpdIaLNiQiGw5IQC2mhZQzRO0KiTPA9zQIHnXQjGaKAMAGtHeUOmSQIGfwBKBYyJ2qcUEYBvBZD+oAMIUCKiVqB2HH7M6yAh7W5R+4IEINSOHCNsjQbUxBohPF849nTKEHd7hDDxgAA59VcItbmhkyEiEGLnABFCcyVFKucMO45A6Nc2nHC6d3xqOkEI/k2YY2BtnHieSNIXcE5Jw4gAEKKNJK2igkSXxQx0da8pKyQYQcMUmlPwrkkJzkkjU6tyAvoREXL/GkAY4RygWRciWVbCWV/qBKWVIoASloyRUMUIl2qMCWD0qA3zBYt0/+EhUkBOZ/kpkSX+GiG9ronjKJBMrWTfOa2MyKJLPJzW5685vgDKc4vbPEcZrznGcxJTpnExAAIfkEBQoABgAsJQAUANkCpwAACP8ADQgcSLCgwYMIEypcyLChw4cQI0qcSLGixYsYM2rcyLGjx48gQ4ocSbJkxG4mU6pcybKly5cwY8qcSbOmTZvaburcybOnz59AgwodSrSo0aNIkypdyrSp06dQo0qdSrWq1atYs2rdyrWr169gK2ILS7as2bNo06pdy7at27dw48qdS7eu3bt48+rdy7ev37+AAwseTLiw4cOIEytezLix48eQI0ueTLmy5cuYM2vezLmz58+gQ4seTbq06dOoU6tezbq169ewY8ueTbu27du4c+vezbu379/AgwsfTry48ePIkytfzry58+fQo0ufTr269evYs2vfzr279+/gw4v/H0++vOpO4cyrX2+zGfv38OPLn890Gv37+EtK49ftXP7/AC60iAHJGHBNTgEmqKBAzTiz4IOFmTMWhBRWCNcjAmHjn4UcwhdPeh2GaB5/7ZQo4okopqjiiiy26OKLayEI44w01mjjjTjmqOOOPPbo449ABinkkETShlKRSLJ2ZJJMNplZNk5GKeWUVFZp5ZVY3tjFS9xk6eWXYIYp5phklmnmmWimqaZe7KzpJl3soPPmnHG1SeedbF2D55589unnn4AGKuighBZq6KGIhrhNoow26mhjXT4q6aSUVmrppZhmqummnKr5hQHqdCrqSFyMampInxqw6KmstupqTam+/yrrrLSWFGutuDa0aq68EvRpqL0GK+ywxBYrUKnG8nprssw26+yz0EYr7bRe7krttdhmC9ck/0SqLW2/tubtt7MhS+6my557qbmrmXMONzKq61q6qEkjp7yXnoHvbPSeJs0/+85mbcAE0wVJwQgnrPDCDDfs8MMQRyzxxBRXbPFEA1/s8LgGcKyxmvFONcfH9+WkCAZVBULyfFC2AUAH9kllxkAAr4wZshkrZTIADgAr1cg2bxbrhk9tAEC6uNS8VCFWBK0Zu07ldAcADNSidEnlcKSOzwSZwYcBV7xxi9Pm5bQDACF0HHJThZwBxRsDrU22dyUAIIQBcgtlokFfD/8kizBzj7doCACkYQCURnXTjgHpHAR04JZRMBWUNQAwiAHPqDSAAQdsjtHWBemrBg9mSIEI5IIbkAgAO9QMQFRgGGBFJqiP1+UUCahQAggkoeNxSPrWXp42UJLyxSAxN6WGGgZAMbMBjwuvHtFInRH8QGqIcq/02yVRAikAL/5UHQihY81aLnAv184AGLK4GFAVon54i9bCQAJTfJECAOmLP7+VXUIFF3rQgyR4QnxXOwoUrgeX8/1vLgk0APWQ8rwHiicbGERcSvJmwSt1wAIW6KCjeBA7EZrwhK7JxIRQiCT/CeQKBZkgC4XkwoL0Q4YK4mDgULGSFgwEhgQB0QxdARTBlTBwiBDqF0jM8AckcogBJpjGkkwCBQPAAh0pcKKCXqcSMMhPIOdggQFwMUUtFqlmtWiHNWpoxiBdTRtsbKMc50jHOtrxjnjMox73mKSc8fGPgOyKBgMZm4AAACH5BAUKAAYALBcADQD5ArUAAAj/AA0IHEiwoMGDCBMqXMiwocOHECNKnEgxYbt2FTNq3Mixo8ePIEOKHEmypMmTKFOqXMmy5cB/LmPKnEmzps2bOHPq3Mmzp8+fDZNh4we0qNGjSJMqXcq0qVEaEQSeuwnTqdWrWLNqXYpxq1ee7abubILs2kBuBtR9Xcu2rdu3cOPmJDowGdqbYuXq3cu3r9+/fpFJNGQNm0i6gBMrXsy4seOTd3OScPK4suXLmDNbDhszmcBV17RpHk26tNsoH0zzvYBD4LaDkQ1U/ehIte3buJkWEZg6d9sGAxHLrOa7uPHjLldFeWstNw08Mlc5yiGwWlfk2LNr71hhoCmBCJav/xI0kJ2B63rVYnZE/OOPZLUNxN9Ov779hefQHbyxqiC7vEq1YFw6CMVx0Gsa9dcROfc16KBqNhjETj/qPahUhRzRYIBnFnbo4XZmSfDVbNutQqJG2CRjnn4ftuhicQu8yBg/LMpo442jLYfjjjz26CNK6DQ30DnXXPPPkehoA+CPTDbp5JMIvdZNN1BW+WFsVmap5ZZcdunll2CGKaaVGI5p5ploNjaIBRmk6eabcGalDoaDxGnnnXgWdWKefPbp55+ABipoW3sOqhOChibKJBOFKuroo5A6hl6H6k0T6aUvEmGAIpPu1SmmoIbaFIaMOobBpw9mY4CloraKnDqqCv80RZmunsRqQYjWqqtp6iSxKap6nTqQOlhayIEBoBgghAG5ethoolMKCixbzQrUQ7Q2BsHsrg+mQ2Cg2dDq1w7PPtgItw3OOWdBaNgBiLtoGIDMtOjuVFUP4tonGkGeKFvvRNVqxg03U8Eh0C4MYcvkugNNQW9fpEjlYawGbOBhrhjm++hUaB2xzMNQwkrQpBrLlSy5Ld7a740lQ0rlE8swIxE3t/p4HchwRdxDO8XWR6LFAmnrYgoXHWXMIwIJ1xaH5R1kWElUHiFQy//aJKyL+1aMrAFCd1gV0UiFUy5c7HBIjjgGfPMpOAKhvRFaT6DpcGXJyugAB+2c62bRIjX/g09iyShdUD78NMcPP5zYsowBvMimkdRmljoQxVX/m46QHS1S0zlLrvSMQfkktIkB4mA+6J6+vlT5R0Cf5K23j4FtEiINTpPMNp0P7ijlq2PF92MMmCCxRwwThI9ZyDUuEDH5ZF0QMbaE1I0eHj+tWSLPUL3SP6n/Y7piY7uUQsS9NyR8+D6J3U6NfBGTUIXsb4SzlhjNX/79CzVjQH/dWL9X3QOxhAHMQ5BQMEgkgFBGlp7VDm2gD3/GOYRA/McUabDhbx5ZBAaHtxdwiOOApDNA/ATXEVUkTUt3OIg17AdB3LhiINdgYUPa8UCNnEMNqUBedtqBoW3E7zwg+9ZD//6RDr5RKSa5u8w/NDUkxwTsPp/LDPskCBMdLiUeYQjJKwQSOENF5hy4MwAJW8gSAP7JHAagYD8McIl7COR3SVmjQOpBDgp1xBgbHE3xIrLHkMCxIT/8IxlbUsM0XQIhQtkKz7TBjSNm5Bw8O9IgDVUDGdgLVP64xUDs4Qt/UHCSeXqAZpw3qK5gRJIcZIh6WHgRIQokHedAS35YdKRruBKUoRylTqpSSORwDnlJxKUwEyLKYcpJPX08COeMyUzHNZMpCjNANO8kyGfWpJiNwaZASGlNRz1RUdrspjhx4siBbEN7IvmmogjBxHG6851L2YYMFYMLdDYEBtuE50Sqmf8RbvplmvpMiSUdAwMBBRQiAEXO+vjBz4OSZKCNKei2HJqQbvTMI+qkaDclmlHAfM9OHdXLPDX6kHBWxp8kTalKV5qVXr5lpLhJqIVcGqoCCKAABhCAg3IRC4IAQyByZOmPLioQkyYmnCi9zE1fNI5xtEOm4rQACDjy0ZmuzkAEsel9KsGKgzT1H1Z0J3oeQNOFYMFCRh1NMMfpVKG6lSL4NEBSF9MNEghEpy0q61t9s8y02DMhEGVMXDWj19v4IRdudQAF3hTYxcR1roq55bDs01aYCtMCOJrKRZJ5nMdqRhgP0k83MFJOXFp2rxyBrGK48VfUAqYr/OgrTYq1DH7/FNa1uHUTNYCCDgIO6baaSWtuh4uTadRWY7KNySdfOhPh+gWpxEUX38Zok5CuZa0kcW50t5ul1loFuNwNrzG1+xfPive8LwKvVySK3vbKBCbqRUpjFcNR91LEuvZtVX3zGxH88lc124jvT1T7X4IQuMAITrCCF8zgBjPmwA6OMGAELOEK94m8CbkFJKZm4Q7zCcMJqQRbzOvhEv8FxAKZxBvUABcSm/jFekGxAfwwYwPQjiD+BYqLYcxjt6D4DTY2wCQMwAc+jDifPU7yYqwgECMbgAkGqASL2wJhJVs5K36YAywMogYgN/HKYDbTJwrC5DCbeUzOePCZ16yVYGz5/yBnYLOcf0QH0lR5zngmpAHYu5BPBGLIbtlxngdtE5jweSGZ8EOcPyGKY8Dkzj7ZL6EnXROaMkDEBjgGUZkiaUp7uiXFPPRDML1eJH/61CqR8UFox7O1QBrV/62qVTANhoEcY8QGhXU3T6uaQAjECg4QyDh0resvyOgMohCIeXiHlVfb19nEjkmuDZKJGxMkzkRebrS3ze1u55YPaGyxqTsMbW/nJBhXELdczc3uiag6GFAoyCewUVqrCLrd+CamQAY7EW035d75DjhBVM2Xcgs82vx2SB3m8Alp/NDeB484QghuEId3g9lKobjEN94Qc2C3KTnmuMgJUuaRm9wx5f94+MlXzpd6Q3zdLI85Qki9lU7L3NwyYAHM6SugkN8czxp/C8B/juqgx8XgRDezoR8j6qRHm8JOjzpNjP4Vqkt9zYWcxJivznWriEIWXQ+7UvwwZCvEGdDr7bmJfS72jIjBALAwg6/z4EytDL3BSGczZ2Uy34PEoOQG8PVa7s7gvMt5Tsn1iRR0AGRIzOEMczgyjA1/ZoZRdydqYMReKL9dzl858eWQCcHR3paEtx2UvOB1lAQiDfDEBMSkF4jgTz9o1Sek9R5J/BAbkuyVnaEQbIE67Q8aI9vvPiJz4IMZhj9I2d0GtAU5wAEOUoHpC6T617c+R1CMewMA3wBSgLv/YJgP5iiihAACmf4ACIIAgay//QRZvwFi1Q3dNyTUDKlFsg0A5OWzvh0Yx2njRn70YQLC1xfqdwADoH0UwTl7pxF+wAekBwVWcAVOlnYTRYCuJX8JwTQEcQ01AlUPkXMGsXUHwWRgIGLkY3dqp4FC1UgHYX0YsQ3swA/9gA40mA012A90MTDooHIk4X+l54L/4k/1pBIVwIGi5VfqwDma1VAgQXqF8AaQVxBABoRO4XlE+Cfe9RCwYwCNhA5BVRBTsnfqoi5T04UHYYJeBmee4FtY0XRbmFJf2DQF4S1nmId6qIbIhxDsoIVzyFJsRxNn6BEEh22BCGaAyBSTQHMD/+EDidhhLucRxmcS5GVtVyCEZ0A7alAL7FAzkShhg6g6R4F/AyENokBjiEBjBlBrAxEDBoAJkreIoYgpH0cQt5gQebd0AlEVtMMHs2cQ1oaBo1iL9YIBDHEsi9VcAtFYdOcQU+ZqxvhMPeAakDUNfFiMBjENXQGMRrZwVxBvC3GEWUGLrmWOVzaKzjMNKwASgYCICuECqXQV6LhX9RhhJWNZZRKAEQGKAuGK6SYQy4cIWDiNIzcI53CPB+GKBlELlWiQXRd5C6EeqAATD3l6m4ZvLyASQuiKWnAFV2AOdIEL3SAak7gU0waRMGZoKWkQQmgAeXFKKjlpXJASGakQvP8oELcmEH8ABi9Zd23RgjMpTAmQAtZQLHN1HUywggZxkw2Rk51SBwTBDiowMm2hThfpG2nwIoowZwnQEfSyLBSBYVLZiylgABUJF1WmkEO5K+qAdEYlCxc4EIjQDu1Ijm8BWSkkELLWlvWSVI3ClueBdmVpENbAh0chmMbRl36JFxDBlAeBmBUxBxJ5EAfYO+GiHX3XmAJRB3XAkKSYUqjEmYrRBgZQAyQxZQyAC3J1maT5YmKZmFnJFIr5mn3SCJKZgSJhkbY5k4ViDRalFy2JI7XZm5cxmzshhwP4IsVpnHvhW/CVm0hhej/Cj85ZH4w5hCokYYbwmtPmmklhDbkweJ3n5ZDW+U7g6Rg6EDSvmXppQZ5t2RUn6RfpCZ8/94D2uV11Qgj5qZJQ2J+BGBAAACH5BAUKAAYALBcADQD5ArUAAAj/AA0IHEiwoMGDCBMqXMiwocOHECNKnEgxYbp0FTNq3Mixo8ePIEOKHEmypMmTKFOqXMmy5UB1LmPKnEmzps2bOHPq3Mmzp8+fDZ8lOwe0qNGjSJMqXcq0qVESHgT+u9nOqdWrWLNqZYpuq9ee/6bu/LIq28Cq3b6qXcu2rdu3cHOaHbiKKNW4ePPq3cu3r99nEgdh0yayq9/DiBMrXswYJbadOIA0nky5suXLlLHBdLlKoKN/djGLHk167Y0bpfU2+CEwrcGqL0N2Tk27tu2lSwRKuN32wsDQMsnxHk68uEtHZYyrJeFIpqNVIgTy26y8uvXrGT/Q1Y062Z2Bj13n/wU+GY/wj01WzZ6Nvb379wevwS4YpTnBfuLh85xfUM7BxxrZx1E1+hVo4GW7FYQOO+QdWJRYHZFggDUOVmhhccwYYMOFTSUDIEfJPMONAfxxaOKJlyGA4mHnQLjiizAqNkSMNNZo440atTOXdNuc086P22RzDY5EFmkkkdxcg86IRzap3zZORinllFRWaeWVWGappYUNbunll2DmRQgGGIRp5ploKnUOcN+l6eabcOJUYpx01mnnnXjmqeee1hHG55+ABirooITe5OKBdlFY6KIFJmGAIYfmlR+jlFZqVJeLWRCpgX5a6ult5yj6KUuiEtTpqKiOqulvUFq4gQGeGP8QhAFMWjjnn9zUmqpSpw60wz+6XigErbu6tyae1mCqVw/UHShqrMVet+aPBd0BiB3X2mGAMJtiCWlisP16IiiyRgtRsKKhg45wZAikCkPU3njsQEx06xe5BjRroKiNDNRqe70SpOyfMBH1BC/8YBkqQfoODBcpBvTgMHalrjjxn0QdoQyBEaFTMYzU2ZsXub/+C9+tJ5ogsk7xdCKQyWx9KNA6ByVj0pBPCISyuTateiHMAg3r4M4/SZOwX9goyk8+BoBzXkFMG7AMRxl7We9kEJv4wAYrV9nNpB51Es5h1gBNEDjoQEkOOZuEIo7UJGqUs5ZT8Pcxz5aesyNHzdT/pI6+Kz09EDgJ0SI1O3zOSQRBROP9EAcp/a1uYyqfNAt8IXKz8tR83u34UhdRlkAKL38UL0HONF6aMAPZAg7KthATEjeAPMFJ14kNMs3FKrWzOIkB+6V6SyagotzXlJE+fE9Gd8P7V9QkBCHiHj3f5FS4f659QosYYPM1wb/FSUGhGHD0QLS8LRIZnBu58z/WLL/9bZQINKRVtXTizEfN7D/Q+XjJRz7EMzXyCO4juxCI9U5EiINoI3vzs00mwAO2jfxDfhn5xxn6cMDitIgg/JjT5OAVkTWFRSDoUkkFK9MOoQkEcH4Jn3umgRmMDKR+aHGKMfYQkkcIBBsL/NKH/9TBjYQFMYIfyZqdxmGA+w2EZpSwxw8hmJNyDEQe/+CHDTcSj7GRZl4SAaNI/hYRdJERiTGB4Zvq9x+baaUb7cBGN1IYEX7A8XRozGNE1Lgnc/hiILoYhzmop8c3OQAze8uTYbpyOsM0xIaOdAg3RngWbqSlHenYjLq0scJCgumQl0mk315ooW5so1V89KQqBQLKVTplXnhEyBldmUcM0pIq/IklmpB3S5y0UjG/NIAoe6knGe4pmMRM5kzQxY0jcsSYe7qDo5RJzWr2pAYQ6gYVFVOLbSpEBgIZpjUVMsuOiFMvf+PlOFECg3UOR5fGAeI2yulOk7STMTJQgQGgOf9ObEQyJPys5yrzuU/LnBNMAY1LJwW6EWQ25qAMjahEJ7oUW7rlnyezqHI0WigBFEAABigARUfKErMNxKF+CSZEG/NRkh6IAiPgiEn1w9E/+YcgHnXpe/JDgZompAsGQilmAKjTouoUnMK8TDpoIBCRGvWpEAkdiXwqkHvuiqpQxQwDLBAmqyoGqSv1Cx2dmVXGlAlFI/obPIkDVszgoqyYSSVcQRJW4ZF1rmtxzTnoGRNCDkQc1cAqXgdbJNn9hB3/DCF8hErYxpakGuIgh734yhK/wmWhJ2HsXlTq2EWN8K436wtmR6LZzpqWQ6BNimBPy9pdlZYvbW2tbKuz2tn/2nY0VantUbyaGIImdLa/vS2gfCvchQS3uJWBY1zqOlvmIve50I2udKdLXblU97qI0S12t7ul1yIEFpVQIHfHqyXvImSCaoktede7FvMagBBqeANenMve+hrFvXwwwAT90Bb12ve/VjFvfvkb3jcgYi3+BbCC2SIFgcjXAGoYiDSWpBb6LvjCQIGEGm5hECbw4cEGwCiGR3yj8BIEDAPhrzlSS+IWW0cWirGwi2ccE1n4zyARprGOHdSG0ch4x0D2SFVkwIKGwIIPJmZLgoPMZJQMWZ8NQQR6lazP4zb5yhXRLlaIi+Uuk1YgRJ7IJELslSV7+cwace9B8vsPEV/l/8dojnNF0NtgtxBUzoUcbXXyi+crc8GTcHZsoPtskiIjpBKBMACfBVIHQjt6z5XgAR+wQcdHW7oxiDjGQP6Y4zKHE7uDvrRLxlHnTHTa00kVtaoJomZZXAEKrmBcpZ0S6lXvGJRIfcga6tBoYm3FzLZ2tJoFYg4DBGIOlQjGrGkd7Gbn+iFnGMiIam2TZzdb1MPGRHiv8JVhX/vbhcCLlb996T8U5AwTJre645KJYBgAFrAgiDS8ue56I+UTBoCCAT5h6t+gmtr2DvhPuCxwPMOgBQagoUF8gYg+CMTdcRl3wTHsXh/E+y3AnniQX3sLFPtAGnkBuMbXO+TG3HnkZ/9WXTDMIQYrlMMTwYAxymfuy4WYwQAyN8Ax/BAIE7+VxTXxNs1HjMFPTGLMAhu60n3CX6Qv/elA8cMOIAEXglNX4lCvyCfOMIf3pvfT1xX5gsU4E94axOkGSLJA3PxmUFv6a+qYo42sXV2x/3deM+UJ1RftFrtD1e8k13JFhG7nrMM1WAOIiXsTIYqB8AHFho/8SOSnaYPAwnMVlXyQ5QeKcKvhwAOhIeA176bK2eatBkm84h9Si2PIF8QDYcfoSY9yXEOk69GW9q/BTvvrpECunbV67y98cIiAwQpvwfrw6/uGN4Qb9vo1AL17QvflM2r2aykEGK4AeZ1V2PpN7vr/QjKUlZODP8jIN0Ahbn5+chNVJWqeQ6/bT3+KoH0gvY5B/fdvEMLXIdFzgAr9oHz8N3K2NxDlkAgH5gegVxA+YAAN+G8FSEtyhXkPoXwl530GwF+IwHcFkWjpVWUTyF2gxFsN5BDitxX3hH0jCCh5txOdEgh8AICsN307wYIkhYNDxwfsVxA9WBDAhxQ6SFFDKHDBlQncIHgtiHI/uBCo8A8EuIQ0B4INgQvdEIWk94JQFwi5txC10A4UooQtAWVSeF1DZmiO5xBTIYZluGoZyBgi2IbT9YYHYW4DgQ6kMxA2CBTGtIfX0WMX0i+9V1pNKBBWyBYrCBFFKId6JGDZrEQY6vQVEEUHA7GIjPgmbEgR0RZtmXiDUmKJlwgS+LITIBhuBdGJu5Is1lEDoThXa9WKb3EHrKgSFgiL9ZcWfrgVtWiLnZUAb/VAvDiCDHAWqFgTZvciuxiMynEM+vSEk6GFyghX28ANCIcLVaEOQBeNE7cCBoALQRhy0aUIjMiNzvhQ36iNcJWLaFSMibEDQYOO8BiPWMGO8hhsZFePUNVAg4CP53dC/Hh+AQEAIfkEBQoABgAsJAAUANcCpwAACP8ADQgcSLCgwYMIEypcyLChw4cQI0qcSLGixYsYM2rcyLGjx48gQ4ocSbKkRG4mU6pcybKly5cwY8qcSbOmTZrbburcybOnz59AgwodSrSo0aNIkypdyrSp06cVs0GdSrWq1atYs2rdyrWr169gw2ZFKbas2bNo06pdy7at27dw48qdS7eu3bt48+rdy7ev37+AAwseTLiw4cOIEyu+eI0b2cWQI0ueTLmy5cuYM2vezLmz58+gQ4seTbq06dOoU6tezbq169ewY8ueTdtzu9q4c+uWOeX27t/AgwsfTrz4SkW+jStfrrs3853WnkvPy+Tf9JsPrmuf246IAUPWt4v/H186PPnz6NMTn6a+fVnk7kXmjE+/fmBtBthzMOBpIP7Fydkn4HCNDGjggXHtJ5AQl3WD4IOw7defZSaYB+GFrE1YXzP4YOjhh1wtAuKIJJZo4omYRYfiin61E2Bt4fzTDjos1mijTM0YsIoB3WBz449AqrRIh0EWKdo6/xmp5JKavSJQMvwwKeWUEhlDJJVYZmnQOe1w84+FWg6mAwxhlmnmmWimqeaabDo1X5twxinnnHTWaeedeOap555g6fAin0G6CChUMqgwqF7poHPOoYzq9WejkC73aKSUVhpckpZmqummGMWSC0GfGrAOp6TWto856HCjTqmskuZHqAXt/+NPOz5GisVLDrYqmD+P6eorapP++pwMYWbCirDIouYPOzwm6yxni6qDUq/PVmttYtReq+1k6DC77beU1QruuIu9Se656Kar7rrsalpou/DGK++89NZrb3qL3qvvvvyel2u/AAcs8MAEF2zwwXcSi3DB2S5cIxcGgOnwxEJ9AZsfb5jDz78UPyxQvqrx0fHIRIksDY0ke5zyyiy3bBfELsdcE8gy15wSxBKbZoUBonxysgEq2iw0SA5kIlAwOQ+ttEdJLy2gxU5H7RHMrgUj9dUXmcGAQOZg7bVFZsgiEI1Bf212QYEQpIZAbzR99tsCZeKHFG9wgzLc9NGM2icGnP+B998H+eI34IQbcAUmBGHD8VIKF94XzqyNgcnaBojr+HhQr+aPAW/UMYksbl/OHNWsqVGHKMdYh6no02We2h+wGCAF6+mRjlratMNdR0FWmKN37s/ZTpovtxgwS/EDlXM38Nr9DlolhhtQSSW7M2/99R3DEsgfAomN1bvYD5qFhuEr7YsZBvDQdfnsty+wLOt8IcUzwRzDt/su+428AdLw8UbsBqiFAVaFP5lBjyAELGDKIGEAQnzCagp8jvM+I4bZEUJ2u7tgBFv2hoJMwgDB2mDB+AaCtTGQICE0SuNEGCcr8MALBkAEH9DHwpXBMIZ9G0gKa9gaqE0wNPerHg//d0O1BIaGgYSA4BCD4zrSkG8gUpiDLJ6xRIcdo4MCAUMUDUDFKiKMFHMwQCEEAoWBoKNsXgyYNBLBtoLgAh2rS6NqsiPHOr4FDFYwGioIZSg7lqkQHRwjQaC3PD8CbA5mgAINx2bIfq0tjAlhTyP1BQY1mGEOg6PLCiYJokJkkpMEo5wPQImwMyDCAGqoBTskmRapkHJEMTAA4l4pLCNmZGcFOSUt9XUFhFDuKSvcpTCHGRruEaSPxIQXGHIZsWTSq5fODJg1diglNEbzmtjMJt5aoM1uelNAwfymOMdJznKa85zohE0bdJDOdrrznfCETDjjia44Usaa9EwWPvOpB5l98pM5AQEAIfkEBQoABgAsKQAUANICpwAACP8ADQgcSLCgwYMIEypcyLChw4cQI0qcSLGixYsYM2rcyLGjx48gQ4ocSbJkw24mU6pcybKly5cwY8qcSbOmzZfaburcybOnz59AgwodSrSo0aNIkypdyrSp06dQo0qdSrWq1atYs2rdyrWr169ZsYEdS7as2bNo06pdy7at27dw48qdS7eu3bt48+rdy7ev37+AAwseTLiw4cOIEytezLix48eQI0ueTLmy5cuYM2vezLmz58+gQ4seTbq06dOoU6tezbq169ewY8ueTbu27du4c+vGbejf7t/AgwsfTry48YYOjitfzry58+fQo0ufTr269evYs2vfzr279+/gw4v/H0++vPnz6P12Cpe+vfuazd7Ln0+/vn2l0+7r309SGr9u5/An4IAKLWJAMgZckxOBDDZoQDPOOCihYOaINeGFGL71iEDYBJjhh/LFwx6IJKL3Xzsolqjiiiy26OKLMMYo41gLzmjjjTjmqOOOPPbo449ABinkkEQWaeSRqaGE5JJJMunkk5plA+WUVFbJIjoGkGHllpdZCAcWXIYZmR4GdNHFS9yIqSZXg6zpJmNPvCnnnHTCuIxAYNap517YYJNmmXDsKShe7Axq6F2FHqrooow26uijkEYq6aSUVmrppZhmqummnMK2TaeghirqY3+OauqpqKaq6qqsturqq7BC//qFAerEaitJXNyqq0izGvDprsAGK+xNvQ5r7LHIplRsssw69Guz0BY0a63RVmvttdhmW1Cu2ka7bLfghivuuOSWa+65cj6L7rrstrvWJP+U6u5t05om77y2cYsvrN/uy6q+pJlzDjc1+itbv6FJg6XBrJ7BML2nSePbw7apS/HFbkGC8cYcd+zxxyCHLPLIJJds8skop7yRxSq37DLDc7w8aSAyR2rGQBPXrBm3LG8Ws86eFeuhZ4VYAXRnAHtmBh8GXPHGLUcrWsgZULwxUMFRz8n0QLIIk7WgP3+dGQWk8WCGFIiIrfbabLfdVNgExXyv226qIcrCdG95Rh0IoVVjzVou5C344IQX3tLfhieu+OKMN+7445BHLvnklG+JdeWYZ675fCps7vnnoIcu+uikl2766RndUQPqrLfuuuGdv26jDLEf1LPsF8qA++wISbl7agEBACH5BAUKAAYALCkAFADSAqcAAAj/AA0IHEiwoMGDCBMqXMiwocOHECNKnEixosWLGDNq3Mixo8ePIEOKHEmyZENuJlOqXMmypcuXMGPKnEmzps2X227q3Mmzp8+fQIMKHUq0qNGjSJMqXcq0qdOnUKNKnUq1qtWrWLNq3cq1q9evWVGCHUu2rNmzaNOqXcu2rdu3cOPKnUu3rt27ePPq3cu3r9+/gAMLHky4sOHDiBMrXsy4sePHkCNLnky5suXLmDNr3sy5s+fPoEOLHk26tOnTqFOrXs26tevXsGPLnk27tu3buHPr3s27t+/fwIMLH068uPHjyJMrX868ufPn0KNLn069uvXr2LNr3869u/fv4MOL/x9P/mszfOXTq5e5aL379/Djyydqbb79+yHD/WuHDr///wc1Y8AqBnSDDYAIIrgIegk2GNg62jgo4YRwvSJQMvxQqKF7xjC44YfindMON//8A+KJKKao4oostujii2PlBOOMNNZo44045qjjjjz26OOPQAYp5JBEqtZOkUgameSSTGoWYZNQRinllFRWaeWVWCbUTZZcdulld1h8KeaYZH7Ii0BPlKkmXtdww45AcHSx5px0iUXnnXH1h+eefPbp55+ABirooIQWauihiCaq6KKMNorYOY5GKumkh21J6aWYZqrpppx26umnoIZaJRcGmCjqqR99geqqHpFqAKSsxv8q66wvuUrrrbjm+pGtuvaqEKy+BmsAqaYKa+yxyCbbq6rK9sprs9BGK+201FZr7bVTAovtttx2e9Yn2Fjq7W3EmnbguLgxi66nz66rqbqkSYNON9m4S1u7oZmjrb2XWsGvbfiCVo6e/9K2b8EIr1VJwgw37PDDEEcs8cQUV2zxxRhnrPFCB2/s8cfjBgJyoHOM/OcZAx1psmbMdgySOuoI1E47MMusMlt1rOyZrTGXVPNdfIChM2fwigRzOunM3M4/6PC3tJ1rnVGIAVLMIcvQwiGtDTPk8LLM163wcg436Jzj8liIgFH1QPVi/Vs1Xi/TCieqAEIKOexwo87ZX02pPRAsyLjd29HpVMPMMqUo08riyzDjJltvCK7ZAz7DrM7M/FyT+TXXMMNMNQZwA3VaUFhxBR+SB9eNpSiRLboB6qye+pUwm2277bN7HLlBkROc+5dnePLm71aaUfJB7DyZ1grEN+/889DL1Hb01Fdv/fXYZ6/99tx37/33ZNYH/vjkl2/++einr/767Lfv/vvw/9iGDvHXb//9+OevofL69+//TuL732kCAgAh+QQFCgAGACwpABQA0gKnAAAI/wANCBxIsKDBgwgTKlzIsKHDhxAjSpxIsaLFixgzatzIsaPHjyBDihxJsmTDbiZTqlzJsqXLlzBjypxJs6bNl9pu6tzJs6fPn0CDCh1KtKjRo0iTKl3KtKnTp1CjSp1KtarVq1izat3KtavXr1mxgR1LtqzZs2jTql3Ltq3bt3Djyp1Lt67du3jz6t3Lt6/fv4ADCx5MuLDhw4gTK17MuLHjx5AjS55MubLly5gza97MubPnz6BDix5NurTp06hTq17NurXr17Bjy55Nu7bt27hz697Nu7fv38CDCx9OvLjx48iTK1/OvLnz59CjS59Ovbr169iza9/Ovbv37+DDi/8fTx5sp3Dl06uX2Wy9+/fw48snOm2+/fshpfHrdg6///8HLWJAMgZckxOACALYjDMJNiiYOWI5KOGEbz0iEDb9UajhevGgt+GH4+3XzogglmjiiSimqOKKLLY41oEuxijjjDTWaOONOOao44489ujjj0AGKWRqKA1pJJFHJqmkZtks6eSTUJ7IjgF6RGnlZdYI1EUXV3YZGRkGwIHFS9x4aSZXhpyp5ppstunmm3DGKeecdNZp5514UjhlnnyudU2fgAYq6KCEFmrooYgmquiijDaq4TaORirppIuVSemlmGaq6aacdurpp6CGGucXBqgj6qkicYHqqiCRagCkrMb/KuusM7lK66245jqSrbr2yhCsvgY7EKmmCmvsscgmm6yqygbLa7PQRivttNRWa+21bAKL7bbcdrvWJP9Y6i1uxJom7ri3MYsuqM+uy6m6pJlzDjcwuitbu6FJg469nZ7B7234gibNP//epm3BCLsFScIMN+zwwxBHLPHEFFds8cUYZ6zxRgdvfKo66myTocd4kviqOv/8M+LK7ew1B8m/gbwNyuwIsoxYJu8VCMy8tUOvAeiw08oWT6jyajp9mTEQwTxzxmzHC4EsdbFBD40FFkX/sw3LAk3dtTrnjLzWy01/ZqvYEalTNRpXb5l1k/wYwM/cdMcdd1yFWFG2Z/BC/2RyO+wsgwYZhG8JxxO7GMBOyowT3E7KQMNlBh8GXPHGLXvDFnbQy9gBCBl6kLHllljoAQggkpyeOuqns94KNuxgg/RahZwBxRsD1Zu5aWFzgw45gpxuOuGij3718cgnj4UdArFz7lmUDySLMLunBrJA6KDDDy+qnA568aPDIf744ndBvpiqVNOPNdwUixbZ1WtGwUUjYsNL6sSPXjQ54vTfP//+8582+CGW2amFB2aQAiLi15pu8Occ20AHNlAhCfAdThVBg10y2BG7DsKOHdkDGwOFFLYCUrBtiOPHNh4YNrSN0Eggc2DzDMANVOihC0U7Gl7gR5CXPe+FpAFZzn8U1w1+LIMMu9DaEPeiBlHsC4ircWA3uFHCfVUDbNzghgzpcoY6IAQdWVKLC6CYlG1wQ2UtI6Ma1wizMLLxjXCMoxznSMc62vGOeMyjHj+luz368Y+ADKQgB0nIQhrykIhMpCIXGag71ICRkIykJCdJyRpBrZKYzCRQmqTJ1QQEACH5BAUKAAYALCkAFADSAqcAAAj/AA0IHEiwoMGDCBMqXMiwocOHECNKnEixosWLGDNq3Mixo8ePIEOKHEmyZENuJlOqXMmypcuXMGPKnEmzps2X227q3Mmzp8+fQIMKHUq0qNGjSJMqXcq0qdOnUKNKnUq1qtWrWLNq3cq1q9evWVGCHUu2rNmzaNOqXcu2rdu3cOPKnUu3rt27ePPq3cu3r9+/gAMLHky4sOHDiBMrXsy4sePHkCNLnky5suXLmDNr3sy5s+fPoEOLHk26tOnTqFOrXs26tevXsGPLnk27tu3buHPr3s27t+/fwIMLH068uPHjyJMrX868ufPn0KNLn069uvXr2LNr3869u/fv4MOL/x9P/mszfOXTq5e5aL379/Djyydqbb79+yHD/WuHDr///wc1Y8AqBnSDDYAIIrgIegk2GNg62jgo4YRwvSJQMvxQqKF7xjC44YfindMON//8A+KJKKao4oostujii2PlBOOMNNZo44045qjjjjz26OOPQAYp5JBEqtZOkUgameSSTGoWYZNQRikliv2RMeWVlx1oABxYYOllZHoY0EUXL3Xz5ZlcDYLmmmy26eabcMYp55x01rkRO2GSSaadfLbFjgFW7tnnoGtpSeihapmJ6KKMNuroo5BGKumklFZq6aWYUnhOppx26uliin4q6qiklmrqqaimquqqrMbJhQEmtv8qa0hfzGorSK8asOmtvPbq60y5/irssMSOFGyxyDK0a7LMDvRqrM1GK+201E5ba7XMHovtttx26+234IYrbpvLjmvuueiu9Qk2oaZ727OmGerubdfOu6q29p5aL2nSoNNNNvnWhm9o5pQbMKlWHPzuaeX0p7BtBj8scVuVTGzxxRhnrPHGHHfs8ccghyzyyCRvFHHJKKcccCAq+3bOyyf7NUfLvHWz6ZGEnTEQzjRrdm3MCb1sELSE1dHzZ8GqU5GIAm3xhEBwCMYHGEdD1g7PBlxd0L4TqWNiK05jseeeSvN1RiEGSDGHLFU/1s3b7XIE9hNiCyomYIiAofZAALf8jdjb/JDzTIZxV/TnMmGPqfhgaA8ECzJ+Kwb4M+RU469FQhuAUjak6NFF3XYj1EXUdb0RudvdkKM6P28T9MBEWmt+jjqoeF431AKJQxA5uhtUDVxQWHEFH6f/3a46uxYOO87YaG27QHvyrCU72FD/Z/EUtj6SjMt4ProBqhBtwDXYJ6lO2ZkPhI7DXRpQNl6mG2S6w+Wblnns1ryfsyfX18+a8noxw8wOwo4npWUF/kugAhfIwJv0rYEQjKAEJ0jBClrwghjMoAY3yKj6cPCDIAyhCEdIwhKa8IQoTKEKV8jCKbVBBy2MoQxnSMMapsiANsyhDn3iwR2iJiAAACH5BAUKAAYALCkAFADSAqcAAAj/AA0IHEiwoMGDCBMqXMiwocOHECNKnEixosWLGDNq3Mixo8ePIEOKHEmyZMNuJlOqXMmypcuXMGPKnEmzps2X2m7q3Mmzp8+fQIMKHUq0qNGjSJMqXcq0qdOnUKNKnUq1qtWrWLNq3cq1q9evWbGBHUu2rNmzaNOqXcu2rdu3cOPKnUu3rt27ePPq3cu3r9+/gAMLHky4sOHDiBMrXsy4sePHkCNLnky5suXLmDNr3sy5s+fPoEOLHk26tOnTqFOrXs26tevXsGPLnk27tu3buHPr3s27t+/fwIMLH068uPHjyJMrX868ufPn0KNLn069uvXr2LNr3869u/fv4MOL/x9PHmyncOXTq5fZbL379/Djyyc6bb79+yGl8et2Dr///wctYkAyBlyTE4AIAtiMMwk2KJg5Yjko4YRvPSIQNv1RqOF68aC34Yfj7dfOiCCWaOKJKKao4oostjjWgS7GKOOMNNZo44045qjjjjz26OOPQAYpZGooDWkkkUcmqaRm2Szp5JNQRinllFRWaaVC3Fyp5ZZcdvdEl2CGKeaHywiExZho4oUNNlka0AUcacZZFxkGwHmmnHi2hY4BehhwZ56ABiqodNsMauihiCaq6KKMNuroo5BGKumkGhZK6aWYZqpYm5p26umnoIYq6qiklmrqqWJ+YYA6qLYqEheuxv8KkqoGWCrrrbjmKhOtuvbq668j8QrssAzZSuyxAqnKKrLMNuvss8/CCu2xwk5r7bXYZqvtttx2y6Wx3oYr7rhqTfIPp+Tepqxp6KZrm7TumlptvKLCS5o553ADI72yzRuaNHvyK+oZAqt7mjT/FHwbuAo33BYkDkcs8cQUV2zxxRhnrPHGHHfs8ccbMQzyyCQfp86yBpFo2xwlG9bNP/9EeHJugbT818kzGxDzMrT8ww837a6EsmFmDJSwzXiNqHI72IhDCzHgCAS0yg9JK7JmLCP9F9NOg/MNOODws1/QDfGa4UZdCFaIFVrbRbU6XC/TC9jg2BK2Ad0USdA5ZyP/ZG9HcBrQd15m8GHAFW/c0nZdfANNzjL57EK33eCQYwDQmGeuOUt/9lXIGVC8MdC+i6/FdzrckMNLPpDnA87cXn/9jey0xz47LeKsmc5phg8kizClw5W3AdOIIw7r+cBet9fUEEPN89BH/w01oeTODtkqBV5X1sHPpTI54rTuOuxfe237+bN/k0/u2KRjKQUipW2A5QOJkxcPZkiBSPduDT8QN+h4XPJct7xv+IwfMBMbzPgGM3Wcgx/o4EY7SqK93QmEQAbABjs0+D/+hceB6GBH+OgGDqj94xxr0hzmUsgNvomkHagwU9p2Mbi+XcOD3xnRydKRDrihAx3iUIbdoOwmEP/BZBtHc5NABre9g7AMezgkS854mLcfimN5YgPabtQgioBFsS15OxnQzvGPfOTDAD+D4kuSmJcz1AEh6LDGWlzwRQMsrR1Ag1kR9VZHJ+UsZ31Ek/+MaCQ5BvKQiEykIhfJyEY68pGQjKQkTUW6SVrykpjMpCY3yclOevKToAylKEd5qDvUgJSoTKUqV8nKGl2tlbCM5U+aJMvVBAQAIfkEBQoABgAsKQAUANICpwAACP8ADQgcSLCgwYMIEypcyLChw4cQI0qcSLGixYsYM2rcyLGjx48gQ4ocSbJkQ24mU6pcybKly5cwY8qcSbOmzZfbburcybOnz59AgwodSrSo0aNIkypdyrSp06dQo0qdSrWq1atYs2rdyrWr169ZUYIdS7as2bNo06pdy7at27dw48qdS7eu3bt48+rdy7ev37+AAwseTLiw4cOIEytezLix48eQI0ueTLmy5cuYM2vezLmz58+gQ4seTbq06dOoU6tezbq169ewY8ueTbu27du4c+vezbu379/AgwsfTry48ePIkytfzry58+fQo0ufTr269evYs2vfzr279+/gw4v/H0/+azN85dOrl7lovfv38OPLJ2ptvv37IcP9a4cOv///BzVjwCoGdIMNgAgiuAh6CTYY2DraOCjhhHC9IlAy/FCooXvGMLjhh+Kd0w43//wD4okopqjiiiy26OKLY+UE44w01mjjjTjmqOOOPPbo449ABinkkESq1k6RSBqZ5JJMahZhk1BGKSWK7Bigx5RYXlafAV10keWXkZFhABxYvNQNmGhyZUiabDJWZptwxikni7wI9MScePJ1DTdVjullnoDeJVaghBZq6KGIJqrooow26uijkEYq6aSUVmrppZg2eU6mnHbq6WNnfirqqKSWauqpqKaq6qqsNsqFASa2/yrrSF/MaqtIrxqw6a289urrTbn+KuywxKYUbLHIOrRrsswW9GqszUYr7bTUVktQrdY2e2y23Hbr7bfghivuuHAuS+656Ka71ifYhKoubs+aduC7uWFLL6vb3ouqvaRJg0432ehbW76hmWOuwKVagfBtBINWTn8L23ZwxBS3VUnFGGes8cYcd+zxxyCHLPLIJJfcrToCydjTxCZvWKIB25RYYjfQtlyoOtugYsgggzyjiDA1T6QOygQRvVsgNo+VDSiKIKPNIFPsQEg7Kl+0DdEoncOybHMkDRYuoGTzMhc9ePJP1RN1c7UB1ihjQIa6nTHQkV5npY41tSBDNcxcEP+BTNAKDS244Aaow00y+YRiwDeAQ4Tt1gtpzVgddXelzjO4aIPyP7gkwUXjEJVoTeLUGECMAeQYTlGwRk8E8WF8gFH5VpcLg3LMnghxx9kWIR4KNdR8803woDvEr2dnFGKAFHPIMjtW/zzzjIk035EEKP+4y5Dg+43+e/DCf3M6rLkhAgbzAwX8/FTRW5O9AdyIMcXf2ickOfzPkA5+8PwvbgA43/hfAAH4P4H0YjXKGwgskLG+qlwuGzjj3BTEUDyEYAMb5OAE8ITHv+Fx0AClS0gIV/OGBmrlctMoETLoMIVB8O4hQ3tbPnqxQQ7a8BsEFKBAcpiQB1itdYeBghX/rsAHE1blH9bABTJ01gYuYK9+kTsHN7hxDn7McIP7Awc5yJchE/GDHxU0ooRCNQ1c1GIad+DCMwokEa1NsYpX3F8AxYgjdbQjemJog9CINjStwZGGwEOd4QYFmxIapISvo+NTtPEPUnxBEWE8SAwNkI50SE4dX7wi49jYDrrd5gye6JMimyIzNLYhhVCciOS68UWBwI02ZujaQdjxpLSsQGPaEIYiBvG3jGitj34UyNA62clRskgduUQFLsjny13dTyDFNEA0jakimc3MI93IZqg6mc1pIkl91AynOMdJznKa85zoTKc618nOd22pnfCMpzznSc962vOe+MynPvfJHc9+UqsNOvCnQAdK0IIalEm1PKhCF9qUdzKUNQEBACH5BAUKAAYALCkAFADSAqcAAAj/AA0IHEiwoMGDCBMqXMiwocOHECNKnEixosWLGDNq3Mixo8ePIEOKHEmyZMNuJlOqXMmypcuXMGPKnEmzps2X2m7q3Mmzp8+fQIMKHUq0qNGjSJMqXcq0qdOnUKNKnUq1qtWrWLNq3cq1q9evWbGBHUu2rNmzaNOqXcu2rdu3cOPKnUu3rt27ePPq3cu3r9+/gAMLHky4sOHDiBMrXsy4sePHkCNLnky5suXLmDNr3sy5s+fPoEOLHk26tOnTqFOrXs26tevXsGPLnk27tu3buHPr3s27t+/fwIMLH068uPHjyJMrX868ufPn0KNLn069uvXr2LNr3869u/fv4MOL/x9PHmyncOXTq5fZbL379/Djyyc6bb79+yGl8et2Dr///wctYkAyBlyTE4AIAtiMMwk2KJg5Yjko4YRvPSIQNv1RqOF68aC34Yfj7dfOiCCWaOKJKKao4oostjjWgS7GKOOMNNZo44045qjjjjz26OOPQAYpZGooDWkkkUcmqaRm2Szp5JNQRinllFRWuWIXL3Fj5ZZcdunll2CGKeaYZJZp5plssYPmmnGxgw6bcLqlZpx0pnVNnXjmqeeefPbp55+ABirooIQWKt82hiaq6KKHacnoo5BGKumklFZq6aWYZjrlFwaoo+mnIHEB6qgecWoAoqSmquqqL5nK6quwxv/6kauy1qoQqrbmagCnnurq66/ABmurqMLWSmuxyCar7LLMNuvss1HiCu201FZ71iT/OGrtbbyapu22thELrqXHjiupuKSZcw43MJobW7mhSfOmu5KeQa9t8IImzT/32iZtvwCzBUnABBds8MEIJ6zwwgw37PDDEH9UZMR6ZqPOP9ts0+5O/1JMIcYC/fOMx3Sqo43IO2SwQQ24fAHKRxnuNgfJXp0MCgMMGPKMDAwAoMQ/TWoXCM1cbfMPLgwkgItA/PRMhwEbV2fGQPwSfZXRJgAwxT/TqDONA0rvRGzHm81sdVZGGwJAAqgAbYDaG/DkaswawSFYIVacjVU2//T/AEAHGDc5BQA9GBC0TehihAVBWHbalxl8GHDFG7foXRU3/4wAQBBQI5p1G6d21bhfhZwBxRsDRW35Ut380wEAaUD9jzUOAIBLO99WF/lAsgizulQnZ51IOyPfAUAGao1Ol9m/V3XyFwB80Y4BnvTcgzqH10TBRdzQjZA4BJGTFw9mSIFI81K1bkAJCXARhAW1x656VtNfKBA72OA/0LzoA6dN61+oQRJIQQEAtI0j31DKnQbivf795h8QhKABQAEAC1RtI7ZIYG6YR5CZ5c6BR/nHHabwjG0gwwBMAIAQDLeRf/QqOGoQBf9AaBTMeQIAABjeBAHAAGHUbyPd080Ze+qAEHRYYy0uoJfRFLG2QYBiCgl4ACi6MT8aOukfaUiBCUYAAlGZzIpbkiBBPtinIwZMG9rImDayB8Y2uvGNcIyjHOdIxzra8Y4QqyIe98jHPvrxj4AMpCAHSchCGvKQiIzVHWqQyEY68pGQjKSSyCbJSloyKWy8pGoCAgAh+QQFCgAGACwXAA0A+QK1AAAI/wANCBxIsKDBgwgTKlzIsKHDhxAjSpxIMWG7dhUzatzIsaPHjyBDihxJsqTJkyhTqlzJsuXAfy5jypxJs6bNmzhz6tzJs6fPnw2TYeMHtKjRo0iTKl3KtKlRGhEEnrsJ06nVq1izal2KcatXnu2m7myC7NpAbgbUfV3Ltq3bt3Dj5iQ6MBnam2Ll6t3Lt6/fv36RSTRkDZtIuoATK17MuLHjk3dzknDyuLLly5gzWw4bM5nAVde0aR5NurTbKB9M872AQ+C2g5ENVP3oSLXt27iZFhGYOnfbBgMRy6zmu7jx4y5XRXlrLTcNPDJXOcohsFpX5Niza+9YYaApgQiWr/8SNJCdget61WJ2RPzjj2S1DcTfTr++/YXn0B28saogu7z39ZQOQnEc9JpG/XVEToAMNkiaDQax0496DiZFIUc0GOBZhRx2iJ1ZEnjo1CqzbYRNMubpJ+KKLKq2QIuK8aMijDTWWNlyNuao4448eoROcwOdc801/xSJjjYA9qjkkkwu+Vo33TQpZYWxTWnllVhmqeWWXHbp5Zc1XgjmmGSWmdggFmRg5ppstumUOhcO4uacdNbZU4l25qnnnnz26eefWeEJqE4HDmqojkwIeuiijDa6GHoVqjeNo5R6SIQBikC6l6aVduqpUhcm6hgGnDaYjQGTfqqqceqcKtAUYq7/alKqBRUq662kqZMEpqXqRepA6lTpIAcGgGKAEAbYyqGihkLpZ69sKStQD862GESyuDKYzoB9ZhOrXzsw62Aj2d4HJ5wFoWEHIOuiYQAy0JarU1U9fGufaAR5cqy8EkmrGTfcTAWHQLswVC2P6A40Rbx9kSIVh64asAGHtl5o76JToXXEMgwz2SpBkF4sl7HhekirvjCKzGiUTyzDjETc0KrjdR3D5XAP7QhbX4kTC3StiClcdJQxjwgkXFsblneQYSVFeYRAKvNb068i4itxsQb8XGFVQSMVjrhxsbMhOeIY8A2n4AhU9kZoPUHmwpUZy6IDHLRDrplCi9QMPokl/3N0Qfnw0xw//HBiyzIG8CKbRk+DKepAEUtdbjpAdrRITeckudIzBuWT0CYGiFP5n4Lu+pLkHvV80rbbPta1SYgEOE0y22gO+KGRo35V3o8xYMLDHiVMED5mIae4QMTkY3VBxNgSUjd6bMy0Zok8E/VK/5j+z+iKgR1TCg7rztDv3v/0dTsz8kVMQhSmv1HNVmIEv/j0J9SMAf11M/1ecg9kiQHmIUgoFiQSQChjSuJqhzbKVz/jHEIg+2OKNNjAN48sooLA2ws4xEHA0BnAfX/riCqMZqU7HMQa82vgbVwxkGuksCHtYOBGzqGGVBQvO+240Dbcd56Ocesh/0hH3v+iFBPbXeYflwqSY/x1H85lJn0PhMkNlxKPMITkFQLxG6Aic47aGSCEKlxJ//ZkDgNEsB8GuMQ9BMK7pKBRIPUgx4Q6YgwMjkZ4EcFjSNrYEB7yMYwskaGZLoEQoWwlZ9rgBhEzco6cFQmQf6qBDHYiSD354xYDsYcv/BFBSNLpAZpZ3p+6gpFHZpAh6knhRX4okHScAy35UVGRrsFKT34ylPMSSCWRk7niGdGWwDwIKIOJlYTp8SCZIyYxd6lMnBzMAM+c0x+bWZNhNsaaAhElNQ/FRENhc5vgdKZBtnE9kXTTUIRIYjjXyc6lbOOFisFFORsCg2y2cyLTzIg2/RL/zXumZJKOgUEL/BmRfiIHffzIJ0FJAtDGCBRbC01IN3TmkXNGdJsPtShguOcmjeoFnhd9yDcrs8+QmvSkKA3UY0CKG4M6iJmdKoAACmAAATAoF7EgCDAE8saU7oiiAhlpYr5Z0svMdEXjGEc7XApOC4CAIxx9qeQKRBCZ3qcSrDhIUv8xxXWi5wEwXQgWHCTU0fwynEr1qVopUk8DFHUx3SCBQGzqobCu1TfJTMs8E9JQxrRVM3a9jR9yoVYHUGBNfV1MW9+qmFoCyz5pZaktLUCjqVzkmMdZrGaE0SD9dAMji7SlZO/KEcYqhht7JS1gusKPvNJEWMvgR2BVS1sz/1EDKOgIYJBmq5my1va3OJlGbC/m2ph08i2j1Yhv/UJU4GYrb2C0iUfXclaSLNe52J1Saq3C2+x6N5jX/Ytmv0veFXXXKw8tr3plApPzIiWxisnoeiky3fl+Sr72jUh986uabbj3J6blL0ECLOACG/jACE6wghlD4AU7GDD/fbCE8xTehNwCElCbsIbtVOGEVIIt492wiP/SYYFM4g1qgEuIR8xivZTYAH6AsQFiR5D9AmXFLc6xW0r8hhkbYBIG4AMfQGxPHRt5MVYQyJANwAQDVCLFbWnwkaecFT/MARYGUUOPlUjlLoPpEwVJspfH/CVnMJjMaNZKMLB8kDOk+f/NO6IDaaQM5zq3BCbpXcgnAgFkt+DYzoC2CZ4H2pBM+MHNnxDFMWBCZ5/gN9CQrglMGfBhAxwDqEx5dKQ33ZJh5hkilUZvkTlNapW8+CCxy9laGl3qVpuk0mAYyDFATGhXUzO5pgmEQKzgAIGMw9at/gKLziAKgZgnd1hh9XyVDWyX1NogmaAxQdwc5OM2+9rYzvZd+VBGFY9aw8zWNk6CcQVvu1Xc6I7IqYMBhYJ8Ahuhvcqf001vYQrkrxOxdlPmXe9+BxWX/g74QfDtkDrM4RPS4KFVCC5wgZ/6IAnvBrKV8vCGW5wh5qhuU2x88Y7v2uMgd0w5FB7ykusl3vL//rbJVz6QUG9F0yzPtgxYcG7FDpTjMYdzxc0d7pyPeedy6bnPvYznx3x66MCOMNKXLhOgr8XpTEdzJScB5qhbvSmikMXVt44UPwDZCm7uM3pvPmKce2y7qxKDAWBhBl3nYXEvV7mEhc4izJ6rJgrtC2ZdAt+DxEDMAtH1Wvi9YLrbKC/pQLtI4EQkxcApc2ZfiRR00GNIzOEMcyByiw1fGsUnJHNowXVH8kZO96HcLQmL7k7UwIi9cB67r9eMWs7hRI20DiH8OP1J8IgR0EEkc8VdSvBn8nCxt4XhXM+Mxk9yHSx0wQDP//ZUpv8VZSEgJh02fuCTv6TlgypW13lC//QNMDAD5McgpjyPfRhYbJSdoRBsUTr3T1IChNxB9EkZqwEkAYj9A0ISBMF/ksAJdOF5lcFMc8AHZjB/StIVCVALR/E6LAEI7cEUnGUQB9B0DyENAwF/BiAFaycYDAhMB4NpClF+BvEy2uFpDFELxWYAPbaAAiEN7TBxmSZ3I6gX33BbJGEC3gMnt0dyCrE2TQIFVnAFSzZ2EJWDRXFYAxF5BrGDNFEt1iAoXVB++mEe5mEYuiUQAONYyDFzEJFkYPBh4aMVMMeEfcGDN6EWVYh7ASMQ3eB9HKIGfJB5cYF8atgXvcCGLZFX6CI02JB3KhF7b7FlBdFjQugUhriHHf+BL0rwPIRjECZ4LnfHEY+XJPJ3Hz0GZQVxBp7QhfL2bI4IFBHWDUcTJdtiiazIinskPxSCfwziZngYIY1YiimTTJYINZe4EuowIHToFotYElCHiysSAk9ogMDkcsaoJJuIK8XYjNKYECw4ENIgCjGGCDHGF4Q3jcB0VudggxABhUWnSwIRO3wgeLEmF2nojSM2TIn1dgUBgnxxi+7oKfYoErSSjkNWBw8hT1qRj6QlkFsXCNS2EC5wSldBkGvFkD4nMwZRbgUxjPd4jwc5EOtoELXQDlFVkdNYiwgxRwaACtvjkQphgsmHCDK4ELjQDaKhe0tBiiYpYoNWEILHEKXtNJPGWI6OQXY6SZMGoIcC4Y/loQIg0xbnJIvGkQYrogiOGF4ZSRAkCRdS5pA/2UwlhgjXoQ7NQYiMuBAmJBAdeZX084wV4Y8LaJY8YZXHMZZkqRRnqBN4eJOnY1Leoh1995a/lX56+RdtoAMrwZZ9mXNqoZRfOZgOxgAQiEKI+ZMJMBATpRcySSOC2ZiKAQovYAC4YJg3Npk46CGVaZly0Q3skJm10F7KmBRCaSPiKJrIQXOnKV4I4Zb8ZQh6OVAbWRnWEIyumV2cKT5q6RiAmTW9WZzG6RbBeZwlt3fK+VtyQgjN6Y1eGZ05GBAAACH5BAUKAAYALBcADQD5ArUAAAj/AA0IHEiwoMGDCBMqXMiwocOHECNKnEgxYbp0FTNq3Mixo8ePIEOKHEmypMmTKFOqXMmy5UB1LmPKnEmzps2bOHPq3Mmzp8+fDZ8lOwe0qNGjSJMqXcq0qVESHgT+u9nOqdWrWLNqZYpuq9ee/6bu/LIq28Cq3b6qXcu2rdu3cHOaHbiKKNW4ePPq3cu3r99nEgdh0yayq9/DiBMrXswYJbadOIA0nky5suXLlLHBdLlKoKN/djGLHk167Y0bpfU2+CEwrcGqL0N2Tk27tu2lSwRKuN32wsDQMsnxHk68uEtHZYyrJeFIpqNVIgTy26y8uvXrGT/Q1Y062Z2Bj13n/wU+GY/wj01WzZ6Nvb379wevwS4YpTnBfuLh85xfUM7BxxrZx1E1+hVo4GW7FYQOO+QdWJRYHZFggDUOVmhhccwYYMOFTSUDIEfJPMONAfxxaOKJlyGA4mHnQLjiizAqNkSMNNZo440atTOXdNuc086P22RzDY5EFmkkkdxcg86IRzap3zZORinllFRWaeWVWGappYUNbunll2DmRQgGGIRp5ploKnUOcN+l6eabcOJUYpx01mnnnXjmqeee1hHG55+ABirooITe5OKBdlFY6KIFJmGAIYfmlR+jlFZqVJeLWRCpgX5a6ult5yj6KUuiEtTpqKiOqulvUFq4gQGeGP8QhAFMWjjnn9zUmqpSpw60wz+6XigErbu6tyae1mCqVw/UHShqrMVet+aPBd0BiB3X2mGAMJtiCWlisP16IiiyRgtRsKKhg45wZAikCkPU3njsQEx06xe5BjRroKiNDNRqe70SpOyfMBH1BC/8YBkqQfoODBcpBvTgMHalrjjxn0QdoQyBEaFTMYzU2ZsXub/+C9+tJ5ogsk7xdCKQyWx9KNA6ByVj0pBPCISyuTateiHMAg3r4M4/SZOwX9goyk8+BoBzXkFMG7AMRxl7We9kEJv4wAYrV9nNpB51Es5h1gBNEDjoQEkOOZuEIo7UJGqUs5ZT8Pcxz5aesyNHzdT/pI6+Kz09EDgJ0SI1O3zOSQRBROP9EAcp/a1uYyqfNAt8IXKz8tR83u34UhdRlkAKL38UL0HONF6aMAPZAg7KthATEjeAPMFJ14kNMs3FKrWzOIkB+6V6SyagotzXlJE+fE9Gd8P7V9QkBCHiHj3f5FS4f659QosYYPM1wb/FSUGhGHD0QLS8LRIZnBu58z/WLL/9bZQINKRVtXTizEfN7D/Q+XjJRz7EMzXyCO4juxCI9U5EiINoI3vzs00mwAO2jfxDfhn5xxn6cMDitIgg/JjT5OAVkTWFRSDoUkkFK9MOoQkEcH4Jn3umgRmMDKR+aHGKMfYQkkcIBBsL/NKH/9TBjYQFMYIfyZqdxmGA+w2EZpSwxw8hmJNyDEQe/+CHDTcSj7GRZl4SAaNI/hYRdJERiTGB4Zvq9x+baaUb7cBGN1IYEX7A8XRozGNE1Lgnc/hiILoYhzmop8c3OQAze8uTYbpyOsM0xIaOdAg3RngWbqSlHenYjLq0scJCgumQl0mk315ooW5so1V89KQqBQLKVTplXnhEyBldmUcM0pIq/IklmpB3S5y0UjG/NIAoe6knGe4pmMRM5kzQxY0jcsSYe7qDo5RJzWr2pAYQ6gYVFVOLbSpEBgIZpjUVMsuOiFMvf+PlOFECg3UOR5fGAeI2yulOk7STMTJQgQGgOf9ObEQyJPys5yrzuU/LnBNMAY1LJwW6EWQ25qAMjahEJ7oUW7rlnyezqHI0WigBFEAABigARUfKErMNxKF+CSZEG/NRkh6IAiPgiEn1w9E/+YcgHnXpe/JDgZompAsGQilmAKjTouoUnMK8TDpoIBCRGvWpEAkdiXwqkHvuiqpQxQwDLBAmqyoGqSv1Cx2dmVXGlAlFI/obPIkDVszgoqyYSSVcQRJW4ZF1rmtxzTnoGRNCDkQc1cAqXgdbJNn9hB3/DCF8hErYxpakGuIgh734yhK/wmWhJ2HsXlTq2EWN8K436wtmR6LZzpqWQ6BNimBPy9pdlZYvbW2tbKuz2tn/2nY0VantUbyaGIImdLa/vS2gfCvchQS3uJWBY1zqOlvmIve50I2udKdLXblU97qI0S12t7ul1yIEFpVQIHfHqyXvImSCaoktede7FvMagBBqeANenMve+hrFvXwwwAT90Bb12ve/VjFvfvkb3jcgYi3+BbCC2SIFgcjXAGoYiDSWpBb6LvjCQIGEGm5hECbw4cEGwCiGR3yj8BIEDAPhrzlSS+IWW0cWirGwi2ccE1n4zyARprGOHdSG0ch4x0D2SFVkwIKGwIIPJmZLgoPMZJQMWZ8NQQR6lazP4zb5yhXRLlaIi+Uuk1YgRJ7IJELslSV7+cwace9B8vsPEV/l/8dojnNF0NtgtxBUzoUcbXXyi+crc8GTcHZsoPtskiIjpBKBMACfBVIHQjt6z5XgAR+wQcdHW7oxiDjGQP6Y4zKHE7uDvrRLxlHnTHTa00kVtaoJomZZXAEKrmBcpZ0S6lXvGJRIfcga6tBoYm3FzLZ2tJoFYg4DBGIOlQjGrGkd7Gbn+iFnGMiIam2TZzdb1MPGRHiv8JVhX/vbhcCLlb996T8U5AwTJre645KJYBgAFrAgiDS8ue56I+UTBoCCAT5h6t+gmtr2DvhPuCxwPMOgBQagoUF8gYg+CMTdcRl3wTHsXh/E+y3AnniQX3sLFPtAGnkBuMbXO+TG3HnkZ/9WXTDMIQYrlMMTwYAxymfuy4WYwQAyN8Ax/BAIE7+VxTXxNs1HjMFPTGLMAhu60n3CX6Qv/elA8cMOIAEXglNX4lCvyCfOMIf3pvfT1xX5gsU4E94axOkGSLJA3PxmUH9JuS+Raym7oY452sja1RX7f+c1U55QfdFu0TtUBR+tNRke6DVZq0uEbueswzVYA4iJexMhioHwAcWOz/xI5Kdpg8DCcxXVfJDlB4pwq+HAA6Eh4UXvpsrZ5q0GibzkH1KLY8gXxANhx+pZzzOgHmQT5GAHO4BoHFxDpOvRlvavwc7766RA7iQ5H+IZZfXmRwlAwzcANizrnoNDBAxWeAv/1q1/oQ850X4vesMbwo17/RqA3j3BO/kZtfu1FAIMV8C8zio8/7xAP1pdtxAZkhUn13950XfmEn4GUAg3Z4DkRlQqoWZz0GsOWIEUgXYD0WsxYIEcaBCMVweJNgeo0A/j14EjZ3wDUQ6JcGB+gHoF4QMG4IL/ZoK0JFeg9xDjV3L7ZwD8hQiAVxCJll5VRoPcBUq81UAOEYBbcU/1R4SAgoA60SmBwAchSHvwtxNNSFJZOHR80IAF4YUF8X9GsYUURYYCF1yZwA1a5oQzB4YLgQr/UIJsSHNB2BC40A1yyHpQ+HSBkHwLUQvtQCFr6BJQNofXNWSGZnkOMRWDaIi236aDjDGEjjhdkHgQ5jYQ6EA6A3GFQGFMnHgdPXYh/dJ8peWGAnGHbMGEEGGGk6hHApZNhKFOXwFRdDAQrNiKb9KIFRFt0aaLPHGLvAGMuPgR+LITQRhuBeGLxZIs1lEDwzhXiveMbnEHzqgSNyiNFpgWn7gV14iNnZUAb/VA3kiEDHAWymgTZvci3TiOynEM+gSHk7GH7FhW28ANCIcLVaEO0zePArcCBoALYrhc0aUIreiP8PhQAcmPWbWNaHSOirEDQaOQEjmRWOGQFNlsZHeRUNVAg6CRBnhCHmmAAQEAIfkEBQoABgAsJAAUANcCpwAACP8ADQgcSLCgwYMIEypcyLChw4cQI0qcSLGixYsYM2rcyLGjx48gQ4ocSbKkRG4mU6pcybKly5cwY8qcSbOmTZrbburcybOnz59AgwodSrSo0aNIkypdyrSp06cVs0GdSrWq1atYs2rdyrWr169gw2ZFKbas2bNo06pdy7at27dw48qdS7eu3bt48+rdy7ev37+AAwseTLiw4cOIEyu+eI0b2cWQI0ueTLmy5cuYM2vezLmz58+gQ4seTbq06dOoU6tezbq169ewY8ueTdtzu9q4c+uWOeX27t/AgwsfTrz4SkW+jStfrrs3853WnkvPy+Tf9JsPrmuf246IAUPWt4v/H186PPnz6NMTn6a+fVnk7kXmjE+/fmBtBthzMOBpIP7Fydkn4HCNDGjggXHtJ5AQl3WD4IOw7defZSaYB+GFrE1YXzP4YOjhh1wtAuKIJJZo4omYRYfiin61E2Bt4fzTDjos1mijTM0YsIoB3WBz449AqrRIh0EWKdo6/xmp5JKavSJQMvwwKeWUEhlDJJVYZmnQOe1w84+FWg6mAwxhlmnmmWimqeaabDo1X5twxinnnHTWaeedeOap555g6fAin0G6CChUMqgwqF7poHPOoYzq9WejkC73aKSUVhpckpZmqummGMWSC0GfGrAOp6TWto856HCjTqmskuZHqAXt/+NPOz5GisVLDrYqmD+P6eorapP++pwMYWbCirDIouYPOzwm6yxni6qDUq/PVmttYtReq+1k6DC77beU1QruuIu9Se656Kar7rrsalpou/DGK++89NZrb3qL3qvvvvyel2u/AAcs8MAEF2zwwXcSi3DB2S5cIxcGgOnwxEJ9AZsfb5jDz78UPyxQvqrx0fHIRIksDY0ke5zyyiy3bBfELsdcE8gy15wSxBKbZoUBonxysgEq2iw0SA5kIlAwOQ+ttEdJLy2gxU5H7RHMrgUj9dUXmcGAQOZg7bVFZsgiEI1Bf212QYEQpIZAbzR99tsCZeKHFG9wgzLc9NGM2icGnP+B998H+eI34IQbcAUmBGHD8VIKF94XzqyNgcnaBojr+HhQr+aPAW/UMYksbl/OHNWsqVGHKMdYh6no02We2h+wGCAF6+mRjlratMNdR0FWmKN37s/ZTpovtxgwS/EDlXM38Nr9DlolhhtQSSW7M2/99R3DEsgfAomN1bvYD5qFhuEr7YsZBvDQdfnsty+wLOt8IcUzwRzDt/su+428AdLw8UbsBqiFAVaFP5lBjyAELGDKIGEAQnzCagp8jvM+I4bZEUJ2u7tgBFv2hoJMwgDB2mDB+AaCtTGQICE0SuNEGCcr8MALBkAEH9DHwpXBMIZ9G0gKa9gaqE0wNPerHg//d0O1BIaGgYSA4BCD4zrSkG8gUpiDLJ6xRIcdo4MCAUMUDUDFKiKMFHMwQCEEAoWBoKNsXgyYNBLBtoLgAh2rS6NqsiPHOr4FDFYwGioIZSg7lqkQHRwjQaC3PD8CbA5mgAINx2bIfq0tjAlhTyP1BQY1mGEOg6PLCiYJokJkkpMEo5wPQImwMyDCAGqoBTskmRapkHJEMTAA4l4pLCNmZGcFOSUt9XUFhFDuKSvcpTCHGRruEaSPxIQXGHIZsWTSq5fODJg1diglNEbzmtjMJt5aoM1uelNAwfymOMdJznKa85zohE0bdJDOdrrznfCETDjjia44Usaa9EwWPvOpB5l98pM5AQEAIfkEBQoABgAsKQAUANICpwAACP8ADQgcSLCgwYMIEypcyLChw4cQI0qcSLGixYsYM2rcyLGjx48gQ4ocSbJkw24mU6pcybKly5cwY8qcSbOmzZfaburcybOnz59AgwodSrSo0aNIkypdyrSp06dQo0qdSrWq1atYs2rdyrWr169ZsYEdS7as2bNo06pdy7at27dw48qdS7eu3bt48+rdy7ev37+AAwseTLiw4cOIEytezLix48eQI0ueTLmy5cuYM2vezLmz58+gQ4seTbq06dOoU6tezbq169ewY8ueTbu27du4c+vGbejf7t/AgwsfTry48YYOjitfzry58+fQo0ufTr269evYs2vfzr279+/gw4v/H0++vPnz6P12Cpe+vfuazd7Ln0+/vn2l0+7r309SGr9u5/An4IAKLWJAMgZckxOBDDZoQDPOOCihYOaINeGFGL71iEDYBJjhh/LFwx6IJKL3Xzsolqjiiiy26OKLMMYo41gLzmjjjTjmqOOOPPbo449ABinkkEQWaeSRqaGE5JJJMunkk5plA+WUVFbJIjoGkGHllpdZCAcWXIYZmR4GdNHFS9yIqSZXg6zpJmNPvCnnnHTCuIxAYNap517YYJNmmXDsKShe7Axq6F2FHqrooow26uijkEYq6aSUVmrppZhmqummnMK2TaeghirqY3+OauqpqKaq6qqsturqq7BC//qFAerEaitJXNyqq0izGvDprsAGK+xNvQ5r7LHIplRsssw69Guz0BY0a63RVmvttdhmW1Cu2ka7bLfghivuuOSWa+65cj6L7rrstrvWJP+U6u5t05om77y2cYsvrN/uy6q+pJlzDjc1+itbv6FJg6XBrJ7BML2nSePbw7apS/HFbkGC8cYcd+zxxyCHLPLIJJds8skop7yRxSq37DLDc7w8aSAyR2rGQBPXrBm3LG8Ws86eFeuhZ4VYAXRnAHtmBh8GXPHGLUcrWsgZULwxUMFRz8n0QLIIk7WgP3+dGQWk8WCGFIiIrfbabLfdVNgExXyv226qIcrCdG95Rh0IoVVjzVou5C344IQX3tLfhieu+OKMN+7445BHLvnklG+JdeWYZ675fCps7vnnoIcu+uikl2766RndUQPqrLfuuuGdv26jDLEf1LPsF8qA++wISbl7agEBACH5BAUKAAYALCkAFADSAqcAAAj/AA0IHEiwoMGDCBMqXMiwocOHECNKnEixosWLGDNq3Mixo8ePIEOKHEmyZENuJlOqXMmypcuXMGPKnEmzps2X227q3Mmzp8+fQIMKHUq0qNGjSJMqXcq0qdOnUKNKnUq1qtWrWLNq3cq1q9evWVGCHUu2rNmzaNOqXcu2rdu3cOPKnUu3rt27ePPq3cu3r9+/gAMLHky4sOHDiBMrXsy4sePHkCNLnky5suXLmDNr3sy5s+fPoEOLHk26tOnTqFOrXs26tevXsGPLnk27tu3buHPr3s27t+/fwIMLH068uPHjyJMrX868ufPn0KNLn069uvXr2LNr3869u/fv4MOL/x9P/mszfOXTq5e5aL379/Djyydqbb79+yHD/WuHDr///wc1Y8AqBnSDDYAIIrgIegk2GNg62jgo4YRwvSJQMvxQqKF7xjC44YfindMON//8A+KJKKao4oostujii2PlBOOMNNZo44045qjjjjz26OOPQAYp5JBEqtZOkUgameSSTGoWYZNQRinllFRWaeWVWCbUTZZcdulld1h8KeaYZH7Ii0BPlKkmXtdww45AcHSx5px0iUXnnXH1h+eefPbp55+ABirooIQWauihiCaq6KKMNorYOY5GKumkh21J6aWYZqrpppx26umnoIZaJRcGmCjqqR99geqqHpFqAKSsxv8q66wvuUrrrbjm+pGtuvaqEKy+BmsAqaYKa+yxyCbbq6rK9sprs9BGK+201FZr7bVTAovtttx2e9Yn2Fjq7W3EmnbguLgxi66nz66rqbqkSYNON9m4S1u7oZmjrb2XWsGvbfiCVo6e/9K2b8EIr1VJwgw37PDDEEcs8cQUV2zxxRhnrPFCB2/s8cfjBgJyoHOM/OcZAx1psmbMdqxZHSt7Zqs6oPEBRsycwevZGYUYIMUcsuBMJyJg/DxQvUKP2fNAsCCTdJlvPK3ZA6RBYcUVfEit9dZcd41U1AZFTbDXXZ7hyZtkU2lGyQex82RaK6Qt99x0120S0nbnrffefPc37fffgAcu+OCEB1lf4YgnrvjijDfu+OOQRy755JRX7mAbOliu+eacd+75fW9/LvroMx1OemkBAQAh+QQFCgAGACwpABQA0gKnAAAI/wANCBxIsKDBgwgTKlzIsKHDhxAjSpxIsaLFixgzatzIsaPHjyBDihxJsmTDbiZTqlzJsqXLlzBjypxJs6bNl9pu6tzJs6fPn0CDCh1KtKjRo0iTKl3KtKnTp1CjSp1KtarVq1izat3KtavXr1mxgR1LtqzZs2jTql3Ltq3bt3Djyp1Lt67du3jz6t3Lt6/fv4ADCx5MuLDhw4gTK17MuLHjx5AjS55MubLly5gza97MubPnz6BDix5NurTp06hTq17NurXr17Bjy55Nu7bt27hz697Nu7fv38CDCx9OvLjx48iTK1/OvLnz59CjS59Ovbr169iza9/Ovbv37+DDi/8fTx5sp3Dl06uX2Wy9+/fw48snOm2+/fshpfHrdg6///8HLWJAMgZckxOACALYjDMJNiiYOWI5KOGEbz0iEDb9UajhevGgt+GH4+3XzogglmjiiSimqOKKLLY41oEuxijjjDTWaOONOOao44489ujjj0AGKWRqKA1pJJFHJqmkZtks6eSTUJ7IjgF6RGnlZdYI1EUXV3YZGRkGwIHFS9x4aSZXhpyp5ppstunmm3DGKeecdNZp5514UjhlnnyudU2fgAYq6KCEFmrooYgmquiijDaq4TaORirppIuVSemlmGaq6aacdurpp6CGGucXBqgj6qkicYHqqiCRagCkrMb/KuusM7lK66245jqSrbr2yhCsvgY7EKmmCmvsscgmm6yqygbLa7PQRivttNRWa+21bAKL7bbcdrvWJP9Y6i1uxJom7ri3MYsuqM+uy6m6pJlzDjcwuitbu6FJg469nZ7B7234gibNP//epm3BCLsFScIMN+zwwxBHLPHEFFds8cUYZ6zxRgdvXJ063YTcTbEe06lOsf+krHLKJ7fcMohzlFzTNtMgg0sttXhSjqknoxiIzC6dnE46IfcjTTjO1CNPIfiE63KJZgxEMNApuTwyOUfjU089xqDHzckj9swVsx1vFjPVMJFYTTbTlFMOMuSg005ZtmboWSFWoN2S1SP+3TNi2C6/PLZoZvBhwBVv3KJ30Cd3ww03I6tYyBlQvDFQvYu7afhAsgiT+Zxnf64ZBaTxYIYUiIiu+uqsty5V6ATFfK7rbKohyr60d3lGHQihk6VaLuQu/PDEFy/T78Ynr/zyzDfv/PPQd6XOylNHP6Q62zyDCyqgIFO99UCqUzMywoDChSffg08U5tFZ043KbUyRvvo8WpryF2n8UyT9PXazjTbPGEQa6rM//ukoXDYDBSpSZkAgrayBEIygBCdIwQpa0E13qMEFN8jBDnrwgzsqGwhHSMKhNKmErAkIACH5BAUKAAYALCkAFADSAqcAAAj/AA0IHEiwoMGDCBMqXMiwocOHECNKnEixosWLGDNq3Mixo8ePIEOKHEmyZENuJlOqXMmypcuXMGPKnEmzps2X227q3Mmzp8+fQIMKHUq0qNGjSJMqXcq0qdOnUKNKnUq1qtWrWLNq3cq1q9evWVGCHUu2rNmzaNOqXcu2rdu3cOPKnUu3rt27ePPq3cu3r9+/gAMLHky4sOHDiBMrXsy4sePHkCNLnky5suXLmDNr3sy5s+fPoEOLHk26tOnTqFOrXs26tevXsGPLnk27tu3buHPr3s27t+/fwIMLH068uPHjyJMrX868ufPn0KNLn069uvXr2LNr3869u/fv4MOL/x9P/mszfOXTq5e5aL379/Djyydqbb79+yHD/WuHDr///wc1Y8AqBnSDDYAIIrgIegk2GNg62jgo4YRwvSJQMvxQqKF7xjC44YfindMON//8A+KJKKao4oostujii2PlBOOMNNZo44045qjjjjz26OOPQAYp5JBEqtZOkUgameSSTGoWYZNQRikliv2RMeWVlx1oABxYYOllZHoY0EUXL3Xz5ZlcDYLmmmy26eabcMYp55x01rkRO2GSSaadfLbFjgFW7tnnoGtpSeihapmJ6KKMNuroo5BGKumklFZq6aWYUnhOppx26uliin4q6qiklmrqqaimquqqrMbJhQEmtv8qa0hfzGorSK8asOmtvPbq60y5/irssMSOFGyxyDK0a7LMDvRqrM1GK+201E5ba7XMHovtttx26+234IYrbpvLjmvuueiu9Qk2oaZ727OmGerubdfOu6q29p5aL2nSoNNNNvnWhm9o5pQbMKlWHPzuaeX0p7BtBj8scVuVTGzxxRhnrPHGHHfs8ccghyzyyCRvFHHJvqmjTjcss7zNyzDHLLPM7aKcpMo4l6jzzjz3DG1BNZ9zsoOB2NyROts8gwwutdTiiSeiJEIIJHT4YbUfVVud9dVpSJOh0CrOYTRGKrNsgDXhhONMPfIYE08q8HTyzivQQEO33Xjb/Yo70Oz/IY8ByRiQTopnDHTk2BOV3Y062kijNtvyxBMPPPC88447mGeuueZ+/3NgOiqDzdW1Q2dWB+IbqcMPP+Q8M005yEizTDiOp532Mbbnbnst5axcVrDqgMYHGKhXpLJA7fyjTvIlGoBOOyq3Iz02yU+PzfXUG6DOOTXrWjpV+3p2RiEGSDGHLMWTvXI33LTvPjrobBP//PLXT79YKiIChvkDAZy+nOQbCCyQ8T86vaGAnHkAaaBghSvwAYEQjKAEJyiVAxrkgA6j4JvO4Ik/adBLZhDbQdjxpLSsgFX+++CbSrSN4KnwTGb6BxeeYQAZiSuFqfpHEADQAVjZ8IVX0mEH/56xgww843BALFLzDPKPZ3BhGiWagicKlEQiqWMaLTzIzqaRvCxWUUjqsIYwtPiPJGRADP8ARRCOtI1suPGNP/zijf6BC2S4UCDb+AcRKJCBBBABA1/4RzZ0VpASytFGTawFEmH1jCQgg44MSIIg/0EKJUyBCUywJCgOmaMrooKMBkgBEwQJK2QwAQA9uAMdkpCAWhmSk0qpD3D+YY1PFiSPyBjBFGD1j25Y4x9pAMA0BgICBlARljDqRiKPWcN/ICMFaSgRKHDxD238owQWaF47GBACA+APmS1SZh17WSASIcMEdygRMiwwRTMxoAbTQEUjRmABYfwMnCyi5RgHopLMbeygBilIQQ8S0IOzpREAJhDCDnqQq2/ic0W0JNFASNQGLvxDEQ8AwA5M9EsuAAAXBpCeQCT6UBfdcSDqeMY/8qiNRwYvjyagQDW3oY1XlhSReFTHSgWiDVwkIAXVvOmPTprHO6SgAyYIZByF+iN+MI+pS+JG91DUBh1A9apYzapWt/opm3L1q2AliyzDWpuAAAAh+QQFCgAGACzAAU8AzwBmAAAI/wANCBxIsKDBgwgTKlzIsKHDhxAjSpyokJ0BPRQzatzIsaPHjxGtCezSBaTJkyhTqqRIxgAcLCtjypxJU6Ohmjhz6tzJs6fPn0CDCh1KtKjRo0iTKl1akFtLOAZgMp1KFSK6i1Grat3KtavXiNu+ih1LtqzZs2jTql3Ltq3bt3Djyp1Lt67du3jz6t3Lt6/fv4ADCx5MuLDhw4gTK17MuLHjx5AjS55MubLly5gza97MubPnz6BDix5NurTp06hTq17NurXr17Bjy55NuzZgdbjVCczNu7ftnLm7oTv3m2c34ei2/fuHzYDu4jjbtVP+D5mocuq6qUsHXea5c1exJf+r12dRuGTNuXdPKZ2f9GTOCsF7l+p8MgNX15vE3e2fgWvhIBJPM83Ak8oxySSTzTYMNujggw/qZxBu0qWTTjsAfiKPMfGkMl8f4fzTznIklliihBG1w005xzhTz4YdwgPPIvLQkYYfOOaoI4507NgjjzlKyB83BjwTTjguwujhfK9A42STTUIT5ZRPVkmlQFAaICU0BjSppTsCtcMahe2oM82RSXIYj4zvvAONO3DGKeecdNKJonPZdfNMiy9yuOQizhxzzJGEFmrooUcaEE5BixpwDG29bXchP9LQouR8qdRiQDLLtYPNp6CGKuqooBpQqnTQ4YYOP1dJM8uABdb/lyCr2yRna6243qorrncWZOGqxIUzy4fhXJMMeL1+hNuv/12DjzGy3ofOcclyhKoB0nHDTTfZhPOMiN2oV61JFm7rX7jjrvSruOm26+678MYrU1jyMtSNg0TWy5E26pioDUM96JuQNv7dwQQTXHgyIr8I1ZABvN0QqS29BHHzTxod1DDFF0SUUIMwBihnEDJKYDuQf9Wa+M9zAhHMBAegmDgFBrVMtxDKySr3TBoIK3IHQQTfscFy2UxjND//iAGCmAftQIG7/wiTxBfI5EEBBt8KpFwJibQjEokGTGMADGL882/LBsiQwNPp6sbFFCR2IMM/9P4Digl0G/DPIFN8//vvHTWYTRAyH7ernCdEgNIvKhRw8U82BgS9wz/W/IMKAwAEXjkpcyPE8tko9tdG38u18YAnBkj8DyGTV44L5jtEbgApMOCs99kdQMQ0bP1xI0Yakf+TRAdiC9QfKXhra0AjX3wbFuAhCyQ4Lh2IsbtB19fWnxhtLPdMCD1EbLzFJgzSjTXpkHi+AS6IET3TwjyQRvYEiQRdf4r0jYsQFpRNsXKDyEDltGGNaVijGwb4QggMgMCBWAMDHOBACcZ1nP4k4gtpmALMUlexf3AhA43oF4mYkAFhqAhtTIjdIBzgkAbShkQEm4IJsuGf5+gmaCVYgRKmEAQQyMBvBKmOAVXOQb872c0Q/UJGCeBGMYJQh29TEAMpltNElr1LG20QAzJIEQQhTMN2BFHHNtxTItAdhDjtUkctGuGJO3QNjAfZhjbmKLCDrExv56rjRsLCID02JCAAACH5BAUKAAYALCkAFADSAqcAAAj/AA0IHEiwoMGDCBMqXMiwocOHECNKnEixosWLGDNq3Mixo8ePIEOKHEmyZMNuJlOqXMmypcuXMGPKnEmzps2X2m7q3Mmzp8+fQIMKHUq0qNGjSJMqXcq0qdOnUKNKnUq1qtWrWLNq3cq1q9evWbGBHUu2rNmzaNOqXcu2rdu3cOPKnUu3rt27ePPq3cu3r9+/gAMLHky4sOHDiBMrXsy4sePHkCNLnky5suXLmDNr3sy5s+fPoEOLHk26tOnTqFOrXs26tevXsGPLnk27tu3buHPr3s27t+/fwIMLH068uPHjyJMrX868ufPn0KNLn069uvXr2LNr3869u/fv4MOL/x9PHmyncOXTq5fZbL379/Djyyc6bb79+yGl8et2Dr///wctYkAyBlyTE4AIAtiMMwk2KJg5Yjko4YRvPSIQNv1RqOF68aC34Yfj7dfOiCCWaOKJKKao4oostjjWgS7GKOOMNNZo44045qjjjjz26OOPQAYpZGooDWkkkUcmqaRm2Szp5JNQnoiOAWREaeVlEcKBxZVcRqaHAV108RI3XZbJ1SBmpsnYE2q26eabKy4j0JZw1rkXNtiQCSYcdvaJFzt+BnoXoIIWauihiCaq6KKMNuroo5BGKumklFZq6aWwbYPpppx2+pienoYq6qiklmrqqaimquqqi35hgDqsxv9KEhey1iqSqwZoauuuvPZ6E66+BivssCkBS+yxDumK7LIFuQors9BGK+201BZEa7XMGovtttx26+234IYrbpvKjmvuueiuNck/oKZ7m7OmteuubdfOu6q29p5aL2nmnMMNjPnKhm9o0kwZ8KlnHPzuadL8o/Bt5T4ssVuQTGzxxRhnrLF/52SozrMkFtTxxpCGvE06JE86Yjryopzyox3DOAk5U478MqO6riKPFp0IlMw5Bt9saMc57+yOOwIOlCFkEQt9WjfbtGOAzlocffQiHm7DjzVO9/kxOrBSbTU0V5dDptRuztG1QB93ww02Yo9NtjsGGOOQH3Q8GUjXH7P/jE078rAx99GDQ2P4QNC8Ao0BijO+eOOQLy6Q4pQn/njiBmDujuQOp2jGQJ3fnE46YtWTCuFWp261ZNc2vZnafKszejfd/O3M6WOvXk8tIXnoFrBLd1aIFV3bLBA6It5O+NyLSFONQFKPGLJFeEbY1r6emcGHAVe8ccvaB5GpvNVJv1nIGVC8MRDATqODDpnd/DO+gAS2uf1AsggD/kAjjswPnrcrn0CMdyXY7Y8gH+sY7UanNeQZoB+0gwwFSMMDM0gBEQdMyMei1o5roC2DIAyhCOliQIKoTV4jFJQaRBG0FL7pDHVACDq4phYXuPCGOMyhDtFCwx368IdArIo29VDiuiBeiX1GTFNOhLGDEuzAEG0oYhKVlBNQMMAEwuACABgwRS79YxoMsMCzGAACAyCxi0dqEhMAkAaHgQIATEDjYM4oGgwkABcC0aIi/iFFOQYJjBb4ogFSwIBn/KNIfjxSN6TmgBEIBBkJGAEfEZlII2mjHT24oyc4AIApmLEgifhkJXskNW50Qwgg2EEKALDHgvRxlDcKXZNgkAB+DBCWR+qBDByGCwDooB10xOWOtvEPYQAgAai4gwMy8AxhJukfaSACF3rABYe90pk5Qsk/QodCLt2hBjtUhzayMc4mYfOc6EynOtN1zXW6851wMSc8dxMQACH5BAUKAAYALBsAQQB+AncAAAj/AA0IHEiwoMGDCBMqXMiwYcIaMhxKnEixosWLGDNq3Mixo8ePIEOKHEmypMmTKDmuMKAtpcuXMGPKnEmzps2bOHPq3Mmzp8+fQIMKHUq0KMeWRpMqXcq0qdOnUEW2MLAtqtWrWLNq3crV44OCSLuKHUu2rNmzOmEIDIu2rdu3cOPKFTi16ty7ePPq3dtTLUu+gAMLHkzYIoy6hRMrXsx47mGqjSNLnlzWb97HdgFbo8y5s2embD+LHk26tMd/27qZXs26tWuCiBMXEFDAgIDXuHO7/kowNGHauoMLL405cByDs4crX+7Z991//5hLnz7Zr/O83UgIvE29u3e91gdH//9Ovrzc8ILTmV8v3DJe9IKFsZ9PX+z1vNzU1d/PH+r9/gAG+BI6n/0n4IEIfsfbQAYm6OCDy8EH4YQULhdbhRhm6JqEGnboYWfFfSjiiI2FSOKJKBrg3l0mpujii3M1COOMNF51YY045mgjZDr26KNTMv4o5JA0tUjkkUjeFGSSTDbZEYdORinlk2tNaeWVGUGJ5ZaUrehYlVyGKWZCS45pZpNlnqkmkWmu6WaPbb4p54tazmnnj3HeqaeHde7pJ1ePXXbjn4SmaGShiF7l5XlgJuooiXk+KmlaUwnK46SYUjhoppwmGGmnoDJ3aKik1vdpqai+1meqrKa0aFyrtv8qa3CxzmrrR6/CVeutvLJ2aq/AIpTrW7sGa2xjCzZ67LKjbcrss5IVC+20g/1K7a3DuiXttcxm29ao3IbL4HvOinutt2hta+66bVm7rjbabNPSNplJiu5Z4LLb0D/ddAPdv9D5q69S5Q68kL//DCJDCD1w4wkp/BosVLJ/STzRP9n08AATnsCQQQIgtFOvxT/lSzJBAvdAwSD/WgBADaidTJS71G7zjxgZMIGxNf+kAEAa7WQzaaDkXirzQf7iUsMIoKD2zzMOAAAxN0Pvpa6+Nt9hwg7aqKPNP4YAYMF4nGaj2pcVH32QzVyYMAVq2fwzBQA7/EOzRXSondDV+sr/bcIddsdtws926x3U3c+ynYIi/0zzDzIMAIBKzHaqY/nlB91rFt/r2kzICIa0A93gGJDtJj8FGn6Q10G40AghJURet9AvmW5AO7jnrjvuJI9XsNrcNP7FDjsM4nMbRp8JiCQGLA8IQc63go0B7JzDl8kyIwzwP1FPTnWidpBTGOLM/oMLKfxo4/ggAGxAuZ1wIKRKNZtxo3llyqr+jzBT7NA0dB0AAB0K56hqGIBAKrLa70gWPFQIQQi46AYoVJAALvzje3Nix0A0qEHFYE9mg5jCFIgAgx5A7Gx2uoYBzqFCA6iQhYXhnLnUEZ1nPMMA0CGf6kSiQ2bR8B/qoBepn+5Hlg/u8IhD6SESl3gSJTLxibhaIBSniBMnUlFMRByLDK+opyyKxYhcDONJtijGMmqEjGZMI0asqMYo+WUa78lfG+dIEjbSUY1SvKMeKQLGPfqRIXn845q82JU+ClIhG3CjApN3yIroQAV0ROMd9SPHNEryjjuowSHt2EgdERJQleykKA8SyFGKkpOmPOIlU5lGVLLSRUTDS6VeKaeAAAAh+QQFCgAGACwXABMA6wKqAAAI/wANCBxIsKDBgwgTKlzIsKHDhxAjSkxoyBq2iRgzatzIsaPHjyBDihxJsqTJkyhTqlzJsqXLlzBjypxJs6bNmzhz6tzJs2a7cz2DCh1KtKjRo0iTKj3K7WDTgf+WSp1KtarVq1izat3KtavXr2DDTrUmtqzZs2jTql1rVB3bhY6qvZ1Lt67du3h7pkMY5+A2nOTyCh5M+OoqsoXnuv1II7Hjx5DLsot8dlXUj8kmP6XMubPnz6CF8kMXurTp06hTq17NurXr17Bjy57tkds10rRz697Nu7fv38CDCx9OvLjx4yEXI1/uVRvz50YHWcgAvbr166wHYd/Ovbv37+DDi/8fT768+c+Xz1P9OzxFO/XwITJJH7++/fv4CS+elr8/ciIGKPKefwQWaCBCyhkw34E5ZWMAfwxGONsUCUpIE4QFsWfhhqWpk0SAA3IYEwcGgGKAEAZoKGJv3XRjXohmbUZcECmu6Fs6e2FXYUHZ7HgWKQLlyFsjNvKmzpHKvYeGHYAwiYYByMBY5E700eYcQZ6cOGVuLRLEDTdAwSHQLluWaYCDAm3Qm49TAtXUEctIeR2bYVlQZW4YZmmmcC4+sQwz28mZFpC50aemQDT2JuhwydTk4hEC0blngVcaoKaJiermXn3gCCROR009gZ2Ak6LkAAftEFlqZ/zww4ktyxj/wIsBd0YE6XXtoLnqrmWdAxRRmxggDmIERlWrWSb6dihKOLazKK9BZZZQPtBaZWd/R1arFScCPUMsRt3oAedFiSXyjKQk/fMtcikQWlqX8IXzTzu43aUcP8EawM4qGz1b3Hv+aivwR+QKFkpgBoRiAMIdAaLMb8ca0I42EYsF5A4VD9zRIQIVXNivefEDMkiqCMQPcHccZE3AGqPmykDXsGymswP5CpI6Msv2D4A1t6zRM4XVawDHGftstGfJbtiPAZfcc/TTqdUiYjIeQ221UDrAoFN6zORsnz+3XC12UCnohC5rbnmdUjeknYOO0GPHXdhlRZ+22Mhy502Yrnr3/+13UioYUOmBLcLrH81/8+ZA4ow3XpQMAvHt+OSUwxT44JVnvlsNdZsG+Zma8+li6KvJcDnpvp3DD+Koo2a64K3HLjtGr2M+++2456777g6pzXtovv8+V+Cz5xILQcAItLTwmi/OvEDjjNOO4c9T/vpgcvRFWyWsHBT9P9dUzzveZ2UbnPTit/557p2n//f6pPuRi/u5w486+sHTn7f9lZPWzXuji1v+9EfAag2wgKBDYPUm8zfJKdBAzvoSQdpRtQcqxHkWXNGRcCOjDDrkcw704IFOJsKInK6EKNwVCFPIwrmEgDC1a6EMtxTDGdpQRNe7oQ5FFMId+jA/J/yhEP/7E8QhGvGISEzi44qoxCZ65RaQiBRXeujEKl6lElxZoRW3iB3+cfGLSeEDHwaSiTMYQB0qoooWwchGpYgxi22MY1HUUJA3VIKOXaGiHPfYEj/MARYMEVJW9MjHQqrkEwnxgwHMQT6rENKQkAyJMyBywEhaci7BAORBzPiVNV7yk615JChH2ZFPBGISnYwcKVdpkkz4wYyfEMUxomK7peSQlbgcCQOwaIBjdFCNTMylMD3Cy6x4cZjI3AgiJPbLqogymfrD0FB4CYaBHCOLwYTmwCpZl0AIxArOG0dXsqlNgX1hNWcQhUAm88xyupMqmVhmQTjJhwpOpYbvzCdb2qn/T1zywRxh8WQ/8xmMK4DlmAN1ZzCgcFBVJvShXhEoRN85hzlUIhjNdOZEN2pMh3K0n9JARzf4uRMMevSj+WSkVoiHUn1aYSsSbSk0ywG3q5BUpjidSUxzWshxeGEhxcTKLXlqyU+M45oG6INAgnFQchI1jsusRDF9oMmwcVIrO31qHOuAiEqEzQA+kIZB2HENddxUKGfVqlpLgk8lZnStBwmbGMziVB8+pQ0pAIEBAghXgpjBALKwph8CwUtc7NUqJk0gEv8yjRIA4EN9RQgnmeoFVCKSII2USluP2A0OAOAOcqrlRNLx1sgGJa0edFAPAKCDByXnbLisQ0HogEor/5gRlVitqw2bAgoAAIBUInFL+3I5RoIQglYdVaKDiAAAChwEthvVBoy+OhAmBFYg3jRATe95UiE6ZwQAqIFiB4LajiiSIOc1AB3Sm96BrHcg7VVvLc5RWvpddSBvMAAk5nCGOcBxvEbcAAC4kKuRaMEdDXmFAaChYIG8gsEDeXCDDSBhBltYwgV5sA0zuZbyPtA5IPisAYB2lkblBkm+SnFmSyOLyxrAGYQobleyekMHMQEAYhiuQ5pSX5lA1zTW6MY5tjHkc2jDyKpbsWdkcU1UJkKddORDNb3i4Qf+4xkPYMAg2rCskNTtPdgIs5jHTGZ7KlEasjRAltRgBUScQf8Kc7iuVQakWxs6Bxk9AIEJUmaANOhYIdtI44EkAQhJDITQhn6NWAuCiL9iE3ZHbCYDEvBa0nCDm7HZ1HdQIRBEHENqvcxvfh0NC2RMMYmeGIQ2sgG0lJEIJL56m6BJycCCgNoAheBBRLu7w7+AIgEJ0I5ALBASm51xMdfYxmgEco6YBccEfw4JN0R6GkTEFwpWAIOMhcrSIf7lDgBIACjaoQgBC2TWR7uIug2wbtXgFi2b9eE/uCGEDYwABBZIQdLi9qt+M9s1auCDfwPKa3mnSBjCMO1D8iuQK0w5v9ulSpUVODjRGoevq8ovHufpiVpXJd4KXwvGJ3XfsVp8KRP/DzkK+6Gnt6Rc5R788YzrDHMfyvwrL6+5ledCY52jTskrmXJAu41TdENSCmXp+US7zMZpRHsguLi5TpT+UaAZ3ZIu+LdNfR5HgxYk4twF8Dsp8PRICt3W7ViXxCfacpVsWSBiwLT7+rEYVKgLKzRX+IIMQmIl4qIbzhm5UkCucK+VXYTvObxO8j7KEL3wI4rnukAIX85GvBohGFD7Qd4jTYNkqWwG2MEX5J6+bpP+JkPdPHHScKBKKSJjVzfIP4wlRLvPuOAJOXkhqQiUHoo3I7GfoTrIwrqr9JzPBtC8IXuA0ILoviGLAYDkHZJz2Ch/O43EgEKM7BEQlECJUjdKc/Onb4BzRL6vRC/n6Q35fPKzBOjCrEVU1s+T8Quk/e4voTUEmf/+M6QbPXYV6ed/OwQKL7AWMNACz4F/BPgZ3cAOByh/tBJ+S6E1zFF9DZgXLGAAEpgWFjhEhpB/ClgL9EcV1gB/GYhAJahWrWUAmRJyAQEAIfkEBQoABgAsFwATAOsCqgAACP8ADQgcSLCgwYMIEypcyLChw4cQI0pMOAibtokYM2rcyLGjx48gQ4ocSbKkyZMoU6pcybKly5cwY8qcSbOmzZs4c6rkprOnT4XY1P0cSrSo0aNIkyqduG2pU5jdDrYjKPSp1atYs2rdyrWr169gw4odS7as2bNo06pdy7atW5bn3irEQ06u3bt483blqVfr1INyDmLDWa2v4cOItzrql9juP5AkGkueTPksusppkw3++IznX8ygQ4seTZroucelU6tezbq169ewY8ueTbu27du4c+vezbu379/AgwsfTry48eND4yJfPrYp8+dHCWHAAL269euw72Dfzr279+/gw4v/H0++vPnz6CVeHG4Cdfr3DKd8hk+/vv37eZVbw8/feBIDhrjX34AEFiiQcgLJZyBO6y3ooG1MCPjgTPsZ1OCEGI4mYYYxbWCAJwPxxWFv3Ig4YlJRIWfiibidg6B1LxpkTYxqgSJQVbhV+CGLurnYzmeP3QGIHUPaYYAwG/J403zABcFbCkwa+CNB6KBTFxkCqaKkkhftx0FBzumG44lCxfUEL/x4R+NZGESZ429jbjlQXEcoUxh2Sdaom5sGCCFnW5vNdI0BTwjE558DhkmQn4hilo9Ay3REJ3YBNmrSAxvkqWQz+FBGDjmbhCKOAZEe6lCh1/2jo6WsmrQITerE//kTLaSyQ+BUppZFym9fphRrla0qZU2gBkUaLFZt4pdOOt+tStomAq2TzEbcAPIEJ5riNcg0a57UzoXImYDKsSO6xw4nAlkzrUbdGvdYtuTGi1EzBqxiQIqH0TKqAZYYkM1HZBjbm6nW5EqWjT3gK+9IlAg0aF+LdDpQmoaRQ3FIuxwIHCEHaQPvwqCtA64BmQyEjcLBAisQOihv9M/Ht/2lyFSygvzQNIkxO1DDBrP1ikDJXGzz0KyuYwAl9hjac1rGSEz00wr9g0uG2Kxr2DntcPMy1OfVIMNQz8Bcnzm+DGSPL/4Qy/XaM62gU7uyTXXZTdxE1U46QnHTzj/X6P/M9t8zjUxgii0Dbricih6u+FKCr9bChD9O2V83hS9+2wOWZ6755qy2vE3NnN/2eOikl05T46bvFivlqb8Gw+it+5b156DHTtrrBiRuu09L757W13jhrvtd/7LYu+/IJ6/8SKiLp+rxy6s2d/SiPd48XgIUIIABBeiWS7TU+475aNrzto85PPkdvu3WHxYYQdnL5sf3B/nDjtorQb++QZWbV3xBQmvd9FrSg9rt74AxSQcNBNI9BF4HC4eDgUD+1xf9jSYTrHDg/iTYmBXVxn730uBEeCEQVK0GeHfhYGOmRpu4qIMnHoSaAVlyDW7YygBw6IIIt9IOuO1wLf2LSQz/f0hEww2wiEjEzuoU9o8hJlEh43sii1zEF/xJ8Yog8yEWFQK7LXoRZNf7ohjXMgLE4G6MaLSU8NLIRryg0C5nbKMcuTTHVmlxf12sox4dlMc9yimIfgykIK/Tx0Eaki2wqITGDslI9JRMLGFspCSvo8JJWhIsb3ikASphBgOI7SgcjOQl4cMFT37njQ55AyLAUslRGugL9jlDQfggEGmgw4lWEaUr0VNKA9zxOpBQwy0Q8oaBHHGXyPSNIpPZxl6WRxYQOSYzpzkbWTgDIWqg5hadeUVdanM8v/wOLPiwTLJ485veKeUnjSMDFTgEEZpkZSHRSU/crLGe+CwJKh8y/wkDSNMqrczneWBZIFr+459XOadAq8PN7siABQt5pBTIEseFWg6Qk6HlWeZpUcA1tCZf+EIUO0rSAVUiEAbQqEDqIBaOlvSlIiEnD/iADVzCNHXh7A4ijjGQsmUzLAq9aUf3iZBxTJRkP/VKQIXKVI3I4gpQcMVAPmHBn4Syqd1R5ykjsoY6sPQrV8XqdgiKH3MYAKVjCapYffPR7RB1IWeYwyekwRMKXmWpa4UOWe2DCUVewSsjzet22vqeQpTFpYJN7ED+UJAz2FKxpCOseTIRDAPAAhYEkcY6Ibu2nBLnrQT5hAGgYIBPZCKpShWIWjmbTKIGo5hqqShrhYqzgf/cIhjB8MUqz3LP2ZZ0n7TMhGgNAs1OglW1vl1rIAIhWjAk5JbdWK1PpJtcS4J2LbKtLlaDYVYrlMMTwYBmS7W7VlneQhqimII0VDonrQSWvFg1rkDUQIhPKPIMiMBFP6r6E8TCl6Sy8INARCFetNr0v0Pz7HAeepA5DMQPO4AEJAzC3570FsH0vK5C8nBcDAsVs5s0wAis4IlKOFggwbAiQJHrYZJ+tbQG0EFBAsEHUSC0xTh2iSzEawDUloW6OQ4NQRUskci1BrSwEMVARPEJAYsFr0GujTNnqBFtnIMfV84ylrfsGtwOhGMGkGWUxbLZ1ez1PMc4hpJ5yoQzFEL/DVd4AyycZRXU+HfM4AGEJPTMZwPsWRKcSFNQVlOLgsyBvTiz61XujGfZtOclgLgTaXZlAD8EQxoCqYUa3uBgKxzVAOxQdKOXp8ODbIIctlJxX974TyUbYA6k/etA6PyUsI5aNiNNAZVLImhuEHkt1/UDewfy6a5k99bkueFAlM2a4R7ECgYAgyIpvZULI3s8DxtItmHzhkIU88QDKVmZr03uiBTCuQWp8HTLLZdd90fD2QT3QZhRbUazuyzDUxK0Q+O2e3+xHDZCyIv9TXCJwCwGY7F3wee4tDqgdA6o6AeQuSLqhYsQhT3zgQF2m1oDTNzif3O3RjSMELQqVeEg/7ekvLVi65QHUhsGq8MfZGmGT7inFuN2+Uxyzkj5FkTkRfk4TH8tSOCJsg5gyMSBlwJlnTMTFf8QutNHrRxcRJcrKEcOrafumnD8pRbt2I+6b5J1ruvRPY8ZO07KbnYikhwt1m67GN8+kBQQhOc+OXZB8O6aNsg9N1YPS8sZUnF8Sh2dV2cdW+gwkML/fYt8Dzp2HP/4w9B9IGrP+wQr//f2cV6EbZBxR7YOFsp/Xoy4UEc2Io8Ux5P+9Ej0WFpMD3sNtnMhkjts7dl4DHey5fYIOfzuObcNbjwOFzQj+vAx7LbU/x4hr9+iInTuNqjrJRtAX370WH/tHQiEUewOCAAh+QQFCgAGACwcABQA3wKnAAAI/wANCBxIsKDBgwgTKlzIsKHDhxAjSpxIsaLFixgzatzIsaPHjyBDihxJsqTGbiZTqlzJsqXLlzBjypxJs6bNmwW14dzJs6fPn0CDCh1KtKjRo0iTKl3KtKnTp1AtZotKtarVq1izat3KtavXr2DDin2KbazZs2jTql3Ltq3bt3Djyp1Lt67du3jz6t3Lt6/fv4ADCx5MuLDhw4gTK14c8ho3bowjS55MubLly5gza97MubPnz6BDix5NurTp06hTq17NurXr17Bjy55Nu7Zthu1u697Nu7fv38CDCx9OvLjx48iTW7amvLnz59Cja21HxIChf9JjBsnO3S327iuFgP8fT17xtPLo0xfeVhDUZRPf1cv/fd6gzsW5B56bzx94I8r59SdgbxxshtKACM5WoCfvxZfgg7AxmF4n4UBo4YVeNYPhhhx26OGHnNUH4oiBtROgbdLw081+JLbo4kyLGJCMAdfc96JMDt6IYTPO6OhjauaU9eNq4l03JIePCIQNi0c2mRo2OaIVT4VOVmmlRCqaeOKVjOkAA5cO6TKOOeyA2WQKZi6EzpraHJjmm3DGOaSNY9Ep550UTaWXCgawh+efLzoA6KBV2knoXJAVxA2Th7bFp5+NRoqWDltKmqaJloIlw6OZ9oVNOugw2mlXm466kpumxlZqqiahyuqrsMr/pydr7Wzjaqy4PscpmLHkkitBZerRn6CRosONOqwyZ0AXXQi4K5z7GFBpSrdiSIYBcGDxUqKvGcqlP5Bxu9IOUV5oyK/PTYsufzII5O268AbXbrz0Gjdvvfjmq+++Vr3L77/dAtxkmcMKzOU1Fvpr8MKkPcvwwxBHLLFEpUI68cWbrYrxxpppzPHHIIeckcVxOizyyYeZjDJv4q7s8stJqQzzzHspTPPNOOe84b069+xRy0rx7PNrXxiALJ5CD90aF7r58YY5KioNZtF90sZHVjZLrXVBV0uDTlVZb/0Z1WKXbXZGYZ+tGdlqt70VyW7H3VTRR8tmhQGifOK1Acoy/+Wx3Fs7kIlAwZSb1N+Am204Ukkn3hnTjkeuFNu0BVNVxZL7bAYDApljlcyZ32yGLAJ93XfoqM8UCEFqCPTG4kiBnvrLmfghxRvcfB1V2rMnBrdrnxhwRu/E3+TL8FQ1XvzKV2Ay0CSwG6X88ovRTdsYmLSePPWWQT6bPwa8UcckskTPfXqUy6ZGHaIcgx3vP80L//l9eR/bH7AYIEXn53AzP07EGsj/6KeX9LlmdQTZG1T4RECR1cEg5hCVUwbYwLsYUDW+uIUBZqFBrVCwgnj53WkqYYArGKASlXjg5UD4Mkgkj4EslBgsAvEHgZAOK4iLIcSyICEc6nBivjCDAf944LkfGrEumDuiwWSxji9I4RnBOEbwriI7JeLLHInwguvyZ4BaGK0pAXSXFQ1WoSl8YhICMUMmasGOujmlimOM1y1caIBPWM4AcxBItZjywTiyRYSmEcP+CKG/BxLSfETJoR/39YaCoFFdjFukwIIHAjWIAhKNzKMoIHmU6UkyXmjkgRYRwQch+kEWQGtKHz+ZKS2ysjyQAySX5PdKvJBNgqah4x0NUIi7XWWVtfSK/VjTQwOY4WoCucUznJIfOAYzV2ooBPIMsExg1sSZz2QVKeagBmRCwQCyEAY6TqfKbMZLGokoyP62Z066UOA2PBAiIl7YTn2BwQBWGBwqoKLmyHriqhAFIaHuoGJNf8Ypj3MwAxSEiEcDpNKgILQkOkS0lCRC9FVg0B5Cxrm7i7jgonGaJtZAii4fYAWbJLXUGeapBjZStJwUIWdKzRQDAziPnTNllS8JMk965jRVJjyIRp3iyZ9aChNgeCAYbiGkjuqQkwKrIUFgaNTU3TONZuhpVGhZ1U4FdSsF7aqVrAHVmFUtYGJFC9SoeNa0ZgqXT0GpW+XWz7lmrq52jVxR85q5sPL1r4CVFFcDmzm5EnZDd6iBW/x6WJoxtrEweyxkUUbVyfZOloyRqWXbptnNCmdWnuVQQAAAIfkEBQoABgAsKQAUANICpwAACP8ADQgcSLCgwYMIEypcyLChw4cQI0qcSLGixYsYM2rcyLGjx48gQ4ocSbJkQ24mU6pcybKly5cwY8qcSbOmzZfbburcybOnz59AgwodSrSo0aNIkypdyrSp06dQo0qdSrWq1atYs2rdyrWr169ZUYIdS7as2bNo06pdy7at27dw48qdS7eu3bt48+rdy7ev37+AAwseTLiw4cOIEytezLix48eQI0ueTLmy5cuYM2vezLmz58+gQ4seTbq06dOoU6tezbq169ewY8ueTbu27du4c+vezbu379/AgwsfTry48ePIkytfzry58+fQo0ufTr269evYs2vfzr279+/gw4v/H0/+azN85dOrl7lovfv38OPLJ2ptvv37IcP9a4cOv///BzVjwCoGdIMNgAgiuAh6CTYY2DraOCjhhHC9IlAy/FCooXvGMLjhh+Kd0w43//wD4okopqjiiiy26OKLY+UE44w01mjjjTjmqOOOPPbo449ABinkkESq1k6RSBqZ5JJMahZhk1BGKSWK/ZEx5ZWXHWgAHFhg6WVkehjQRRcvdfPlmVwNguaabLbp5ptwxinnnHTWuRE7YZJJpp18tsWOAVbu2eega2lJ6KFqmYnooow26uijkEYq6aSUVmrppZhSeE6mnHbq6WKKfirqqKSWauqpqKaq6qqsxsmFASa2/yprSF/MaitIrxqw6a289urrTLn+KuywxI4UbLHIMrRrsswO9GqszUYr7bTUTltrtcwei+223Hbr7bfghitum8uOa+656K71CTahpnvbs6YZ6u5t1867qrb2nlovadKg0002+daGb2jmlBswqVYc/O5p5fSnsG0GPyxxW5VMbPHFGGes8cYcd+zxxyCHLPLIJG8UcckopxxwICo7OkfLjJ4x0JEwb3btyZrVUfNnwaoDGh9g7NwQzY3t69kZhRggxRyyCM0nImAsPRDATseZ9ECwIFP1nG8cRPXWkT1AGhRWXMEH2GinrfbaTXVtUNcOs+3mGZ78KTeWZrx8EDtPpku1wt2ABy744C19TfjhiCeu+OKMN+7445BHLrmU9U1u+eWYZ+4atJp37vnnoIcu+uikl55VGzqYrvrqrLfueoJ9vy777DZVTrtpAQEAIfkEBQoABgAsKQAUANICpwAACP8ADQgcSLCgwYMIEypcyLChw4cQI0qcSLGixYsYM2rcyLGjx48gQ4ocSbJkw24mU6pcybKly5cwY8qcSbOmzZfaburcybOnz59AgwodSrSo0aNIkypdyrSp06dQo0qdSrWq1atYs2rdyrWr169ZsYEdS7as2bNo06pdy7at27dw48qdS7eu3bt48+rdy7ev37+AAwseTLiw4cOIEytezLix48eQI0ueTLmy5cuYM2vezLmz58+gQ4seTbq06dOoU6tezbq169ewY8ueTbu27du4c+vezbu379/AgwsfTry48ePIkytfzry58+fQo0ufTr269evYs2vfzr279+/gw4v/H08ebKdw5dOrl9lsvfv38OPLJzptvv37IaXx63YOv///By1iQDIGXJMTgAgC2IwzCTYomDliOSjhhG89IhA2/VGo4XrxoLfhh+Pt186IIJZo4okopqjiiiy2ONaBLsYo44w01mjjjTjmqOOOPPbo449ABilkaigNaSSRRyappGbZLOnkk1BGKeWUVFZppULcXKnlllx290SXYIYp5ofLCITFmGjihQ02WRrQBRxpxlkXGQbAeaaceLaFjgF6GHBnnoAGKqh02wxq6KGIJqrooow26uijkEYq6aQaFkrppZhmqlibmnbq6aeghirqqKSWauqpYn5hgDqotioSF67G/wqSqgZYKuutuOYqE6269urrryPxCuywDNlK7LECqcoqssw26+yzz8IK7bHCTmvttdhmq+223HbLpbHehivuuGpN8g+n5N6mrGnopmubtO6aWm28osJLmjnncAMjvbLNG5o0e/Ir6hkCq3uaNP8UfBu4CjfcFiQORyzxxBRXbPHFGGes8cYcd+zxxxsxDPLIJPM7R8mJBoLyoWYMlPDKm0krsmYnw+wZrxl6VogVNjf0cmP2emYGHwZc8cYtPeNZyBlQvDHQvkl3SfRAsggTNZo1F2TN1ZNRQBoPZkiBCNdkl2322U1lTdDJ7aKtpRqiBOy2lGfUgRA6W6vlwtx890bt998t5Q344IQXbvjhiCeu+OKMN+54lFA/LvnklFeuWjuWZ6755px37vnnoIfO1R01iG766ainrnqCM6/u+usxNQn7aQEBACH5BAUKAAYALCkAFADSAqcAAAj/AA0IHEiwoMGDCBMqXMiwocOHECNKnEixosWLGDNq3Mixo8ePIEOKHEmyZENuJlOqXMmypcuXMGPKnEmzps2X227q3Mmzp8+fQIMKHUq0qNGjSJMqXcq0qdOnUKNKnUq1qtWrWLNq3cq1q9evWVGCHUu2rNmzaNOqXcu2rdu3cOPKnUu3rt27ePPq3cu3r9+/gAMLHky4sOHDiBMrXsy4sePHkCNLnky5suXLmDNr3sy5s+fPoEOLHk26tOnTqFOrXs26tevXsGPLnk27tu3buHPr3s27t+/fwIMLH068uPHjyJMrX868ufPn0KNLn069uvXr2LNr3869u/fv4MOL/x9P/mszfOXTq5e5aL379/Djyydqbb79+yHD/WuHDr///wc1Y8AqBnSDDYAIIrgIegk2GNg62jgo4YRwvSJQMvxQqKF7xjC44YfindMON//8A+KJKKao4oostujii2PlBOOMNNZo44045qjjjjz26OOPQAYp5JBEqtZOkUgameSSTGoWYZNQRikliuwYoMeUWF5WnwFddJHll5GRYQAcWLzUDZhocmVImmwyVmabcMYpJ4u8CPTEnHjydQ03VY7pZZ6A3iVWoIQWauihiCaq6KKMNuroo5BGKumklFZq6aWYNnlOppx26uljZ34q6qiklmrqqaimquqqrDbKhQEmtv8q60hfzGqrSK8asOmtvPbq6025/irssMSmFGyxyDq0a7LMFvRqrM1GK+201FZLUK3WNntsttx26+234IYr7rhwLkvuueimu9Yn2ISqLm7Pmnbgu7lhSy+r296Lqr2kSYNON9noW1u+oZljrsClWoHwbQSDVk5/C9t2cMQUt1VJxRhnrPHGHHfs8ccghyzyyCSXbPJGE5+s8soCB8Lyo3O83OgZAx0p82bYpqxZHTd/Fqw6oPEBRs+d8evZGYUYIMUcshBtKCJgLD1QwE7jmfRAsCBTNaBvHET11pE9QBoUVlzBB9hop6322k11bVDXELMd5xme9Ck3lmbEfBA7T6ZItcLdgAcu+OAtfU344YgnrvjijDfu+OOQRy65lFtObvnlmGeu+eacd+7556CHLvroLbahA+mop6766qwn2HfrsMduU+WylxYQACH5BAUKAAYALCkAFADSAqcAAAj/AA0IHEiwoMGDCBMqXMiwocOHECNKnEixosWLGDNq3Mixo8ePIEOKHEmyZMNuJlOqXMmypcuXMGPKnEmzps2X2m7q3Mmzp8+fQIMKHUq0qNGjSJMqXcq0qdOnUKNKnUq1qtWrWLNq3cq1q9evWbGBHUu2rNmzaNOqXcu2rdu3cOPKnUu3rt27ePPq3cu3r9+/gAMLHky4sOHDiBMrXsy4sePHkCNLnky5suXLmDNr3sy5s+fPoEOLHk26tOnTqFOrXs26tevXsGPLnk27tu3buHPr3s27t+/fwIMLH068uPHjyJMrX868ufPn0KNLn069uvXr2LNr3869u/fv4MOL/x9PHmyncOXTq5fZbL379/Djyyc6bb79+yGl8et2Dr///wctYkAyBlyTE4AIAtiMMwk2KJg5Yjko4YRvPSIQNv1RqOF68aC34Yfj7dfOiCCWaOKJKKao4oostjjWgS7GKOOMNNZo44045qjjjjz26OOPQAYpZGooDWkkkUcmqaRm2Szp5JNQRinllFRWuWIXL3Fj5ZZcdunll2CGKeaYZJZp5plssYPmmnGxgw6bcLqlZpx0pnVNnXjmqeeefPbp55+ABirooIQWKt82hiaq6KKHacnoo5BGKumklFZq6aWYZjrlFwaoo+mnIHEB6qgecWoAoqSmquqqL5nK6quwxv/6kauy1qoQqrbmagCnnurq66/ABmurqMLWSmuxyCar7LLMNuvss1HiCu201FZ71iT/OGrtbbyapu22thELrqXHjiupuKSZcw43MJobW7mhSfOmu5KeQa9t8IImzT/32iZtvwCzBUnABBds8MEIJ6zwwgw37PDDEEcs8UL/TmzxxeDOgXGegWxcpxkD8euxZsRWvJnGI3fmaoaeFWJFygndaUA7j6HrmRl8GHDFG7fAfGYhZ0DxxkDt+uxlzgPJIozRY6JckDVMS0YBaTyYIQUiUWet9dZcI+U0QRp/2zWXaogy79hRnlEHQuhArZYLaMct99x0m+R23XjnrffefPc47fffgAcu+OA/Fk344YgnrnhpIi/u+OOQRy755JRXbjlUd9Rw+eacd+755/eZDPropL/UZOmmBQQAIfkEBQoABgAsKQAUANICpwAACP8ADQgcSLCgwYMIEypcyLChw4cQI0qcSLGixYsYM2rcyLGjx48gQ4ocSbJkQ24mU6pcybKly5cwY8qcSbOmzZfbburcybOnz59AgwodSrSo0aNIkypdyrSp06dQo0qdSrWq1atYs2rdyrWr169ZUYIdS7as2bNo06pdy7at27dw48qdS7eu3bt48+rdy7ev37+AAwseTLiw4cOIEytezLix48eQI0ueTLmy5cuYM2vezLmz58+gQ4seTbq06dOoU6tezbq169ewY8ueTbu27du4c+vezbu379/AgwsfTry48ePIkytfzry58+fQo0ufTr269evYs2vfzr279+/gw4v/H0/+azN85dOrl7lovfv38OPLJ2ptvv37IcP9a4cOv///BzVjwCoGdIMNgAgiuAh6CTYY2DraOCjhhHC9IlAy/FCooXvGMLjhh+Kd0w43//wD4okopqjiiiy26OKLY+UE44w01mjjjTjmqOOOPPbo449ABinkkESq1k6RSBqZ5JJMahZhk1BGKeWUVFZp5ZUsYvFSN1h26eWXYIYp5phklmnmmWimyZZYarb5FjrsuCmnWwfOaWdaMt6p55589unnn4AGKuighBZq6KHwnYPooow2ehiXjkYq6aSUVmrppZhmqummVXJhgImchvrRF6KW6pGnBihq6qqstvoSqq7G/yrrrB/BSuutCqmK664GeAoqr8AGK+ywt5JK7K22Hqvsssw26+yz0EY7pa7SVmvttWd9gg2k2N7mq2l1dnubseJimmy5lJJLmjTodJMNurSdG5o51MIbqRX22iYvaOX0l29t9f4r8FqVDGzwwQgnrPDCDDfs8MMQRyzxxBQvFHDFSamjDjccd+wxxmFqLPJ+JZZs8smQalxuIH1qzM021jzzjDDS4FLLzceAcownojzTrjrwznGnyCKjY4005gRziy++RONKNKfoUkwsrByzzjXddOMvtmcMdKSbGrfTjsZGmyPNOLfs44s+rtwzjNSx5GI11lqPZ+zFmtUBaDoGbP/Tz9/lBF6ONIMjLQ076BA9HqxAf8YHGHsSrc4/jU9OMn8ltrOfOmKrPFU1Av3KmLqenVGIAVLMIcufGqfjusewe14uImCkPtC7IKt5+kCwIJO7m28chPvvlz1AGhRWXMEH8cw37/zzbQVvUPBbQ2/mGZ7Eaf2XZgh9EDtPprXC9uSXb/75TQ2P/vrst+/++/AzdvI/ecYPpTDC4IIKKcKUaH+T6tgGKcRAB0PcYQpcyIbo/lekf0xDDLgoETJAkIZ/hI+B0anPUrrxD1SkgUQdBMEd6IfBInFQEXd4Bi5AoYQvLLCEQvrHIAYBCkL0YIRZg+GQODiNO/TPAG0Qwj9kuGWYr+mQMhzExSC2QaIvCPEfbDoikBqRiAj9QwlMyEYCGyfFHm0DF6TwBCk+1QgmcCERRuxijyxnIn78IxvPeKEagzS5+s3xjuJpgw7wyMc++vGPgPzTBQNJyEJ6RYOGnE1AAAAh+QQFCgAGACwpABQA0gKnAAAI/wANCBxIsKDBgwgTKlzIsKHDhxAjSpxIsaLFixgzatzIsaPHjyBDihxJsmTDbiZTqlzJsqXLlzBjypxJs6bNl9pu6tzJs6fPn0CDCh1KtKjRo0iTKl3KtKnTp1CjSp1KtarVq1izat3KtavXr1mxgTWKZ6zZs2jTql3Ltq3bt3Djyp1Lt67du3jz6t3Lt6/fv4ADCx5MuLDhw4gTK17MuLHjx5AjS55MubLly5gza97MubPnz6BDix5NurTp06hTq17NurXr17Bjy55Nu7bt27hz697Nu7fv38CDCx9OvLjx48iTK1/OvLnz59CjS59Ovbr169iza9/Ovbv37+DDi/8fT768+Yydwp1fz15ms/bw48ufT5/otPr484eUxq/bOf0ABnjQIgYkY8A1OQmooIDNOLPgg4SZIxaEFFYY1yMCYfOfhRy2F496HYZYXn/tlCjiiSimqOKKLLbo4otjJQjjjDTWaOONOOao44489ujjj0AGKeSQRK6GUpFIGpnkkkxylk2TUEYpZYroGEDGlFhmNiEcWGTp5WR6GNBFFy9x8+WZXA2C5pqOPcHmm3DG2eIyAnUp5519YYONmWLCgeeferED6KB5CUrooYgmquiijDbq6KOQRirppJRWaumlmGYq2zaadurpp5HxCeqopJZq6qmopqrqqqy22ugXBqj/4+qsJHFB660iwWoAp7j26uuvN+kK7LDEFpuSsMYm6xCvyjZbEKyyOivttNRWa21Btl7rLLLaduvtt+CGK+645L7JbLnopqtuW5P8I+q6uUGL2rvw4pZtva1yi2+q95pmzjncyLgvbfqOJk2VA6d6RsLxpibNPwzndm7EFMMFScUYZ6zxxhx37PHHIIcs8sgkl2zyRhOfHJM66nDj8ssvbyPzzDTXbDPNKgfJ8s7/tPPPz0AHLfTQEEM88hxndoOSNtY884ww0uCCSy21kHKMJ56IkrUoWnPd9ddbh821QO1EHAiWLKeTjtLpWCPNMePc4osv0bgyzDC6FBNLLLmw/9L3334HDvjgfldsxkBGN7mzOkqjY4050sS9jy/6uHIP3sUUk8vmnHfu+eecx5dtyp0hfebOBrBjTT/9lOO669LEDrk0kNdO++22126AObvTbo0BR5on7IagFWKFl4ur07OsyvfsM9FEGxC0QEUnXjZX1z/WL2hm8GHAFW/csmbaasNsPjrop6/++uynH3EhZ0DxxkAC5zyo9wPJIoz9ippe0O/82wwFTMMDM0gBEQFMoAIXyEC6+I8gSKNXA/GkBlEgbIJsOkMdEOK4trggO+ogHQbfpDzp1W+ESQJaNyQ4EJT8QwcUmIa7UNgVABYHYs9ABjJ+JkLp6aADPbAALv8SR0MiIYMUnjDEHdrgiX9EiyDb+McgTBArJRChHScsoo+QIYz7/EwYX0gDQrgRxX9oQ4Va1Jk2ZAgxmf0sjP84VxStkQQu/CwNtWgjztK4o2gpL4TSSwIunhirbGwAAADQARdAoA1C0o+PfbQGLrKhjmz8ow1tMECCzngHGEzjGS5ggDAgZo1BKEKJg0AFJHf0D0VwIRHtiKIn7HguLyrCBKgw4z+ewYQEgGAKRACBDFaZI3Ukggt3iOM/ZhlHgpwxDRsAxc92ZQBcAMAQBmhHLQDABAM8iZjbyeJKurFLUNwnindIQzMF8kwQjBIZ0vzdFBjAK0UA4AvZA6eL/qH4NKBxg5xKIAU/BRLFLzygjDVQwj/ukwIKoKIRd8DADoCnzxdt44z83AY37viFGe5Kig6AAQVggAEKWANi3HBACL7QAwBMwQAsrGiKdLjRn02jDVwg55HMVINEGEAJDOjAEHMCCgAoQno9eEA+ZdoiYYACFI0YRBrURETgbbSMPyOjAbjAAGvkRAUPQBxTW/SPbAijFrg4I0JCyFaZqWMayMjAA6aREwpgQBs9mAbxxqqi5jmxhwb5By6CAAMY2NEAaeiADtQJWL7qqIQD2RAyHJukiyYohEZzJGWRpDSG3aEGmw2taEdL2tJSq7GmTa1q4fLN1fImIAAAIfkEBQoABgAsGwBBAH4CdwAACP8ADQgcSLCgwYMIEypcyLBhwhoyHEqcSLGixYsYM2rcyLGjx48gQ4ocSbKkyZMoOa5IybKly5cwY8qcSbOmzZs4c+rcybOnz59Agwod6jEb0aNIkypdyrSp05EtDGh7SrWq1atYs2r1+GCr169gw4odO9Qo2bNo06pdy5Zg1Klt48qdS7eu3bt48+rdixXGW76AAwse3NYv4cOIE4+FUdewXmuKI0ueTLmy5cuY6/6z1i6z58+gQ7uVGriAgAIGBIhezTp0V8WnW8uenfkv0jgCcVvUnZD3QNO0gwufbJaouuPHLSJPbvDfv+HQo0v32o2EQNXTs2uPy9hA8bvPt4v/H5+2+9505NO3Ni+XvV5h6uPLny+Smzr6+PMj/a6/v3+W6FDG338EFpjdawYmqGB6Ay7o4IOh2QbhhBRWaOGFGCZlGFwZdujhXY59KCKG7hUW1YgopqjiiixaKGGLMMa41Isy1mjjjTjmmBiNOvboo0sN/ijkkEQWaWRPJR6p5JINJcnkk4g5qZaUUFZp5ZVYPhlkllz6uGWXYIYp5pgUfknmmWimqeaabKYZIncntikniXHOaWdTVKKV55189umnmm+aSNqfhPrHY6GIJqrookMdyuij0pkJ6aSUVkrhnmRhaummmGnK6acVeRqWqKCWauqpwpH6VXeSouoqXggK/9Tqq7TeVWetuA42a668trVrr5+q6pWwwG5KrFaBFtsrh2wlqyytx2YV7bPUUrucQO1k25kB2VbL07RXbfgjN+h5+5+jLXbTDbnPqWsufbF6d+Nx6KDjXC3S/BPgu/mhq2K9ApkDyyn7nKNuN/zm9yuG9WYrjSjRDEMwP9ekU27CNzk75a0sAmxAOcfo40rEE2uDzjYop6zyyixvg3FI4FoVs3/LZWtxtuXU4osvrugzjMT78OPc0EQ/F97LL2WDcGEsMndcP8iMc8s+vohMsj6eiKJ11ltrLQrXX3sNtkCiGOCJAWWfnfbaZrN9tgH7Io3XwgkeZ7FA6FhjjjRS7/9s9TC6FBNLLKzkUvjhhieO+OKKN87444obEIzclBN0XLbqtrONNOYEM87O0YwcjS66xJLL6ainrvrqqHNkjrLLMVfQzFSx2qI6/7BTzjiy+D2yxPqUw/nww+9tfPHFG2D8Rs8YcF+t/Ag4InPZ1otwP9JQ3TPJQWdb9NAGEC2Qc5QdXXlB4fn7YToBnlOOOX9PfE299Ndv//31n18QIJIYwD8gBPlfK7BhAHacw1aDilG9rsEPkN0DeOqoWDrcpb+T2IEcfKGbhWyGDm78o3MEM0A37HaxCm4EDghRRTUgww3aPcWFCeoWt9oxQeeUYx1wu5YJS1INuAkEhnjiWIz/KOixpe2wI+wYSBKTGBiN3chjR+zINQxwjikaYIpVFIwGMyQ75z0vimAMI9PoIi4xmtEmWzyjGjuSxjW60SLqI5LLCDLHN0amjTGa4z9I4QlUCIRZdkwIEJkyyAptQxuAdN42nDMFE8CgBilIQRuoGMiFFFIpTqyRuopmxG78oxspqAEqwuOJFOzgk5UUzCUdtMh/3EEIYnjGKAeijX/AIAl/nIY2OiMDIiQwlYDB44Wes4MSDGIHCSjBP1xWyzukoB3ZyIbRpGkAEJBimcDM5iKJsIFp/EMYADilUaS5gzb8Q5q4uIM3p2GAKUwBmhQhBBi7w07uyCpHi/SEBcTQ/45/GAIAdPgHXP5RA1Kow2UdAIAO5DWIHvxSIh2oQTbHIkwK1ZILGbjmP5IAAFxgM3wFfc45LAAAEzC0B+pIpEEA+Q9cTDQscUwRwoSQAmsssgMWEKFAFrkDeU6FFFPwKGS4oISHvpQuMUWRB5NQA+fgAgA96AZcFpmGiFiDGwPZBlZLoAgDYPWoCFQpjDxoCBA0QhEJNWcdPWmCLwjEGtOAjAGEsAPNgdUAq0RKJsdqgDv0YAoySIBHjehBZIAgCXI1gDB2YALzHTWvR9kri5zjQeeYIKdG3KkBrEGEEuygBzsIARMEktm7zgWyBKJqD57hTwBwQaAGWaRiB3GHRE4wY1um1UtFJ/QPJhhTDBkggmMLQs3xiTW3c9kthP7xjESkIQ3XbEjKkDsQ1A7FugQq2nGpO5ikomhdKCstd8dL3vKa97zonYhk01vJgAAAIfkEBQoABgAsFwATAOsCqgAACP8ADQgcSLCgwYMIEypcyLChw4cQI0pMaMgatokYM2rcyLGjx48gQ4ocSbKkyZMoU6pcSTIPy5cwY8qcSbOmzZs4c+rcyROmi54h250DSrSo0aNIkypdyvTmv6YduR2UOvAp1KtYs2rdyrWr169gw4odS7as2bMCraGlyW+t27dw48qdC1Ed3YWOqt3dy7ev379aX6BNd9FgnKPkACtezDjsKrWMd/C1S7BtRhqNM2vefJfd4m3tDLQLPRcbZdEak3mmyrm169ewY8u0LPBcunTdOPJDJ7u379/Ag0tUR/y0AeLCkytfzry58+fQo9Pkdo239OvYs2vfzr279+/gw4v/H0++PFjj5tOj1aa+PdZBFjK4n0+/fvdB9vPr38+/v///AAYo4IAE2mdVgV1tU14KpCHoIEZMHPjghBRWaGFwlE1z4Yb5EWGAIg1yKOKIJA5HUIQlApWNARqm6KJ3U6D3Ik4tFqTgjDg2p04SH4aYI00cGACKAUIYcOOP4nWTG4I+osVaeUEYiaR4t/EnI0HZXOkWKQKl810jU4JX3GmhoWEHIGeiYQAyTYYJlITZsUeQJ0S62Z2SBHHDzVBwCLSLnYAetKJAG3inJaBDSXXEMm3ad6hZFsCpXY10Bmpebk8swwx/jb7FpXYSFipQlN516mZuRwj0qKUvymlAoUOS/7odg/XR+Y1A7NS4jAHfkCaOOMpsQg44AokTlQFP7Aciqys5wEE7YDILWDK0CXTrQPlk0w8t/NBGDi8GSBpRqvq1M6i06M51zlAr2dKLAcmsc1A+DFlX4lPiujXkd6KidNto6R6VzEGHbmKAOJAFzFWkIyKnMFHIGEAMMtXai9A2nBhAL0fd6LFoYZkl8syqI/2TsHspfAocnhSG8087Fo81MDEKJWaAzQLxs0koBmCDjC23VvuQqeWFRvTDSJMEclnsPCOxkAfhbAAtodhsiwF6eQSIMuDlK5o2XqPF5Q5hJw3SIQIt3Ri7Zv3DHrEGsJbPbgUJjdC5D6mSc3h3HP9kzdFmL+fKQNcAniLAeQ4U2rqIG9AN2x2pY7h0/3g4EOSBZ+R0YxajXXbmoIeuWD8GXHKP6KjrWEuYyaid+utJ6QBDUcxMbqE/t8Cue1Ip8EQyc3bZjlI3vJ2DTsy7J88T3jNShrny0Ecv/fQuqoCkkiyT2Dj13TnA/ffghy8+Ss+Pb5b15tspfIE1fL4c8+mHl338zcmAPv3incPP9vgrZ78Bruqfi14mwLH8L4AFTKACF8jABq6kHdtYkgOzs74J+sV6RypgLmJBEGAIhHQWTKD3QmiQcYyjHfMjYf8w2BQ5CMSFE4FhQuRwmOxUghUHMeE/rqFCByKwNkRZlxD/JyLEdRHsd9I5YQ+XqED3MXF8MhDID83nh1w8kYRRXKASK3hF6mWxf7zpRmgkqDwudvGMoTMjGtfIRly18Y37GY2eCNIO18FRISO8o52IY50n6fGPoLMbIBtyv0EaMnDwO6Qi5RKCxvxvkZCU1gEjSUlAPbKSmLRTIjPJSRIVspOgLNEnQ0nKUprylFcZJSpXaZZbQEJVrIylgCpRlk3K8pb0+SIud6kVPvBhIJk4w3EyqJUs2pKXyEyKL8Wiy2Q68yhqKMgbKhHNsRzzmdiEiR/mAAuGeCmb4IzOJxLiBwOYo3zhTGdvnAERNarznXwJRjcPIkx42lN317ynPkHy/4lATAIt+dynQDmSCT8I8xOiOMZTpgiVSw70oSVhAC0NcAw/FtN6DIWoRjsy0a80c6Mg/QgiRGPRrQQ0pCglyETBMJBjMFOVKQWdO/kSCIFYYYTjGAtMY5q5L/CEC2LI41LOIAo3npSnSNVKJkZakHrywY5Z2WlSp0rVqsqFD+Zwy1Gt+tBgXMEsH+VqUoMBBbAKZKtiTetSjKlWq85hDpUIRklN2ta6diWsdk2qNNDRDbTyRKh55eo5wSLVwILUCoZN7FXKgTzFOlY7bH0sPMfhhYV01CsOlaw6PzEOlxqgDwIJBlgxqll1jrQSHfXBPHNXT7BEtrThrAMiKpE7A//4QBoGYcc11OFXo/SWQg5jXDvGRBwjwvZHmQWUw46bmdyJwS2FxRHApPKP5TK3L2YwgCxa6odATBQXjuMKYAE1P5eGxrrXpUs9ReuFf46TIOjESnRLhBzPYGMcmTiEPtDBjTGl978hYUdugpGJXOSCEvtFDYDvUoeC0OGfVhDmP11LWiSxwy7jqMQGgXFgfeyQmAveyy8JQohwefRFxl3X8Z4yDkjkghUbNDCCnRhir2gjRLUdCBO2K5CaGqCxWHktiVSMjtEcIxOxgPEGY2FgXURDIHQSRaUG4gkpG6DKVzaAlak8p6JOGctg9nJRayyT1g7kDQaAxBzOMIc7jub/eIXDr4ENHAsm54Iec4YxTazoWTK/RJ5z+e1/3oyOOPsCz0uOsaKtaJM+w7E4RTQuc2TxXgM4gxAjNuCLxlRkbHDDH4emc51lbE4DSMMcp5aJWsiIRms8bhvngLU2zjFrfsRXNrJw6T8TUdRo8oGlcFyXdbGBDVAj2s4zNvF2ZrpKaSQ0y2qwAiLOIIU58JgrpJmvhYijJHRsAxvtMEeom6yPub5TEoCQxEDQrW7o4LYgiMiuTgHFDnAb+8A/Rs1oiGscflvX3/32N/1oBSBUCAQRx1gdRdGMZnnDImKL5E11xuELXZR7J+j1M0g8YxCFG6AQPDBIRpki5OYV5zb8/0UhbovHLv8eMeOqKg5CXL4SANjJBDQmCTf4KhxElJMgULACGDKNWW3nCE/YG+hFlt6zpi9nwnCZ5C7NjTp2WR2IzlEDH9pMSkkbwOtkGQoyqB5iNAvkCsBGM5CzImiNX4XV6UJzNZvqCY5zJbluXwvcpWXm3I487yHux5QBT/i68MXohT8kEpF568QfJefMPCu6tLHJxjteIpZPCbDPgnc3/YPscTOADi7vFSmspeSBSkMP1uRxKRXEGiAmPU+mAfmC4GLxXVTQNkBggb4lpPayh8pPvu6Vtm/IBAk4qTAGcjKJ9K31con9Pb9akLUHmVnsGQQAUKSQf2S+ITYXCP8IWBT8l2y+ILVoR/MBuaIaAAAUpkIF7iXC7PJLpB+UQYXJvIL4FP2jAwzAGhTwFGR0B8Bnf0iBC93AHnsHFf1HIgoSAhYQGgrXJDXwESaAEA2IgCcRGgcIFA84IgqSBgCQCIZgAVPBgf0hdYCyDf8gBiYgBL2DEMunBDUCcRExeAbgAB+oghJRSPWXE51HR+WRBiyRMCEwgAbBGhnYEdLngyehf5pmAFv1dwjSAxQgEPgheQyxORuRAcaHFGH4TuqgFvzjFr5nAOtHIQrSAQCQBlPAAEFANMNFGmMIhSwxf9OzhiOBDGIwBVywL3g4FnqoFHg1iG7HQpaiDewBeohbyBRW+IjXVQtuE4RaEYmSqELW8E2Z6Hbd4IidqFigIBhyAQMtQB+YGIp90Q3sIBiUGC6FCD13qIprwQIG8IpxMTulZAiFd4rpBxjW8H20uECWeFyjZwCyAmABAQAh+QQFCgAGACwXABMA6wKqAAAI/wANCBxIsKDBgwgTKlzIsKHDhxAjSkw4CJu2iRgzatzIsaPHjyBDihxJsqTJkyhTqlzJsqXLlzBjypxJs6bNmzhzquSms6dPhdjU/RxKtKjRo0iTKp24balTmN0OtiMo9KnVq1izat3KtavXr2DDih1LtqzZs2jTql3Ltq1blufeyp1Lt67dtDzvap1q8IKbakQB6x1MuLBWR/3s/tO7+CMJw5AjS16LbrLlhM948r3MubPnz6CJnmscurTp06hTq17NurXr17Bjy55Nu7bt27hz697Nu7fv38CDCx/+My7x42ObIl9+lBAGDMyjS5/O+g7169iza9/Ovbv37+DDi/8fT17ixd8mSJdfv3DKZvbw48ufb9e4Nfr4hScxYEh9/v8ABmiAcQK5JyBO5x2ooGxM+LegTPcZlOCDFH7mYIUwbWCAJwPlhWFu3Hj4YVJRESfiiLSdQ6B0KxpkTYtqgSJQVbRFuCGKtqnYzmaL3QGIHT/aYYAwF+Jo03u8BYFbCkgKuCNB6KBDjgFkCKSKkUZedB8HBSlnG40jChXXE7zwox2MZ2HQZI27gYnlQHEdoYxg0xWZloy1rWmAEG/2do0BTwikZ5//eUkQn4TuFid1/SVq0gMb2IljM/jwFmidNjqqqUmL0KSOm5uuNNWgZpGyG5cpfRplqKwKpyZ96aT/s12mv3EDyBOcSErXINOgeVI7ExJnAiqtFguRr8ItpquxzD7UjAGrGFAibmQssxup1pBalow9TNtsSJQI9Kdei1Q6kJm27SIQsrMRcpA2y3472TrBGpDJQNh4K+9H/8QrG1+KTAXqvgxNY5isA4WrbVuvCJQMugRH/OY6BlBij6ALq2WMuRJ3TNA/uFSITTKFndMON/16DF4NMgz1jL/wmePLQPb44g82Kucc0wo6sdvaVJXdxE1U7aQjFDft/HMNwjo33VK9AJaor9NUj2ho1VgXBfVpLTy445P5dTN11rE9QPbZaKeN4dTbDKw2bF2/LffcK21NN22fin03ajDE/733bSe37fbfnfVtwNWE55Rx4me1XJfhiNOVDY6LM2755ZhjZLd3/2Sb+WxBf35Z15vXJUABAhhQgG25CESx6HOb/RnquO1jDk9Mwy436YTJUdDprvnR+kH+sIPzS5XrXtDY401uEMR0h95SD4Mrb/1K6dAg0OrXM4dF0zAI5PxgyYeWCSvdYx4+ZCfGVry06UPEi0CXnuY4XetDFjJscanDU/sRqx5LrsENdggEDl2IH1ba4TMFnoV5MgGgAycYMelR8ILIyZu3/iFBDB5Edh7EkIrycrwQmtBYDTyhQfymwhaGqnQujGFZRlAYw8nwhkaCHA532Jb7zcWGPAxihf9gKEQKpfBzLCyiEvOTxCXiCIJOjKIUh9PEKVrRLLCoxLquyMXv3EssROyiGImTvzGaUStv+KIBKmEGA8DMKOsL4xnHwwU3bseHDnkDIsBSxjn+5wvyOUNB+CAQaaCjg1aRox/BU8cBiQcSargFQt4wEAsu8pK00SImXdjI8MgCIpbcpChTIwtnIEQNo7xgJzGoyFRu54jbgQUfNEmWVrqSOnV8Y3BkoAKHIEKNfKziLYfpGh0S85gfweNDJmGAUFqlj8gEDyADRMh/OPMqtozmcVaZHRmwYCFflAJZgKjNpkFxMoQ8izDL2TFu1uQLXwAhO+cZn0oEwgDpFEgdxLL/Tnr6kyOz5AEfsIHIf6YNltlBxDEGMjNUhiWbBh2mMhEyDnHay6FegWZENwoRWVwBCq4YyCfKR5Q4chSXdtTORBWyhjrs8ysmPal0pkkfcxjgnmOBqExt487rrFQhZ5jDJ6TBk/FhRaM7PQ5N5YMJLV7BK/JMqnR6up5ClKWfUt3pHwpyBkNm9WxUFU8mgmEAWMCCINLQ5VcJhlDg/FSkBoCCAT6RCYxmVCA6XasZJxoMSqqFnHqdp8EGcotgBMMXezyLMQMbTWUSMhOfOMgn2whTvDI2ooEIRGTBkJBDdiOvPQHtZa341r9idbTaDIZNrVAOTwTjk/xEbUQFeQtp/4hiCtLIJ5y0EtXlaGMb27iIaGVrG8oKRA2E+IQWz4AIXPSDpEQ5rW5Q1q/qpoy42JGFHwQiCtjitKAEU8c2OscFGZhADNkYxMtKck0htvU33jzIHAbihx1AAhIGge5PFuubf4wXFSkYwSAUkQEKAOAO/h3JVI6RiVjkYnjYNUxpE5KHyhIHZDAwwcv+oQgAAKAR4h0Jgw0A4Qh/5qxrNMAIrOCJSsxXIMEooVZiCpx/MAEEg/jHNP6BCgA8gB8CjEgJHxwLgZTYxJZ56VwNoIOCBIIPomjvvsbriRXsYBrqyMY/xAAAGPxjuARJbJEH4uCB5IIVZ04zmtes5jaz+f/Nbo7zm5F8FFnA1gB2LQuYTTNeMZiAC/6F1w4AAGijSuRTBLEpQXLh4DELcZrvlcjXUvNTWIhiIKL4xHbFgtTeMCEFOb7IPywAAE+0I3IPUdFADGjAgtBjeMUwgDQMYA5p1PrWts41rnet617z+te6HkiQm9XJYWvuHPxAtrKTzWzVGHYg7jKAIMmm4yTIgBRf5nECHJANY0ta0VIxgH5Bo1bTLHU8xzjGpRfKhDMUQg1XeAMsaGWVxkj3NkzQAZF2zOUWJNgjX5sKO8ZVkHCVe5GAkETCF24AhUuCE2YKymlqUZA56NZghr7KvWmDMjG0ABf9AsUDCG2APRNEbwP/AbdBUI7D9LwEEHT6jKkM4IdgzNoAtVDDG+ZrBYsagB0Zl9g/hLGDIIDiCyBgQAIU8eWUyLiZBk3gQTZBDgM+vTA+dOalDTAHuT51IPR+Co19Ay9hcCEIUzCEAxyA5ZaMO33yTIG3RRJxbkR6LW/1g24H4vOuALY33bBuvwYBABX8myVvv2SrV72ayCLECgYAgxZnvhX+7ibwqCDWNnZMBAB8oel0xgjBxfWaNxSCki8eyL0Onqj/JoEIyAi5AzCwXtmgOvQTKQRnC5L40PqGyj1gwjOecQcMdADbt3fi3OdTWlSm/iDMqPzGZePfQXBhCknYwRfgBV4nJn9EkO8M/89QM5VpWKO6bcM9ccqBp4MomWxNQbTJ1Z+aeMVgLNOnvxUXV4d7zgEV/TB/VxF0+mdC95MxPmAAiXVXJVeA8bN8EzFhB4FTGZV/DihKzzdjlrUvg3WBXqENC1MHfyBIZvAJpFELrHdCAjgZKRhFxlUQEPgTK4hMd7dEjhNGdQAGmdB9StFpHhhNqAB65fR9P3gUxoELn8UVFjgcYVeEtxEOfFEL7XAfvWcTS+iEXUQai1GFN3GFWNhCEqhYXUOED6ICAPCFZRGGApECH1OBDNGCqdEGMsGFaLgVSBgWY8cQBHhLM3hJSchyakEHA7GHdShEcEgUfbgahFiIoKGGgm3CaeLDiJK4EbwziSbUBk3WEU0IFotoiUqEC1l2iEdBiJvoiTEEL2nRiaYYQry0EGBzVasoRcfQS2zRigiRiLFIN9vADV2DCwJTg7l4gTwDirWIEKUYQorgiTwThHfRbcF4Q6J4gTsgEIjihAEBACH5BAUKAAYALBwAFADfAqcAAAj/AA0IHEiwoMGDCBMqXMiwocOHECNKnEixosWLGDNq3Mixo8ePIEOKHEmypMZuJlOqXMmypcuXMGPKnEmzps2bBbXh3Mmzp8+fQIMKHUq0qNGjSJMqXcq0qdOnUC1mi0q1qtWrWLNq3cq1q9evYMOKfYptrNmzaNOqXcu2rdu3cOPKnUu3rt27ePPq3cu3r9+/gAMLHky4sOHDiBMrXhzyGjdujCNLnky5suXLmDNr3sy5s+fPoEOLHk26tOnTqFOrXs26tevXsGPLnk27tm2G7W7r3s27t+/fwIMLH068uPHjyJNbtqa8ufPn0KNrbUfEgKF/0mMGyc7dLfbuK4WA/x9PXvG08ujTF95WENRlE9/Vy/993qDOxbkHnpvPH3gjyvn1J2BvHGyG0oAIzlagJ+/Fl+CDsDGYXifhQGjhhV41g+GGHHbo4Yec1QfiiIG1E6Bt0vDTzX4ktujiTIsYkIwB19z3okwO3ohhM87o6GNq5pT142riXTckh48IhA2LRzaZGjY5ohVPhU5WaaVEKpp44pWM6QADlw7pMo457IDZZApmLoTOmtocmOabcMY5pI1j0SnnnRRNpZcKBrCH558vOgDooFXaSehckBXEDZOHtsWnn41GipYOW0qapomWgiXDo5n2hU066DDaaVebjrqSm6bGVmqqJqHK6quwyv+nJ2vtbONqrLg+xymYseSSK0Fl6tGfoJGiw406rDJnQBddCLgrnPsYUGlKt2JIhgFwYPFSoq8ZyqU/kHG70g5RXmjIr89Niy5/Mgjk7brwBtduvPQaN2+9+Oar775Wvcvvv90C3GSZwwrM5TUW+mvwwqQ9y/DDEEcssUSlQjrxxZutivHGmmnM8ccgh5yRxXE6LPLJh5mMMm/iruzyy0mpDPPMeylM880457zhvTr37FHLSvHs82tfGIAsnkIP3RoXuvnxhjkqKg1m0X3SxkdWNkutdUFXS4NOVVlv/RnVYpdtdkZhn60Z2Wq3vRXJbsfdVNFHy2aFAaJ84rUByjL/5bHcWzuQiUDBlJvU34CbbThSSSfeGdOOR64U27QFU1XFkvtsBgMCmWOVzJnfbIYsAn3dd+iozxQIQWoI9MbiSIGe+suZ+CHFG9x8HVXasycGt2ufGHBG78Tf5MvwVDVe/MpXYDLQJLAbpfzyi9FN2xiYtJ489ZZBPps/BrxRxySyRM99epTLpkYdohyDHe8/zQv/+X15H9sfsBggRefncDM/TsQayP/op5f0uWZ1BNkbVPhEQJHVwSDmEJVTBtjAuxhQNb64hQFmoUGtULCCePndaSphgCsYoBKVeODlQPgySCSPgSyUGCwC8QeBkA4riIshxLIgIRzqcGK+MIMB/3jguR8asS6YO6LBZLGOL0jhGcE4RvCuIjsl4sscifCC6/JngFoYrSkBdNdoZmVFxVRoCp+YhEDMkIlasKNuTqniZURYRsPcwoUG+ITlDDAHgVSLKR80zDl0Mo0kgKADX9AGIZihLp/RsTRi2B8h9PfASZqPKDnMTDt04gkGOOAOhrBAHRfzhoKosZFHmR5m2EOKBDAAGaNUTPBAoAZRQKKUfRQFKqU3mg4AIA0GeEYsEaNGHmgREXwQoh9kAbSmBHIwOkkDABwgTJIMbphi0eKcDJACALSLjB8ZB0Fy0ate0cNXscAX5B55Jfl1Rh3aoAAAvqAOcHYkN+0o4kEoYf8Az0nDHP8MKEAHKtCCEvSgBk0oQQfyxwuRTYKmweMeDVCIu13lmYMRBgMScC49ASAkBAMfQrBzyVHZjzU9NIAZriaQW1STKfmRY2S6gR0HJAAX7RBm0VzwkW6gxBpCwiZY1FAI5AXTABitiUwjwx4XAIAUuWkE54RaGFLMQQ0shYIBZCEMdJzOmZ1hDyoSkAFFKOEBCfjotqgKFWkkoiD7295n1MEcVNRgBD0YRALORoHb8ECIiHhhadRxB266pKFsbQoYDGCFwaECKpnEzCAG8Q9rCFMHAtllYvFSiIKQUHdQSapfdHIHACTAiwZQBAAeMA04IgaiFezjHMwABSH/8tEAzbTQVLgAAAoIAxlfmOYXN4uYWqJDREtJYmZQ8owddKAEHbAAE6RF3L+AQXsI8eruLsJTwPwDO8+YhmarmxejYs0z2lDHdw1gT/L+xQdYWap7WXWGwKrBjcgFK0W+Ot87xcAAzpNrf39lUYIEVrADzpUJD4Jdp6gywazCBBgeCIZbBDW0Pxwvv2pIEBhCmHqLXaMZDhwVd34YVgveimhP/CZraNgo8hXNilkMFahRsWo0hhVs44jjHNMvsj4mHpCzU9IgI+bBRibejJPM5CbHy8ROJl6MozyiO9TALUumcs+yrOWccbnLM/MwmM/HzsXwd8yOOzOakdPeNXsoAiAAACH5BAUKAAYALCkAFADSAqcAAAj/AA0IHEiwoMGDCBMqXMiwocOHECNKnEixosWLGDNq3Mixo8ePIEOKHEmyZENuJlOqXMmypcuXMGPKnEmzps2X227q3Mmzp8+fQIMKHUq0qNGjSJMqXcq0qdOnUKNKnUq1qtWrWLNq3cq1q9evWVGCHUu2rNmzaNOqXcu2rdu3cOPKnUu3rt27ePPq3cu3r9+/gAMLHky4sOHDiBMrXsy4sePHkCNLnky5suXLmDNr3sy5s+fPoEOLHk26tOnTqFOrXs26tevXsGPLnk27tu3buHPr3s27t+/fwIMLH068uPHjyJMrX868ufPn0KNLn069uvXr2LNr3869u/fv4MOL/x9P/mszfOXTq5e5aL379/Djyydqbb79+yHD/WuHDr///wc1Y8AqBnSDDYAIIrgIegk2GNg62jgo4YRwvSJQMvxQqKF7xjC44YfindMON//8A+KJKKao4oostujii2PlBOOMNNZo44045qjjjjz26OOPQAYp5JBEqtZOkUgameSSTGoWYZNQRikliv2RMeWVlx1oABxYYOllZHoY0EUXL3Xz5ZlcDYLmmmy26eabcMYp55x01rkRO2GSSaadfLbFjgFW7tnnoGtpSeihapmJ6KKMNuroo5BGKumklFZq6aWYUnhOppx26uliin4q6qiklmrqqaimquqqrMbJhQEmtv8qa0hfzGorSK8asOmtvPbq60y5/irssMSOFGyxyDK0a7LMDvRqrM1GK+201E5ba7XMHovtttx26+234IYrbpvLjmvuueiu9Qk2oaZ727OmGerubdfOu6q29p5aL2nSoNNNNvnWhm9o5pQbMKlWHPzuaeX0p7BtBj8scVuVTGzxxRhnrPHGHHfs8ccghyzyyCRvFHHJKKcccCAqOzpHy4yeMdCRMG927cma1VHzZ8GqAxofYCD45G40N7avZ2cUYoAUc8iyc5+IgMH0QAA/LafSA8GCjNV0vnFQ1VxL9gBpUFhxBR9hp6322p7JyKrXBnntMNtwnuHJn+VNQ/dRZrxVfBA7Q6O1wt6EE4Rz4YgnrhLYijfu+OOQRy755JRXbvnlmC9aX+acd+7557hBC7paRY9u+umop6766qy3bkAbOrgu++y01257ioHfrvvuPW3OO2oBAQAh+QQFCgAGACwpABQA0gKnAAAI/wANCBxIsKDBgwgTKlzIsKHDhxAjSpxIsaLFixgzatzIsaPHjyBDihxJsmTDbiZTqlzJsqXLlzBjypxJs6bNl9pu6tzJs6fPn0CDCh1KtKjRo0iTKl3KtKnTp1CjSp1KtarVq1izat3KtavXr1mxgR1LtqzZs2jTql3Ltq3bt3Djyp1Lt67du3jz6t3Lt6/fv4ADCx5MuLDhw4gTK17MuLHjx5AjS55MubLly5gza97MubPnz6BDix5NurTp06hTq17NurXr17Bjy55Nu7bt27hz697Nu7fv38CDCx9OvLjx48iTK1/OvLnz59CjS59Ovbr169iza9/Ovbv37+DDi/8fTx5sp3Dl06uX2Wy9+/fw48snOm2+/fshpfHrdg6///8HLWJAMgZckxOACALYjDMJNiiYOWI5KOGEbz0iEDb9UajhevGgt+GH4+3XzogglmjiiSimqOKKLLY41oEuxijjjDTWaOONOOao44489ujjj0AGKWRqKA1pJJFHJqmkZtks6eSTUEYp5ZRUVmmlQtxcqeWWXHb3RJdghinmh8sIhMWYaOKFDTZZGtAFHGnGWRcZBsB5ppx4toWOAXoYcGeegAYqqHTbDGrooYgmquiijDbq6KOQRirppBoWSumlmGaqWJuadurpp6CGKuqopJZq6qlifmGAOqi2KhIXrsb/CpKqBlgq66245ioTrbr26uuvI/EK7LAM2UrssQKpyiqyzDbr7LPPwgrtscJOa+212Gar7bbcdsulsd6GK+64ak3yD6fk3qasaeima5u07ppabbyiwkuaOedwAyO9ss0bmjR78ivqGQKre5o0/xR8G7gKN9wWJA5HLPHEFFds8cUYZ6zxxhx37PHHGzEM8sgk8ztHyYkGgvKhZgyU8MqbSSuyZifD7BmvGXpWiBUINsnby43Z65kZfBhwxRu32JxnIWdA8cZA+yoNZtEDySKM1GnWXJA1WFNGAWk8mCEFIl2XbfbZnuVsqtYEndwu2lyqIUrAcFN5Rh0IocO1Wi7US+3334AHftPeghdu+OGIJ6744ow37vjjkB8adeSUV2755bS1g3lbQG/u+eeghy766KSXbsAdNZiu+uqst+76iTO/LvvsN/lMO2oBAQAh+QQFCgAGACwpABQA0gKnAAAI/wANCBxIsKDBgwgTKlzIsKHDhxAjSpxIsaLFixgzatzIsaPHjyBDihxJsmRDbiZTqlzJsqXLlzBjypxJs6bNl9tu6tzJs6fPn0CDCh1KtKjRo0iTKl3KtKnTp1CjSp1KtarVq1izat3KtavXr1lRgh1LtqzZs2jTql3Ltq3bt3Djyp1Lt67du3jz6t3Lt6/fv4ADCx5MuLDhw4gTK17MuLHjx5AjS55MubLly5gza97MubPnz6BDix5NurTp06hTq17NurXr17Bjy55Nu7bt27hz697Nu7fv38CDCx9OvLjx48iTK1/OvLnz59CjS59Ovbr169iza9/Ovbv37+DDi/8fT/5rM3zl06uXuWi9+/fw48snam2+/fshw/1rhw6///8HNWPAKgZ0gw2ACCK4CHoJNhjYOto4KOGEcL0iUDL8UKihe8YwuOGH4p3TDjf//APiiSimqOKKLLbo4otj5QTjjDTWaOONOOao44489ujjj0AGKeSQRKrWTpFIGpnkkkxqFmGTUEYpJYrsGKDHlFheVp8BXXSR5ZeRkWEAHFi81A2YaHJlSJpsMlZmm3DGKSeLvAj0xJx48nUNN1WO6WWegN4lVqCEFmrooYgmquiijDbq6KOQRirppJRWaumlmDZ5TqacdurpY2d+KuqopJZq6qmopqrqqqw2yoUBJrb/KutIX8xqq0ivGrDprbz26utNuf4q7LDEphRsscg6tGuyzBb0aqzNRivttNRWS1Ct1jZ7bLbcduvtt+CGK+64cC5L7rnoprvWJ9iEqi5uz5p24Lu5YUsvq9vei6q9pEmDTjfZ6FtbvqGZY67ApVqB8G0Eg1ZOfwvbdnDEFLdVScUYZ6zxxhx37PHHIIcs8sgkl2zyRhOfrPLKAgfC8qNzvNzoGQMdKfNm2KasWR03fxasOqDxAQaCT07Kr2dnFGKAFHPI0vOhiIDB9EABP52n0gPBgozVgb5xUNVcS/YAaVBYcQUfYaet9tqeydiq1wZ5DTHbc57hSZ90f2lGzAexTVM0WivkLfjghBd+E9iGJ6744ow37vjjkEcu+eSUM7pl5ZhnrvnmnC9pc+eghy766KSXbvrpArWhA+qst+7667Cn+HfstNfe0+W2nxYQACH5BAUKAAYALCkAFADSAqcAAAj/AA0IHEiwoMGDCBMqXMiwocOHECNKnEixosWLGDNq3Mixo8ePIEOKHEmyZMNuJlOqXMmypcuXMGPKnEmzps2X2m7q3Mmzp8+fQIMKHUq0qNGjSJMqXcq0qdOnUKNKnUq1qtWrWLNq3cq1q9evWbGBHUu2rNmzaNOqXcu2rdu3cOPKnUu3rt27ePPq3cu3r9+/gAMLHky4sOHDiBMrXsy4sePHkCNLnky5suXLmDNr3sy5s+fPoEOLHk26tOnTqFOrXs26tevXsGPLnk27tu3buHPr3s27t+/fwIMLH068uPHjyJMrX868ufPn0KNLn069uvXr2LNr3869u/fv4MOL/x9PHmyncOXTq5fZbL379/Djyyc6bb79+yGl8et2Dr///wctYkAyBlyTE4AIAtiMMwk2KJg5Yjko4YRvPSIQNv1RqOF68aC34Yfj7dfOiCCWaOKJKKao4oostjjWgS7GKOOMNNZo44045qjjjjz26OOPQAYpZGooDWkkkUcmqaRm2Szp5JNQRinllFRWuWIXL3Fj5ZZcdunll2CGKeaYZJZp5plssYPmmnGxgw6bcLqlZpx0pnVNnXjmqeeefPbp55+ABirooIQWKt82hiaq6KKHacnoo5BGKumklFZq6aWYZjrlFwaoo+mnIHEB6qgecWoAoqSmquqqL5nK6quwxv/6kauy1qoQqrbmagCnnurq66/ABmurqMLWSmuxyCar7LLMNuvss1HiCu201FZ71iT/OGrtbbyapu22thELrqXHjiupuKSZcw43MJobW7mhSfOmu5KeQa9t8IImzT/32iZtvwCzBUnABBds8MEIJ6zwwgw37PDDEEcs8UL/TmzxxeDOgXGegWxcpxkD8euxZsRWvJnGI3fmaoaeFWIFgk3mdqcB7TyGrmdm8GHAFW/ckjKahZwBxRsDtfvzlzoPJIswR5OJckHWND0ZBaTxYIYUiEit9dZca8bypU8TpPG3XXuphijzlj3lGXUghE7Uarmg9tx01223THDfrffefPc87fffgAcu+OCEFy6m0YYnrvjijL8mcuNqPQ755JRXbvnlmGcO+R01aO7556CHLvqJJo9u+uk6xYw6agEBACH5BAUKAAYALCkAFADSAqcAAAj/AA0IHEiwoMGDCBMqXMiwocOHECNKnEixosWLGDNq3Mixo8ePIEOKHEmyZENuJlOqXMmypcuXMGPKnEmzps2X227q3Mmzp8+fQIMKHUq0qNGjSJMqXcq0qdOnUKNKnUq1qtWrWLNq3cq1q9evWVGCHUu2rNmzaNOqXcu2rdu3cOPKnUu3rt27ePPq3cu3r9+/gAMLHky4sOHDiBMrXsy4sePHkCNLnky5suXLmDNr3sy5s+fPoEOLHk26tOnTqFOrXs26tevXsGPLnk27tu3buHPr3s27t+/fwIMLH068uPHjyJMrX868ufPn0KNLn069uvXr2LNr3869u/fv4MOL/x9P/mszfOXTq5e5aL379/Djyydqbb79+yHD/WuHDr///wc1Y8AqBnSDDYAIIrgIegk2GNg62jgo4YRwvSJQMvxQqKF7xjC44YfindMON//8A+KJKKao4oostujii2PlBOOMNNZo44045qjjjjz26OOPQAYp5JBEqtZOkUgameSSTGoWYZNQRinllFRWaeWVLGLxUjdYdunll2CGKeaYZJZp5plopsmWWGq2+RY67Lgpp1sHzmlnWjLeqeeefPbp55+ABirooIQWauih8J2D6KKMNnoYl45GKumklFZq6aWYZqrpplVyYYCJnIb60ReiluqRpwYoauqqrLb6Eqquxv8q66wfwUrrrQqpiuuuBngKKq/ABivssLeSSuytth6r7LLMNuvss9BGO6Wu0lZr7bVnfYINpNje5qtpdXZ7m7HiYppsuZSSS5o06HSTDbq0nRuaOdTCG6kV9tomL2jl9JdvbfX+K/BalQxs8MEIJ6zwwgw37PDDEEcs8cQULxRwxRinqM7GHLfTTjfdjOhxxncFYhzH6pSocoHckhzXHMRxbCAzyCCzSiTIYKOOASO7/NYZAx3JG8oed6MNMpFEssYYVDSySoY9y2rsxZrVURzIBq6CixyNONE0gSzTCuvOn/EBhnAbC9QNOslMs4owjkSyCjs5Re3Rk7hVI9CvjKn/69kZhRggxRyyxJyOAegkrjibPr+FCBiDD/Qu2up0w83lIDcOV+ADwYKM5mi+cdDkoE/2AGlQWHEFH6W37vrrouWZqegGie4v7GSe4UmcuGNpBswHsYM3Wiv0bvzxyCfvE+nKN+/889BHj3vKK0sf5T/agKKIMMJYD+U/0yTiCS5iKDEN394T+U8jnrTzzx1ToJ++kP8gYwgyJX5xh+Ut1Tf/fN34Ry0acY5/PGMKnijQ/4YUQFSAokSkmAL+WrZAHwVQGI1ABzLEIIYZCa2CEakFKDzxhUH8g4JS+SAIg5M2j23jCw9cYZAMiAp+/CMRadgG2WToIwOSAhegGMQzK+THwx2p42hDJGIRd6SyzC0xKW3QwROnSMUqWvGKahoeFrfIRaz4r4uxCQgAIfkEBQoABgAsKQAUANICpwAACP8ADQgcSLCgwYMIEypcyLChw4cQI0qcSLGixYsYM2rcyLGjx48gQ4ocSbJkw24mU6pcybKly5cwY8qcSbOmzZfaburcybOnz59AgwodSrSo0aNIkypdyrSp06dQo0qdSrWq1atYs2rdyrWr169ZsYEdS7as2bNo06pdy7at27dw48qdS7eu3bt48+rdy7ev37+AAwseTLiw4cOIEytezLix48eQI0ueTLmy5cuYM2vezLmz58+gQ4seTbq06dOoU6tezbq169ewY8ueTbu27du4c+vezbu379/AgwsfTry48ePIkytfzry58+fQo0ufTr269evYs2vfzr279+/gw4v/H08ebKdw5dOrl9lsvfv38OPLJzptvv37IaXx63YOv///By1iQDIGXJMTgAgC2IwzCTYomDliOSjhhG89IhA2/VGo4XrxoLfhh+Pt186IIJZo4okopqjiiiy2ONaBLsYo44w01mjjjTjmqOOOPPbo449ABilkaigNaSSRRyappGbZLOnkk1CeiI4BZERp5WURwoHFlVxGpocBXXTxEjemZdjld4OcqaZjT6zp5ptwxriMQFvGaWdf2GBDJphw3OmnXuz8KWhegQ5q6KGIJqrooow26uijkEYq6aSUVmrppZgSt02mnHbq6WR7firqqKSWauqpqKaq6qqsZvqFAeq0/yqrSVzMaitJrxqw6a289uprT7n+KuywxLYUbLHIQrRrsswe9GqszUYr7bTUVrtQrdZKe2y23Hbr7bfghivuuIYuS+656Kb71iT/hKoubs+a5u67t2FLr6zb3quqvaSZcw43MOo7W76hSTOlwKqegTC8p0nzz8K4mQvxxHBBQvHFGGes8cYcd+zxxyCHLPLIJJfcksQmpwyfOtCyPOKI3XTDzcw0c5PnzTjnrLOeA7Gscl1zoOYzQer8Y/TRSCetdNIF8fMzXoGgFrPP2TDzzCq44BLJ1luvEckaa4wRdthil1322GOMEUkyTj9NlxkDPSyay+2wjM0zXa9BBRVI0P9AAwkeRABBAQUEYHjhAhxu+OICFE6DIwbwMzO0xWKL8mZBCx2rOnfnPQYSff/tQeCDN256AacTXjjhATzOj9PzDhusmZ0VYoXmF2KTTDLCrBKJI3hEIoccccThxPHIJ6+88pGswk7bITXJWzuP8euZGXwYcMUbt2h+zjnooMNO+OEfzU03SBtA/vrkD8TO+/t1M7TbbhVyBhRvDBRwaCyzHHPNALTZzgaIMzLNj35tyd5AZCEMBB4qcwWxhgMvQwHS8MAMUkDEBDfIwQ6qhnasgiBBghY7D8ZJDaI4mAnVdIY6IAQdElSLC1ZIscvRUEhGK5JB0Hc0gXDDaDa8oXX/YhiUfzwDGXIziNF0ZYB/FO0OqFBHEIWYo39YAxTPSKL+/vEFCnjRARRAxT/usAEkUjFI/0AFEnU4EPQ14gsuAAATuPAM9E2hBO06o4+MiIuFGC0NDDAatP5BgTb8I2Da0MY2pqhHFKlDGFkkWqx2ZY1/cIEB2dhVNv6hBBC040Da0CLlGtmibQhjG4P8Ry3EsI0lhvILDOAH9XT1D0UwwIw5eQYTiAAKUkiPlCxSRzaQMUhUTAMXU6ilGDcJyybGDRkOIEQ76kMKBxDBEBZgQAOBGcxsPCNuhuBCIsTQhhUowoqWTAA/KBcrB3zhkAZ4gAkeJoMHcLNFh4ykAdAn/4wp6KBW7UIfKKZQEPQ9gAsP+wIAGiEQCtQAnizZ3z2pk0+BoA8VaUjDFDbax5gtsY1NPOjDTMCATeECAGn4ByMnKqFDmhF9hmgELr5gDSUowgBk6oa50GcNBxjSACDogEDEAIA+lpClG9oGMkJlNFIwoYcI+SEpGIAK6jHBAdOwZQaQyiJhVNKiBrBGLXDKxoKEUgwU+EeRgtACISRgB7S0iha5upp/IEMYWvzoKAuyyQ4o4ZD/mIbRpoFSA0iUrklFxSYhsslEUKA+BlCCA3KSAgcsFrEn+ocwSBERzVrgDoGNLAOYUAMQoIKJmM1sLfDqkFZO4Z0HUqUhQCGQlS6m1kFqhQhK8gjWgRz1tki5Qw2UI7FF2ha4yE2ucpfLXMEct7nQjS5Yfild2wQEACH5BAUKAAYALBsAQQB+AncAAAj/AA0IHEiwoMGDCBMqXMiwYcIaMhxKnEixosWLGDNq3Mixo8ePIEOKHEmypMmTKDmuSMmypcuXMGPKnEmzps2bOHPq3Mmzp8+fQIMKHeoxG9GjSJMqXcq0qdORLQxoe0q1qtWrWLNq9fhgq9evYMOKHTvUKNmzaNOqXcuWYNSpbePKnUu3rt27ePPq3YsVxlu+gAMLHtzWL+HDiBOPhVHXsF5riiNLnky5suXLmOv+s9Yus+fPoEO7lRq4gIACBgSIXs06dFfFp1vLnp35L9I4AnFb1J2Q90DTtIMLn2yWqLrjxy0iT27w37/h0KNL99qNhEDV07Nrj8vYQPG7z7eL/x+ftvvedOTTtzYvl71eYerjy58vkps6+vjzI/2uv79/luhQxt9/BBaY3WsGJqhgegMu6OCDodkG4YQUVmjhhRgmZRhcGXbo4V2OfSgihu4VFtWIKKao4oosWihhizDGuNSLMtZo44045pgYjTr26KNLDf4o5JBEFmlkTyUeqeSSDSXJ5JOIOamWlFBWaeWVWD4ZZJZc+rhll2CGKeaYFH5J5plopqnmmmymGSJ3J7YpJ4lxzmlnU1SileedfPbpp5pvmkjan4T6x2OhiCaq6KJDHcroo9KZCemklFZK4Z5kYWrppphpyumnFXkalqiglmrqqcKR+lV3kqLqKl4ICv/U6qu03lVnrbgONmuuvLa1a6+fquqVsMBuSqxWgRbbK4dsJassrcdmFe2z1FZrrVLTXrXhtdyO5Wi34DYVq3fhlpvVt+amq9Sv6vrp7JS3tktptlbRK9Jy7eTbTjfc9OsvN9gELPDABBdcsLz6ZdMNdz8td5xzEEcs8cQTI8wruycdty82zDyDzCq4RCKyyGtEssYaY6Cs8hgpt9wyyi+zbMAYM1tsM0Ua78sNMqWYjDIVSNBAAwkeRACBaQIEoHQABTCtdNNJO7001EobwPTNrTl8n0H2UsUqT/9wkwwueDSyBhVA4zC0B0UffVoBSDcd92kCvG3a3Uhbfd3d2GH/PRk/AvKkjtjYJAOyI5E4IkckcsgRhxNrOCH55JRXbjnli4aHdXjo0nQOOuygIzroARrADXoQDzS6Ae2sbkDpAo0uOzqd+Z0ZIJIYgDsgBO3eCjYGsHOOrYMKfh+///5r8PLMC2y7dHaQwxfGz0MJB0KqVAMZN10/1X31VVbzukDf4xkv+GKyM5D66gf2LvpdXmPAOfIbID/9glEP//7811o+U9vqnwBRor8BGtAhBUTKNrZxQEZ1jir/YKDpEFK7Bt4pgUOZiiIS0Q4JWjBVjRGLOhgICguAooMHmQIDxvXBTjXmfFjpxnMw0AapaI4giphCClq4pv/txChM6MA//8wkBh62CYNB+QcF0kAabUhQHU40ohQJso1/KIIByLihIVQwEAlyYYouNMA02iMrr2jjH1yggObagAtQYKAdd/CEASDzRTCiCYk+ycY/eiDEbUxlBwyYgguEkIA7iHEgw7NjmB54k4V1w5HI45dA/GU6bkxFByEwAAO5YQBQOAAAJniOBxU5JkbKxDkCiZgMJWaAVf5jlZDZAQg0yck2dMAEGShBCkhxQ1Iusng66cY0hPEM55BCEYPAhQFy2Ig0ECENzknEDtrwjyBA0wBMyEAlDbADJoDCBNMoATVHSZEK+pJhdHmfTbjxD1zUwoqJ6OQUcNEGJoygFo2ggDVQQf8EIQgRBjVwzh0cMMaFCWQQFBiIQc85GR9iC4Y4ieA/hHEHbPwDGUJAxTamaYA7ZGCiyAABE/5xhy84BxkOMEQ7OMlJZDRihBZxAUOH5FCPPIwUhhDoFP7xjBeg4h8yUIInnoELBghjj6hQB2dWUIM5zlROeBzJNoRBzEEgAxRfeOcgAvqPDjAhCAYQBgUGwYUpSKWKpHgALqDYxafe0SfTeIYBJuoJTzDDOaBQRDSncFQrMoGJAzHKFDqwNbeGcS417Yg6whOxVD6HG+1A5VwXWxAGKqGG5DQsmExJk0c+UiCSNN02DMqNbXCyIJxEj2bBmNnVuva1sI1tpiAqW/4CBQQAIfkEBQoABgAsFwANAPQCsAAACP8ADQgcSLCgwYMIEypcyLChw4cQI0qcSDFhu3YVM2rcyLGjx48gQ4ocSbKkyZMoU6pcybKlgW7qXDb8J7OmzZs4c+rcybOnz59Ag+rkJ7So0aNIkyo92m2p06dQo0qdSrWq1aIXr2rdmjIm169gw4odS7as2bNo06pdy3astYEp2j40ZA3bQnJy8+rdy7cvzx5+K0KIZDew4cOIEzNkpzhtu3ONI0ueTLmyQYxquR3UPJCm5c+gQ4seTbq06dOow75Nzbq169c+EUSBTbu27dt+bxhIhrtnuoMQ4uAVOry38eNWV602aMMgO3RNHQf22pEG8uvY+zImeM2AhNmrspf/TcaYs/jz6NFKODFwgqOE6qind8oP3fz7+MHOLrikef7/AAaYHTrWnOOZAdkYUJ8B3Ggj4IMQRkibeRJWaOGFkXUTHYYcdujhhyCGKOKIYslH4okoOYjiiiANYkEGLMYo44w6DULjjTjmqOOOPPbo449ABlnUgULqtE16KWBWZIxMEGlYC0tGKeWUk3k1DUIYUKmlZUQYoIiSW7Z0JWtOhjmifE2aiVKCYxqUoJpw+jWFiXGK1CZBR9app17qJOElmIdB+RoHBoBigBAG5LlnahqemCZBgJZFIXpBJLpoaun8dulSpAik6XGNGEfnj/HFNxBGaNgBiKpoGIBMpBHC/8pWmbWpOJAnh27aGjfcQAaHQLswpGFWusr4pgEbICffqKNBZhM3n04EmWZHLNMOsxACiu1YFtBqW5u4FlsWNuwUNhG55j6E0RPLMNOhkrKi1SluRCYrUKXIxRuaviClK1JTRwi07YOGeCtuQ7baawC+vSXZmsEa8YbQMuTsQos4BoTikWZPjLjhwRI5wEE7oSIaIrEhNYMPW9stxM9bztqi4DIG8MtQwCDnHGA6y3HUSTg3neNsUOQR1HKREJNl6HUKm5QpygbEwiBtiGTHiQHLHA2Vv5V9KVe3Ga0QoanZ4dPdaNRIRM4mWPezUTd6VMv1SscGlUhOB/7T82dQ7v/tUQrz6hyizBGxwwnhBNknkc0BYsS44FuyYYA0keH1y0SWIOgRIMrItIU42Sjel8GPQ17ZIQLNvVUnzmQ09KRaYfNWPuCIQ04tLqkiEFEtDef3Xncc9LvpSA1jzyU16+TKQNeUblQy5tYC2R4GqD6RV8eApGhNkMXEDT/ViD6Q+Ax+vJE67QzbFDftbB9Sy90Ijdg/XQ409H2hhvVMT/+QX5P4qKPJ2aqSDHcpBBqd6Eg5VHI/rpDNI9cgyjUamJB+sGOA59gGZHhHvJI4DzXmu4nbLnEProTwIJQ7n0CGFg8FcXAjHzRICI7yQI9AjSHWQAegbhgm991kYFIRxmT/oAeWbkBMM0NL2kLQwUS7XCQmR/Lf4gxAwQ6aZngyAaKO/HELguzDHwOkCjtCF62PdKMdmSpIpmBnxfnEBYsu0aJtyriSbtjnHEwUyD/OcQ06tvGPLoGBQODoELF5xCtyHI1XIHMObWgQkJA8jCANQMiGiK2SY0tkJDdZlklikkUaalSOeMjJ6zhAIJ4spSoFNIgHGCeVq2zJFxhQxVjuhRD1uw0sbamSWWqSl2CpwYG2EcPR7BKYDCHlQ77ggDvtRUNpXKWtevNJXooyI7M8IVsy+EtkXtGbKGFmNcHZxuFxYQclIBQ5NeKAca5TcMcsCBOQYcl3JuQBSrTnVxoR/8baPAAjk3yJQRIgEG0ixKDkLCZZFGqZa64ynqcCJzAE4jZ9VoYdeSIASNjIl1MaAKKWmSZppEaQcYyjHc2zqETcWZXu8G4AyAFpRASlEjkIxKYTwWlC5BAH3FSCFQLJBUkNYNJ/nE2Zn9mGD/3CUMNIsTcyDYrQpiqtqVaxhsjZB2yUKj+dOfM/xzSEN79Im0xpSGhYZckMVcoVlhLPD7kQiD+wcY2nmqarinEABdhaEbda0W0cjaUFEuJXyiBUNFh0FoysaJ8NHTZGayXJ+gaSVoIwYLDZwWtpospXFEWWJC+s7ECy1FmJcNYAIi0tyPRaEq1x8rSqDREINMIrgf/QrHoI0WxBLhvbh3gUtr0FUnx02A67BjckwF2IIY9rpm6qNrnMLVY+QVmQWrBDG03dCXSjW5DscvcrnwVJHqqS2kF+NyL4PC9yXEuVwgY3m4Jz72uQMV2HvNAq8o2tONVLG3SIIizb/e4sl0qlWvI3wNydJX9Jkz62IDi6zPyqlh7L3QdH1wEGBo0JFmwWCxOEphwO8WduAQmBacXDIk7xaCrxFRSrGEhfeLHwZExj1vhhIHwgS35rzKP6jugNBqjaJMqyYx7XJrwuiXGP1GAAPpzBAFMwQCWYvBUXG9k2SOYejfwwB1gYRA1AHogfo2LlK+fIuRz6REGsMJAbmyP/w04ps5lfM9ubcOFGrSvIG+aAEO/yRM5z7suGOVJnSAbDyzg2AJCfLBZABzpGaAZRF8fi6EefJsssuTMVG1Lk7PCBD5ngwycCMQlZANi8lg6Tj1HEYh2n+tVL6jSsZ22VQFzmK7Km9YeUvORMkMXKy9V1oHOtk+ypxsyu5K6fFWMFj46jxajm8SwDW1pe74QLYvCoVc7wXwMwpm5SqbRKZwlnywxavTkeSB0EwgfrPUXcFt2vsBODiEnwwACrLgq89TnL+26p3JSkUbupvZR927PfAML0SqwtJXC3d86RnrdYoOCKMH9i2T0htsQ3Ph+Nc/zjQZlDICoRDHfHOdoV/wk2yFcelE9Ig+BQ8TjLZ76Tl2tOKr9FOc3prM83n0PmLDH4zqdy7hSzuco6H7rSpVIO45484Et3jcJZog6AAz09FHbK1aPOlqmnRNM3GocXFtJqXHP97D35xDiM3QeBBMMsW0e73BlStUqU3QeI7iKjwRL3ueMG7DSqAyIqMWkfpNBo11CHw6EC7I/UULR+DwzDadz3yFveIF0UQ4eFwitROvTysDaDAUwtkGP4YeQCwYVAqZJzqO+EG9v4R74VGXHQ24bRb/fCkNVMEIAnxcogpkh8uIEN2SOjU9io+uc7CHPbt6TbtlaLi1VOkQap4x+ruAMEaICNwkTTIJBvSP/4zYIRY09ULhK+ke8vFJMST5ogdBiyFZ48ZL7fhPgGeob2BRAAElRPaMtXUKFEEaGUdVbRKOhAE28XV3pRXs7XEsFACAiRbgMhgbNnFJVHEMNnF/+gfxAgAAVQAApAAnqDDcTXfSjYfQjBK7U1ESzYfPazfnFEJxjxbFITCwyoC8kzGt/3aOOXEu2AOwhhBbjCZ9HndDFHderQDRzogSAYgiJIgrJ3gYpRg5AAVANBUpRwD0uDExh3IucgH7oFEQMjg3xSdRlkE+0gDcGwdwOhA2FmAGfAZ1whdJuhGf+QDPsHhU8oACSwBmMAiII4BoE4BgZAiAYRiAOhiALBiIf/uAYFAYgDIYkCQYlQgVc0UTUIEQtSwwq54Img+ImiGIqkOIqmWIqoaIo44nUcQjb+1hIYQQhXYADB8H5URmlJRxIXQRR6+IFQ+IsgyH8BMIzEWADEGADGKIwCUQADgYzNyIwDwYwBQBDTuIzTyIzGaADMKAAGUI0EYYA48Xk4iINRA0nbw4onoWRmmBFIFRVjqBPrBguywHtpUXkaQhSrMAYREABPGILB6I+/WAD9KJDGiI0GwI3I+I/XCILT6I3ZCJDO+IwHeZAC+RVCJTX0YAD3sA4GYA7S4JEeSTyFVhOAVxJDQxSvSBUEdhN14AuwcAyiMGSJ0G2NJhO8wg/c/+AI+siPACmQEeAEQBmUQhmUBuAEN7F4PpFW18AN5qAQZ7SDosE+ADJ5KOI2iIBoBkCTclgIXwFQuVgS8dEN35OTO9mPCoAD2FBcA/EcBsBEeXQRkcJEcDmXdFmXbQkpcJkQMOgbv3FBBuAPBaGDe8l1gCAQhWkVY6YTuOJrk2MQiCB60OZ6FRF84qcOJoiTOrmPIDiC7ZAMSpWCoHka6NBPl/GFneUwJ2JsCMGVBiAFBgAL9HQVjTcRGnKTZLmP/fcP2/AbAWga3zeYUdcFBiCcxDmcxlkbuFAJ9GgAtdBtcSgQL4eUUZGBB3ERN4kNOgkBJKCCLwGOocEZ3iliJv9AhQ1xWzRzWwXBDdDBGl0ECZpYEFBgBVdAgW2VE8O3DTGxCoRhF7X3gKERE9hgH26ZRyt5GrhTfwfBZmDAYoGjFdSpEPGRDtuQgD/on66hCrq5aRrqLOtIGeTjB2rAB3SIi5JZE3P5jdHRjleBC/1poSqUH885EDFKFXboEKWCSOiDGRXqoj4RnlrCZ7dIEGfgCew1FQ+6EAUogGmBAUqAbzPno1IyfwZQCJBZENdlFQH1H+TJo6KBhCbRD+FiEHOwbjVZolwqF9nQoTqzLWQaA6dmppLFK9ugGbC3DY4kEHZ6p2e6EgUaSdThB5XAmAYABXtXB7Y2B6jQDw74dJX/N4Wyh2+OqkdTuKeB5i1VagA+EGRiUVjSeRD/AAp0MAhf0Ab/oAhKIAZMcGf/8AVTMAVisKXY0aKU2hEZpqYF0acTwZoGEX32dxJGhAtTYAFBIFakIAMAEAJ3wA3/cAcJkAESCJxqsVg7UXSzehTQOhLRx6sHMaJb0Xfa8A+ksAEF8wyfCgBp0A7W8A/IsAKPahOwihZv8a7VmhZ+QIFkem+F8AdV+gkHwqJTUaOdEa5p8A/T8A/GqgQE+w86cAftkH7/0anzGhlAFghu2AeBoK345gIrRKNfGRKxhwsc8AXXNwgpkAA7IHuDIEyLyhNJEC6yGiW4OndkehBPlgkm/ycVbkUHE6GuINAk2lADoMAASfIPKQAKGcoSEFsQD2AyEZszbrgQtYCuVZGlKUGwJhAE/8AFXNANCQACWYu1ScsT2gYaK9u0Y8GtC4EKeoOlHQsSRvQPKtADz6AD3/oAGcANJrA/0bENtYmnYkmnsIenDxGz4me2IPOYBgEFUAAGx6A4uNANDgKlPQGwBWWwOzAFdyB7FoABRPAF/6AibysQ3PAx14oQJoAKEBEXhpszGFsQB4IR8poTD2YN4amsQWABCJuuJgAAMPAP5vEPYqAEw4oRX0AERNAI/5AGOjAIXNADYmCaCqFO34gWkpsf7VC632UGZvAHbmirSuFWPv+qrEqQAbigNwYLAEarGbHXAyHADSpQAwZQAy7QDW2AAaCgBDXAAKSgCNoWBNJ7GdUrEAzAGVnSm6sbJ6I3i/CqEF8Ye6mqm9+qAyrLIKXKALiDO4PAAM/QDqjAAI0wDRwwBf/QBnuleh0wBZhhmkaEKAyDXSaRBjxCuJd3DipgAGrrFhBRtgzxD8KQrnqEC+QqENnwD1OAAVPYDkTQAQLRA3slDA5gKCZABIYiRANBCgZDHbbaBi+bFzJcFWG7p/LxFirKqAsRPG37EP8gH+2aKJ+KAYqACkLABaBgv2KAAbjyBclGAU0KfiPRxQecH7G7EaLnJFv8Z2fcErHnCVPBwAU24iWLTMWG0AYCMQhMQBBNuqMSMQUyYGIpcaR/bBUNqhOtW8g/4cnwEXvtuj3bYyCuq4uou2naQMoH8cWfzFZU2xN1yhl1qkeBixB+/BDUgb21PCU6zLFwOsxnqrYuTKJwVMzIfHbWkJgndsjP/IBi2UlQ4szVjHag8AIORpkDYcp7oc3b/B/dwA7eXAs0kcZ7Ic56QcvlDCAswJyB/HsIUSBXJlbxHBJQErV+gc/77HfQG9ACoQMwwjAEHREBAQAh+QQFCgAGACwXAA0A9AKwAAAI/wANCBxIsKDBgwgTKlzIsKHDhxAjSpxIMWG6dBUzatzIsaPHjyBDihxJsqTJkyhTqlzJsqWBc+dcNlQns6bNmzhz6tzJs6fPn0CD6owptKjRo0iTKjVKc6nTp1CjSp1KtapVoej+Xd3KNWW3rmDDih1LtqzZs2jTql3Ltq3btwoHYdO2kB/cu3jz6t3L96kCXMn6Ch5MuDDCfgq5GeaKrenix5AjS4a4bXLVrwbbEXRsubPnz6BDix5NurTp06hTq14dWsIN1rBjy54NN4qBVQMV076p2eAFN9WKBt9NvDhVR4gPSjCIjh3RtFr3Ru9Iwrj163fRFWRmwMbrwNjJPv9T3Du8+fNmF8wYeKJKQpjooZ6bHr++fatlDJZ5fb+////EtZMNN89V1o5m22QD4IIMNpjaNdo5KOGEFA52YIUYZqjhhhx26OGHVz0H4ognVUbiiR4RggEGKLbo4os23QHjjDTWaOONOOYI1A4p6OjjjzCWB+SQBZlAH5EjTtFOEkg26eSTUD4kYpRUfsakIUdW+ZGJWnZJ2JReomQNbVyGaeaZYxpE15lstonaBgXp5uZo3MjZoZJ3YYaeEAbYOedn8G3IWV+gCDQoa2ka4MluQv4Y6EBa2WGAHYDYIakwWTKYaVuN/vlUCp0C2U07dkF0YDd6enpioo0MVKaqNh3/ylI7YGZ0TakUysoWBqHGlihxuvrHTjIRTjQsOxKlyg8vue5V6Gy9FgcqapuKBB5JYD5RoSLRwqrQq4XySVy1n3Wb0TQJiSOOMpuQY4AtOpprrrcIPbBBdEF0iCpq2DSUDWKlhmIAOcySCxEWBCFL78LWnaMgcdhca0CxWwrkp31MDjTvWKRYxwGMs1y3iQHi/NrRESwp3BmWD++68YYXYefMywSZjFStHBEj0TacGJDPOlfhKtQzwaZEc1kG32QCKqLtO2I4/7RDsUwAoKRzRPxsInBBQleEC8IMh31ivzsdHdEzBlwdEbzDTUXGMuy8elenRAiUtNiSUSLQNYLh/0NQ12H9Qxc4+eTDzTJrKZwcX4QgZDbed62zJkGZDIRNqlQ9nthKk9ekmVbsoDOgQVN2g3NGB3LTzjaYi7Q4N9e0npeQ6N6nyFi1C4bRQHprJjteyQAuU9FUPdoRP3yfw3dD1vRDtgHqcGPX6XC1XN/dMAJNiT0CXVja4hthP5X3H6lDfEHscDOo+WF2DvlEEa+2PEdanf9+ZDAYYP39E5njy0D2+N/z+EfAmuwPSVNbCTe+0o500ER14iugBD8iA4Ec0EaY+co2tnEN+03wg2OpoP7uIre2GA+EN3Ifa2SgAgOokEYHIh+MnIZC6zxAICK8YA13aJ1EOMA4OuThSP+48IAIdmUbHizgHTImGxa6UIgq4QIFjAjFsXSDiqMJYhU3k8SDSLGLZjEfDT9YQti8cIsa01xBpKjGrkiNHzJEI2vOKMeOsBF1dXyMCPdCx7dosUIUaKMBBCkUQuZxMDk85EgoAMaxuINIfRQJKLhDnApqxpCKPMjvJhjHDzoxkngRQAEEYIACrCYXsSBILgQCtExCJhsRGgBIyriXRD5mlAehpWVWSZB9mGOBu3OlQ3QZFsWYiADF+aRg5FAQUabGD7yMBS8F4g92kG2MBNzkZVaCyc/YMo/jGIdmEhiaa8xPmKb5pgFul5d00EAgppRNOLFoGfbtBmwgVOdeumn/mEywQiDixMbFSmPPwjDAAuiEiD71MtDVqAyNLAoJswygLcI0VKF6ESEoI0rPqOCCNTFxTDDDNs6BnLAgDqCASK7BDYXBoQuDKahoFqoXWiW0ML0R0UkJglCSXPR+NL3p+xgQ0ZGQs4BBFSqSnCYOiyFEpihVqVIxOsKpRgkm3EAHOgZo1ZIktasLox5YcdhCUI71T430kJ+kwY9pdJQnXz3rU+W6lxGQBBJgUSZdHRLIve4GfFYx617v6NfBPENIe6TIUaUiWLoStrCnaceiwhLXwn4Rsp5qrFyliNnO/COtW9HsWR/b2TBVtrCMLO2Z9Kra1rIGFpUQiFiXclrX/9rWM5XrSm1vy9sh7ba3wN0LH4Z7C4FMwlVX+W1wlyuWxCKEDwbwgwFi21yBiJa52FXLGQzwBjUURBro+CltLZjd8uIFEmoo7kIW+xTlmve9XaEuWtwL3/pGRRYG4YN3D8Jep9DXvgBWiiycQZA3GAC6ZflvgBcMFVgkmLwMjjBYEPGGSgRiIMGoblUlzOGkOLEhmfDDdj/h1OsChbUdTvFWGEDdY4iXtmVVsYyD4lyFIIIsGp2xjp8yhxvjGMI7DnDuTsyChVAXDBgei4nBKlWwahM0F87vJPoLlSVblbRXBsoNwaIdm0FFwVO9bJDHkokbR9kADCiLlcPc1zGrJf/EUjCAQJMLZNuK2c1j4YM5CmKFQRLzKX+0bGrx/GWHBOMKBZnEi5UCZqu+ldBHCQYUroAJBOu2zpDONElq7JZGa/rTIDGwAWTBz5x4GtSoLginF7JdURzj0T05dapnrRF0PJnRmKa1rlfSjUAjBcW7DvZkZC3sYs8318ZO9kBW7ZDZ4nrDyo42Dg8SDFGnBdjSlvaQbxGMDBvgDwLBbwhjjBBs5ibbhK4xdDNBYoFkYbL4NUNekQ0pV5noH/9IELpBHYhAfOJ/BuDBngsS3m6sGa70Vsc/OmYAfGvlH8gYRDuGvG8ZM3st2DbAFQ1xO4gPYhBu/ccOxFDqir8Xv1//OMuHDXLFWtwB38JIgiLasANr/IMbIChUC01O6O2q1wDS4MMbHGyAWkBvK98038MHgQp8c4Hk/4ABF9TRDibooB094jme5W2AcBhgCgb4hHwNhXRyG8Aa00DXM+6wDXwLYRD4ToIK8A0KhLpA6ztut48LIgpxUxbI20CGJ66BC7irwxo9wNI/mFCCdqhjGhZAxsUd9FC8k0YGRW64AY5LdIJI9yyT+8czQPEPVBii4YhXPBNGcPN/YAAUOtg5RMwHVctjNrHHyANCxGAAWJjhwroPS8v+gYtaLDwRWtFGDxLRjn8oIQWC+0cGYJ91hkBVlyUnTCVQiUrT1B64O2UJ/12OgZAYGEAU3CVI9nMy/Fogox2ogHvbmdAGfO+ACPnWBgaEUYNBRkS8pDQbucAK0/QTVJYjo8JFJAFabYEq6tANi0YS/1AOolAHBRFnAgEJc1AWD/N4qJANECcjDacIQfAMpFACpIBvqGAB6pA/FdEGCKEAEWAAazAGNViDNGiDY5CDN7iDPciDPqiDQPiDRCiEPbgGYcF9A0GABGh7N0MUf3YSXzEJSCYLfmcAjPBgVaUOz/BRDXcHuBB9ivAFXOAJ7WBzX9Aj1RcRbVAACnAQphRPBFEAATAQdFgQdHiHeViHe1hKdSgQf+iHehgAgygAgRgnViFN9GAABRg2zv8GFqiCKjAxiY9oFJ3kEjUmb7cAC+g3EMcVQhAmesjwcKAAd3bjcEj0DyAwCBpRAHJoEAE4EM4kELMoi7g0EHwYgIQoAKQUT/EkSrFoALkoiMIoEDmwFakkEKukD3smDebgjM4IadnADyayDTERhUsRgSxRCJnQbeJGCN5mAGfGFTU2DfzQFP9wB6RnANXYdkSAfwZwdxDxFdrwD7hBELVYHUXBTMIDEgenEI3SiM2neaBxRQ2xfuaBLFKDDjEUQ6yBLJkAcAMxWThmdvQhOI3AGVckDFxAT/BRGVxFECQgNQMROgqhVf43SAuJkgKhVS75kijZGwfykg05MQypcVP/EZLBJgmAIAkC4ZMGAJRUcYA1gX7UZXQEMQeWpltmVxBXtCnTIY8jYQ3YoJOj4T1WORDm5lpGMiIMRxDSoHL0thCVoSBS6RGxiA2V6ISDAQcG4JZw+ZZyeRrOVQtipxBcd2nQxpbXkQIM2BBNRTKCmRo15mAhphYZZxNryZeGoR3WZADJwA7WNJmw8VHthphNWTaMGRq7wA9ZaQDndBqVR2FvUAjpB4p7OTwaeWthg42espjhQZRHQWwh8X2b2RJ/SSOTd22ZeZuD4Zr1tZsOsQK+mUf9qBLl8CxsQZvFCV+wNhWJKRLcoA3bQJ3NWVrlgQiTsHdimZoP4WvXaVt7/4SQHjaWDOFlCFEZg8AEX8CeBnB6JPKc4TkQxAOeIXFxF4ZkZhGdIQEKKQAAJvByCbEBL8ea9bGG85kSwFkSCLaBGKiF9qkRCqIIACCCIIIu5JmgQpEHZ7aBBgAFBlAHdfAH25WXAmF8VhGhGVEZFAp2H/KPnuVmG8gHJmoGhVAIJloeuWlq5vkRdEEKAACPBmACEgabEpZjA7FfA4FoAlEHSKaNTqGiAmGhDtEUuAAAOiAQLqh5xKmhY2WiAqGfBtF0MNoWz5AARDoFU3AODNABAlE3N7KgXuoT43gQ/UAUuGBwVsGfIdEODtAB25AC2+CnG4CehWGoczobgbBdBf+hBVdwBeHQG7VwhikZWCqhOg/QAUTQBr2RAQZAcmMCgQWRoYn6J0upEFpBqivBpwihDY9TGSAAADsgJC9AEHoiLgKhBOcBpQDyDwbaVav2B2BgBhZYb83Vmwc5EZVhAgAwqaNqEGXSAu2QBz0lGymQAKV6FxcHbiC6n8haEjDQA0+UEAkgDL3ROAXxDG56FjDoOcRRpjP2Dz2Sp/CKcN6ZEFJqELgwDUXDBdUqnwtSr0YhsIQWHU0nEFspFbuVrxJRHh2TctVaqQnBBACbrfahqg+xXb0hDC6EsZjYowNBsA7RNRtTsexnsXChnKuqEKZZMx77sff6GHJKEYiKshNmtHI2a1ttkKUlUbNVwZw5G1y4oA4gCKEK4bNBa171uJ8gm7TYhbMHcYlMyY5Oq2LHIHtVm7UbsQ3c0AIGgAuaoQ5GqrVkS5xDS7YMwU5oWxDEebB6kQ07urZ0ZbLzuQMsgqtVGxAAACH5BAUKAAYALB0AFADfAqYAAAj/AA0IHEiwoMGDCBMqXMiwocOHECNKnEixosWLGDNq3Mixo8ePIEOKHEmyZMZuJlOqXMmypcuXMGPKnEmzps2bBbXh3Mmzp8+fQIMKHUq0qNGjSJMqXcq0qdOnUC1mi0q1qtWrWLNq3cq1q9evYMOKfYptrNmzaNOqXcu2rdu3cOPKnUu3rt27ePPq3cu3r9+/gAMLHky4cNFthhMrXsxY7TVu3BpLnky5ctHIljNr3sy5s+fPoEOLHk26tOnTqFOrXs26tevXsGPLnk27tu3buHPr3s27d0km/3wLH068uPHjyJMrX868edtpzqP3BS69uvXZ7a5r3869u/fv4D9D/w9fuV12gncAkWeO2GCQzCaCc0eHjpwBMgJVrT+uEzoHA57sZ5k6BpxjwBO88GOggMg1Ytl5+xl4hDLVnIMLg8T9J5AQ8MkX3jUHCpQdFhj69l+AmpkgoISWoVTiSii+mNkTAtE4UFmVGSLjjl8tmBU/AqEzGRE8IqWOOvQV2ZaNkk0BoZJQNjReUQRWxQ0gT3DiIVyDTONjlGA296UBqHQR5ploQkXGMmm26WZSuwg05pt0VmQOjlzhWds/W16DzZ91BirooIRWhc2WhSaq6KKM0iRDoxPpMo457EBq6UArXPoQfeho46KmoIYq6qhv6UTqqR1NheqqrMLlQKuwxv8q613czDnrrbiup8OTuZ5qXq/AKolNOuicU2WwyE72abLMvrgsVM82K+130Fyn6rTYGgSNO9l2W1QsuTDGbWeV6uGtd+hwc2yy1gjUhZnnRrePAbxKix8cJLqEWbyb+RPZvtPqyG909Q5s8MEIJ6zwwgxjuG7DENcWbcQUV2zxxWNVivHGrIHI8ccghyzyyCSXjBQMLZis8sost+zyyzDHLPPMNNds880456zzzjz37PPPQAc9ayUDASz00VTxwQfSTF/FRNNQV8XHG1FXbfXVWGet9dZcd+3112DzJMoxiC6Fcthoy3R22jQTXXZT17L9MiL0Gi333SAdg/feJr3/8YnGfAf+UaVxC264RA6ccfjiHXEjJOOQR3TGG29HbnlClZRl6uWcIzRJ5Z2HLvroA80xhwHB2E165Gqs7vrrsMcu++y012777bjnrntC7ai+O9/abP572AbesU17Bjw8PNNrG/QPYkRQJ4wYabS7vNbdbAMZYneoaAApHdzBxQjQIX891Nrw6WEJdwi0wg4CdaAE6Ocr+skkXW3zDypT3EFKN6jAwDSy84AvZEcHIChY/Rj1iWBsZRr/MIQFBjGFBDzjDiAQyDMYIAaB9MAC9FsgoSBBCANIoQ4GKKFVuNENB0zBAG14gAG4oAJ6bbCD7figCDVFtU+c4XT4U+BS//6RhgQIwwA1SIEBmLCCdmwjGw74gkB2sAEDFG6HhQJB60qHlX8wAYQGKKA6xFCCdlijHRhQgkBKoAMDCA+LhLICD7xgAETwwQyB6CIoKDCIHiQAFerwRAYMgJg0UAAZnngAKIQIxzp5ARJdmYY6GiGGIFDgH9xoRwd0NJU0BCEIiTDAlCySBggIoJEl+gRXttGDI4KgB6I0wBcepQ3zvbEiVDDAKVFJHkgWpBBXUaI2LBCEHtRgIIiRgRS3oRNmakRBd7kicUL4sQDpzQBmWFpWtmENUNSiHf9ACUqewQVG8jJRaiiE4rKivm1Ea2Id0dM5uVOLgWgTCgaQxRG/Yv++eSpKGqE0wOnWaQBcoMN6gzmSP9fDAzNIgW4LtRoYDGCFTJCpMb+6ZUSVUwiqAbMz5wipsZTXJlvt7XQGOZ3vABNSgXRjWQrd6HFah9KCqEEUj2PMrwzw0p3KtDhgaF0dCEqQg7bFBT9FkzqTGrUt+oCpSLuCGQZyBrqpoRbsGOVZEApVJU10IDEwACa6CjF1cJUiGiWIFQwC0ag07yYZIETvyFqcKyBki3TtGSbAgEIw3EKeeZ2IOSP2h4LUkC/9DGx1vopNM7S1MEhVrHPsqizJVueMq0qrZYViDiCBBp6bpY1JDQMDhLwntDQr2+ZkEFnLqAAAqN0NLqg5Gdomxva2uM2tbnfL2976lmN3OOZvh0vc4hr3uMhNzlmTK7LlMpclAQEAIfkEBQoABgAsHwAUANwCoAAACP8ADQgcSLCgwYMIEypcyLChw4cQI0qcSLGixYsYM2rcyLGjx48gQ4ocSbLkRW4mU6pcybKly5cwY8qcSbOmzZsCt+HcybOnz59AgwodSrSo0aNIkypdyrSp06dQo0qdSrWq1atYs2rdyrWr169gtaIMS7as2bNo06pdy7at27dw48qdS7eu3bt48+rdy7ev37+AAwseTLiw4cOIEytezLix48eQI0ueTLmy5cuYM2vezLmz58+gQ4seTbq06dOoU6tezbq169ewY8ueTbu27du4c+vezbu379/Agx+2Jry48ePIkysnzGG58+fQo0ufTr269euO/2Hfzn3uue7gw4v/H0/eeIp23cqrX8+e+5R27ePLT8pE+/z7+IHaz8+//8z6AikCn3/gEUfggXG1MyCC7e3H4IMQRijhhBRyto42XC1Y4YYcdujhhyCGKOKIJJZoomQpGIDhiSzmt2KLMMYYlE4y1mjjjTgS9UBBL+bo449ABinkkEQWaeSRSCapJHQaLukkbU0+KeWUpfVI5ZVYZrkkOgaQoeWXpWEjEBxYgGnmZ3oY0EUXL6V35ptrDQLnnHTWaeedeOap55589rkWO2myyaafhO7FTpdqFqroXmIu6mhebj4q6aSUVmrppe3JoAKmnHbq6aeghirqqKSWauqpqKaq6qqsturqq7DG/yrrrLTWauutuOaq66689urrr8AGK+ywxBabmabGJrsQsso2m5CVzkYr7bTUVmvttdhmq+223Hbr7bfgKvcJNpGGq2uj5t76Rh2TyOJgurTWMccn0nAJ77345qvvvvz26++/AAcs8MAEF2wwR+oc7CmzCjfs8MMQ60ZjxBRXbPHFGPsbyFVTGJAwQSO8m7F8c1zlyUEYTDyyfGcMFGVT2Yi8Mn91zIwpH2BktcMO0F7Ws81FnVGIAVLMIctVuADNHyJgFD1QNkoXOvRAsCATtaJvHAS1YApefRsUVlzBh9dkY9QOjed8V3ae3ZQrUNtp96cyr1kblLW9hKnzcdwGKF/I99qpneHJoYm1LZCChgMemhklH8TOz2GtoPjklFdu+U1bX6755pIxfNMGd/zjNuekl2766ainrvrqrMtlYOuwx77QC7Jr+fKnMte+1u269+7778AHL/zwxBvQhg4BAQAh+QQFCgAGACwhABQA2gKgAAAI/wANCBxIsKDBgwgTKlzIsKHDhxAjSpxIsaLFixgzatzIsaPHjyBDihxJsmTFbiZTqlzJsqXLlzBjypxJs6bNm9pu6tzJs6fPn0CDCh1KtKjRo0iTKl3KtKnTp1CjSp1KtarVq1izat3KtavXr2AzYgtLtqzZs2jTql3Ltq3bt3Djyp1Lt67du3jz6t3Lt6/fv4ADCx68kh8/wogTK17MuLHjx5AjS55MubLly5gza97MubPnz6BDix5NurTp06hTq17NurXr17Bjy55Nu7bt27hz697Nu7fv38CDCx9OfOa04siTK1/OvDngDc6jS59Ovbr169iza9/Ovbv37+DDi/8fT768+fPo0zNn8k+9+/dBp7SDT7/+zfn28+uHaaj9/u7H/SfggARqhV+BCCao4IIMNkiYOWNtFaGDFFZo4YUYZqjhhhx26OGHYK1gQDYglngeiSamqGJNOa3o4oswxviSAwWhKOONOOao44489ujjj0AGKeSQnKFE5JGyGYnkkkyCZmOTUEYp5ZRUVmnllVh2xE2WXHbppX1PfCnmmGSuuIxAWJSppl/YYLOlAV3Aseace5FhgJxp0qnnXOgYoIcBee4p6KCElrdNoYgmquiijDa6HAwtOCrppJRWaumlmGaq6aacdurpp6CGKuqopJZq6qmopqrqqqy26uqrsMb/KuustNZq66245qprqZDu6mtBvf4q7EBPDmvsscgmq+yyzDbr7LPQRivttNRWi9kk/7xprarablvqHHNUEky33o6qRh2iHONfuey26+678MYr77z01mvvvfjmq+++/FoZbL8AB5yhOgJT2mLBCCdM4IEKN+wwZXM8vGggEidqxkDrVqxnxBoXWogVWfVQw2GfFYvbNQIx/KUZfBhwxRu3XFVLx/AVcgYUbwx0MM1jtjyQLMLwvCbHBVkzmDoEC30bD2ZIgYjSUGuEdNReTl0Q0lbTd06sRBMUMbmIWY110lSrpoYofULWTTftqFy2Z2fUgRA6Rqvlwtt456333jHVO83334BH9u9NGRDSDtiBJ6744ow37vjjkEde1s6SV245sJczmXGlbmeu1uaehy766KSXbvrpot9RQ0AAACH5BAUKAAYALCIAFADZAqAAAAj/AA0IHEiwoMGDCBMqXMiwocOHECNKnEixosWLGDNq3Mixo8ePIEOKHEmyJEVuJlOqXMmypcuXMGPKnEmzpk2b227q3Mmzp8+fQIMKHUq0qNGjSJMqXcq0qdOnUKNKnUq1qtWrWLNq3cq1q9evYCuiDEu2rNmzaNOqXcu2rdu3cOPKnUu3rt27ePPq3cu3r9+/gAMLHky4sOHDiBMrXsy4sePHkCNLnky5suXLmDNr3sy5s+fPoEOLHk26tOnTqFOrXs26tevXsGPLnk27tu3buHPr3s27t+/fwIMztSa8uPHjyJMr98thufPn0KNLn069uvXr2LNr3869u/fv4MOL/x9Pvrz58+jTq1/Pvr379/DjyzdLfL79+/ih/svPv7///wAGaNc62nDVjoAIJqjgggw26OCDEEYo4YRDpWBAgRRm6B2GGnboYUs5fSjiiCSWGNIDBXFo4oostujiizDGKOOMNNZo4413HYjjjqrpyOOPQFqmYpBEFmlkg+wYoMeRTGJWXxddNCmlZGQYAAcWL3Uz5ZZdGcLll41hCeaYZJZJIS8CPWHmmn1dw02SVkbJ5px4jUXnnXjmqeeefPbp55+ABirooNXJoAKhiCaq6KKMNuroo5BGKumklFZq6aWYZqrpppx26umnoIYq6qiklmrqqaimquqqrLbq6quw0v9oaKy0CjRrrbgOieuuvPbq66/ABivssMQWa+yxyCar7GKfYKPlsp9iAy2nb9QxiSz7TatpHXN8Ig062oYr7rjklmvuueimq+667Lbr7rvwxsvjrfLWa++9+J4WYr789uvvvwDzGkjAfs5BMJ9nDOTjwXPWwfCefIDRn660VSNQtmOeUYgBUswhy8N0IgJGxwNlA3KZGw8ECzInm/nGQSYL1s7CLb8GhRVX8FHzzhGpo046POt5zjnt7Svqywa9DG5hQyPUdNCmneEJnIjNbDXNUG9mhsEHsUMxWStkLfbYZJedUsxmp612YvTetMEd/zy79tx012333XjnrffeV9Uex/ffgAv0QuA4Yk041IYfrvjijDfu+OOQz92GDgEBACH5BAUKAAYALCIAFADZAqAAAAj/AA0IHEiwoMGDCBMqXMiwocOHECNKnEixosWLGDNq3Mixo8ePIEOKHEmyJMVuJlOqXMmypcuXMGPKnEmzpk2b2m7q3Mmzp8+fQIMKHUq0qNGjSJMqXcq0qdOnUKNKnUq1qtWrWLNq3cq1q9evYCtiC0u2rNmzaNOqXcu2rdu3cOPKnUu3rt27ePPq3cu3r9+/gAMLHky4sOHDiBMrXsy4sePHkCNLnky5suXLmDNr3sy5s+fPoEOLHk26tOnTqFOrXs26tevXsGPLnk27tu3buHPr3s27t+/fwIM3nSa8uPHjyJMr97thufPn0KNLn069uvXr2LNr3869u/fv4MOL/x9Pvrz58+jTq1/Pvr379/DjyzdLfL79+/ihtsvPv7///wAGaJc5Y21VoIAIJqjgggw26OCDEEYo4YRBrWBANhRm+B2GGnbooUs5fSjiiCSWGJIDBXFo4oostujiizDGKOOMNNZo4414oYTjjqrpyOOPQFqmYpBEFmnkkUgmqeSSEXbxEjdMRinllFRWaeWVWGap5ZZcdskWO16GKRc76Ihp5ltgnqmmWtes6eabcMYp55ytwdACnXjmqeeefPbp55+ABirooIQWauihiCaq6KKMNuroo5BGKumklFZq6aWYZqrpppx26umnoCZnZ6igjkpqqEOequqqrLbq6quwxv8q66y01mrrrbjmutck/0CpK6O+/nroHHNUEkywwhaqRh2iHPNPstBGK+201FZr7bXYZqvtttx26+234JJoarjklmvuuaKFiO667Lbr7ruezgHvmYHMK6YZAz1r75by7utlIVb0lypu+1VpBh8GXPHGLf5qWcgZULwxkLoNS4nwQLIIU7GV/RZkzcZU8mCGFIiAbPJD7ewX4jnnnFwlN9x04yN7LUvaMUHyIiuYOuoIxLLLrKkhSpmJySyzQEcDzdkZdSCEzsdquaD01FRXbbVIUF+t9daGjXtTBoS0ozPXZJdtdrsUn6322my3jVbabscdNwxy76ivnnfXzVbeevcO7fffgAcu+OBy31FDQAAAIfkEBQoABgAsIgAUANkCoAAACP8ADQgcSLCgwYMIEypcyLChw4cQI0qcSLGixYsYM2rcyLGjx48gQ4ocSbIkRW4mU6pcybKly5cwY8qcSbOmTZvbburcybOnz59AgwodSrSo0aNIkypdyrSp06dQo0qdSrWq1atYs2rdyrWr169gK6IMS7as2bNo06pdy7at27dw48qdS7eu3bt48+rdy7ev37+AAwseTLiw4cOIEytezLix48eQI0ueTLmy5cuYM2vezLmz58+gQ4seTbq06dOoU6tezbq169ewY8ueTbu27du4c+vezbu379/AgzO1Jry48ePIkyv3y2G58+fQo0ufTr269evYs2vfzr279+/gw4v/H0++vPnz6NOrX8++vfv38OPLN0t8vv37+KH+y8+/v///AAZo1zracNWOgAgmqOCCDDbo4IMQRijhhEOlYECBFGboHYYaduhhSzl9KOKIJJYY0gMFcWjiiiy26OKLMMYo44w01mjjjXcdiOOOqunI449AWqZikEQWaeSRSCap5JIQYvFSN0xGKeWUVFZp5ZVYZqnlllx2ydZYXoYJFzrsiGnmW9icqeZaIa7p5ptwxinnnKvJoAKdeOap55589unnn4AGKuighBZq6KGIJqrooow26uijkEYq6aSUVmrppZhmqummnHbq6aegJmdnqKCOSmqoQ56q6qqsturqq7DG/yrrrLTWauutuOaq1yfYQKkro2n+iugbdUwiy37CHlrHHJ9Ig06y0EYr7bTUVmvttdhmq+223Hbr7bfgkmhquOSWa+65orWJ7rrstuvuu50GAu+Zc8wr5hkD+WhvlnXsGyYfYPSX6m3IUnlGIQZIMYcs/mqJCBgKD5RNw1UiPBAsyFBs5RsHTSyYOupoLBsUVlzBh8goR+RrylJ2s7IB58R8DsjtqfsoxwZx/GxiNA/UM8ukneFJmY253I6+QGdmRr0HsTMwWSskLfXUVFctksdWZ621YePetMEd/7y89dhkl+2uzWanrfbabJ9VX9twxy3QC3LjiDSdd9eNVt569w7t99+ABy744Fu3oUNAAAAh+QQFCgAGACwiABQA2QKgAAAI/wANCBxIsKDBgwgTKlzIsKHDhxAjSpxIsaLFixgzatzIsaPHjyBDihxJsiTFbiZTqlzJsqXLlzBjypxJs6ZNm9pu6tzJs6fPn0CDCh1KtKjRo0iTKl3KtKnTp1CjSp1KtarVq1izat3KtavXr2ArYgtLtqzZs2jTql3Ltq3bt3Djyp1Lt67du3jz6t3Lt6/fv4ADCx5MuLDhw4gTK17MuLHjx5AjS55MubLly5gza97MubPnz6BDix5NurTp06hTq17NurXr17Bjy55Nu7bt27hz697Nu7fv38CDN50mvLjx48iTK/e7Ybnz59CjS59Ovbr169iza9/Ovbv37+DDi/8fT768+fPo06tfz769+/fw48s3S3y+/fv4obbLz7+///8ABmiXOWNtVaCACCao4IIMNujggxBGKOGEQa1gQDYUZvgdhhp26KFLOX0o4ogklhiSAwVxaOKKLLbo4oswxijjjDTWaOONeKGE446q6cjjj0BapmKQRBZppIPoGEDGkUxiViAcWDQppWR6GNBFFy9xM+WWXQ3C5ZeNPQHmmGSWmeEyAkVp5pp8YYONllbCweacebFD55142Ynnnnz26eefgAYq6KCEFtoVDC0YquiijDbq6KOQRirppJRWaumlmGaq6aacdurpp6CGKuqopJZq6qmopqrqqqy26uqrsMb/KiuNiM5qq0C13qrrkLr26uuvwAYr7LDEFmvsscgmq+yyzDI2yT9wNgtqtNJuOscclQRDbbWZqlGHKMf8w+245JZr7rnopqvuuuy26+678MYr77w85krvvfjmq+9pIe7r778AByywr3MMDGggBvtpxkDiJnxnwQ7zWYgV/fEasVBm8GHAFW/ccvGchZwBxRsD9fvxlxoPJIswJ5cJcUHWDNbOfi3HxoMZUiBS884RpTOQOurwPCXQAgHdTTdAn3NOe0ub+jJBBW8bmNICUT2Q1UKTpoYoSSY289c0Z93ZGXUghE7Markg9tpst+22SGi/Lffchtl7UwaEtCM13Xz3KO3334AHLvjghCdlcuGIEw5D4jg2zDjbjj8u+eSUV2755Zj/fUcNAQEAIfkEBQoABgAsGwBCAH8CdgAACP8ADQgcSLCgwYMIEypcyLChwhQGtDmcSLGixYsYM2rcyLGjx48gQ4ocSbKkyZMoU3qUqLKly5cwY8qcSbOmzZs4c+rcybOnz59AgwodSrSo0aNIkypdyrSpzwcFWTqdSrWq1atYs2rdyrWr169gw4odS7as2bNoo6Zdy7at27dw48qdS7du02128+rdCxdGXLxxrfEdTLiwV6mGEytezLix48eQI0suWkBAAQMCJmvezHki4rqWO4se3RlGC6VxBKa+uDph64GVScueTbunutu3L+LObfDfv9rAgy/2G3FuNxICMwtfzjwucbq/m0ufzpb4Z7fpqGuv/Xxt97nCtov/H//1ultu6sirX8++vfvN6N7Ln09fsvn6+PMz/66/v///AAYooFzWDWjggQgmqOCCQQHG4IMK8reWgxBWaKFZ912o4YZVyaAChyCGaJWHIpZoIlMZnqjiijWZxuKLMMYo44xlFUjjjTiCZGOOPPZo0Y4+BqmYhGYRKeSRSA6UYpJMNunkk1BGKaWFS05p5YVGXqkliFVu6SWCQH4pJlYuvkXhmGgueGaabC6V5VhhtikngF3OaedOZd6p554ckcjnn/TVCeighBZq6KGIrihoooxu9KZYcTYq6WaRTmqpo25Veummji3K6acGPRqWqKCWauqpaK6J6qpzkcrqq7DG/9pXpgJ5Kmujrnrloqq3omormafx2uunuXal6bDIgvVrsoQWy+yz0EYr7bTUCrVrtdhmq61MeW7rbVHOfiuuTdl0M+656Kar7rrTteNuO7vxFiqt7GopET8CncOPvnytUG9M1wjUToLx+Wbwwf8mXBIgkgBiQMMPO9ywJJzgi016b3Wr8JiAVLPxxykx049g6oSr1bEpyQvygthwk53JWV27so9wdGEAONgIxI4BO/Psc14y59SOsDNTp0p0ARuQdNJA17rTOVCfI5DKRQcXH0HRNbZsSLypTHXVwGWHaVsa49TN2WiDzVw3Uqvt9ttw61d23HTXzSbMZDptt5R4a1JF9N5uowz421sPrnDhhq9I3DSJN46WDI5HLvnklFduOYR9WxX05ThmXtXmnH8seOjpjk66uoif/qDnVLGu+uuwxy77ka7PbvvtpZ1Wne64qxgQACH5BAUKAAYALBcADQDwAq8AAAj/AA0IHEiwoMGDCBMqXMiwocOHECNKnEgxYbt2FTNq3Mixo8ePIEOKHEmypMmTKFOqXMny5L+WMGPKnEmzps2bOHPq3Mmzp0+KybDx+0m0qNGjSJMqXcr0KI0IAs/dfNm0qtWrWLNixai1a812Unc2QXZtIDcD6ryqXcu2rdu3cHEOHZjs7M2wcfPq3cu3r1++yCQasoZtIyqDc/8qXsy4sePHJe3mJOEEsuXLmDNrhgxWJVWByQSuuqZts+nTqPNG+ZC67QUcAiXLrJa2te3buJMWEcg6N9YGOrn6Hk68+EwEM65a800Dz0O8Iqt9Nk69unWSpgQiiHLddrfu4MOL/6d4w0Do8TzTVSWHvr37xY6qiE5owyA7dN/f56Whv7//7mVJwN0q/+2VDDsGnEUgOgU26CBjoQ1w0AcnDDSBIwRB92BW/DAY24YghpiXMMIRxF0FjiRnwBL1iejiizDGeJCHBKFjjVTqtPOPjuec8w83pcko5JBEvnhWN/kVqeSSTDbp5JNQRinllFRWaeWVWGap5ZZcdunll2CGKeaYZJZp5pn96aACmmy26eabcMYp50BTlDjnnXjmqWdF1jyw55/UKWInoFgOSmiVtR1KZpCKbjlFoo22tE2klDYGaaUpTVrgdHIiiemnBgQBanjpqDelhpuZ6t8DG4zanTqwXv+Khh2A0IqGAcgY6ipLnOrHKEFCPKhrV5q2xg03UsEh0C4Mefpinbt2lI0By7Ua4qV3SnXWEcsMS6S3fFnQa4OeFIRte+fi+d0TyzAjETfTCHsZKRtaG+pA46IHLk7GPCJQYnshaFBhJX13RLRytgrKpgKlsC9O4eTr2DLk7EKLOCCd9cST0CLMkTUOcNBOI1teBNfDMPGznFSc2LIMwBkd3CQTVCnicUbLjZlOzh0tgo9N0yaULkfVNHSgAZsYIA7PZv6ThEAvSXzzTaWaDJnDJyECIicG5CMwm4IyPTVFwY4EK2YMmBDVR2cXhE9ZDZKzSSjmraNRN3pwS7BpiTz/MzSeKdA7dkFqS+1TPeHklEBP7NBii2jEEGMAqg2hPHiWC19Ok+ExWWJA0BwBosyLvT6tuXiHCLR3U9Kw8bNKMJ8WO0Oq/Msk56fbRolA11j+kI4onaNGKnCrBAYbiT8mG0c5CpRkS5Q7FrZlxdZE8p2pv1T8UvGEAZMWYUp2zjZSzb6Y2DD6nqU5BmCzvUCX3MOg1Ur1M1A95PSj/kNllSNQPAYwX1/aJhECioR+DqHRQBDIGBnkjjiXyEs7gMSN51HkHO0oTK++8w/cPZAmKcAM+mbiwTL54xYDsYcv/LG6D7pwJSuQUzvSMihVkYSBBkjHOc5yDnR4qIPXsOEL/4doEhgIBHRTgZp+agOd6BHxiXkx4qh6BEUx/Wo8MGhBnJDkrDLhsIr9cYBApIhEMKKpenPykxnXSBILGmAbfysJGudECCKw8Y54PEkNPrON/RWnjHlEyBep08VAGtJBhbROO9DBj0Ee0jpXPGQ3lvdIJTkQM5F8DCArycklbbKToAzlQIxYQlHmxh3QQKQbXZhF2wigAAIwQAHak4tYEAQYArGfdVJpyneh5pOZgWWDxjGOdiSyihYAwcd6eRM5CMSZE4FmQqQ5kFeOpxKsOAgx//G+J5boAaVk5k96RM6JkJOKBjHgg4qJnjmKkzjAbEw6+CNLhukHnW35BjV0gv+F1KBTnYPzo2/8kIv/4LMvTjSIAyjwzoXEkzGUbOhi9skRC4iEFwLZmGmkchGAJuSSucmAQARaFVy4h0HfiejYSAqSa3BDYHDoAhEfypjOSPQyXOHHQWeiBwPIVKYvC2ekpHjTohYEQWTwaVSESimiGhVPFzkWQTKIkJ2+h6XWoelTzwQrD6kUJ6uMS0K3SlamCLCsaE1rKLWq1ra69a1wZVIm40rXy4C0rni93DaYuhS25vWvbWolYAe7J8ES9rB58itiF8vYxhL2FpAQSBwdS9ksVeItiq2sZrMyiTeogQ95yexmR9sUP7zBD58wgNYG4s6riJa0sLXJXRHyBtX/GmASBnjDamPL2yZZQSCg1ctre0vcDTm1uMhd0nGTy9yjvGEOBjADIULb3OoSBbS1VYMBZGHd7sJIFHEZrnfHGxI+8CETwRUueddrEhmsiSGwQEQlzGAAUXxCGgwaoVXmyt7+tiQTAgkGX4nCX/8aWCKzTUgmAmGAGECBuweOMHW0WwcNCOQToP2HArUiXglHWAYsWAiAPexfrGImvXAxLIk194X+5FctHV6xjAVSCQYXpA5mmbGOUyNfHvABG1/dsZD7gohjGOTHQW5KjIds3QQjZBxSIIgXEvQ5GDP5yg6RxRWg4IraGuATJubJkrGcXCc3JBOi2DCHycxmx4y5/829NTOc53ym5dL5znApMJ73zOc++/nP3ZFzQ8LqWkCzV9CK0bOhF+0TRTOat4j+y5sfTemTTJptseqRIysNxUhz+tMuUjFRNg3qIasRKR4tdScnkVrFSGbAFTkXqVUdSFFA2C+BYQk2sEE59aTaqhABNl/UTOvHgNghkbXCGW77loimANYLuYizIBUAiFxk1oK89hDH6l9PG6DFAimEAfJgAGgr5dkgsVqp2geaNhiEKi1cyK53TZF5x9tV615sqmkSg99e1gA2zgsFuGBuiCTD3QVRAA6SEeZiO+QckBK2g2DVo9bCRAo6qC0k5nAG6PKl4BCpdkFiaYAxrMHkJv8vyMlXnnKCsHwNKkf5y2O+coc/qG1njYkaGFEQ0BLaO0lqQwEUUM2iC4DkszSAyAUi8qVXu+lKZ3rUp26Qp0sd6gEguc1pwsVunFPiSgF7e3EGlw6IKiVjqGc1YZl0gQig2m1Xe9tnWQC6y12WdI/7QPJez6T7vdok5w97tm4ukkxLU+Tjh8WrgkYE3AS3ibh1wNWyXB04WiNn2atBhCkQqBAlEtTiNqWKVm4wIWiR6Li2tvUDXk/g9gziXgvIKQKrJBsAB9iwGrF96EOB9N4Av/d98BHy++H3nkHsSD6VCZ8SSQBCEgZ4fvSh/3xAtKIw7BC9cebAB/q+Rb+298j/V5OxjcUb55jZHizWWmKHwXflADqpRbgFEmVY5PpV51o6HEGEjnP8nMTVYA0Ion2WEWm1AF5v4GVXQBCXhxSXZk7R03C+IYHjxQ344RuItlsCAQW/9RYNGBLOMkjqQIDdIUTk1QXKogoeUhjnURj3hh5eFnsGAAaXJThq8YEo0Q3WwCBix3x6sQtzERZCWCB8AF0cR1018U/qcCxI0iPo54NtYSck6B5eBgZXAAYC4WVr8YAXVE4FoWkUSHj/l0QF4m0GgYXL5x6qJ21jCIUR0YYxMUN5ZGduyEnEdhL9UC4IoV0DwYdZcWp1yFuTRRBnUAeg8DWBmIhoMRB+UAkj/2YAULBsMWAAdRAI2mVk3WF+ijhEICUxPICFUIACZ8BgdSB/8eIVXDgRX4CDmyglCXUOqfhRCiFuaGiFBvAHgbBsqNAPL1gVrPgRRqRMxbIBd/APcNiKmsNgUUaJaAgXscgm+oWMAvGLN1EI3odZ0rhZuYiGUCAQmHCNAuECWygT05WNVWSGBJEJe4MLU/gY4zNVQZMAMWSObLRsDsGOWkGHKcEVg8glCEePNuFxD+cVWhQTyxFJs1ddx2hUGjgQUAAFYBAOdzgcP/cF/7BXYSgebYCOALkTk2cQGdkaupIEQuAJ7fCPiFQyboWO7cgU1CgSkyIZ2xBCBlADWtQGGJPQkaDCkXnxkipxB0okEKeoF2nAJprIEeHHfIrlkwPxDFIzBTk5EQ5gUsz0jDrJEFY5Ef9AChZ1GAeRkFe5IWD5MWOpE1nJEe1gCI0RjWGZFDZ4EuioDf2oLyHZloglakhRl3bpVoC4l345EEz5l4I5mGPjXgvxhISZmNESmIrpFy35RGfZmG+xkJK5aAVZmaoWEAAAIfkEBQoABgAsFwANAPACrwAACP8ADQgcSLCgwYMIEypcyLChw4cQI0qcSDFhunQVM2rcyLGjx48gQ4ocSbKkyZMoU6pcyfKkupYwY8qcSbOmzZs4c+rcybOnT4rPkp37SbSo0aNIkypdyvQoCQ8C/91s17Sq1atYs2ZFp7WrzX9Sd35ZlW0g1W5e06pdy7at27c4yw5cNXQq3Lt48+rdy5fvM4mDsGnbSMog176IEytezLixSWw7cQBxTLmy5cuYHWN7mZLqXIGO/tXNTLq06bc3bpxm2+CHQLQ0yYVdTbu2baRLBEq4nfWCztm8gwsfLlPCiatybZNw9JBfSX6ciUufTr3kKt2qq68erb279+8Roxj/uA6ep2em1cqrX5/YDXMD7w/uLoiOHXf2bkng389fOzMDNqiWTH95PcONAVQNeCCBDDaY2HUEHLTADAOdUAVBsDnY1TmzQabhhyDChcw1B5VhgIVDCFRGdiG26OKLMBq0IEHtZLPNOefww8+N7fS4TXIxBinkkC1eg86MRCap5JLqncfkk1BGKeWUVFZp5ZVYZqnlllx26eWXYIYp5phklmnmmWfukAKabLbp5ptwxinnQkwAN+edeOapZ0fTOLDnn9QZYiegWg5K6JX3HTrmNop+WWejMw0G6aSMOUmpSkjuZ6mc3GR6KaVCfAoejlVGV5qp7FnjAAeieodjjwXd/wGIHbPaYYAwhrYK06YOBqGrQ56Shg465BhAhkCqMASri4/+OlIjzpb30lBP8OJclKgmhgGvICaqnrd5DnWEMulFhI41DmarGCgxcuudCbnyFE8nAjG61zoHDVgSiU9E669w7v4kzbWXiSOOMpsU+5G4STrZ7L8aTfPABvFS2U2GbGGcUzb9GODcJqGIo/BG/TI5hWeGQFzRNGWeA+RGnYRjE7oJgcvRyAphMyAtBixzGJrnURWwyjWpo86wlMF70iwfbmKAODS3KejLREvk60gXWZbAmgbY29GyBDkzNHjbcGKLAevoWxE3gDzBScWNDTKNzXmagMp0F1u25tg8Of+DT04A9MQPyAIhY8s3Hk9Ed9VeesJ4TXy3dHa5HJGxjIubEvE4eJQIRKJVtXTizEod00Y1Q7sItHiLkW9+2iECYaMxR/+0ntE/Z/SBM0pWdHKMY7NrBJZAwaYUPGOCsuyYpDYpkmfnZ1VlzB4wsSGmhwaow41zq+t1eotwfzmOAddgPxAl9lCFTfg8lTOQPP/wc/xGkEkjkDzZN0aq4t1XZHREnvpfY2rgOuF0Di7daIfsigcR+QnNIFThR/8KOJMVWOZ7MVEXnMzhi4HoYhzmYAcFRzgTDJYJHVT52UBUOBJusBBB3EBLO9LBmWFpY34kzGFIZNATzmiwO7DB2A//dUhEuPBQVwIsYphMSB0ZqEBOPQJbmfKmxA8dsYpxYh6e/ITFLpLEU9yYIEi0iKc7JMGLaEzjSXRwnm6wT40ESqJ2jEZFONqRQVKkDjbOsQ053vGP68HGCwFJyEIa8pCITKQiO8JD2y0ykXkkoRMJGYtcEMSSaHukg7ymScvswxxHGiIJKTACjnBSkk+Eox8wWZB9+EOBXcQYBRzZSS/6g4HS+VwteXPFQtIyOH5MCzUQl5OSlSZrCPolY3qZxkywoj/BxAvBGMIAC+yyIMy85qGI0REMiORyBsBCaQ5ktEiuJpsJ8aYB3vipobzEfI8TpUqwgY0FdQEO2sxnmGBz/45owuRY+BSnOKqhTEWhU5+a5IoewikQfhS0UQdFqJvoiLF/FM+f5cGhRDd6FBwtCJ47OSVeNPqdiHIUTmI8qUpXqkOTsvSlMI2pTGdK05p6hYw2zWlpEqjTnvr0p0ANqlCHStSinnSSRk1qX2BRCdUp9alZysRaXArVqlaFEGp4wxvcQlWrejUpfAjrLQzAh0lM9atovQofDOAHAzS1LV1Nq1x1IgWBbNUAU5irXoX0hrWeda+AdVFcA0tYlvBBDQY4g1kLy1j8bHWtZzCAKODa2MrmJBiWzax2EPGGSgTiLoPVrGg78olM+CGynyCeAXA62tbS5q3HwKVrZ1sZRP8gwgAokMItzPrQnRyRibQNrkPmkNgYCGSxwk2uZd5KEMwq96sktc1nDVLWQT63qFy4rnYpmInbEoQBBAHpdserF9NK4a7kTS9c+GCOglgBQSJVr3y7EowrEOQNyNVKaOdL22BA4QqY8Kta9stf5fpBFrJVCoELTNs3fFYWvWWwhHUS2b9O+ML6xbCGN8xhK3b4wyAOcU1SSpQFi/jEKEEqiveqPMWoeMUwnomJY0zjGtv4xjg+zYtzzOOOcLHHjP1Efqf6RNYC+aufcK5NRXjk0xDCAFKogwGe3OSYsDO56CUub6uMEozOdH8t0Ya7QIBYSAiEuG+hwJW5zBSeDsT/ywS6mDq6kWCVWIEHXjAAIvhghum6xZpvZnMR9xdfmnjBzPddJ1ucJE9B4yeKEe6JOY1S6KZkEwQ9cPR2SKKNHKlOgtPUSqYGcBMzE0LJhWCLDLg2kBqEeryfi7RVHXcMM5tBwF6RtaZrqoZCVHjAqYRi5OpIU6VRh9Q5KQxZBQIFA8hCGD+NYaN3rRVpJIKsaK7rQKJ2lRmbKbrUTguuDcADM6g62IQCd7i74lc0G8AKUr1bV3a87qEWYquFMDdl661UNJsBCvp2N7+HNO1PvdcA1mUKvQdulUob1dsM99erUVIOdiHk1waQslZ+HPGcXlkNZziGeC2N7o7H9DyI/5iEdw1wBXP7ILGIiGwtTB5jd/nA5TEAAyYMoIbf/ScrEKe5nkTJbZp89uD/NoAZEGHuWrDD4dXJACHaUWehf4q49k2svlXNuBbzG+o/wQQYrM5jPus764X4Q0FKTvYNGxkhiJhRLXTd9uRunSGoWDNU01B3lPi5Ieo2CtsZTvdC/n0gWrjCFcwx8aKmgYB958m4C0Jim1adSXpXaeaRsvA/pSABkX9S54/CKry0oU1v/0jgY7xg4K6EFKhiALQXmfrQSyToKLkaQgpuewIVniNiBtEd1LF5r7i+9zOx+E6s8Xuc4J4kVBke8r86+umDmOPWv3FXi5797ntfV5NOSxr1v0/+xnC//IsBOxrPj37H8L796bUg/DEcEAAh+QQFCgAGACwdABQA3gKgAAAI/wANCBxIsKDBgwgTKlzIsKHDhxAjSpxIsaLFixgzatzIsaPHjyBDihxJsmRGbiZTqlzJsqXLlzBjypxJs6bNmwS34dzJs6fPn0CDCh1KtKjRo0iTKl3KtKnTp1CjSp1KtarVq1izat3KtavXr2DDGkAptqzZs2jTql3Ltq3bt3Djyp1Lt67du3jz6t3Lt6/fv4ADCx5MuLDhw4gT973Gjazix5AjS+7peLLly5gza97MubPnz6BDix5NurTp06hTq17NurXr17Bjy55Nu7bt27hz697Nu7fv38CDCx9OvLjx40+tIV/OvLnz59ARc4hOvbr169izR52mvbv3vzo5p/9o9++7+dzaDHCf7um8+/dyG2VWB7/+7OkChUweb78/bPaXmVCef4R1Q9AU7RDIUXsKNngTEwM6KOGETf1DBIUYZkgUghpKqFyHIO7VToIhlmjiiSimqOKKLPa2TnpbkdjijDTWaOONOOao44489ugjcykYAOOPRKY4ZJFIJrlUeEo26eSTUFr1QEFHRmnllVhmqeWWXHZp34hehtlcOuicI+aZd8mI5prFqcnmm3DqVmWcTkLjDp146nZnZuwYoEeegN72YRddBGpobGQYAAcWLxl46KN3GQLppKwxSumlmGaq6UO8CPTEpqBqxlifihYa6qmTVYbqqqy26uqrsMb/KuustNZq66241iSDCrn26uuvwAYr7LDEFmvsscgmq+yyzDbr7LPQRivttCVWMpCq1GZLEx98aOstTkx8K65NfLwx7rnopqvuuuy26+678MbLoijHRNjUrvLmexG++p5qrb1PzdkvpYgY0A62Ayds0DEKN9zQG5+Q6vDEBvWZDcUOO3AGxhwbxA06HU98xhsAh5xwJdgIabLD2Di6ssIpvzxwHZMYULLM79YxxyfSgIzzz0AHLfTQRBdt9NFIJ6300kw37fTTUKfGb9RUV32pmVZTy2TWXHft9ddgh81TIFhZQJ/YOc6BFQUE3Yw2ihsL5OZT9rr99ol13L0sH2DUjChwbtUIZDeqZxRigBRzyKK3sYiAgfhAFy8OrOEDwYKM5MKaa1DkmPsKhRVXdNv56KSXftzW72pekLk+m+7rGZ5I7HqsZqh9EDt/h7XC7Lz37vvvbnEO/PDEw3T2X1MXr/zyzDfv/PPQRy89mh9Ob/312GdfkwoAaA/q3N6HL/745Jdv/vnoZ9WGDgEBACH5BAUKAAYALB8AFADcAqAAAAj/AA0IHEiwoMGDCBMqXMiwocOHECNKnEixosWLGDNq3Mixo8ePIEOKHEmy5MVuJlOqXMmypcuXMGPKnEmzps2bArXh3Mmzp8+fQIMKHUq0qNGjSJMqXcq0qdOnUKNKnUq1qtWrWLNq3cq1q9evYLViC0u2rNmzaNOqXcu2rdu3cOPKnUu3rt27ePPq3cu3r9+/gAMLHlyTHz/CiBMrXsy4sePHkCNLnky5suXLmDNr3sy5s+fPoEOLHk26tOnTqFOrXs26tevXsGPLnk27tu3buHPr3s27t+/fwIMLH0486rTiyJMrX868OeENzqNLn069uvXr2LNrf2zi3/bv4Ome/wtPvrza8ebTq/eKcr379/C/M/Eev759pFPa3d/PP6j+/gAGSNN8Aq53XIEIJqjgggw26OCDEEYoYUHmjLWVhRNmqOGGHHbo4YcghijiiCTmtYIB2ZSo4n0prujiizzpBOOMNNZoI04OFNTijTz26OOPQAYp5JBEFmnkkUjS1l6STNa2ZJNQRknajlJWaeWVWGap5ZZcdmlAFy9x4+WYZJZp5plopqnmmmy26eabnbED55x5sYMOnXjaJWeefMZ1TZ+ABirooIQWyhwMLRiq6KKMNuroo5BGKumklFZq6aWYZqrpppx26umnoIYq6qiklmrqqaimquqqrLbq6quwxv8qq6aIzmprQbXequtAVO7q66/ABivssMQWa+yxyCar7LLMNpvZJP+I6eyo0k7r6RxzVBJMtdZyqkYdohxDX7fklmvuueimq+667Lbr7rvwxivvvPR6mWu9+OYLojr6MipjvwAHLPDABCs7R8GDBoJwoGYMNO7Cu3Uj8ZOAHQzxb9nws41A25yjMWCFWBFhr7v9t6YZfBhwxRu3XExnIWdA8cZA/7qsZsoDySKMzW5aXJA1PLPJgxlSIBL00UgnXRl6qPpM0MHcKo2mGqLcKbWXZ9SBEDpAq+XC1WCHLfbYLXVN9tloP3Zv2my37fbbcMct99x0f1Zz3Xjnrfferj0UzPdafv8t+OCEF2744YizfUcNAQEAIfkEBQoABgAsIgAUANkCoAAACP8ADQgcSLCgwYMIEypcyLChw4cQI0qcSLGixYsYM2rcyLGjx48gQ4ocSbIkRW4mU6pcybKly5cwY8qcSbOmTZvbburcybOnz59AgwodSrSo0aNIkypdyrSp06dQo0qdSrWq1atYs2rdyrWr169gK6IMS7as2bNo06pdy7at27dw48qdS7eu3bt48+rdy7ev37+AAwseTLiw4cOIEytezLix48eQI0ueTLmy5cuYM2vezLmz58+gQ4seTbq06dOoU6tezbq169ewY8ueTbu27du4c+vezbu379/AgzO1Jry48ePIkyv3y2G58+fQo0ufTr269evYs2vfzr279+/gw4v/H0++vPnz6NOrX8++vfv38OPLN0t8vv37+KH+y8+/v///AAZo1zracNWOgAgmqOCCDDbo4IMQRijhhEOlYECBFGboHYYaduhhSzl9KOKIJJYY0gMFcWjiiiy26OKLMMYo44w01mjjjXcdiOOOqunI449AWqZikEQWaeSRSCap5JIQYvFSN0xGKeWUVFZp5ZVYZqnlllx2ydZYXoYJFzrsiGnmW9icqeZaIa7p5ptwxinnnKvJoAKdeOap55589unnn4AGKuighBZq6KGIJqrooow26uijkEYq6aSUVmrppZhmqummnHbq6aegJmdnqKCOSmqoQ56q6qqsturqq7DG6CrrrLTWauutuOaq1yfYQKkro2n+iugbdUwiy37CHlrHHJ9Ig06y0EYr7bTUVmvttdhmq+223Hbr7bfgkmhquOSWG+A55srZZrrstuvuu/CeGki8as5Br5lnDOTjvVrWwa+YfIDRX6q3IUvlGYUYIMUcsvy7JSJgLDxQNg5bmfBAsCBT8ZVvHETxxlRCYcUVfIBs8skoM7buox0b1PGzKR/sSZkxH2mGvQexQzBZK9Ts889ABy3Sx0IXbbRh4x6t9NJMN+3001BHLbVi9U1t9dVYZ03avlqjxXXXYIct9thkl202yG3oEBAAIfkEBQoABgAsIgAUANkCoAAACP8ADQgcSLCgwYMIEypcyLChw4cQI0qcSLGixYsYM2rcyLGjx48gQ4ocSbIkxW4mU6pcybKly5cwY8qcSbOmTZvaburcybOnz59AgwodSrSo0aNIkypdyrSp06dQo0qdSrWq1atYs2rdyrWr169gK2ILS7as2bNo06pdy7at27dw48qdS7eu3bt48+rdy7ev37+AAwseTLiw4cOIEytezLix48eQI0ueTLmy5cuYM2vezLmz58+gQ4seTbq06dOoU6tezbq169ewY8ueTbu27du4c+vezbu379/AgzedJry48ePIkyv3u2G58+fQo0ufTr269evYs2vfzr279+/gw4v/H0++vPnz6NOrX8++vfv38OPLN0t8vv37+KG2y8+/v///AAZolzljbVWggAgmqOCCDDbo4IMQRijhhEGtYEA2FGb4HYYaduihSzl9KOKIJJYYkgMFcWjiiiy26OKLMMYo44w01mjjjXihhOOOqunI449AWqZikEQWaaSD6BhAxpFMYlYgHFg0KaVkehjQRRcvcTPlll0NwuWXjT0B5phklpnhMgJFaeaafGGDjZZWwsHmnHmxQ+edeNmJ55589unnn4AGKuighBbaFQwtGKrooow26uijkEYq6aSUVmrppZhmqummnHbq6aeghirqqKSWauqpqKaq6qqsturqq7DG/yorjYjOaqtAtd6q65C69urrr8AGK+ywxBZr7LHIJqvssswyNsk/cDYLarTSbjrHHJUEQ221mapRhyjH/MPtuOSWa+656Kar7rrstuvuu/DGK++8POZK7734JqhOvoqGyO+/AAcs8MDEzkFwoIEc/KcZA4mrMJ4GP9xnIVb0x6vEQ5nBhwFXvHELxnQWcgYUbwzkL8hgbjyQLMKgbGbEBVnjMpk8mCEFIjPnrPPOjJ1zKswEGbwtz1uqIUqSRB95Rh0IoSOzWi4kLfXUVFct0tNWZ621YfZu7fXXYIct9thkl222YiefrfbabLfttoYOvy333HTXbffdeO98Rw0BAQAh+QQFCgAGACwiABQA2QKgAAAI/wANCBxIsKDBgwgTKlzIsKHDhxAjSpxIsaLFixgzatzIsaPHjyBDihxJsiRFbiZTqlzJsqXLlzBjypxJs6ZNm9tu6tzJs6fPn0CDCh1KtKjRo0iTKl3KtKnTp1CjSp1KtarVq1izat3KtavXr2ArogxLtqzZs2jTql3Ltq3bt3Djyp1Lt67du3jz6t3Lt6/fv4ADCx5MuLDhw4gTK17MuLHjx5AjS55MubLly5gza97MubPnz6BDix5NurTp06hTq17NurXr17Bjy55Nu7bt27hz697Nu7fv38CDM7UmvLjx48iTK/fLYbnz59CjS59Ovbr169iza9/Ovbv37+DDi/8fT768+fPo06tfz769+/fw48s3S3y+/fv4of7Lz7+///8ABmjXOtpw1Y6ACCao4IIMNujggxBGKOGEQ6VgQIEUZugdhhp26GFLOX0o4ogklhjSAwVxaOKKLLbo4oswxijjjDTWaOONdx2I446q6cjjj0BapmKQRBZp5JFIJqnkkkwS1E2TUEYp5XhYTGnllVg2yItAT2TpZV7XcMOOQHB08eWZdY2F5ppyocPmm3DGKeecdNZp55145mmUDCro6eefgAYq6KCEFmrooYgmquiijDbq6KOQRirppJRWaumlmGaq6aacdurpp6CGKuqopJZqanJ8nmpqqqqeOmSrsMbxKuustNZq66245qrrrrz26uuven2CzZPASopNsY++UccksuyHbKN1zPGJNG4+a+212Gar7bbcduvtt+CGK+645JZr7oisnqvuugGewy6eIb4r77z01msvrIHcK+cc+sJ5xkA+9utlHQK/yQcY/b16W8BQnlGIAVLMIUvBXyICRsQDZUOxlQ8PBAsyG1/5xkEahywlFFZcwYfJLLfsMmPxWjqyQSNX+3KUZ3gy5s1HmsHvQewoTNYKPBdt9NFIi1Ry0kw3bVi6Tkct9dRBOUv11VhnrfXWSNXH9ddghy322B4yTPbZaKet9tpst21yGzoEBAAh+QQFCgAGACwiABQA2QKgAAAI/wANCBxIsKDBgwgTKlzIsKHDhxAjSpxIsaLFixgzatzIsaPHjyBDihxJsiTFbiZTqlzJsqXLlzBjypxJs6ZNm9pu6tzJs6fPn0CDCh1KtKjRo0iTKl3KtKnTp1CjSp1KtarVq1izat3KtavXr2ArYgtLtqzZs2jTql3Ltq3bt3Djyp1Lt67du3jz6t3Lt6/fv4ADCx5MuLDhw4gTK17MuLHjx5AjS55MubLly5gza97MubPnz6BDix5NurTp06hTq17NurXr17Bjy55Nu7bt27hz697Nu7fv38CDN50mvLjx48iTK/e7Ybnz59CjS59Ovbr169iza9/Ovbv37+DDi/8fT768+fPo06tfz769+/fw48s3S3y+/fv4obbLz7+///8ABmiXOWNtVaCACCao4IIMNujggxBGKOGEQa1gQDYUZvgdhhp26KFLOX0o4ogklhiSAwVxaOKKLLbo4oswxijjjDTWaOONeKGE446q6cjjj0BapmKQRBZppIPsGKDHkUxiZo1AXXTR5JSSkWEAHFi8xA2VXHZlSJdghinmmGSWaeaZaKap5ppstulmgkm+KSdb18xp55145qnnnrTB0AKfgAYq6KCEFmrooYgmquiijDbq6KOQRirppJRWaumlmGaq6aacdurpp6CGKuqopJZq6qmo3udnqqyuyuqrQ771KuustNZq66245qrrrrz26uuvwAbL2CT/bCmspcYeG+kcc1QSTLLKPqpGHaIc80+02Gar7bbcduvtt+CGK+645JZr7rno8uhquuy2m6A67vIZYrz01mvvvfjmOke+dgbCr5xmDHTtv2vuS7CbhVjRX6y4DSymGXwYcMUbtxysZiFnQPHGQPNaLGbEA8kijMdmGlzQkySPyYMZUiCS8sswxwzZOZyaTNC+0MoMphqioKNzk2fUgRA6KKflws9IJ6300ikVzfTTUCO2btRUV211UftdrfXWXHft9VMdfy322GSXbTaJDp+t9tpst+3223AzfUcNAQEAIfkEBQoABgAsIgAUANkCoAAACP8ADQgcSLCgwYMIEypcyLChw4cQI0qcSLGixYsYM2rcyLGjx48gQ4ocSbIkRW4mU6pcybKly5cwY8qcSbOmTZvbburcybOnz59AgwodSrSo0aNIkypdyrSp06dQo0qdSrWq1atYs2rdyrWr169gK6IMS7as2bNo06pdy7at27dw48qdS7eu3bt48+rdy7ev37+AAwseTLiw4cOIEytezLix48eQI0ueTLmy5cuYM2vezLmz58+gQ4seTbq06dOoU6tezbq169ewY8ueTbu27du4c+vezbu379/AgzO1Jry48ePIkyv3y2G58+fQo0ufTr269evYs2vfzr279+/gw4v/H0++vPnz6NOrX8++vfv38OPLN0t8vv37+KH+y8+/v///AAZo1zracNWOgAgmqOCCDDbo4IMQRijhhEOlYECBFGboHYYaduhhSzl9KOKIJJYY0gMFcWjiiiy26OKLMMYo44w01mjjjXcdiOOOqunI449AWqZikEQWaWSD6BhAxpFMYoaNQHBg0eSUkulhQBddvNQNlVx2NUiXYIYp5phklmnmmWimqaZG7FiZZZZrxukWO0peKeedbj2J555sbcnnn4AGKuighM4mgwqFJqrooow26uijkEYq6aSUVmrppZhmqummnHbq6aeghirqqKSWauqpqKaq6qqsturqq7DG/nrfobLWSmutuA6J66689urrr8AGK+ywxBZr7LHIJqvsYp9g4+eynuoJraZv1DGJLPtNq2kdc3wiTZLahivuuOSWa+656Kar7rrstuvuu/DGu+Ot8tZrb4Ln3FtoiPr26++/AAcsbCAC/zlHwXueMZCPCKdZR8N48gFGf7pCLNQZhRggxRyyWJwmImBsPFA2HpOZ8UCwIFNymW8cRPLKYkJhxRV8wGzzzTgzxq+oLRvUMrg5h3mGJ3QGfaQZBx/ETsVkrWD001BHLbVIL09t9dWG0Yv11lx37fXXYIct9tiK1Uf22WinrTZp2a6tFsNuxy333HTXbffdNrehQ0AAACH5BAUKAAYALBUADQD7ArUAAAj/AA0IHEiwoMGDCBMqXMiwocOHECNKnEhxYbt2FTNq3Mixo8ePIEOKHEmypMmTKFOqXMmyJcJu6lw2/Cezps2bOHPq3Mmzp8+fQIMG5Se0qNGjSJMqPdptqdOnUKNKnUq1qlWnF69q3VozJtevYMOKHUu2rNmzaNOqXcu2rVuNhqxhW0jurd27ePPq3WsVQqS5fAMLHkz4IDuFTQsfzTqx3TnFkCNLnixRG2Ww3A5mHkjzsufPoEOLHk26tOnTFLslNmoNtevXsGPrRBDF4GGMsnPr3s2b7Q0DyQYCHqi6N850ByHEqSuUufHn0Keuan3Qhm10m9/izuu1I43o4MPb/z1M8JoBCbVXiV+b7HD29fDjk5VwYuAERwmLy7fKD93+/wBuVVtBS1gX4IEIJggfOtac889jBmRjAD8OcqPNOf5tp+CGHHbo2nsDcbOahyRSBmKJ8OlHkIYGnHOOOjB2h+KMNNZo44045qgjWTLu6CNKlv0o5EmDWJDBkEgmqeROMBI0yJJQRillSp1NaeWVWKKkgwpZdunll1XaxSJ406yXwphfTknEYC7s5gAHacYpp0vbCIRmbD0adOScfKK2piJ39hlSkAdRJ+ihk+WJKEtlHkSoaY8umqQ6Ego0haJ2QbhbowXViZo6kUoaJaZqYaDhiW26VuYGnYoqVAIGBP/K1IhDMhGmWp4aYCpBtMrmAEFBGJCrbibc+mU6yAmp6UHZkOpqR43ItqwB3Rk72rRBxdgdRmjYAYi3aBiAjKwkkvusRqEaIERsJw5krpXccPMYHALtwpBqjO3X5F51WvAPKQOli1qlBrBKkMCiDVuQszRykyxFj2V2xDLtMJwgpSvqBYoBO1gLG6eenNsWNuwMJxHJJjuE0RPLMLPju2n10E67p4VpsAHBGlcszJLxvFHKITV1hEAWk2iIx2H5/BqhN+fc25meIawN0hoFh9Ay5OxCizgGhOJRZk8k2StaG0P3ZjvRrgsbzUp1Eo5OnKZE3kL8tAahLRMuE6tGQ/v/qEiEItd4jsIGFY1TM/gYZThJ7RE0d5ZUGxB54BLdbBKyyBJ0iQH+vTV5RYiEx4kByzwOFdCREUwQoIaq5W9GqSqYb277EoSPeRHFnRS2HVEjETmbkN7PRt3oMTHqKqkOVCJAfW7WdmMz1CbCGqUAMFe6U/4TrCfhHRE7nHhPUOcRKS07Xh0b96ZMbGt/kPMT1fXLRJYA3hEgysi0hTjZkD+YsUmw09TuYj73ReQQAkFeUqTBhsR9xBkE4V1LqMcRbLQmH+AQBzlq4RJVCIQoLWFO6whzBwOa5R66iIUBFEgScwDNFQO5RgF1cg41pAJ3K/xI9EZCOILALyOPiQk3//hRDf8JxIgi6sg/0nERfDWFG+3ooUfm1g0XSSZMI5RPtMLyjJ50w3Q18R8CaYJDp8QjDCTBhgRbssaQSBEi/AChQ2rXkWsQ5RptJEg/2IHDwT1GjoNhwJOyGJ92hOw57WvJ8C5xDzvN8CbDE0g9yNGPR34EkBqxpAFAcBQ6dmR2DLEGOlgESsHIIC8hEFZPUAEWZEQmGSw0z+JuMjNtJBEnLCxfi1gyyz6lYC+ErEmVmKHJG/njFgTZhz/KaEIsPSAwK7DfWSiIlpiM6WEM8UoxBdIN/2Cocw+6BjabeaVnCkZ5E4kdRzrzw88oyorkjCdIzAmDvNSzI21C50/SRf9NsNDRk/IM6EZock+8tECgHiolQoNizrv8iiD6XKhEczSIhk70ohjNqEbVksiNVqUG7eQLLnrp0ZQoNCP9HItqMldSlkRKBlxqKWlUZJrBkTSjHd0ITGWqoDe+hKdq2SFQBRJMLwl1qFtpSkgdYlHXqBOpUKVKREnSCGYS56YQKWhbHEDQFiw1Idss6VLDehN3QGN8u6EpX8hqEILq5aCQKYAACmAAAbgmFrnAqwH0ypOjJuWs4TmMHtLCDk8RACE51QxDmmrCuToKJVg1SjH4ilcVEiSxJoksn6xBnS50oSzmAeEAXOLWiTRFsz6BAVw38tSqxKEgcn1NHlTGVon/fPUn2MDsWmpLEDIYAA5YqAkUVWJEljA2IupwZVQXig1soAMd8OyNIbZS1ARpdSDTxUs3SCAQu+5GmWA0zXP3FV2XcPKiyjslXq7Ll9t6RpnLLYgDKPAj9d6FvXsZ50BQmxeTYeMaxYWqBRIy1dL4VTT3LLBA9sTboghDNxHz0nlJ8sT9OosBAw5PeaHKDf7G1ygTJgkgAUoQDJSEG76lV3CRit8Px3e+JfHPYFesm+O6+MY3SWVG4iUQveXwIBsmCIZPEl7Z2BjHSHYKjEbZjgDzxKq5oac9PdLaJFPOw0XBclI6E1Mre1kt7kWQlB9Cq1qwQxsNbkmLv8xm6OgY/yK3nS1VFKbaNtsZKjQJM1R2WpEi35kvPnVVSo2DDD3T7c+QCTSiY4MOUSyaMoO2kqIfTelKW1og9r10RqKIKN1q+tPyKcGiCdrlt9SZI1UGtarz0tBSN+QWkCDaqmdNuTFHpBJfWTOtA8cFJbV6vbsO9ml+vRA/vCETnxCLroV9Li3/58gGeYMBQjcJA7whdFxJMLNJFGKZ9FpOajAAH85ggCkMxBz8OPC2M9ptm0z6R36YAywO8gY+DES/Uln2uiVlaAWttiDJ3jeb31yTL2QJggV5wxwQkmaBJ0nUHCE4T4Mx74HYW9pk0bfDBdXv+NBhIA/AjasRgsyNu7jdLf8xuCoZouAAdTUhfOBDJuwtEFmEReMmn5Oz/1PahiCiElYwgCg+IQ3/VFcpp8650vXCZYg4IBMCCUbHc5L0pVvdLfT8t0ICQZBqN9wl2r56n76NJGIrRA1QJ4i9/+Hkt6Ra7Bs/OlTSLgW4290nXy8LVwWidYPQnCyZXnreJapyniiB7Hcv0SkjHRiIP7rvA6kE1/9ugDok/vI6GvlCEDEJHkgO8+uedMtthIhj+D23oJ8K42ODcpYgPk7jqDuzrILz1NseKWZXiCyuAAVXYDxWnhZK7W9PfIYKZPgGCb7wi898qOS+IXMIRCWCkcu2vL352A8JDDR/dssbQPlBQX7/9sfvEnpyvyE8Jn/gJM7mc8hd/TdyPPx1Iv752/8k579/QFvfkn+IPkvqhhT1p3+EwX8qUXhLMnLj4AVqUXUE+IArwWcE8QnjYHoG0AdRNxYOCIEcOBJHFjqVgGsC4QMVh0zklm0dqCMIKCTPV3k/V3I+IA22cQ0YsxfXl4Ky8XpC0nN2sYE4+IMDZQDblxDIJAZnAXlAmIQS0YIGYAYGYHMCcQx+IH0CgQsGEIBLgVo3qITwR2oHcYLBYABeUG0BNxB5tBR1tnrbhoVcqBKOZgBcFxq/FBIkEBNnOBptpxYY8X5C8m43og1NEWslRxB0UG1WQG7VljQGwAVseBJT/ycoUnQ0ftiGItFlwUAICEF5BoCJj4hkmVBZuVAWAjOJDcFSS0diNSGBHIQQVhAyCzcQeTgVFEATD/AFg8cQ3tWJfMEKeSUUtaWGAPIiEXSHCBE5xIgXMOIipHgS7SANwXCCBKEDvweNYVE2PKEA4FFZA5ELvMgKWgGMrmGANFI7O8cRGIGJBhFuA+GEAqGLODEN5agRdDUQBRAARtGIQJFXoWhZXwGOozEs4ogS37aM5XMRt+gSQXYeCUQtYJd/B/GKKMgRc8gRseVddRUA85gboSgQ9GAA97AOBmAO0iCSIilR7JdyQHIOIKSSKskVPbQAe2Ncx+eQefAJbzgW0f+0ETkZEZhEj4ExehQBIvzITRhxkGExXAGigyLhH//QlE7plLLRdAIRSQRxkwRxBW8AC3xYaVDGhYAgCQMhCYBgAGI5FfhmAAeAE164EKsoEGYABdKWPfl2UP4oEFu4EMgDGNX3GfrRle5ilPEFNS0BCHIpFQeQljXxfJmQCbE2EMfwewYge4KxkxJxUsJxjJR4Gp91EJtADoexl5BhaxPIBwFXC1bJjgYgDeD3EwO4EqCZmWhRLDVBFLmFmZHhkARBjdmGhCrBGKYIm+vxmSXjZ0/hHx9AAIe1ExI4EIl4EEEHBrh2PbTHm8D5JcyER1XBD+3wX06hBnzwirq5Fa3/yWy2iXn7ohrqgI8+AQZXAAbVSTnq6Rr7chGoaBTSpo4EAQZqIAqxiHTU+Z58KR/6oVZKcQZnUAioOT5baRZ3CaBW1p8lYXb9cEgGMQfeJxD46aA7sg3xKDI9N0tnUAegQJxo+J8aihnLRWzd4QeVkHYEEQOVFwjhZoF5saAnenm29jk+AIcCUQv9UJhOMZ6i0qE3uhBtVJ4HQZAFwYMGUQgG4J4J0Q+vWRQ+WCKWkxMmUKRBsZoc0YJxyHWS+QcEYXkQKoAeIQbu6CGtkaZaWhNI+hB+oIlj6oSBYAafUCUjhXlA2RN12aYdIW2BEJ6YkKD/kCpv6qcGsHhBoaT3/+d9VzCmA5EJZYqolIoU4ZkQtdAONgoUgQdVfSoRnVqpIrF3BqB1EIkQ/eAVqPAPmxoUJrptnCaqLoEICZoQuNANlhGfsrqrIyGVAxGHDIERbNoSr4oWXHoWuvofM+NlybqkQogQZmAGf3CpYFGlRxFADwiY8cWkBWEGTjoQpaatJ2GtRvEMHcAEcHYvQJEGNjGsP/E3NcGot8eECbGqrWoU9fepHgEK7opRewoSh3pp5rd5uJGnsSKuJiF+90oSSHMpCUGkvBof/boQ5+eEncELBmANEKsU/4oTitIZGysSCxuxZiGdHCGvApEuwJqyEwt2Z9GTS9GxhBGqJNsqEZ9BqsVaFjkLHy1bs1OhWyVEsw8RchChr/IRsj57LquKZhnXEEZrE0ibtCQStQVhDWcJVAgrtbHRDccqgDurtczWrAcBCi8QGCgrGk8LtrzxRWVbC3lGtUIhs6cht2oLHyxgAG6rF83icNlVtx1xUJmqFw3it/eXtUWqA0fiNIT7GgG7uI77ET37uJJbOHA7uYj2JOhouZrLjIa7uXUbEAAAOw==)\n"
      ],
      "metadata": {
        "id": "SuR3B97ybH_q"
      }
    },
    {
      "cell_type": "markdown",
      "source": [
        "The InS Norm or instance normalisation layer normalises a single instance (and not over all the batched instances). The forward pass just normalises the image by the norm of each channel of the image. The backward pass is the same as forward pass in this respect, therefore we do not need a seperate function for the backward pass."
      ],
      "metadata": {
        "id": "4N30LYpBZU4x"
      }
    },
    {
      "cell_type": "code",
      "execution_count": 6,
      "metadata": {
        "id": "RG-xxF-2oNyI",
        "cellView": "code"
      },
      "outputs": [],
      "source": [
        "#LAYER DEFINITIONS (support backward propagations for feedback)\n",
        "class InsNorm(nn.Module):\n",
        "    def forward(self, x, std=False, returnnorm=False):\n",
        "        if (std==True):\n",
        "          #use sqrt(variance) for the norm\n",
        "            normx = torch.sqrt(torch.var(x, dim=(2,3)).reshape([x.shape[0],x.shape[1],1,1]) + 1e-8)\n",
        "        else:\n",
        "          #use sqrt(mean of squares) for the norm\n",
        "            normx = torch.sqrt(torch.mean(x**2, dim=(2,3)).reshape([x.shape[0],x.shape[1],1,1]) + 1e-8)\n",
        "        if returnnorm==True: \n",
        "            return x/normx, normx\n",
        "        else:\n",
        "            return x/normx\n"
      ]
    },
    {
      "cell_type": "markdown",
      "source": [
        "The Flatten module flattens the input into a vector.\n",
        "The backward pass turns the flattened vector back into its original form, by saving the original size of the input."
      ],
      "metadata": {
        "id": "z68SDFEXZ-G0"
      }
    },
    {
      "cell_type": "code",
      "source": [
        "class Flatten(nn.Module):\n",
        "    def forward(self, x, step='forward'):\n",
        "        if 'forward' in step:\n",
        "            self.size = x.size() #original size of the input is saved\n",
        "            batch_size = x.size(0)\n",
        "            return x.view(batch_size, -1) #returning flattened input to the forward pass\n",
        "\n",
        "        elif 'backward' in step:\n",
        "            batch_size = x.size(0)\n",
        "            return x.view(batch_size, *self.size[1:])\n",
        "\n",
        "        else:\n",
        "            raise ValueError(\"step must be 'forward' or 'backward'\")\n",
        "            "
      ],
      "metadata": {
        "id": "9tk-NMauXfeF"
      },
      "execution_count": 7,
      "outputs": []
    },
    {
      "cell_type": "markdown",
      "source": [
        "The Conv2D module applies a 2D convolution over the input for the forward pass. \n",
        "In the backward pass of the module, a transposed 2D convolution is applied to the input with the same weights as the original 2D convolution.\n",
        "\n",
        "This module uses a He initialisation for the weights, which is a modified version of the Xavier initialisation that developed specially for nodes and layers that use the ReLu activation.\n",
        "\n",
        "The He initialization method is calculated as a random number with a Gaussian probability distribution (G) with a mean of 0.0 and a standard deviation of sqrt(2/n), where n is the number of inputs to the node.\n"
      ],
      "metadata": {
        "id": "sWfmx4Mza5rM"
      }
    },
    {
      "cell_type": "code",
      "source": [
        "class Conv2d(nn.Module):\n",
        "\n",
        "    def __init__(self, in_channels, out_channels, kernel_size, bias=False, **kwargs):\n",
        "        super().__init__()\n",
        "        self.conv = nn.Conv2d(in_channels, out_channels, kernel_size,\n",
        "                              bias=bias, **kwargs)\n",
        "        \n",
        "        if self.conv.stride[0] > 1:  #if the stride of the convolution is greater than 1, we enable padding\n",
        "            self.conv_t = nn.ConvTranspose2d(out_channels, in_channels,\n",
        "                                         kernel_size, bias=bias, output_padding=1, **kwargs) #the transposed 2D convolution\n",
        "        else: #if the stride is just 1, we do not need to enable padding.\n",
        "            self.conv_t = nn.ConvTranspose2d(out_channels, in_channels,\n",
        "                                         kernel_size, bias=bias, **kwargs)\n",
        "        \n",
        "        #The following part of the code uses the He initialisation for the weights of the convolutional layer\n",
        "        n = self.conv.kernel_size[0] * self.conv.kernel_size[1] * self.conv.out_channels #no of inputs to the node is the size of the kernel into the number of kernel channels\n",
        "        self.conv.weight.data.normal_(0, math.sqrt(2. / n)) #Mean 0, stddev sqrt (2/n) \n",
        "        \n",
        "        #Tie the weights between the convolution and the transposed convolution\n",
        "        self.conv_t.weight = self.conv.weight\n",
        "\n",
        "    def forward(self, x, step='forward'):\n",
        "        if 'forward' in step:\n",
        "            return self.conv(x) #return the normal convolution\n",
        "\n",
        "        elif 'backward' in step:\n",
        "            return self.conv_t(x) #return the transposed convolution\n",
        "\n",
        "        else:\n",
        "            raise ValueError(\"step must be 'forward' or 'backward'\")\n",
        "            "
      ],
      "metadata": {
        "id": "7S4GtS3EZCpI"
      },
      "execution_count": 8,
      "outputs": []
    },
    {
      "cell_type": "markdown",
      "source": [
        "The Linear class applies a linear transformation to the input in the forward pass. \n",
        "THe backward pass involves applying a transposed version of the same linear transform (with corresponding transposed weights) to the input."
      ],
      "metadata": {
        "id": "3zZMqhK_cJq9"
      }
    },
    {
      "cell_type": "code",
      "source": [
        "class Linear(nn.Module):\n",
        "    def __init__(self, in_features, out_features, bias=False, **kwargs):\n",
        "        super().__init__()\n",
        "        self.linear = nn.Linear(in_features, out_features, bias=bias) #our forward pass linear transform \n",
        "        self.linear_t = nn.Linear(out_features, in_features, bias=bias) #the transposed version of the above linear transform: note the no of input and output channels is reversed\n",
        "        \n",
        "        if(bias==True):\n",
        "            self.linear.bias.data.zero_() #initialising the bias to 0\n",
        "        # Tie the weight of the transposed linear transform with the\n",
        "        # transposed weights of the linear transform\n",
        "        self.linear_t.weight.data = self.linear.weight.data.t()\n",
        "\n",
        "        # Make the weight publicly accessible\n",
        "        self.weight = self.linear.weight\n",
        "\n",
        "    def forward(self, x, step='forward'):\n",
        "        if 'forward' in step:\n",
        "            return self.linear(x)\n",
        "\n",
        "        elif 'backward' in step:\n",
        "            # Tie the weight of the transposed linear transform with the\n",
        "            # transposed weights of the linear transform\n",
        "            self.linear_t.weight.data = self.linear.weight.data.t()\n",
        "            return self.linear_t(x) #returning the transposed linear transform \n",
        "\n",
        "        else:\n",
        "            raise ValueError(\"step must be 'forward' or 'backward'\")\n",
        "            "
      ],
      "metadata": {
        "id": "VnSq79liZHjl"
      },
      "execution_count": 9,
      "outputs": []
    },
    {
      "cell_type": "markdown",
      "source": [
        "This class applies the standard ReLU activation over the input. \n",
        "\n",
        "It saves the state of variables, to keep track of which inputs were activated. This will let only inputs that were activated in the forward pass, pass through in the backward pass."
      ],
      "metadata": {
        "id": "3zxXEqrpdOa6"
      }
    },
    {
      "cell_type": "code",
      "source": [
        "class ReLU(nn.Module):\n",
        "    def __init__(self):\n",
        "        super().__init__()\n",
        "        self.state = None #keeps track of whether an input was activated or not \n",
        "        self.hidden = None\n",
        "\n",
        "    def forward(self, x, null_space=None, unit_space=None, step='forward'):\n",
        "        if 'forward' in step:\n",
        "            # Store which weights were activated\n",
        "            if self.hidden is None: #this is the first forward pass\n",
        "                self.state = (x > 0)  #stores the state of the input (ie whether it was activated or not : if its greater than 0, then reLU activates it)     \n",
        "            else:\n",
        "                self.state = (x * self.hidden) > 0 #if this is not the first forward pass, takes value of the input multiplied with the previous value passed through the ReLU backward pass\n",
        "            result = x * self.state.float() #the relu function\n",
        "                \n",
        "            return result\n",
        "\n",
        "        elif 'backward' in step:\n",
        "            # Units that were activated in the forward step are passed through\n",
        "            self.hidden = x #stores the value that is being passed through, to be used in the next forward pass\n",
        "            masked_hidden = x * self.state.float() #the relu function\n",
        "            if unit_space is not None:\n",
        "                return masked_hidden, unit_space\n",
        "            else:\n",
        "                return masked_hidden\n",
        "\n",
        "        else:\n",
        "            raise ValueError(\"step must be 'forward' or 'backward'\")\n",
        "\n",
        "    def reset(self):\n",
        "        self.hidden = None\n",
        "        self.state = None\n",
        "        "
      ],
      "metadata": {
        "id": "HIIfCsUmZP_I"
      },
      "execution_count": 10,
      "outputs": []
    },
    {
      "cell_type": "markdown",
      "source": [
        "This class applies the ReLU activation with residual updates over the input.\n",
        "\n",
        "It saves the state of variables, to keep track of which inputs were activated. This will let only inputs that were activated in the forward pass, pass through in the backward pass."
      ],
      "metadata": {
        "id": "rhxKqs0UseYS"
      }
    },
    {
      "cell_type": "code",
      "source": [
        "\n",
        "        \n",
        "class resReLU(nn.Module):\n",
        "    \"\"\"\n",
        "    AdaReLU with residual updates.\n",
        "    \"\"\"\n",
        "    def __init__(self, res_param = 0.1):\n",
        "        super().__init__()\n",
        "        self.state = None\n",
        "        self.hidden = None\n",
        "        self.res_param = res_param #this is the residual parameter\n",
        "\n",
        "    def forward(self, x, null_space=None, unit_space=None, step='forward'):\n",
        "        if 'forward' in step:\n",
        "            # Store which weights were activated\n",
        "            if self.hidden is None:  #this is the first forward pass\n",
        "                self.state = (x > 0)   #stores the state of the input (ie whether it was activated or not : if its greater than 0, then reLU activates it)                 \n",
        "            else: #NOT the first forward pass: there was a backward pass before this\n",
        "                x = x + self.res_param * (self.hidden - x) #the residual parameter comes into play here: self.hidden is the last value that was passed through the ReLU backward pass\n",
        "                #thus, the difference between the last value passed through the reLU backward pass and the current input value is multiplied with the residual parameter and added to the input\n",
        "                self.state = (x * self.hidden) > 0 #if this is not the first forward pass, takes value of the input multiplied with the previous value passed through the ReLU backward pass\n",
        "            result = x * self.state.float() #the reLU activation function\n",
        "                \n",
        "            return result\n",
        "\n",
        "        elif 'backward' in step:\n",
        "            # Units that were activated in the forward step are passed through\n",
        "            self.hidden = x #stores the value that is being passed through, to be used in the next forward pass\n",
        "            masked_hidden = x * self.state.float()  #the reLU activation function\n",
        "            if unit_space is not None:\n",
        "                return masked_hidden, unit_space\n",
        "            else:\n",
        "                return masked_hidden\n",
        "\n",
        "        else:\n",
        "            raise ValueError(\"step must be 'forward' or 'backward'\")\n",
        "\n",
        "    def reset(self):\n",
        "        self.hidden = None\n",
        "        self.state = None\n",
        "        "
      ],
      "metadata": {
        "id": "GznlxUIoZOS8"
      },
      "execution_count": 11,
      "outputs": []
    },
    {
      "cell_type": "markdown",
      "source": [
        "This is the average pool class. The forward pass takes the average value for the values of the feature map. The backward pass tries to reverse this functionality by applying a 2D nearest neighbour upsampling to the input. "
      ],
      "metadata": {
        "id": "fDXg0HVztsOb"
      }
    },
    {
      "cell_type": "code",
      "source": [
        "class AvgPool2d(nn.Module):\n",
        "    \n",
        "    def __init__(self, kernel_size, scale_factor=10, **kwargs):\n",
        "        super().__init__()\n",
        "        \n",
        "        self.avgpool = nn.AvgPool2d(kernel_size, **kwargs) #applying average pool to the input \n",
        "        self.upsample = nn.UpsamplingNearest2d(scale_factor=scale_factor, **kwargs)  # reversing the average pool by performing nearest neighbour upsampling on the input \n",
        "        #the scale factor decides the output size of function\n",
        "\n",
        "    def forward(self, x, step='forward'):\n",
        "        if 'forward' in step:\n",
        "            return self.avgpool(x)\n",
        "\n",
        "        elif 'backward' in step:\n",
        "            return self.upsample(x)\n",
        "\n",
        "        else:\n",
        "            raise ValueError(\"step must be 'forward' or 'backward'\")\n",
        "            "
      ],
      "metadata": {
        "id": "Ze8XyEg7ZNDV"
      },
      "execution_count": 12,
      "outputs": []
    },
    {
      "cell_type": "markdown",
      "source": [
        "The MaxPool class performs a maxpooling operation over the input in the forward pass in the following manner:\n",
        "If the pixel in g that governs this grid is > 0, it performs maxpool on this grid.\n",
        "If the pixel in g that governs this grid is < 0, it performs min pool on this grid.\n",
        "\n",
        "For the backward pass, we use MaxUnpool2d which takes in as input the output of MaxPool2d including the indices of the maximal values and computes a partial inverse in which all non-maximal values are set to zero. \n",
        "\n",
        "Thus, it keeps track of whether the pixel came from a min value or a max value pooling. If it came from a min value pooling, we put it back in the position of the min value. If it came from a max value pooling, we put it back in the position of the max value.\n"
      ],
      "metadata": {
        "id": "2a1HyiFevLCe"
      }
    },
    {
      "cell_type": "code",
      "source": [
        "class MaxPool2d(nn.Module):\n",
        "    def __init__(self, kernel_size, **kwargs):\n",
        "        super().__init__()\n",
        "        self.maxpool = nn.MaxPool2d(kernel_size, return_indices=True, **kwargs) #the maxpool layer \n",
        "        self.unpool = nn.MaxUnpool2d(kernel_size, **kwargs) #the reverse maxpool layer for the backward pass, computes inverse of the maxpool layer output by setting all non maximal values to zero\n",
        "        \n",
        "        self.hidden = None #to record the value of the prev backward pass input for the next forward pass\n",
        "        self.pos_state = None #checks if the hidden state (the value of the last backward pass) is greater than 0\n",
        "        self.neg_state = None #checks if the hidden state (the value of the last backward pass) is less than 0\n",
        "        self.pos_ind = None #records the indices of the maximum elements in the original input which are output after performing maxpooling\n",
        "        self.neg_ind = None #records the indices of the minimum elements in the original input which are output after performing minpooling \n",
        "        self.unpoolsize = None #records the shape of the input in the forward pass\n",
        "\n",
        "    def forward(self, x, null_space=None, unit_space=None, step='forward'):\n",
        "        if 'forward' in step:\n",
        "            if self.hidden is None: #first forward pass\n",
        "                self.unpoolsize = x.shape #records the shape of the input in the forward pass\n",
        "                max_pool, self.pos_ind = self.maxpool(x)   # self.pos_ind returns the indices of the maximum elements in the original input\n",
        "                return max_pool\n",
        "                \n",
        "            else: #not the first forward pass, we may need to deal with negative input\n",
        "                max_pool, self.pos_ind = self.maxpool(x) #maxpools input, records indices of max elements\n",
        "                min_pool, self.neg_ind = self.maxpool(-x) #effectively minpools input, records indices of min elements \n",
        "                min_pool = -min_pool #need to reverse the sign to get the correct value of the minpool output\n",
        "                self.pos_state = (self.hidden > 0).float() #checks if the hidden state (the value of the last backward pass) is greater than 0\n",
        "                self.neg_state = (self.hidden < 0).float() #checks if the hidden state (the value of the last backward pass) is less than 0\n",
        "                out = self.pos_state * max_pool + self.neg_state * min_pool #if we perform maxpool, we return maxpool output. if we perform minpool, we return minpool output. \n",
        "                #works because pos_state and neg_state are boolean flags\n",
        "                return out\n",
        "\n",
        "        elif 'backward' in step:\n",
        "            self.hidden = x #records input of backward pass for next input pass\n",
        "            if ((self.pos_state is None) or (self.neg_state is None)):  # this is the first backward pass\n",
        "                max_unpool = self.unpool(x, self.pos_ind, output_size=self.unpoolsize)  #perform unpool directly since first forward pass always performs maxpooling\n",
        "                return max_unpool\n",
        "            else:            \n",
        "                max_unpool = self.unpool(x * self.pos_state, self.pos_ind, output_size=self.unpoolsize) #performs unpooling on the maxpool output using the positive indices of the forward pass\n",
        "                min_unpool = self.unpool(x * self.neg_state, self.neg_ind, output_size=self.unpoolsize) #performs unpooling on the minpool output using the negative indices of the forward pass\n",
        "                return max_unpool + min_unpool #can only return one of them, since x*self.pos_state will be 0 if self.neg_state is 1 and thus give max_unpool the value of 0 and vice versa\n",
        "\n",
        "        else:\n",
        "            raise ValueError(\"step must be 'forward' or 'backward'\")\n",
        "\n",
        "    def reset(self):\n",
        "        self.hidden = None\n",
        "        self.pos_state = None\n",
        "        self.neg_state = None\n",
        "        self.pos_ind = None\n",
        "        self.neg_ind = None\n",
        "        "
      ],
      "metadata": {
        "id": "6zepuZ-QZL6Z"
      },
      "execution_count": 13,
      "outputs": []
    },
    {
      "cell_type": "markdown",
      "source": [
        "The bias class just adds bias to the input in the forward pass, and subtracts it in the backward pass."
      ],
      "metadata": {
        "id": "u3caboEx6JNA"
      }
    },
    {
      "cell_type": "code",
      "source": [
        "class Bias(nn.Module):\n",
        "\n",
        "    def __init__(self, size):\n",
        "        super().__init__()\n",
        "        self.bias = nn.Parameter(torch.Tensor(*size)) #bias is a parameter\n",
        "        self.bias.data.zero_() #setting the bias value to zero\n",
        "\n",
        "    def forward(self, x, step='forward'):\n",
        "        if 'forward' in step:\n",
        "            return x + self.bias #adding the bias to the input\n",
        "\n",
        "        # no bias in backwards pass\n",
        "        elif 'backward' in step:\n",
        "            self.x = x\n",
        "            return x - self.bias #returning the bias \n",
        "\n",
        "        else:\n",
        "            raise ValueError(\"step must be 'forward' or 'backward'\")\n",
        "\n",
        "    def path_norm_loss(self, unit_space):\n",
        "        return torch.mean((self.x * self.bias - unit_space * self.bias)**2)\n",
        "        "
      ],
      "metadata": {
        "id": "NI7xCNf1ZKdS"
      },
      "execution_count": 14,
      "outputs": []
    },
    {
      "cell_type": "markdown",
      "source": [
        "The Dropout class performs dropout regularisation (setting the input values to 0 with a probability p) on the input for the forward pass and stores whether the values of the input have been set to zero or not. \n",
        "\n",
        "In the backward pass, if the corresponding input values for the forward pass were set to 0 then the backward pass values are also set to 0. Otherwise, they are let through.\n"
      ],
      "metadata": {
        "id": "vweJmK7m7-f_"
      }
    },
    {
      "cell_type": "code",
      "source": [
        "class Dropout(nn.Module):\n",
        "    def __init__(self, p=0.5):\n",
        "        super().__init__()\n",
        "        self.p = p #probability with which backward pass is performed\n",
        "\n",
        "    def forward(self, x, step='forward'):\n",
        "        if 'forward' in step:\n",
        "            if self.training: #we dont perform dropout operations in the testing stage, only in the training stage \n",
        "                self.dropout = (torch.rand_like(x) > self.p).float() / self.p  #recording whether the input was dropped out or not. if random number is less than p, then the input is dropped\n",
        "                #we divide by self.p so that sum over all inputs is unchanged\n",
        "                return x * self.dropout #if self.dropout is 0, then x*self.dropout will also be 0\n",
        "            else:\n",
        "                return x #do not drop any inputs if the model is testing\n",
        "\n",
        "        elif 'backward' in step:\n",
        "            if self.training: #we dont perform dropout operations in the testing stage, only in the training stage \n",
        "                return x * self.dropout #performing the same operation on the backward pass as was done in the forward pass\n",
        "                #if x was dropped in the forward pass, it will be dropped in the backward pass\n",
        "                #if x was let through in the forward pass, it will be let through in the backward pass\n",
        "            else:\n",
        "                return x #do not drop any inputs if the model is testing\n",
        "\n",
        "        else:\n",
        "            raise ValueError(\"step must be 'forward' or 'backward'\")"
      ],
      "metadata": {
        "id": "KakVt4tzZJA5"
      },
      "execution_count": 15,
      "outputs": []
    },
    {
      "cell_type": "code",
      "execution_count": 16,
      "metadata": {
        "cellView": "code",
        "id": "NXDuAjS4r-9F"
      },
      "outputs": [],
      "source": [
        "#@title cnnf\n",
        "#https://github.com/yjhuangcd/CNNF/blob/main/train.py"
      ]
    },
    {
      "cell_type": "code",
      "source": [
        "from torch._C import BenchmarkExecutionStats\n",
        "class myCNNF(nn.Module):\n",
        "    #2 convolutions, 2 linear layers\n",
        "    def __init__(self, num_classes, ind=0, cycles=2, res_param=0.1):\n",
        "        super(myCNNF, self).__init__()\n",
        "        \n",
        "        self.ind = ind #index to set the maximum backwards layer where the feedforward feedback loop cycles to: we set it to 0 so the data passes through all the layers\n",
        "        self.res_param = res_param #res_param for the reLU with residual updates\n",
        "        self.cycles = cycles #number of back and forth passes \n",
        "        \n",
        "        #28x28x16\n",
        "        self.conv1 = Conv2d(1, 32, kernel_size=3, stride=1, padding=1, bias=False) \n",
        "        self.ins1 = InsNorm()\n",
        "        self.ins1_bias = Bias((1,32,1,1))\n",
        "        self.relu1 = resReLU(res_param)\n",
        "        self.maxpool1 = MaxPool2d(2)\n",
        "        #14x14x32\n",
        "        self.conv2 = Conv2d(32, 16, kernel_size=3, stride=1, padding=1, bias=False)\n",
        "        self.ins2 = InsNorm()\n",
        "        self.ins2_bias = Bias((1,16,1,1))\n",
        "        self.relu2 = resReLU(res_param)\n",
        "        self.maxpool2 = MaxPool2d(2)\n",
        "        #7x7x16\n",
        "\n",
        "        self.flatten = Flatten()\n",
        "        self.fc1 = Linear(7*7*16, 256)\n",
        "        self.fc1_bias = Bias((1,256))\n",
        "        self.relu3 = resReLU(res_param) \n",
        "        self.fc2 = Linear(256, num_classes)\n",
        "        self.fc2_bias = Bias((1,num_classes))\n",
        "        #1x26\n",
        "\n",
        "    def forward(self, out, step='forward', first=True, inter=False, inter_recon=False):     \n",
        "        if ('forward' in step):\n",
        "            orig_feature = out #saving the original features\n",
        "      \n",
        "\n",
        "            block1 = out = self.relu1(self.ins1_bias(self.ins1(self.conv1(out))))   #intermediate block 1         \n",
        "            out = self.maxpool1(block1) #maxpool of block 1\n",
        "\n",
        "            block2 = out = self.relu2(self.ins2_bias(self.ins2(self.conv2(out)))) #intermediate block 2     \n",
        "            out = self.maxpool2(block2) #maxpool of block 2\n",
        "           \n",
        "            out = self.flatten(out) #flattening the input\n",
        "            out = self.relu3(self.fc1_bias(self.fc1(out)))   #linear layer, then bias layer, then relu   \n",
        "            out = self.fc2_bias(self.fc2(out)) #final output after a linear and bias layer\n",
        "\n",
        "        elif ('backward' in step):\n",
        "\n",
        "            out = self.fc2(out, step='backward') #backward computation of all forward pass steps\n",
        "            out = self.relu3(out, step='backward')\n",
        "            out = self.fc1(out, step='backward')\n",
        "            out = self.flatten(out, step='backward')\n",
        "\n",
        "            out = self.ins2(out)\n",
        "            out = self.maxpool2(out, step='backward')\n",
        "            out = self.relu2(out, step = 'backward')\n",
        "            block2_recon = out   #getting the block 2 output (since block 2 occurs after block 1 in forward pass, it occurs before block 1 in the backward pass)         \n",
        "            \n",
        "            out = self.conv2(out, step='backward')\n",
        "            out = self.ins1(out)\n",
        "            out = self.maxpool1(out, step = 'backward')\n",
        "            out = self.relu1(out, step='backward')\n",
        "            block1_recon = out #block 1 output of backward pass\n",
        "\n",
        "            out = self.conv1(out, step='backward') #getting the final output\n",
        "      \n",
        "\n",
        "            \n",
        "        if (inter==True) and ('forward' in step):\n",
        "            return out, orig_feature, block1, block2 #we return the final output of the backward pass, original features, and intermediate block1 and block2 output\n",
        "        elif (inter_recon==True) and ('backward' in step):\n",
        "            return out, block1_recon, block2_recon #we return the final output of the backward pass and intermediate block1 and block2 output\n",
        "        else:\n",
        "            return out #only output of backward pass returned\n",
        "\n",
        "    def reset(self): #resets pooling and activation states\n",
        "        \n",
        "        self.maxpool1.reset()\n",
        "        self.maxpool2.reset()\n",
        "        self.relu1.reset()\n",
        "        self.relu2.reset()\n",
        "        self.relu3.reset()\n",
        "        \n",
        "\n",
        "    def run_cycles(self, data):\n",
        "        # evaluate with all the iterations\n",
        "        with torch.no_grad():\n",
        "            data = data.cuda()\n",
        "            self.reset()\n",
        "            output, orig_feature, _, _ = self.forward(data, first=True, inter=True) #getting the output and the original features of the forward pass\n",
        "            ff_prev = orig_feature #saving the original features as the feedforward reconstructions\n",
        "            for i_cycle in range(self.cycles): \n",
        "                reconstruct = self.forward(output, step='backward') #getting the reconstructions from the backward step\n",
        "                ff_current = ff_prev + self.res_param * (reconstruct - ff_prev)  #updating the previous forward pass reconstructions with the difference of the backward pass reconstructions and the previous recontructions into reesidual parameter\n",
        "                output = self.forward(ff_current, first=False) #sending this in to the forward pass and getting output\n",
        "                ff_prev = ff_current #saving the forward pass output\n",
        "\n",
        "        return output\n",
        "        \n",
        "    def run_cycles_adv(self, data):\n",
        "        data = data.cuda()\n",
        "        self.reset()\n",
        "        output, orig_feature, _, _ = self.forward(data, first=True, inter=True) #getting the output logits and the original features of the forward pass\n",
        "        ff_prev = orig_feature #saving the original features as the feedforward reconstructions\n",
        "        for i_cycle in range(self.cycles):\n",
        "            reconstruct = self.forward(output, step='backward')  #getting the reconstructions from the backward pass\n",
        "            ff_current = ff_prev + self.res_param * (reconstruct - ff_prev) #updating the previous forward pass reconstructions with the difference of the backward pass reconstructions and the previous recontructions into reesidual parameter\n",
        "            output = self.forward(ff_current, first=False)  #sending this in to the forward pass and getting output logits\n",
        "            ff_prev = ff_current  #saving the forward pass output\n",
        "        return output\n",
        "\n",
        "    def run_average(self, data):\n",
        "        # return averaged logits\n",
        "        data = data.cuda() \n",
        "        self.reset()\n",
        "        output_list = []\n",
        "        output, orig_feature, _, _ = self.forward(data, first=True, inter=True) #getting the outputs from forward pass\n",
        "        ff_prev = orig_feature\n",
        "        output_list.append(output)\n",
        "        totaloutput = torch.zeros(output.shape).cuda()\n",
        "        for i_cycle in range(self.cycles):\n",
        "            reconstruct = self.forward(output, step='backward') #getting the reconstructions from the backward pass\n",
        "            ff_current = ff_prev + self.res_param * (reconstruct - ff_prev) #updating the previous forward pass reconstructions with the difference of the backward pass reconstructions and the previous recontructions into reesidual parameter\n",
        "            ff_prev = ff_current #saving the forward pass output\n",
        "            output = self.forward(ff_current, first=False)  #sending this in to the forward pass and getting output logits\n",
        "            output_list.append(output) #saving the output logits\n",
        "        for i in range(len(output_list)):\n",
        "            totaloutput += output_list[i] #adding up all the final output logits\n",
        "        return totaloutput / (self.cycles+1) #taking average of all logits\n",
        "    \n",
        "    def forward_adv(self, data):\n",
        "        # run the first forward pass\n",
        "        data = data.cuda()\n",
        "        self.reset()\n",
        "        output = self.forward(data)\n",
        "        return output"
      ],
      "metadata": {
        "id": "LH4ORSaQEnBN"
      },
      "execution_count": 17,
      "outputs": []
    },
    {
      "cell_type": "code",
      "source": [
        "class myCNN(nn.Module):\n",
        "    #2 convolutions, 2 linear layers\n",
        "    #This is a vanilla CNN to compare the CNN-F against\n",
        "    #it has the same architecture\n",
        "    def __init__(self, num_classes,res_param=0.1):\n",
        "        super(myCNN, self).__init__()\n",
        "        \n",
        "       \n",
        "        self.res_param = res_param\n",
        "        self.cycles = cycles        \n",
        "        \n",
        "        #28x28x16\n",
        "        self.conv1 = Conv2d(1, 32, kernel_size=3, stride=1, padding=1, bias=False)\n",
        "        self.ins1 = InsNorm()\n",
        "        self.ins1_bias = Bias((1,32,1,1))\n",
        "        self.relu1 = resReLU(res_param)\n",
        "        self.maxpool1 = MaxPool2d(2)\n",
        "        #14x14x32\n",
        "        self.conv2 = Conv2d(32, 16, kernel_size=3, stride=1, padding=1, bias=False)\n",
        "        self.ins2 = InsNorm()\n",
        "        self.ins2_bias = Bias((1,16,1,1))\n",
        "        self.relu2 = resReLU(res_param)\n",
        "        self.maxpool2 = MaxPool2d(2)\n",
        "        #7x7x16\n",
        "\n",
        "        self.flatten = Flatten()\n",
        "        self.fc1 = Linear(7*7*16, 256)\n",
        "        self.fc1_bias = Bias((1,256))\n",
        "        self.relu3 = resReLU(res_param) \n",
        "        self.fc2 = Linear(256, num_classes)\n",
        "        self.fc2_bias = Bias((1,num_classes))\n",
        "        #1x26\n",
        "\n",
        "    def forward(self, out):     \n",
        "        out = self.relu1(self.ins1_bias(self.ins1(self.conv1(out))))            \n",
        "        out = self.maxpool1(out)\n",
        "\n",
        "        out = self.relu2(self.ins2_bias(self.ins2(self.conv2(out))))\n",
        "        out = self.maxpool2(out)\n",
        "        \n",
        "        out = self.flatten(out)\n",
        "        out = self.relu3(self.fc1_bias(self.fc1(out)))       \n",
        "        out = self.fc2_bias(self.fc2(out))\n",
        "\n",
        "        return out\n",
        "\n",
        "\n",
        "    def reset(self):\n",
        "        \"\"\"\n",
        "        Resets the pooling and activation states\n",
        "        \"\"\"\n",
        "        self.maxpool1.reset()\n",
        "        self.maxpool2.reset()\n",
        "        self.relu1.reset()\n",
        "        self.relu2.reset()\n",
        "        self.relu3.reset()\n",
        "    "
      ],
      "metadata": {
        "id": "jgj6ArB0ExfL"
      },
      "execution_count": 18,
      "outputs": []
    },
    {
      "cell_type": "code",
      "execution_count": 19,
      "metadata": {
        "id": "eI1QzZ9BLcyU"
      },
      "outputs": [],
      "source": [
        "model = myCNNF(26).to(device) #initialising CNNF model with number of classes\n",
        "optimizer = torch.optim.SGD(\n",
        "          model.parameters(),\n",
        "          learning_rate, #lr\n",
        "          momentum=_momentum,\n",
        "          weight_decay= _weight_decay) #stochastic gradient descent optimizer with learning rate, momentum, weight decay\n",
        "\n",
        "\n",
        "def lr_poly(base_lr, iter, max_iter, power):\n",
        "    return base_lr * ((1 - float(iter) / max_iter) ** (power)) #learning rate polynomial\n",
        "\n",
        "#learning rate scheduler\n",
        "scheduler = torch.optim.lr_scheduler.LambdaLR( \n",
        "          optimizer, lr_lambda=lambda step: lr_poly(1.0, step, 2 *num_epochs * len(train_loader), _scheduler_poly_exponent)) \n",
        "\n",
        " #initialising CNN model with number of classes\n",
        "modelCNN = myCNN(26).to(device)\n",
        "optimizerCNN = torch.optim.SGD(\n",
        "          modelCNN.parameters(),\n",
        "          learning_rate, #lr\n",
        "          momentum=_momentum, #stochastic gradient descent optimizer with learning rate, momentum, weight decay\n",
        "          weight_decay= _weight_decay)\n",
        "#learning rate scheduler\n",
        "schedulerCNN =  torch.optim.lr_scheduler.LambdaLR(\n",
        "          optimizer, lr_lambda=lambda step: lr_poly(1.0, step, 2 *num_epochs * len(train_loader), _scheduler_poly_exponent)) #using the learning rate polynomial equation in scheduler\n"
      ]
    },
    {
      "cell_type": "code",
      "source": [
        "def test_clean(model, test_loader):\n",
        "  cmatrix_clean = np.zeros((26,26)) #Confusion matrix for clean images fed to CNN-F\n",
        "  model.eval() #freezing weights, stopping dropout\n",
        "  correct_clean = 0 #counting the number of images\n",
        "  with torch.no_grad():\n",
        "    for batch_idx, (images, targets) in (enumerate(test_loader)): #we go batch by bacth\n",
        "      images, targets = images.to(device), targets.to(device) \n",
        "      output = model.run_cycles(images) #getting the output from the model\n",
        "      pred = output.argmax(dim=1, keepdim = True) #counting correct outputs\n",
        "      correct_clean += pred.eq(targets.view_as(pred)).sum().item() #adding up the correct predictions\n",
        "      for x, y in zip(pred, targets): # for all samples in batch, we add to the heatmap square corresponding to [prediction][actual label]\n",
        "          cmatrix_clean[x][y] += 1\n",
        "\n",
        "  print(\"Clean acc for CNN-F: \", correct_clean / len(test_loader.dataset))\n",
        "  print(\"Confusion matrix for CNN-F on clean images:\")\n",
        "  plt.imshow(cmatrix_clean)\n",
        "\n",
        "def test_clean_CNN(modelCNN, test_loader):\n",
        "  cmatrix_clean_CNN = np.zeros((26,26)) #Confusion matrix for clean images fed to CNN\n",
        "  modelCNN.eval() #freezing weights, stopping dropout\n",
        "  correct_clean = 0 #counting the number of images\n",
        "  with torch.no_grad():\n",
        "    for batch_idx, (images, targets) in (enumerate(test_loader)):  #we go batch by bacth\n",
        "      images, targets = images.to(device), targets.to(device)\n",
        "      output = modelCNN(images) #getting the output from the model\n",
        "      pred = output.argmax(dim=1, keepdim = True)\n",
        "      correct_clean += pred.eq(targets.view_as(pred)).sum().item()  #adding up the correct predictions\n",
        "      for x, y in zip(pred, targets): # for all samples in batch, we add to the heatmap square corresponding to [prediction][actual label]\n",
        "          cmatrix_clean_CNN[x][y] += 1\n",
        "\n",
        "  print(\"Clean acc for CNN: \", correct_clean / len(test_loader.dataset))\n",
        "  print(\"Confusion matrix for CNN on clean images:\")\n",
        "  plt.imshow(cmatrix_clean_CNN)\n",
        "\n",
        "\n",
        "def test_noisy(model, test_loader):\n",
        "  cmatrix_noisy = np.zeros((26,26)) #Confusion matrix for noisy images fed to CNN-F\n",
        "  model.eval() #freezing weights, stopping dropout\n",
        "  correct_noisy = 0 #counting the number of images\n",
        "  with torch.no_grad():\n",
        "    for batch_idx, (images, targets) in (enumerate(test_loader)):  #we go batch by bacth\n",
        "      images, targets = images.to(device), targets.to(device)\n",
        "      noise = torch.rand(test_batch_size, 1, 28, 28) / random_noise_divisor #creating noisy images by adding noise\n",
        "      noisy_images = images  + noise.to(device)\n",
        "      output = model.run_cycles_adv(noisy_images) #getting the output from the model\n",
        "      pred = output.argmax(dim=1, keepdim = True)\n",
        "      correct_noisy += pred.eq(targets.view_as(pred)).sum().item()  #adding up the correct predictions\n",
        "      for x, y in zip(pred, targets): # for all samples in batch, we add to the heatmap square corresponding to [prediction][actual label]\n",
        "          cmatrix_noisy[x][y] += 1\n",
        "\n",
        "  print(\"Noisy acc for CNN-F: \", correct_noisy / len(test_loader.dataset))\n",
        "  print(\"Confusion matrix for CNN-F on noisy images:\")\n",
        "  plt.imshow(cmatrix_noisy)\n",
        "\n",
        "def test_noisy_CNN(model, test_loader):\n",
        "  cmatrix_noisy_CNN = np.zeros((26,26)) #Confusion matrix for noisy images fed to CNN-F\n",
        "  model.eval() #freezing weights, stopping dropout\n",
        "  correct_noisy = 0 #counting the number of images\n",
        "  with torch.no_grad():\n",
        "    for batch_idx, (images, targets) in (enumerate(test_loader)):  #we go batch by bacth\n",
        "      images, targets = images.to(device), targets.to(device)\n",
        "      noise = torch.rand(test_batch_size, 1, 28, 28) / random_noise_divisor #creating noisy images by adding noise\n",
        "      noisy_images = images  + noise.to(device)\n",
        "      output = model(noisy_images) #getting the output from the model\n",
        "      pred = output.argmax(dim=1, keepdim = True)\n",
        "      correct_noisy += pred.eq(targets.view_as(pred)).sum().item()  #adding up the correct predictions\n",
        "      for x, y in zip(pred, targets): # for all samples in batch, we add to the heatmap square corresponding to [prediction][actual label]\n",
        "          cmatrix_noisy_CNN[x][y] += 1\n",
        "\n",
        "  print(\"Noisy acc for CNN: \", correct_noisy / len(test_loader.dataset))\n",
        "  print(\"Confusion matrix for CNN on noisy images:\")\n",
        "  plt.imshow(cmatrix_noisy_CNN)\n",
        "\n",
        "def fgsm_attack(image, epsilon, data_grad):\n",
        "    sign_data_grad = data_grad.sign()                    #gradient sent through the signum function \n",
        "    perturbed_image = image + epsilon*sign_data_grad     #how we add noise to the image\n",
        "    perturbed_image = torch.clamp(perturbed_image, 0, 1) #image has to stay between 0 and 1 (black and white)\n",
        "    return perturbed_image\n",
        "\n",
        "\n"
      ],
      "metadata": {
        "id": "EzZrNYn6k6fP"
      },
      "execution_count": 20,
      "outputs": []
    },
    {
      "cell_type": "code",
      "execution_count": 21,
      "metadata": {
        "colab": {
          "base_uri": "https://localhost:8080/",
          "height": 577,
          "referenced_widgets": [
            "de02768f7e01415580e2069724290832",
            "3e4885ae944a42c5bd542395c587ab1f",
            "0fe74c528c7e4d468d60af6863373dce",
            "57e03949fcf345daa32361b615f3a9a1",
            "aafab2e3da444de49a2ab079ed273799",
            "da7339ec14ee40fbbe7f9c35a25ad5ea",
            "24506ca40083437dba1dfd92eadf04a2",
            "07e04ee2d3b0443a8f7d60d0dcca07eb",
            "464e9e0bbaa049bbb869d2b9df96e196",
            "001807f2760d4564a13af747d8be7bc4",
            "fa06fc8dca9c45299745d3a957fcb492"
          ]
        },
        "id": "G0MtKFpLHRhW",
        "outputId": "e0d2f743-4af2-4334-bfca-09a399fd7eb8"
      },
      "outputs": [
        {
          "output_type": "display_data",
          "data": {
            "text/plain": [
              "  0%|          | 0/5 [00:00<?, ?it/s]"
            ],
            "application/vnd.jupyter.widget-view+json": {
              "version_major": 2,
              "version_minor": 0,
              "model_id": "de02768f7e01415580e2069724290832"
            }
          },
          "metadata": {}
        },
        {
          "output_type": "stream",
          "name": "stderr",
          "text": [
            "/usr/local/lib/python3.7/dist-packages/torch/nn/functional.py:749: UserWarning: Note that order of the arguments: ceil_mode and return_indices will changeto match the args list in nn.MaxPool2d in a future release.\n",
            "  warnings.warn(\"Note that order of the arguments: ceil_mode and return_indices will change\"\n",
            "/usr/local/lib/python3.7/dist-packages/torch/optim/lr_scheduler.py:136: UserWarning: Detected call of `lr_scheduler.step()` before `optimizer.step()`. In PyTorch 1.1.0 and later, you should call them in the opposite order: `optimizer.step()` before `lr_scheduler.step()`.  Failure to do this will result in PyTorch skipping the first value of the learning rate schedule. See more details at https://pytorch.org/docs/stable/optim.html#how-to-adjust-learning-rate\n",
            "  \"https://pytorch.org/docs/stable/optim.html#how-to-adjust-learning-rate\", UserWarning)\n"
          ]
        },
        {
          "output_type": "stream",
          "name": "stdout",
          "text": [
            "Clean acc for CNN:  0.885576923076923\n",
            "Confusion matrix for CNN on clean images:\n",
            "Clean acc for CNN:  0.9145604395604395\n",
            "Confusion matrix for CNN on clean images:\n",
            "Clean acc for CNN:  0.9174450549450549\n",
            "Confusion matrix for CNN on clean images:\n",
            "Clean acc for CNN:  0.923695054945055\n",
            "Confusion matrix for CNN on clean images:\n",
            "Clean acc for CNN:  0.9227335164835165\n",
            "Confusion matrix for CNN on clean images:\n"
          ]
        },
        {
          "output_type": "execute_result",
          "data": {
            "text/plain": [
              "<All keys matched successfully>"
            ]
          },
          "metadata": {},
          "execution_count": 21
        },
        {
          "output_type": "display_data",
          "data": {
            "text/plain": [
              "<Figure size 432x288 with 1 Axes>"
            ],
            "image/png": "[encoded data removed]"
          },
          "metadata": {
            "needs_background": "light"
          }
        }
      ],
      "source": [
        "#TRAIN LOOP FOR TRAINING THE NORMAL CNN MODEL\n",
        "tlosses=[]\n",
        "vlosses=[]\n",
        "for epoch in tq.tqdm(range(5)):\n",
        "  modelCNN.train() #unfreezing weights, enabling dropout\n",
        "  for batch_idx, (images, targets) in (enumerate(train_loader)): #going through the train dataset, batch by batch\n",
        "\n",
        "    images, targets = images.to(device), targets.to(device) #moving the data and the labels (or targets) to device (either cpu or cuda)\n",
        "    optimizerCNN.zero_grad() #zeroes out gradients\n",
        "    modelCNN.reset() #hidden/state variables reset every time before new data is fed forward in this epoch\n",
        "\n",
        "    logits = modelCNN(images) #getting the output logits from the model\n",
        "    loss = F.cross_entropy(logits, targets) #using cross entropy function to calculate the loss\n",
        "    tlosses.append(loss.item()) #recording the loss of each batch\n",
        "    loss.backward() #calculating gradients\n",
        "    optimizerCNN.step() #updating parameters\n",
        "    schedulerCNN.step() #updating scheduler\n",
        "\n",
        "  test_clean_CNN(modelCNN, test_loader) #testing against clean images \n",
        "\n",
        "torch.save(modelCNN.state_dict(), \"./cnn7epoch\") #saves the weights \n",
        "modelCNN.load_state_dict(torch.load(\"./cnn7epoch\")) #loading back the saved model weights\n"
      ]
    },
    {
      "cell_type": "code",
      "source": [
        "plt.plot(tlosses) #training losses of each batch for the CNN"
      ],
      "metadata": {
        "colab": {
          "base_uri": "https://localhost:8080/",
          "height": 282
        },
        "id": "XfjUIpJuh31C",
        "outputId": "d0988da7-5795-48af-cfd3-a15c6427fdf8"
      },
      "execution_count": 22,
      "outputs": [
        {
          "output_type": "execute_result",
          "data": {
            "text/plain": [
              "[<matplotlib.lines.Line2D at 0x7f6b6d2fc090>]"
            ]
          },
          "metadata": {},
          "execution_count": 22
        },
        {
          "output_type": "display_data",
          "data": {
            "text/plain": [
              "<Figure size 432x288 with 1 Axes>"
            ],
            "image/png": "[encoded data removed]"
          },
          "metadata": {
            "needs_background": "light"
          }
        }
      ]
    },
    {
      "cell_type": "code",
      "source": [
        "tlosses_moving=np.convolve(tlosses, np.ones(int(len(tlosses)/2))/(int(len(tlosses)/2)), mode='valid')\n",
        "plt.plot(tlosses_moving) #moving average of training losses"
      ],
      "metadata": {
        "colab": {
          "base_uri": "https://localhost:8080/",
          "height": 282
        },
        "id": "9Fxv4iyUmOiX",
        "outputId": "8603cab1-4719-4ad9-92b6-99c517ed33ff"
      },
      "execution_count": 23,
      "outputs": [
        {
          "output_type": "execute_result",
          "data": {
            "text/plain": [
              "[<matplotlib.lines.Line2D at 0x7f6b6dc7ee90>]"
            ]
          },
          "metadata": {},
          "execution_count": 23
        },
        {
          "output_type": "display_data",
          "data": {
            "text/plain": [
              "<Figure size 432x288 with 1 Axes>"
            ],
            "image/png": "[encoded data removed]"
          },
          "metadata": {
            "needs_background": "light"
          }
        }
      ]
    },
    {
      "cell_type": "code",
      "source": [
        "#TRAIN LOOP FOR CNNF\n",
        "model.train() #unfreezing weights, enabling dropout\n",
        "model.reset() #resetting the model\n",
        "\n",
        "correct = 0\n",
        "train_loss = 0.0\n",
        "tlosses=[] #collecting training losses\n",
        "  \n",
        "\n",
        "for epoch in tq.tqdm(range(num_epochs)):\n",
        "  for batch_idx, (images, targets) in (enumerate(train_loader)):\n",
        "\n",
        "    images, targets = images.to(device), targets.to(device) #moving the data and the labels (or targets) to device (either cpu or cuda)\n",
        "    noise = torch.rand(train_batch_size, 1, 28, 28) / random_noise_divisor  #generating random noise and dividing it appropriately \n",
        "    noisy_images = images  + noise.to(device) #generating noise images\n",
        "    images_all = torch.cat((images, noisy_images), 0) #images followed by noisy images\n",
        "\n",
        "    optimizer.zero_grad()\n",
        "    model.reset() #hidden/state variables reset every time before new data is fed forward in this epoch\n",
        "\n",
        "    logits, orig_feature_all, block1_all, block2_all = model(images_all, first=True, inter=True) #the model returns the logits of the clean and noisy images, the original features, and two output blocks\n",
        "    ff_prev = orig_feature_all #keeping track of the original features\n",
        "\n",
        "    orig_feature, _ = torch.split(orig_feature_all, images.size(0))  #taking original features of only clean images\n",
        "    block1_clean, _ = torch.split(block1_all, images.size(0))  #keeping the block1 output of only clean images\n",
        "    block2_clean, _ = torch.split(block2_all, images.size(0))  #keeping the block2 output of only clean images \n",
        "    \n",
        "    logits_clean, logits_adv = torch.split(logits, images.size(0)) #getting the clean and noisy image logits \n",
        "\n",
        "    loss = F.cross_entropy(logits_adv, targets) / (cycles+1) #cross entropy loss for the noisy images, divided by number of cycles\n",
        "    \n",
        "    for i_cycle in range(cycles):\n",
        "          recon, block1_recon, block2_recon = model(logits, step='backward', inter_recon=True) #getting the outputs from the backwards step: reconstructions, block 1 recons, block 2 recons (output of intermediate part of model)\n",
        "          recon_clean, recon_adv = torch.split(recon, images.size(0)) #splitting the reconstructions into clean and noisy image reconstruction \n",
        "          recon_block1_clean, recon_block1_adv = torch.split(block1_recon, images.size(0)) #splitting the block 1 reconstructions into clean and noisy image reconstruction \n",
        "          recon_block2_clean, recon_block2_adv = torch.split(block2_recon, images.size(0)) #splitting the block 2 reconstructions into clean and noisy image reconstruction \n",
        "\n",
        "          loss += (F.mse_loss(recon_adv, orig_feature) + F.mse_loss(recon_block1_adv, block1_clean) + F.mse_loss(recon_block2_adv, block2_clean)) * 1 / (3*cycles) #adding all the losses, dividing by the number of cycles\n",
        "\n",
        "          ff_current = ff_prev + res_parameter * (recon - ff_prev) #output of the feedforward (forward pass) becomes the output of the last forward pass plus the [cont.]\n",
        "          #[cont.] residual parameter into the difference between the last forward pass output and the current backward pass output\n",
        "          logits = model(ff_current, first=False) #getting the logits from this new output\n",
        "          ff_prev = ff_current #setting the previous feedforward pass output to this output\n",
        "          logits_clean, logits_adv = torch.split(logits, images.size(0)) #splitting the logits for the clean and dirty images\n",
        "\n",
        "          loss += F.cross_entropy(logits_adv, targets) / (cycles+1) #adding the cross entropy loss of the predicted noisy image outputs with the actual targets\n",
        "    tlosses.append(loss.item()) #recording the loss of each batch\n",
        "    pred = logits_clean.argmax(dim=1, keepdim=True)  # get the index of the max log-probability\n",
        "    correct += pred.eq(targets.view_as(pred)).sum().item() #counting correct predictions\n",
        "\n",
        "    loss.backward()  #calculating gradients\n",
        "    optimizer.step() #updating parameters\n",
        "    scheduler.step() #updating scheduler \n",
        "\n",
        "    train_loss += loss.item() #adding the current loss to the train loss\n",
        "\n",
        "torch.save(model.state_dict(), \"./cnnf5epoch\")   \n",
        "model.load_state_dict(torch.load(\"./cnnf5epoch\"))\n"
      ],
      "metadata": {
        "colab": {
          "base_uri": "https://localhost:8080/",
          "height": 121,
          "referenced_widgets": [
            "8e2bce0db6b243b29f3fb72a1854625a",
            "668c72d5511542a09d1a6a3a9e9622a1",
            "77ece219cb4e4663a0f9322a2239b622",
            "7e69644c566f45f3ad5cefa57fe40b34",
            "27350657f4e34cdcb9d26b82c60ab076",
            "f8fda6b34b0e446c8af7574dc3c8e3c8",
            "7c419882531242c9a466ddfab91fffdc",
            "9ad3473ca9fb400a91aacacb4757852e",
            "3eb43280f00a4e5281d76d6e7c37a70a",
            "864422c9465e4416a1b355e8d26bba43",
            "c415a8be21b84e83ba49e4bce634372b"
          ]
        },
        "id": "hWCplvVQT8gr",
        "outputId": "877bf66f-f655-4356-d076-787229f237f8"
      },
      "execution_count": 24,
      "outputs": [
        {
          "output_type": "display_data",
          "data": {
            "text/plain": [
              "  0%|          | 0/5 [00:00<?, ?it/s]"
            ],
            "application/vnd.jupyter.widget-view+json": {
              "version_major": 2,
              "version_minor": 0,
              "model_id": "8e2bce0db6b243b29f3fb72a1854625a"
            }
          },
          "metadata": {}
        },
        {
          "output_type": "stream",
          "name": "stderr",
          "text": [
            "/usr/local/lib/python3.7/dist-packages/torch/nn/functional.py:749: UserWarning: Note that order of the arguments: ceil_mode and return_indices will changeto match the args list in nn.MaxPool2d in a future release.\n",
            "  warnings.warn(\"Note that order of the arguments: ceil_mode and return_indices will change\"\n"
          ]
        },
        {
          "output_type": "execute_result",
          "data": {
            "text/plain": [
              "<All keys matched successfully>"
            ]
          },
          "metadata": {},
          "execution_count": 24
        }
      ]
    },
    {
      "cell_type": "code",
      "source": [
        "plt.plot(tlosses) #training losses of each batch for CNN-F"
      ],
      "metadata": {
        "colab": {
          "base_uri": "https://localhost:8080/",
          "height": 282
        },
        "id": "4iVel-OconKq",
        "outputId": "7109f78f-c991-4929-eeb5-b30eb8fc848e"
      },
      "execution_count": 25,
      "outputs": [
        {
          "output_type": "execute_result",
          "data": {
            "text/plain": [
              "[<matplotlib.lines.Line2D at 0x7f6b6dc60590>]"
            ]
          },
          "metadata": {},
          "execution_count": 25
        },
        {
          "output_type": "display_data",
          "data": {
            "text/plain": [
              "<Figure size 432x288 with 1 Axes>"
            ],
            "image/png": "[encoded data removed]"
          },
          "metadata": {
            "needs_background": "light"
          }
        }
      ]
    },
    {
      "cell_type": "code",
      "source": [
        "tlosses_moving=np.convolve(tlosses, np.ones(int(len(tlosses)/2))/(int(len(tlosses)/2)), mode='valid')\n",
        "plt.plot(tlosses_moving) #moving average of training losses"
      ],
      "metadata": {
        "colab": {
          "base_uri": "https://localhost:8080/",
          "height": 282
        },
        "id": "7DDk0LztouU6",
        "outputId": "fb26298e-5ae6-43f3-cf1c-8609fce81697"
      },
      "execution_count": 26,
      "outputs": [
        {
          "output_type": "execute_result",
          "data": {
            "text/plain": [
              "[<matplotlib.lines.Line2D at 0x7f6b6d2c21d0>]"
            ]
          },
          "metadata": {},
          "execution_count": 26
        },
        {
          "output_type": "display_data",
          "data": {
            "text/plain": [
              "<Figure size 432x288 with 1 Axes>"
            ],
            "image/png": "[encoded data removed]"
          },
          "metadata": {
            "needs_background": "light"
          }
        }
      ]
    },
    {
      "cell_type": "code",
      "source": [
        "test_clean(model, test_loader) #confusion matrix of CNN-F on clean images"
      ],
      "metadata": {
        "id": "mC9aR9w9FBHx",
        "colab": {
          "base_uri": "https://localhost:8080/",
          "height": 354
        },
        "outputId": "aeefe1d0-675c-48d6-fd77-c0285d4fe19d"
      },
      "execution_count": 27,
      "outputs": [
        {
          "output_type": "stream",
          "name": "stderr",
          "text": [
            "/usr/local/lib/python3.7/dist-packages/torch/nn/functional.py:749: UserWarning: Note that order of the arguments: ceil_mode and return_indices will changeto match the args list in nn.MaxPool2d in a future release.\n",
            "  warnings.warn(\"Note that order of the arguments: ceil_mode and return_indices will change\"\n"
          ]
        },
        {
          "output_type": "stream",
          "name": "stdout",
          "text": [
            "Clean acc for CNN-F:  0.7800824175824176\n",
            "Confusion matrix for CNN-F on clean images:\n"
          ]
        },
        {
          "output_type": "display_data",
          "data": {
            "text/plain": [
              "<Figure size 432x288 with 1 Axes>"
            ],
            "image/png": "[encoded data removed]"
          },
          "metadata": {
            "needs_background": "light"
          }
        }
      ]
    },
    {
      "cell_type": "code",
      "source": [
        "test_clean_CNN(modelCNN, test_loader) #confusion matrix of CNN on clean images"
      ],
      "metadata": {
        "id": "ScuetuZLZ3df",
        "colab": {
          "base_uri": "https://localhost:8080/",
          "height": 354
        },
        "outputId": "b0f93d90-fa77-4e10-80eb-152fde361f37"
      },
      "execution_count": 28,
      "outputs": [
        {
          "output_type": "stream",
          "name": "stderr",
          "text": [
            "/usr/local/lib/python3.7/dist-packages/torch/nn/functional.py:749: UserWarning: Note that order of the arguments: ceil_mode and return_indices will changeto match the args list in nn.MaxPool2d in a future release.\n",
            "  warnings.warn(\"Note that order of the arguments: ceil_mode and return_indices will change\"\n"
          ]
        },
        {
          "output_type": "stream",
          "name": "stdout",
          "text": [
            "Clean acc for CNN:  0.9230769230769231\n",
            "Confusion matrix for CNN on clean images:\n"
          ]
        },
        {
          "output_type": "display_data",
          "data": {
            "text/plain": [
              "<Figure size 432x288 with 1 Axes>"
            ],
            "image/png": "[encoded data removed]"
          },
          "metadata": {
            "needs_background": "light"
          }
        }
      ]
    },
    {
      "cell_type": "code",
      "source": [
        "test_noisy(model, test_loader) #confusion matrix of CNN-F on noisy images"
      ],
      "metadata": {
        "id": "99hbxVI6Z31M",
        "colab": {
          "base_uri": "https://localhost:8080/",
          "height": 354
        },
        "outputId": "3f0797a6-8aee-4608-d3f5-85f7ad4657c6"
      },
      "execution_count": 29,
      "outputs": [
        {
          "output_type": "stream",
          "name": "stderr",
          "text": [
            "/usr/local/lib/python3.7/dist-packages/torch/nn/functional.py:749: UserWarning: Note that order of the arguments: ceil_mode and return_indices will changeto match the args list in nn.MaxPool2d in a future release.\n",
            "  warnings.warn(\"Note that order of the arguments: ceil_mode and return_indices will change\"\n"
          ]
        },
        {
          "output_type": "stream",
          "name": "stdout",
          "text": [
            "Noisy acc for CNN-F:  0.8882554945054945\n",
            "Confusion matrix for CNN-F on noisy images:\n"
          ]
        },
        {
          "output_type": "display_data",
          "data": {
            "text/plain": [
              "<Figure size 432x288 with 1 Axes>"
            ],
            "image/png": "[encoded data removed]"
          },
          "metadata": {
            "needs_background": "light"
          }
        }
      ]
    },
    {
      "cell_type": "code",
      "source": [
        "test_noisy_CNN(modelCNN, test_loader) #confusion matrix of CNN-F on noisy images"
      ],
      "metadata": {
        "id": "qzV5ii-HZ4Hd",
        "colab": {
          "base_uri": "https://localhost:8080/",
          "height": 354
        },
        "outputId": "36974f4f-457f-4450-8c2a-8637c6d50629"
      },
      "execution_count": 30,
      "outputs": [
        {
          "output_type": "stream",
          "name": "stderr",
          "text": [
            "/usr/local/lib/python3.7/dist-packages/torch/nn/functional.py:749: UserWarning: Note that order of the arguments: ceil_mode and return_indices will changeto match the args list in nn.MaxPool2d in a future release.\n",
            "  warnings.warn(\"Note that order of the arguments: ceil_mode and return_indices will change\"\n"
          ]
        },
        {
          "output_type": "stream",
          "name": "stdout",
          "text": [
            "Noisy acc for CNN:  0.8399725274725275\n",
            "Confusion matrix for CNN on noisy images:\n"
          ]
        },
        {
          "output_type": "display_data",
          "data": {
            "text/plain": [
              "<Figure size 432x288 with 1 Axes>"
            ],
            "image/png": "[encoded data removed]"
          },
          "metadata": {
            "needs_background": "light"
          }
        }
      ]
    }
  ],
  "metadata": {
    "accelerator": "GPU",
    "colab": {
      "collapsed_sections": [],
      "name": "dlfinal.ipynb",
      "provenance": []
    },
    "kernelspec": {
      "display_name": "Python 3",
      "name": "python3"
    },
    "language_info": {
      "name": "python"
    },
    "widgets": {
      "application/vnd.jupyter.widget-state+json": {
        "cf1161d3da684271baee85f81bd1a903": {
          "model_module": "@jupyter-widgets/controls",
          "model_name": "HBoxModel",
          "model_module_version": "1.5.0",
          "state": {
            "_dom_classes": [],
            "_model_module": "@jupyter-widgets/controls",
            "_model_module_version": "1.5.0",
            "_model_name": "HBoxModel",
            "_view_count": null,
            "_view_module": "@jupyter-widgets/controls",
            "_view_module_version": "1.5.0",
            "_view_name": "HBoxView",
            "box_style": "",
            "children": [
              "IPY_MODEL_a626fec44b7b472e80d9b01afde01879",
              "IPY_MODEL_f2ce8cde9e4c4066806a5a1f9ac59bc4",
              "IPY_MODEL_69f509686bf84989ae3d83aee55878e9"
            ],
            "layout": "IPY_MODEL_ae3e86de84b84c96b7a354bfcab9f640"
          }
        },
        "a626fec44b7b472e80d9b01afde01879": {
          "model_module": "@jupyter-widgets/controls",
          "model_name": "HTMLModel",
          "model_module_version": "1.5.0",
          "state": {
            "_dom_classes": [],
            "_model_module": "@jupyter-widgets/controls",
            "_model_module_version": "1.5.0",
            "_model_name": "HTMLModel",
            "_view_count": null,
            "_view_module": "@jupyter-widgets/controls",
            "_view_module_version": "1.5.0",
            "_view_name": "HTMLView",
            "description": "",
            "description_tooltip": null,
            "layout": "IPY_MODEL_ed278f842047471a87ce6e7da4e13d39",
            "placeholder": "​",
            "style": "IPY_MODEL_44c7d031ed54418282081f15bb8d9a69",
            "value": ""
          }
        },
        "f2ce8cde9e4c4066806a5a1f9ac59bc4": {
          "model_module": "@jupyter-widgets/controls",
          "model_name": "FloatProgressModel",
          "model_module_version": "1.5.0",
          "state": {
            "_dom_classes": [],
            "_model_module": "@jupyter-widgets/controls",
            "_model_module_version": "1.5.0",
            "_model_name": "FloatProgressModel",
            "_view_count": null,
            "_view_module": "@jupyter-widgets/controls",
            "_view_module_version": "1.5.0",
            "_view_name": "ProgressView",
            "bar_style": "success",
            "description": "",
            "description_tooltip": null,
            "layout": "IPY_MODEL_a678e93346b048a9bece400211bae250",
            "max": 561753746,
            "min": 0,
            "orientation": "horizontal",
            "style": "IPY_MODEL_6faaa427886141b2b835566223b420df",
            "value": 561753746
          }
        },
        "69f509686bf84989ae3d83aee55878e9": {
          "model_module": "@jupyter-widgets/controls",
          "model_name": "HTMLModel",
          "model_module_version": "1.5.0",
          "state": {
            "_dom_classes": [],
            "_model_module": "@jupyter-widgets/controls",
            "_model_module_version": "1.5.0",
            "_model_name": "HTMLModel",
            "_view_count": null,
            "_view_module": "@jupyter-widgets/controls",
            "_view_module_version": "1.5.0",
            "_view_name": "HTMLView",
            "description": "",
            "description_tooltip": null,
            "layout": "IPY_MODEL_757f32af2bc54972b308d8fc17ae6f13",
            "placeholder": "​",
            "style": "IPY_MODEL_bb8feaaf0906479ca8f3985c80a23991",
            "value": " 561754112/? [00:09&lt;00:00, 33799908.51it/s]"
          }
        },
        "ae3e86de84b84c96b7a354bfcab9f640": {
          "model_module": "@jupyter-widgets/base",
          "model_name": "LayoutModel",
          "model_module_version": "1.2.0",
          "state": {
            "_model_module": "@jupyter-widgets/base",
            "_model_module_version": "1.2.0",
            "_model_name": "LayoutModel",
            "_view_count": null,
            "_view_module": "@jupyter-widgets/base",
            "_view_module_version": "1.2.0",
            "_view_name": "LayoutView",
            "align_content": null,
            "align_items": null,
            "align_self": null,
            "border": null,
            "bottom": null,
            "display": null,
            "flex": null,
            "flex_flow": null,
            "grid_area": null,
            "grid_auto_columns": null,
            "grid_auto_flow": null,
            "grid_auto_rows": null,
            "grid_column": null,
            "grid_gap": null,
            "grid_row": null,
            "grid_template_areas": null,
            "grid_template_columns": null,
            "grid_template_rows": null,
            "height": null,
            "justify_content": null,
            "justify_items": null,
            "left": null,
            "margin": null,
            "max_height": null,
            "max_width": null,
            "min_height": null,
            "min_width": null,
            "object_fit": null,
            "object_position": null,
            "order": null,
            "overflow": null,
            "overflow_x": null,
            "overflow_y": null,
            "padding": null,
            "right": null,
            "top": null,
            "visibility": null,
            "width": null
          }
        },
        "ed278f842047471a87ce6e7da4e13d39": {
          "model_module": "@jupyter-widgets/base",
          "model_name": "LayoutModel",
          "model_module_version": "1.2.0",
          "state": {
            "_model_module": "@jupyter-widgets/base",
            "_model_module_version": "1.2.0",
            "_model_name": "LayoutModel",
            "_view_count": null,
            "_view_module": "@jupyter-widgets/base",
            "_view_module_version": "1.2.0",
            "_view_name": "LayoutView",
            "align_content": null,
            "align_items": null,
            "align_self": null,
            "border": null,
            "bottom": null,
            "display": null,
            "flex": null,
            "flex_flow": null,
            "grid_area": null,
            "grid_auto_columns": null,
            "grid_auto_flow": null,
            "grid_auto_rows": null,
            "grid_column": null,
            "grid_gap": null,
            "grid_row": null,
            "grid_template_areas": null,
            "grid_template_columns": null,
            "grid_template_rows": null,
            "height": null,
            "justify_content": null,
            "justify_items": null,
            "left": null,
            "margin": null,
            "max_height": null,
            "max_width": null,
            "min_height": null,
            "min_width": null,
            "object_fit": null,
            "object_position": null,
            "order": null,
            "overflow": null,
            "overflow_x": null,
            "overflow_y": null,
            "padding": null,
            "right": null,
            "top": null,
            "visibility": null,
            "width": null
          }
        },
        "44c7d031ed54418282081f15bb8d9a69": {
          "model_module": "@jupyter-widgets/controls",
          "model_name": "DescriptionStyleModel",
          "model_module_version": "1.5.0",
          "state": {
            "_model_module": "@jupyter-widgets/controls",
            "_model_module_version": "1.5.0",
            "_model_name": "DescriptionStyleModel",
            "_view_count": null,
            "_view_module": "@jupyter-widgets/base",
            "_view_module_version": "1.2.0",
            "_view_name": "StyleView",
            "description_width": ""
          }
        },
        "a678e93346b048a9bece400211bae250": {
          "model_module": "@jupyter-widgets/base",
          "model_name": "LayoutModel",
          "model_module_version": "1.2.0",
          "state": {
            "_model_module": "@jupyter-widgets/base",
            "_model_module_version": "1.2.0",
            "_model_name": "LayoutModel",
            "_view_count": null,
            "_view_module": "@jupyter-widgets/base",
            "_view_module_version": "1.2.0",
            "_view_name": "LayoutView",
            "align_content": null,
            "align_items": null,
            "align_self": null,
            "border": null,
            "bottom": null,
            "display": null,
            "flex": null,
            "flex_flow": null,
            "grid_area": null,
            "grid_auto_columns": null,
            "grid_auto_flow": null,
            "grid_auto_rows": null,
            "grid_column": null,
            "grid_gap": null,
            "grid_row": null,
            "grid_template_areas": null,
            "grid_template_columns": null,
            "grid_template_rows": null,
            "height": null,
            "justify_content": null,
            "justify_items": null,
            "left": null,
            "margin": null,
            "max_height": null,
            "max_width": null,
            "min_height": null,
            "min_width": null,
            "object_fit": null,
            "object_position": null,
            "order": null,
            "overflow": null,
            "overflow_x": null,
            "overflow_y": null,
            "padding": null,
            "right": null,
            "top": null,
            "visibility": null,
            "width": null
          }
        },
        "6faaa427886141b2b835566223b420df": {
          "model_module": "@jupyter-widgets/controls",
          "model_name": "ProgressStyleModel",
          "model_module_version": "1.5.0",
          "state": {
            "_model_module": "@jupyter-widgets/controls",
            "_model_module_version": "1.5.0",
            "_model_name": "ProgressStyleModel",
            "_view_count": null,
            "_view_module": "@jupyter-widgets/base",
            "_view_module_version": "1.2.0",
            "_view_name": "StyleView",
            "bar_color": null,
            "description_width": ""
          }
        },
        "757f32af2bc54972b308d8fc17ae6f13": {
          "model_module": "@jupyter-widgets/base",
          "model_name": "LayoutModel",
          "model_module_version": "1.2.0",
          "state": {
            "_model_module": "@jupyter-widgets/base",
            "_model_module_version": "1.2.0",
            "_model_name": "LayoutModel",
            "_view_count": null,
            "_view_module": "@jupyter-widgets/base",
            "_view_module_version": "1.2.0",
            "_view_name": "LayoutView",
            "align_content": null,
            "align_items": null,
            "align_self": null,
            "border": null,
            "bottom": null,
            "display": null,
            "flex": null,
            "flex_flow": null,
            "grid_area": null,
            "grid_auto_columns": null,
            "grid_auto_flow": null,
            "grid_auto_rows": null,
            "grid_column": null,
            "grid_gap": null,
            "grid_row": null,
            "grid_template_areas": null,
            "grid_template_columns": null,
            "grid_template_rows": null,
            "height": null,
            "justify_content": null,
            "justify_items": null,
            "left": null,
            "margin": null,
            "max_height": null,
            "max_width": null,
            "min_height": null,
            "min_width": null,
            "object_fit": null,
            "object_position": null,
            "order": null,
            "overflow": null,
            "overflow_x": null,
            "overflow_y": null,
            "padding": null,
            "right": null,
            "top": null,
            "visibility": null,
            "width": null
          }
        },
        "bb8feaaf0906479ca8f3985c80a23991": {
          "model_module": "@jupyter-widgets/controls",
          "model_name": "DescriptionStyleModel",
          "model_module_version": "1.5.0",
          "state": {
            "_model_module": "@jupyter-widgets/controls",
            "_model_module_version": "1.5.0",
            "_model_name": "DescriptionStyleModel",
            "_view_count": null,
            "_view_module": "@jupyter-widgets/base",
            "_view_module_version": "1.2.0",
            "_view_name": "StyleView",
            "description_width": ""
          }
        },
        "de02768f7e01415580e2069724290832": {
          "model_module": "@jupyter-widgets/controls",
          "model_name": "HBoxModel",
          "model_module_version": "1.5.0",
          "state": {
            "_dom_classes": [],
            "_model_module": "@jupyter-widgets/controls",
            "_model_module_version": "1.5.0",
            "_model_name": "HBoxModel",
            "_view_count": null,
            "_view_module": "@jupyter-widgets/controls",
            "_view_module_version": "1.5.0",
            "_view_name": "HBoxView",
            "box_style": "",
            "children": [
              "IPY_MODEL_3e4885ae944a42c5bd542395c587ab1f",
              "IPY_MODEL_0fe74c528c7e4d468d60af6863373dce",
              "IPY_MODEL_57e03949fcf345daa32361b615f3a9a1"
            ],
            "layout": "IPY_MODEL_aafab2e3da444de49a2ab079ed273799"
          }
        },
        "3e4885ae944a42c5bd542395c587ab1f": {
          "model_module": "@jupyter-widgets/controls",
          "model_name": "HTMLModel",
          "model_module_version": "1.5.0",
          "state": {
            "_dom_classes": [],
            "_model_module": "@jupyter-widgets/controls",
            "_model_module_version": "1.5.0",
            "_model_name": "HTMLModel",
            "_view_count": null,
            "_view_module": "@jupyter-widgets/controls",
            "_view_module_version": "1.5.0",
            "_view_name": "HTMLView",
            "description": "",
            "description_tooltip": null,
            "layout": "IPY_MODEL_da7339ec14ee40fbbe7f9c35a25ad5ea",
            "placeholder": "​",
            "style": "IPY_MODEL_24506ca40083437dba1dfd92eadf04a2",
            "value": "100%"
          }
        },
        "0fe74c528c7e4d468d60af6863373dce": {
          "model_module": "@jupyter-widgets/controls",
          "model_name": "FloatProgressModel",
          "model_module_version": "1.5.0",
          "state": {
            "_dom_classes": [],
            "_model_module": "@jupyter-widgets/controls",
            "_model_module_version": "1.5.0",
            "_model_name": "FloatProgressModel",
            "_view_count": null,
            "_view_module": "@jupyter-widgets/controls",
            "_view_module_version": "1.5.0",
            "_view_name": "ProgressView",
            "bar_style": "success",
            "description": "",
            "description_tooltip": null,
            "layout": "IPY_MODEL_07e04ee2d3b0443a8f7d60d0dcca07eb",
            "max": 5,
            "min": 0,
            "orientation": "horizontal",
            "style": "IPY_MODEL_464e9e0bbaa049bbb869d2b9df96e196",
            "value": 5
          }
        },
        "57e03949fcf345daa32361b615f3a9a1": {
          "model_module": "@jupyter-widgets/controls",
          "model_name": "HTMLModel",
          "model_module_version": "1.5.0",
          "state": {
            "_dom_classes": [],
            "_model_module": "@jupyter-widgets/controls",
            "_model_module_version": "1.5.0",
            "_model_name": "HTMLModel",
            "_view_count": null,
            "_view_module": "@jupyter-widgets/controls",
            "_view_module_version": "1.5.0",
            "_view_name": "HTMLView",
            "description": "",
            "description_tooltip": null,
            "layout": "IPY_MODEL_001807f2760d4564a13af747d8be7bc4",
            "placeholder": "​",
            "style": "IPY_MODEL_fa06fc8dca9c45299745d3a957fcb492",
            "value": " 5/5 [08:31&lt;00:00, 102.21s/it]"
          }
        },
        "aafab2e3da444de49a2ab079ed273799": {
          "model_module": "@jupyter-widgets/base",
          "model_name": "LayoutModel",
          "model_module_version": "1.2.0",
          "state": {
            "_model_module": "@jupyter-widgets/base",
            "_model_module_version": "1.2.0",
            "_model_name": "LayoutModel",
            "_view_count": null,
            "_view_module": "@jupyter-widgets/base",
            "_view_module_version": "1.2.0",
            "_view_name": "LayoutView",
            "align_content": null,
            "align_items": null,
            "align_self": null,
            "border": null,
            "bottom": null,
            "display": null,
            "flex": null,
            "flex_flow": null,
            "grid_area": null,
            "grid_auto_columns": null,
            "grid_auto_flow": null,
            "grid_auto_rows": null,
            "grid_column": null,
            "grid_gap": null,
            "grid_row": null,
            "grid_template_areas": null,
            "grid_template_columns": null,
            "grid_template_rows": null,
            "height": null,
            "justify_content": null,
            "justify_items": null,
            "left": null,
            "margin": null,
            "max_height": null,
            "max_width": null,
            "min_height": null,
            "min_width": null,
            "object_fit": null,
            "object_position": null,
            "order": null,
            "overflow": null,
            "overflow_x": null,
            "overflow_y": null,
            "padding": null,
            "right": null,
            "top": null,
            "visibility": null,
            "width": null
          }
        },
        "da7339ec14ee40fbbe7f9c35a25ad5ea": {
          "model_module": "@jupyter-widgets/base",
          "model_name": "LayoutModel",
          "model_module_version": "1.2.0",
          "state": {
            "_model_module": "@jupyter-widgets/base",
            "_model_module_version": "1.2.0",
            "_model_name": "LayoutModel",
            "_view_count": null,
            "_view_module": "@jupyter-widgets/base",
            "_view_module_version": "1.2.0",
            "_view_name": "LayoutView",
            "align_content": null,
            "align_items": null,
            "align_self": null,
            "border": null,
            "bottom": null,
            "display": null,
            "flex": null,
            "flex_flow": null,
            "grid_area": null,
            "grid_auto_columns": null,
            "grid_auto_flow": null,
            "grid_auto_rows": null,
            "grid_column": null,
            "grid_gap": null,
            "grid_row": null,
            "grid_template_areas": null,
            "grid_template_columns": null,
            "grid_template_rows": null,
            "height": null,
            "justify_content": null,
            "justify_items": null,
            "left": null,
            "margin": null,
            "max_height": null,
            "max_width": null,
            "min_height": null,
            "min_width": null,
            "object_fit": null,
            "object_position": null,
            "order": null,
            "overflow": null,
            "overflow_x": null,
            "overflow_y": null,
            "padding": null,
            "right": null,
            "top": null,
            "visibility": null,
            "width": null
          }
        },
        "24506ca40083437dba1dfd92eadf04a2": {
          "model_module": "@jupyter-widgets/controls",
          "model_name": "DescriptionStyleModel",
          "model_module_version": "1.5.0",
          "state": {
            "_model_module": "@jupyter-widgets/controls",
            "_model_module_version": "1.5.0",
            "_model_name": "DescriptionStyleModel",
            "_view_count": null,
            "_view_module": "@jupyter-widgets/base",
            "_view_module_version": "1.2.0",
            "_view_name": "StyleView",
            "description_width": ""
          }
        },
        "07e04ee2d3b0443a8f7d60d0dcca07eb": {
          "model_module": "@jupyter-widgets/base",
          "model_name": "LayoutModel",
          "model_module_version": "1.2.0",
          "state": {
            "_model_module": "@jupyter-widgets/base",
            "_model_module_version": "1.2.0",
            "_model_name": "LayoutModel",
            "_view_count": null,
            "_view_module": "@jupyter-widgets/base",
            "_view_module_version": "1.2.0",
            "_view_name": "LayoutView",
            "align_content": null,
            "align_items": null,
            "align_self": null,
            "border": null,
            "bottom": null,
            "display": null,
            "flex": null,
            "flex_flow": null,
            "grid_area": null,
            "grid_auto_columns": null,
            "grid_auto_flow": null,
            "grid_auto_rows": null,
            "grid_column": null,
            "grid_gap": null,
            "grid_row": null,
            "grid_template_areas": null,
            "grid_template_columns": null,
            "grid_template_rows": null,
            "height": null,
            "justify_content": null,
            "justify_items": null,
            "left": null,
            "margin": null,
            "max_height": null,
            "max_width": null,
            "min_height": null,
            "min_width": null,
            "object_fit": null,
            "object_position": null,
            "order": null,
            "overflow": null,
            "overflow_x": null,
            "overflow_y": null,
            "padding": null,
            "right": null,
            "top": null,
            "visibility": null,
            "width": null
          }
        },
        "464e9e0bbaa049bbb869d2b9df96e196": {
          "model_module": "@jupyter-widgets/controls",
          "model_name": "ProgressStyleModel",
          "model_module_version": "1.5.0",
          "state": {
            "_model_module": "@jupyter-widgets/controls",
            "_model_module_version": "1.5.0",
            "_model_name": "ProgressStyleModel",
            "_view_count": null,
            "_view_module": "@jupyter-widgets/base",
            "_view_module_version": "1.2.0",
            "_view_name": "StyleView",
            "bar_color": null,
            "description_width": ""
          }
        },
        "001807f2760d4564a13af747d8be7bc4": {
          "model_module": "@jupyter-widgets/base",
          "model_name": "LayoutModel",
          "model_module_version": "1.2.0",
          "state": {
            "_model_module": "@jupyter-widgets/base",
            "_model_module_version": "1.2.0",
            "_model_name": "LayoutModel",
            "_view_count": null,
            "_view_module": "@jupyter-widgets/base",
            "_view_module_version": "1.2.0",
            "_view_name": "LayoutView",
            "align_content": null,
            "align_items": null,
            "align_self": null,
            "border": null,
            "bottom": null,
            "display": null,
            "flex": null,
            "flex_flow": null,
            "grid_area": null,
            "grid_auto_columns": null,
            "grid_auto_flow": null,
            "grid_auto_rows": null,
            "grid_column": null,
            "grid_gap": null,
            "grid_row": null,
            "grid_template_areas": null,
            "grid_template_columns": null,
            "grid_template_rows": null,
            "height": null,
            "justify_content": null,
            "justify_items": null,
            "left": null,
            "margin": null,
            "max_height": null,
            "max_width": null,
            "min_height": null,
            "min_width": null,
            "object_fit": null,
            "object_position": null,
            "order": null,
            "overflow": null,
            "overflow_x": null,
            "overflow_y": null,
            "padding": null,
            "right": null,
            "top": null,
            "visibility": null,
            "width": null
          }
        },
        "fa06fc8dca9c45299745d3a957fcb492": {
          "model_module": "@jupyter-widgets/controls",
          "model_name": "DescriptionStyleModel",
          "model_module_version": "1.5.0",
          "state": {
            "_model_module": "@jupyter-widgets/controls",
            "_model_module_version": "1.5.0",
            "_model_name": "DescriptionStyleModel",
            "_view_count": null,
            "_view_module": "@jupyter-widgets/base",
            "_view_module_version": "1.2.0",
            "_view_name": "StyleView",
            "description_width": ""
          }
        },
        "8e2bce0db6b243b29f3fb72a1854625a": {
          "model_module": "@jupyter-widgets/controls",
          "model_name": "HBoxModel",
          "model_module_version": "1.5.0",
          "state": {
            "_dom_classes": [],
            "_model_module": "@jupyter-widgets/controls",
            "_model_module_version": "1.5.0",
            "_model_name": "HBoxModel",
            "_view_count": null,
            "_view_module": "@jupyter-widgets/controls",
            "_view_module_version": "1.5.0",
            "_view_name": "HBoxView",
            "box_style": "",
            "children": [
              "IPY_MODEL_668c72d5511542a09d1a6a3a9e9622a1",
              "IPY_MODEL_77ece219cb4e4663a0f9322a2239b622",
              "IPY_MODEL_7e69644c566f45f3ad5cefa57fe40b34"
            ],
            "layout": "IPY_MODEL_27350657f4e34cdcb9d26b82c60ab076"
          }
        },
        "668c72d5511542a09d1a6a3a9e9622a1": {
          "model_module": "@jupyter-widgets/controls",
          "model_name": "HTMLModel",
          "model_module_version": "1.5.0",
          "state": {
            "_dom_classes": [],
            "_model_module": "@jupyter-widgets/controls",
            "_model_module_version": "1.5.0",
            "_model_name": "HTMLModel",
            "_view_count": null,
            "_view_module": "@jupyter-widgets/controls",
            "_view_module_version": "1.5.0",
            "_view_name": "HTMLView",
            "description": "",
            "description_tooltip": null,
            "layout": "IPY_MODEL_f8fda6b34b0e446c8af7574dc3c8e3c8",
            "placeholder": "​",
            "style": "IPY_MODEL_7c419882531242c9a466ddfab91fffdc",
            "value": "100%"
          }
        },
        "77ece219cb4e4663a0f9322a2239b622": {
          "model_module": "@jupyter-widgets/controls",
          "model_name": "FloatProgressModel",
          "model_module_version": "1.5.0",
          "state": {
            "_dom_classes": [],
            "_model_module": "@jupyter-widgets/controls",
            "_model_module_version": "1.5.0",
            "_model_name": "FloatProgressModel",
            "_view_count": null,
            "_view_module": "@jupyter-widgets/controls",
            "_view_module_version": "1.5.0",
            "_view_name": "ProgressView",
            "bar_style": "success",
            "description": "",
            "description_tooltip": null,
            "layout": "IPY_MODEL_9ad3473ca9fb400a91aacacb4757852e",
            "max": 5,
            "min": 0,
            "orientation": "horizontal",
            "style": "IPY_MODEL_3eb43280f00a4e5281d76d6e7c37a70a",
            "value": 5
          }
        },
        "7e69644c566f45f3ad5cefa57fe40b34": {
          "model_module": "@jupyter-widgets/controls",
          "model_name": "HTMLModel",
          "model_module_version": "1.5.0",
          "state": {
            "_dom_classes": [],
            "_model_module": "@jupyter-widgets/controls",
            "_model_module_version": "1.5.0",
            "_model_name": "HTMLModel",
            "_view_count": null,
            "_view_module": "@jupyter-widgets/controls",
            "_view_module_version": "1.5.0",
            "_view_name": "HTMLView",
            "description": "",
            "description_tooltip": null,
            "layout": "IPY_MODEL_864422c9465e4416a1b355e8d26bba43",
            "placeholder": "​",
            "style": "IPY_MODEL_c415a8be21b84e83ba49e4bce634372b",
            "value": " 5/5 [17:34&lt;00:00, 210.59s/it]"
          }
        },
        "27350657f4e34cdcb9d26b82c60ab076": {
          "model_module": "@jupyter-widgets/base",
          "model_name": "LayoutModel",
          "model_module_version": "1.2.0",
          "state": {
            "_model_module": "@jupyter-widgets/base",
            "_model_module_version": "1.2.0",
            "_model_name": "LayoutModel",
            "_view_count": null,
            "_view_module": "@jupyter-widgets/base",
            "_view_module_version": "1.2.0",
            "_view_name": "LayoutView",
            "align_content": null,
            "align_items": null,
            "align_self": null,
            "border": null,
            "bottom": null,
            "display": null,
            "flex": null,
            "flex_flow": null,
            "grid_area": null,
            "grid_auto_columns": null,
            "grid_auto_flow": null,
            "grid_auto_rows": null,
            "grid_column": null,
            "grid_gap": null,
            "grid_row": null,
            "grid_template_areas": null,
            "grid_template_columns": null,
            "grid_template_rows": null,
            "height": null,
            "justify_content": null,
            "justify_items": null,
            "left": null,
            "margin": null,
            "max_height": null,
            "max_width": null,
            "min_height": null,
            "min_width": null,
            "object_fit": null,
            "object_position": null,
            "order": null,
            "overflow": null,
            "overflow_x": null,
            "overflow_y": null,
            "padding": null,
            "right": null,
            "top": null,
            "visibility": null,
            "width": null
          }
        },
        "f8fda6b34b0e446c8af7574dc3c8e3c8": {
          "model_module": "@jupyter-widgets/base",
          "model_name": "LayoutModel",
          "model_module_version": "1.2.0",
          "state": {
            "_model_module": "@jupyter-widgets/base",
            "_model_module_version": "1.2.0",
            "_model_name": "LayoutModel",
            "_view_count": null,
            "_view_module": "@jupyter-widgets/base",
            "_view_module_version": "1.2.0",
            "_view_name": "LayoutView",
            "align_content": null,
            "align_items": null,
            "align_self": null,
            "border": null,
            "bottom": null,
            "display": null,
            "flex": null,
            "flex_flow": null,
            "grid_area": null,
            "grid_auto_columns": null,
            "grid_auto_flow": null,
            "grid_auto_rows": null,
            "grid_column": null,
            "grid_gap": null,
            "grid_row": null,
            "grid_template_areas": null,
            "grid_template_columns": null,
            "grid_template_rows": null,
            "height": null,
            "justify_content": null,
            "justify_items": null,
            "left": null,
            "margin": null,
            "max_height": null,
            "max_width": null,
            "min_height": null,
            "min_width": null,
            "object_fit": null,
            "object_position": null,
            "order": null,
            "overflow": null,
            "overflow_x": null,
            "overflow_y": null,
            "padding": null,
            "right": null,
            "top": null,
            "visibility": null,
            "width": null
          }
        },
        "7c419882531242c9a466ddfab91fffdc": {
          "model_module": "@jupyter-widgets/controls",
          "model_name": "DescriptionStyleModel",
          "model_module_version": "1.5.0",
          "state": {
            "_model_module": "@jupyter-widgets/controls",
            "_model_module_version": "1.5.0",
            "_model_name": "DescriptionStyleModel",
            "_view_count": null,
            "_view_module": "@jupyter-widgets/base",
            "_view_module_version": "1.2.0",
            "_view_name": "StyleView",
            "description_width": ""
          }
        },
        "9ad3473ca9fb400a91aacacb4757852e": {
          "model_module": "@jupyter-widgets/base",
          "model_name": "LayoutModel",
          "model_module_version": "1.2.0",
          "state": {
            "_model_module": "@jupyter-widgets/base",
            "_model_module_version": "1.2.0",
            "_model_name": "LayoutModel",
            "_view_count": null,
            "_view_module": "@jupyter-widgets/base",
            "_view_module_version": "1.2.0",
            "_view_name": "LayoutView",
            "align_content": null,
            "align_items": null,
            "align_self": null,
            "border": null,
            "bottom": null,
            "display": null,
            "flex": null,
            "flex_flow": null,
            "grid_area": null,
            "grid_auto_columns": null,
            "grid_auto_flow": null,
            "grid_auto_rows": null,
            "grid_column": null,
            "grid_gap": null,
            "grid_row": null,
            "grid_template_areas": null,
            "grid_template_columns": null,
            "grid_template_rows": null,
            "height": null,
            "justify_content": null,
            "justify_items": null,
            "left": null,
            "margin": null,
            "max_height": null,
            "max_width": null,
            "min_height": null,
            "min_width": null,
            "object_fit": null,
            "object_position": null,
            "order": null,
            "overflow": null,
            "overflow_x": null,
            "overflow_y": null,
            "padding": null,
            "right": null,
            "top": null,
            "visibility": null,
            "width": null
          }
        },
        "3eb43280f00a4e5281d76d6e7c37a70a": {
          "model_module": "@jupyter-widgets/controls",
          "model_name": "ProgressStyleModel",
          "model_module_version": "1.5.0",
          "state": {
            "_model_module": "@jupyter-widgets/controls",
            "_model_module_version": "1.5.0",
            "_model_name": "ProgressStyleModel",
            "_view_count": null,
            "_view_module": "@jupyter-widgets/base",
            "_view_module_version": "1.2.0",
            "_view_name": "StyleView",
            "bar_color": null,
            "description_width": ""
          }
        },
        "864422c9465e4416a1b355e8d26bba43": {
          "model_module": "@jupyter-widgets/base",
          "model_name": "LayoutModel",
          "model_module_version": "1.2.0",
          "state": {
            "_model_module": "@jupyter-widgets/base",
            "_model_module_version": "1.2.0",
            "_model_name": "LayoutModel",
            "_view_count": null,
            "_view_module": "@jupyter-widgets/base",
            "_view_module_version": "1.2.0",
            "_view_name": "LayoutView",
            "align_content": null,
            "align_items": null,
            "align_self": null,
            "border": null,
            "bottom": null,
            "display": null,
            "flex": null,
            "flex_flow": null,
            "grid_area": null,
            "grid_auto_columns": null,
            "grid_auto_flow": null,
            "grid_auto_rows": null,
            "grid_column": null,
            "grid_gap": null,
            "grid_row": null,
            "grid_template_areas": null,
            "grid_template_columns": null,
            "grid_template_rows": null,
            "height": null,
            "justify_content": null,
            "justify_items": null,
            "left": null,
            "margin": null,
            "max_height": null,
            "max_width": null,
            "min_height": null,
            "min_width": null,
            "object_fit": null,
            "object_position": null,
            "order": null,
            "overflow": null,
            "overflow_x": null,
            "overflow_y": null,
            "padding": null,
            "right": null,
            "top": null,
            "visibility": null,
            "width": null
          }
        },
        "c415a8be21b84e83ba49e4bce634372b": {
          "model_module": "@jupyter-widgets/controls",
          "model_name": "DescriptionStyleModel",
          "model_module_version": "1.5.0",
          "state": {
            "_model_module": "@jupyter-widgets/controls",
            "_model_module_version": "1.5.0",
            "_model_name": "DescriptionStyleModel",
            "_view_count": null,
            "_view_module": "@jupyter-widgets/base",
            "_view_module_version": "1.2.0",
            "_view_name": "StyleView",
            "description_width": ""
          }
        }
      }
    }
  },
  "nbformat": 4,
  "nbformat_minor": 0
}